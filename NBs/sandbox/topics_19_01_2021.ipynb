{
 "cells": [
  {
   "cell_type": "markdown",
   "metadata": {
    "hideCode": false,
    "hidePrompt": false,
    "slideshow": {
     "slide_type": "slide"
    }
   },
   "source": [
    "# Topic modelling\n",
    "## r/conspiracy comments containing \"vaccine\"\n",
    "**Group members**\n",
    "* Maheep T\n",
    "* Sanchi S\n",
    "***"
   ]
  },
  {
   "cell_type": "markdown",
   "metadata": {
    "hideCode": false,
    "hidePrompt": false,
    "slideshow": {
     "slide_type": "skip"
    }
   },
   "source": [
    "## Import modules"
   ]
  },
  {
   "cell_type": "code",
   "execution_count": 93,
   "metadata": {
    "hideCode": false,
    "hidePrompt": false,
    "slideshow": {
     "slide_type": "skip"
    }
   },
   "outputs": [],
   "source": [
    "import pandas as pd\n",
    "import nltk\n",
    "import matplotlib.pyplot as plt\n",
    "import re\n",
    "import string\n",
    "from dfply import *\n",
    "import preprocessor as p\n",
    "import unicodedata\n",
    "import pickle\n",
    "from nltk import word_tokenize\n",
    "from nltk.tokenize import TweetTokenizer\n",
    "from nltk.corpus import stopwords, wordnet\n",
    "from nltk.stem import PorterStemmer\n",
    "from nltk.stem.wordnet import WordNetLemmatizer\n",
    "from collections import Counter\n",
    "from kwic import keywords_in_context\n",
    "from operator import itemgetter\n",
    "from datetime import datetime as dt\n",
    "from keyness import log_likelihood\n",
    "\n",
    "# download\n",
    "# nltk.download\n",
    "# nltk.download('wordnet')\n",
    "# nltk.download('stopwords')\n",
    "# nltk.download('punkt')\n",
    "# nltk.download('averaged_perceptron_tagger')"
   ]
  },
  {
   "cell_type": "markdown",
   "metadata": {
    "hideCode": false,
    "hidePrompt": false,
    "slideshow": {
     "slide_type": "skip"
    }
   },
   "source": [
    "## Read files"
   ]
  },
  {
   "cell_type": "code",
   "execution_count": 2,
   "metadata": {
    "hideCode": false,
    "hidePrompt": false,
    "slideshow": {
     "slide_type": "skip"
    }
   },
   "outputs": [],
   "source": [
    "base_dir = 'C:\\\\Users\\\\Maheep\\\\Documents\\\\TUM\\\\WiSe2020\\\\CSS\\\\code\\\\reddit-anti-vax' #import os; os.getcwd()\n",
    "data_dir = base_dir + '\\\\data'\n",
    "\n",
    "filename = data_dir + \"\\\\\" + \"comments_vaccine_praw.csv\" # comments_vaccine/_praw.csv\n",
    "df_com = pd.read_csv(filename)\n",
    "df_com = df_com.rename({'Submission ID': 's_id', 'Comment ID': 'c_id', 'Body': 'text', 'Publish Date': 'date', 'Author': 'user', 'Score': 'score', 'Permalink': 'link'}, axis=1)\n",
    "\n",
    "filename = data_dir + \"\\\\\" + \"submissions_vaccine.csv\"\n",
    "df_sub = pd.read_csv(filename)\n",
    "df_sub = df_sub.rename({'Post ID': 's_id', 'Title': 'text', 'Publish Date': 'date', 'Score': 'score', 'Permalink': 'link'}, axis=1)\n",
    "\n",
    "filename = data_dir + \"\\\\\" + \"reddit_bots.csv\"\n",
    "df_bots = pd.read_csv(filename)\n",
    "list_bots = df_bots['Name'].tolist() ;"
   ]
  },
  {
   "cell_type": "code",
   "execution_count": null,
   "metadata": {},
   "outputs": [],
   "source": [
    "df_com['date'] =  df_com['date'].apply(lambda x: dt.strptime(x,'%Y-%m-%d %H:%M:%S')) # convert str to datetime"
   ]
  },
  {
   "cell_type": "code",
   "execution_count": 3,
   "metadata": {
    "hideCode": false,
    "hidePrompt": false,
    "slideshow": {
     "slide_type": "skip"
    }
   },
   "outputs": [],
   "source": [
    "# out_file for temp output\n",
    "out_file = base_dir + \"\\\\\" + \"out_file.csv\""
   ]
  },
  {
   "cell_type": "markdown",
   "metadata": {
    "hideCode": false,
    "hidePrompt": false,
    "slideshow": {
     "slide_type": "slide"
    }
   },
   "source": [
    "## Collect Data"
   ]
  },
  {
   "cell_type": "markdown",
   "metadata": {
    "hideCode": false,
    "hidePrompt": false,
    "slideshow": {
     "slide_type": "fragment"
    }
   },
   "source": [
    "* Use pushshift to query \"vaccine\" submissions (reddit posts)"
   ]
  },
  {
   "cell_type": "code",
   "execution_count": 4,
   "metadata": {
    "hideCode": false,
    "hidePrompt": false,
    "slideshow": {
     "slide_type": "-"
    }
   },
   "outputs": [
    {
     "name": "stdout",
     "output_type": "stream",
     "text": [
      "2905  rows in submission data\n"
     ]
    }
   ],
   "source": [
    "print(df_sub.shape[0], \" rows in submission data\")"
   ]
  },
  {
   "cell_type": "markdown",
   "metadata": {
    "hideCode": false,
    "hidePrompt": false,
    "slideshow": {
     "slide_type": "fragment"
    }
   },
   "source": [
    "* Use PRAW to collect comments by iterating over all \"vaccine\" submissions\n",
    "([praw docs](https://praw.readthedocs.io/en/latest/tutorials/comments.html))\n",
    "    * pushshift comment data has a lot of missing values ([Gaffney, Matias 2018](https://journals.plos.org/plosone/article?id=10.1371/journal.pone.0200162) )"
   ]
  },
  {
   "cell_type": "code",
   "execution_count": 5,
   "metadata": {
    "hideCode": false,
    "hidePrompt": false,
    "slideshow": {
     "slide_type": "-"
    }
   },
   "outputs": [
    {
     "name": "stdout",
     "output_type": "stream",
     "text": [
      "77366 rows in comment data\n"
     ]
    }
   ],
   "source": [
    "print(df_com.shape[0], \"rows in comment data\")"
   ]
  },
  {
   "cell_type": "markdown",
   "metadata": {
    "hideCode": false,
    "hidePrompt": false,
    "slideshow": {
     "slide_type": "slide"
    }
   },
   "source": [
    "## Clean-up and pre-processing"
   ]
  },
  {
   "cell_type": "markdown",
   "metadata": {
    "hideCode": false,
    "hidePrompt": false,
    "slideshow": {
     "slide_type": "fragment"
    }
   },
   "source": [
    "* Remove comments -\n",
    "  * where user and text were [deleted]\n",
    "  * where user is a  bot (list of bots from [Klein et. al. 2019](https://journals.plos.org/plosone/article?id=10.1371%2Fjournal.pone.0225098) )"
   ]
  },
  {
   "cell_type": "code",
   "execution_count": 39,
   "metadata": {
    "hideCode": false,
    "hidePrompt": false,
    "slideshow": {
     "slide_type": "skip"
    }
   },
   "outputs": [],
   "source": [
    "df_com_pp = df_com.copy() # copy to pre-process dataframe\n",
    "df_com_pp = df_com_pp >> mask(~((X.user == '[deleted]') & (X.text == '[deleted]'))) # >> summarize(count=n(X.c_id))\n",
    "df_com_pp = df_com_pp[~df_com_pp['user'].isin(list_bots)]"
   ]
  },
  {
   "cell_type": "code",
   "execution_count": 40,
   "metadata": {},
   "outputs": [],
   "source": [
    "# test, remove later\n",
    "df_com_pp['text_og'] = df_com_pp['text']"
   ]
  },
  {
   "cell_type": "markdown",
   "metadata": {
    "hideCode": false,
    "hidePrompt": false,
    "slideshow": {
     "slide_type": "fragment"
    }
   },
   "source": [
    "* Clean - removes URLs, Hashtags, Mentions, Reserved words (RT, FAV), Emojis, Smileys ([Source](https://pypi.org/project/tweet-preprocessor/))"
   ]
  },
  {
   "cell_type": "code",
   "execution_count": 41,
   "metadata": {
    "hideCode": false,
    "hidePrompt": false,
    "slideshow": {
     "slide_type": "skip"
    }
   },
   "outputs": [],
   "source": [
    "def func_clean(text):\n",
    "    text = unicodedata.normalize(\"NFKC\", text)  # remove unicode chars like emojis and breaks\n",
    "    #text = re.sub(r'[^\\x00-\\x7F]+', \" \", text)\n",
    "    text = re.sub(r'[\\r|\\n|\\r\\n]+', \" \", text) # remove extra newlines\n",
    "    text = re.sub(r'[(){}[\\]><]+', \"\", text) # remove brackets \n",
    "    text = re.sub(r'\\/?u\\/[-A-Za-z0-9+&@#/%?=~_|!:,.;]+[-A-Za-z0-9+&@#/%=~_|]', \"\", text) # remove user names\n",
    "    text = p.clean(text) # from preprocessor lib\n",
    "    return text\n",
    "    \n",
    "df_com_pp['text'] = df_com_pp['text'].apply(func_clean)"
   ]
  },
  {
   "cell_type": "markdown",
   "metadata": {
    "hideCode": false,
    "hidePrompt": false,
    "slideshow": {
     "slide_type": "fragment"
    }
   },
   "source": [
    "* Expanding contractions ([Source](https://github.com/Apress/text-analytics-w-python-2e/blob/master/Ch03%20-%20Processing%20and%20Understanding%20Text/Ch03a%20-%20Text%20Wrangling.ipynb))"
   ]
  },
  {
   "cell_type": "code",
   "execution_count": 42,
   "metadata": {
    "hideCode": false,
    "hidePrompt": false,
    "slideshow": {
     "slide_type": "skip"
    }
   },
   "outputs": [],
   "source": [
    "from contractions import CONTRACTION_MAP\n",
    "import re\n",
    "\n",
    "def expand_contractions(text, contraction_mapping=CONTRACTION_MAP):\n",
    "    \n",
    "    contractions_pattern = re.compile('({})'.format('|'.join(contraction_mapping.keys())), \n",
    "                                      flags=re.IGNORECASE|re.DOTALL)\n",
    "    def expand_match(contraction):\n",
    "        match = contraction.group(0)\n",
    "        first_char = match[0]\n",
    "        expanded_contraction = contraction_mapping.get(match)\\\n",
    "                                if contraction_mapping.get(match)\\\n",
    "                                else contraction_mapping.get(match.lower())                       \n",
    "        expanded_contraction = first_char+expanded_contraction[1:]\n",
    "        return expanded_contraction\n",
    "        \n",
    "    expanded_text = contractions_pattern.sub(expand_match, text)\n",
    "    expanded_text = re.sub(\"'\", \"\", expanded_text)\n",
    "    return expanded_text\n",
    "\n",
    "df_com_pp['text'] = df_com_pp['text'].apply(expand_contractions)"
   ]
  },
  {
   "cell_type": "markdown",
   "metadata": {
    "hideCode": false,
    "hidePrompt": false,
    "slideshow": {
     "slide_type": "fragment"
    }
   },
   "source": [
    "* Tokenise <= lowercase + remove punctuation ([Source](https://towardsdatascience.com/basic-tweet-preprocessing-in-python-efd8360d529e))"
   ]
  },
  {
   "cell_type": "code",
   "execution_count": 43,
   "metadata": {
    "hideCode": false,
    "hidePrompt": false,
    "slideshow": {
     "slide_type": "skip"
    }
   },
   "outputs": [],
   "source": [
    "df_com_pp['text'] = df_com_pp['text'].apply(lambda x: x.lower()) # lowercase\n",
    "df_com_pp['text'] = df_com_pp['text'].apply(lambda x: x.translate(str.maketrans(string.punctuation, ' '*len(string.punctuation)))) # remove punctuation\n",
    "\n",
    "tt = TweetTokenizer() # does better than default word_tokenizer\n",
    "df_com_pp['text'] = df_com_pp['text'].apply(tt.tokenize) "
   ]
  },
  {
   "cell_type": "markdown",
   "metadata": {
    "hideCode": false,
    "hidePrompt": false,
    "slideshow": {
     "slide_type": "fragment"
    }
   },
   "source": [
    "* Fix repetition in words e.g. \"Coooolll!\" => \"Cool!\" ([Source](https://github.com/Apress/text-analytics-w-python-2e/blob/master/Ch03%20-%20Processing%20and%20Understanding%20Text/Ch03a%20-%20Text%20Wrangling.ipynb))"
   ]
  },
  {
   "cell_type": "code",
   "execution_count": 44,
   "metadata": {
    "hideCode": false,
    "hidePrompt": false,
    "slideshow": {
     "slide_type": "skip"
    }
   },
   "outputs": [],
   "source": [
    "def remove_repeated_characters(tokens):\n",
    "    repeat_pattern = re.compile(r'(\\w*)(\\w)\\2(\\w*)')\n",
    "    match_substitution = r'\\1\\2\\3'\n",
    "    def replace(old_word):\n",
    "        if wordnet.synsets(old_word):\n",
    "            return old_word\n",
    "        new_word = repeat_pattern.sub(match_substitution, old_word)\n",
    "        return replace(new_word) if new_word != old_word else new_word\n",
    "            \n",
    "    correct_tokens = [replace(word) for word in tokens]\n",
    "    return correct_tokens\n",
    "\n",
    "df_com_pp['text'] = df_com_pp['text'].apply(remove_repeated_characters)"
   ]
  },
  {
   "cell_type": "markdown",
   "metadata": {},
   "source": [
    "* Remove tokens that are integers"
   ]
  },
  {
   "cell_type": "code",
   "execution_count": 45,
   "metadata": {},
   "outputs": [],
   "source": [
    "def func_filter_int(l):\n",
    "    new_l = list()\n",
    "    for tkn in l:\n",
    "        tkn = re.sub(r'[-+*/$%.,]+', '', tkn)\n",
    "        if not tkn.isnumeric() : new_l.append(tkn)\n",
    "    return new_l\n",
    "\n",
    "df_com_pp['text'] = df_com_pp['text'].apply(func_filter_int)"
   ]
  },
  {
   "cell_type": "markdown",
   "metadata": {
    "hideCode": false,
    "hidePrompt": false,
    "slideshow": {
     "slide_type": "fragment"
    }
   },
   "source": [
    "* Remove stopwords"
   ]
  },
  {
   "cell_type": "code",
   "execution_count": 46,
   "metadata": {
    "hideCode": false,
    "hidePrompt": false,
    "slideshow": {
     "slide_type": "skip"
    }
   },
   "outputs": [],
   "source": [
    "stop_words = stopwords.words('english')\n",
    "def func_filter_stopwords(l):\n",
    "    return list([w for w in l if not w in stop_words])\n",
    "df_com_pp['text'] = df_com_pp['text'].apply(func_filter_stopwords)"
   ]
  },
  {
   "cell_type": "markdown",
   "metadata": {
    "hideCode": false,
    "hidePrompt": false,
    "slideshow": {
     "slide_type": "fragment"
    }
   },
   "source": [
    "* ~~Stemming (not lemmatising as it needs the whole sentence context to be effective)~~"
   ]
  },
  {
   "cell_type": "code",
   "execution_count": 47,
   "metadata": {
    "hideCode": false,
    "hidePrompt": false,
    "slideshow": {
     "slide_type": "skip"
    }
   },
   "outputs": [],
   "source": [
    "# ps = PorterStemmer()\n",
    "# df_com_pp['text'] = df_com_pp['text'].apply(lambda x: [ps.stem(word) for word in x])"
   ]
  },
  {
   "cell_type": "markdown",
   "metadata": {},
   "source": [
    "\n",
    "* Lemmatizing (preferred over a stemmer because it produces more readable words. Output that is easy to read is very desirable in topic modelling.) ([Source](https://radimrehurek.com/gensim/auto_examples/tutorials/run_lda.html#sphx-glr-auto-examples-tutorials-run-lda-py))"
   ]
  },
  {
   "cell_type": "code",
   "execution_count": 48,
   "metadata": {},
   "outputs": [],
   "source": [
    "lemmatizer = WordNetLemmatizer()\n",
    "df_com_pp['text'] = df_com_pp['text'].apply(lambda x: [lemmatizer.lemmatize(word) for word in x])"
   ]
  },
  {
   "cell_type": "markdown",
   "metadata": {},
   "source": [
    "* save/load data because it takes long to do preprocessing"
   ]
  },
  {
   "cell_type": "code",
   "execution_count": 94,
   "metadata": {},
   "outputs": [],
   "source": [
    "filename = data_dir + \"\\\\\" + \"df_com_pp.dat\"\n",
    "# pickle.dump(df_com_pp, open(filename, 'wb')) # SAVE\n",
    "# df_com_pp = pickle.load(open(filename, 'rb')) # LOAD"
   ]
  },
  {
   "cell_type": "markdown",
   "metadata": {
    "hideCode": false,
    "hidePrompt": false,
    "slideshow": {
     "slide_type": "slide"
    }
   },
   "source": [
    "## Explore the data"
   ]
  },
  {
   "cell_type": "markdown",
   "metadata": {
    "hideCode": false,
    "hidePrompt": false,
    "slideshow": {
     "slide_type": "subslide"
    }
   },
   "source": [
    "* Weekly comment frequency on \"vaccine\" posts"
   ]
  },
  {
   "cell_type": "code",
   "execution_count": 217,
   "metadata": {
    "hideCode": false,
    "hidePrompt": false,
    "slideshow": {
     "slide_type": "-"
    }
   },
   "outputs": [
    {
     "data": {
      "image/png": "[encoded data removed]",
      "text/plain": [
       "<Figure size 720x576 with 1 Axes>"
      ]
     },
     "metadata": {
      "needs_background": "light"
     },
     "output_type": "display_data"
    }
   ],
   "source": [
    "df_com_pp['week'] = pd.to_datetime(df_com_pp['date']).dt.isocalendar().week\n",
    "df_new = df_com_pp.groupby('week').size()\n",
    "\n",
    "fig = plt.figure(figsize=[10,8])\n",
    "ax = plt.subplot()\n",
    "ax = df_new.plot.bar()\n",
    "ax.set_xlabel('Week in 2020')\n",
    "ax.set_ylabel('Count of comments on \"vaccine\" posts on r/conspiracy')\n",
    "ax.set_title('Weekly comment frequency')\n",
    "# #plt.grid()\n",
    "plt.show()\n",
    "# plt.cla()\n",
    "# plt.clf()\n",
    "# plt.close()\n",
    "df_com_total = df_new.copy()"
   ]
  },
  {
   "cell_type": "markdown",
   "metadata": {
    "hideCode": false,
    "hidePrompt": false,
    "slideshow": {
     "slide_type": "subslide"
    }
   },
   "source": [
    "* Weekly comment frequency of comments mentioning \"bill gate\""
   ]
  },
  {
   "cell_type": "code",
   "execution_count": 50,
   "metadata": {
    "hideCode": false,
    "hidePrompt": false
   },
   "outputs": [
    {
     "data": {
      "image/png": "[encoded data removed]",
      "text/plain": [
       "<Figure size 720x720 with 1 Axes>"
      ]
     },
     "metadata": {
      "needs_background": "light"
     },
     "output_type": "display_data"
    }
   ],
   "source": [
    "def func_gates(x):\n",
    "    return True if (('bill' in x) & ('gate' in x)) else False\n",
    "df_com_pp['gates'] = df_com_pp['text'].apply(lambda x: func_gates(x))\n",
    "df_com_pp >> filter_by(X.gates == True)\n",
    "df_new = df_com_pp.groupby('week').agg({'gates' : \"sum\"})\n",
    "\n",
    "\n",
    "fig, ax = plt.subplots()\n",
    "fig.set_size_inches([10,10])\n",
    "#ax = df_new.plot.bar(y='gates')\n",
    "ax.bar(df_new.index,df_new['gates'].tolist())\n",
    "ax.set_xticks(df_new.index.tolist())\n",
    "ax.set_xlabel('Week in 2020')\n",
    "ax.set_ylabel('Count of \\'bill gate\\' mentions in comments on r/conspiracy')\n",
    "ax.set_title('\\'bill gate\\' frequency')\n",
    "# #plt.grid()\n",
    "plt.show()"
   ]
  },
  {
   "cell_type": "markdown",
   "metadata": {
    "hideCode": false,
    "hidePrompt": false,
    "slideshow": {
     "slide_type": "subslide"
    }
   },
   "source": [
    "* Weekly comment frequency of comments mentioning \"side effect\""
   ]
  },
  {
   "cell_type": "code",
   "execution_count": 51,
   "metadata": {
    "hideCode": false,
    "hidePrompt": false,
    "slideshow": {
     "slide_type": "-"
    }
   },
   "outputs": [
    {
     "data": {
      "image/png": "[encoded data removed]",
      "text/plain": [
       "<Figure size 720x720 with 1 Axes>"
      ]
     },
     "metadata": {
      "needs_background": "light"
     },
     "output_type": "display_data"
    }
   ],
   "source": [
    "def func_effect(x):\n",
    "    return True if (('side' in x) & ('effect' in x)) else False\n",
    "df_com_pp['effect'] = df_com_pp['text'].apply(lambda x: func_effect(x))\n",
    "df_new = df_com_pp.groupby('week').agg({'effect' : \"sum\"})\n",
    "\n",
    "\n",
    "fig, ax = plt.subplots()\n",
    "fig.set_size_inches([10,10])\n",
    "#ax = df_new.plot.bar(y='gates')\n",
    "ax.bar(df_new.index,df_new['effect'].tolist())\n",
    "ax.set_xticks(df_new.index.tolist())\n",
    "ax.set_xlabel('Week in 2020')\n",
    "ax.set_ylabel('Count of \\'side effect\\' mentions in comments on r/conspiracy')\n",
    "ax.set_title('\\'side effect\\' frequency')\n",
    "# #plt.grid()\n",
    "plt.show()"
   ]
  },
  {
   "cell_type": "markdown",
   "metadata": {
    "hideCode": false,
    "hidePrompt": false,
    "slideshow": {
     "slide_type": "subslide"
    }
   },
   "source": [
    "* Most important words/phrases ([Source](https://github.com/Apress/text-analytics-w-python-2e/blob/master/Ch06%20-%20Text%20Summarization%20and%20Topic%20Models/Ch06a%20-%20Text%20Keyphrase%20Extraction.ipynb))"
   ]
  },
  {
   "cell_type": "code",
   "execution_count": 52,
   "metadata": {
    "hideCode": false,
    "hidePrompt": false,
    "slideshow": {
     "slide_type": "skip"
    }
   },
   "outputs": [],
   "source": [
    "def compute_ngrams(sequence, n):\n",
    "    return list(\n",
    "            zip(*(sequence[index:] \n",
    "                     for index in range(n)))\n",
    "    )\n",
    "\n",
    "def get_top_ngrams(tokens, ngram_val=1, limit=5):\n",
    "\n",
    "    ngrams = compute_ngrams(tokens, ngram_val)\n",
    "    ngrams_freq_dist = nltk.FreqDist(ngrams)\n",
    "    sorted_ngrams_fd = sorted(ngrams_freq_dist.items(), \n",
    "                              key=itemgetter(1), reverse=True)\n",
    "    sorted_ngrams = sorted_ngrams_fd[0:limit]\n",
    "    sorted_ngrams = [(' '.join(text), freq) \n",
    "                     for text, freq in sorted_ngrams]\n",
    "\n",
    "    return sorted_ngrams\n",
    "list_tokens_flattened = [token for text in df_com_pp['text'].tolist() for token in text]\n",
    "#get_top_ngrams(list_tokens_flattened,2,10)"
   ]
  },
  {
   "cell_type": "code",
   "execution_count": 53,
   "metadata": {
    "hideCode": false,
    "hidePrompt": false,
    "scrolled": false,
    "slideshow": {
     "slide_type": "-"
    }
   },
   "outputs": [
    {
     "data": {
      "text/plain": [
       "[('bill gate', 1975),\n",
       " ('side effect', 1133),\n",
       " ('immune system', 988),\n",
       " ('covid vaccine', 860),\n",
       " ('flu shot', 814),\n",
       " ('flu vaccine', 778),\n",
       " ('long term', 757),\n",
       " ('take vaccine', 744),\n",
       " ('get vaccine', 740),\n",
       " ('big pharma', 619)]"
      ]
     },
     "execution_count": 53,
     "metadata": {},
     "output_type": "execute_result"
    }
   ],
   "source": [
    "get_top_ngrams(list_tokens_flattened,2,10)"
   ]
  },
  {
   "cell_type": "code",
   "execution_count": 54,
   "metadata": {
    "hideCode": false,
    "hidePrompt": false,
    "slideshow": {
     "slide_type": "subslide"
    }
   },
   "outputs": [
    {
     "data": {
      "text/plain": [
       "[('vaccine', 28849),\n",
       " ('people', 16276),\n",
       " ('would', 10293),\n",
       " ('like', 9893),\n",
       " ('get', 9304),\n",
       " ('one', 8748),\n",
       " ('know', 7210),\n",
       " ('virus', 6801),\n",
       " ('think', 6459),\n",
       " ('even', 5824),\n",
       " ('u', 5808),\n",
       " ('covid', 5704),\n",
       " ('make', 5669),\n",
       " ('year', 5513),\n",
       " ('take', 5181),\n",
       " ('time', 5030),\n",
       " ('say', 4851),\n",
       " ('also', 4735),\n",
       " ('want', 4700),\n",
       " ('thing', 4666),\n",
       " ('right', 4322),\n",
       " ('go', 4056),\n",
       " ('dont', 4039),\n",
       " ('flu', 4000),\n",
       " ('work', 3943),\n",
       " ('see', 3921),\n",
       " ('need', 3850),\n",
       " ('going', 3827),\n",
       " ('good', 3806),\n",
       " ('way', 3795)]"
      ]
     },
     "execution_count": 54,
     "metadata": {},
     "output_type": "execute_result"
    }
   ],
   "source": [
    "get_top_ngrams(list_tokens_flattened,1,30)"
   ]
  },
  {
   "cell_type": "markdown",
   "metadata": {
    "hideCode": false,
    "hidePrompt": false,
    "slideshow": {
     "slide_type": "skip"
    }
   },
   "source": [
    "* DFM ([Source](https://blog.koheiw.net/?p=468))"
   ]
  },
  {
   "cell_type": "code",
   "execution_count": 55,
   "metadata": {
    "hideCode": false,
    "hidePrompt": false,
    "slideshow": {
     "slide_type": "skip"
    }
   },
   "outputs": [
    {
     "name": "stdout",
     "output_type": "stream",
     "text": [
      "Serialize tokens\n",
      "Construct a document-feature matrix\n",
      "Dictionary(36501 unique tokens: ['admit', 'anti', 'big', 'billion', 'campaign']...)\n"
     ]
    }
   ],
   "source": [
    "from gensim import corpora, models\n",
    "\n",
    "print(\"Serialize tokens\")\n",
    "dic = corpora.Dictionary(df_com_pp['text'].tolist())\n",
    "\n",
    "print(\"Construct a document-feature matrix\")\n",
    "mx = [dic.doc2bow(tok) for tok in df_com_pp['text'].tolist()]\n",
    "\n",
    "print(dic)"
   ]
  },
  {
   "cell_type": "markdown",
   "metadata": {
    "hideCode": false,
    "hidePrompt": false,
    "slideshow": {
     "slide_type": "subslide"
    }
   },
   "source": [
    "* Keyness (Sources [1](http://www.thegrammarlab.com/?p=193) [2](http://ucrel.lancs.ac.uk/llwizard.html))\n",
    "  * The log_likelihood() function will return a rank ordered list with the following data in each item: - the item - its log likelihood value - its frequency in the corpus - its frequency in the reference corpus ([Source](https://github.com/mikesuhan/keyness))\n",
    "  * ct.keyness() gives only effect sizes are reported (p values are arguably not particularly useful for keyness analyses). Keyness calculation options include \"log-ratio\", \"%diff\", and \"odds-ratio\". ([Source](https://github.com/kristopherkyle/corpus_toolkit))"
   ]
  },
  {
   "cell_type": "code",
   "execution_count": 56,
   "metadata": {
    "hideCode": false,
    "hidePrompt": false,
    "slideshow": {
     "slide_type": "skip"
    }
   },
   "outputs": [],
   "source": [
    "#cutoff_date = dt(2020,10,1,0,0,0)\n",
    "#cutoff_date = dt(2020,7,27,0,0,0) #Pfizer and BionTech start trials\n",
    "cutoff_date = dt(2020,12,2,0,0,0) #Pfizer and BionTech start trials\n",
    "\n",
    "df_temp = df_com_pp >> filter_by(X.date > cutoff_date)\n",
    "corpus = df_temp['text'].tolist()\n",
    "\n",
    "df_temp = df_com_pp >> filter_by(~(X.date > cutoff_date))\n",
    "reference_corpus = df_temp['text'].tolist()"
   ]
  },
  {
   "cell_type": "code",
   "execution_count": 57,
   "metadata": {
    "hideCode": false,
    "hidePrompt": false,
    "scrolled": true,
    "slideshow": {
     "slide_type": "-"
    }
   },
   "outputs": [
    {
     "name": "stdout",
     "output_type": "stream",
     "text": [
      "Cutoff date is  2020-12-02 00:00:00\n"
     ]
    },
    {
     "data": {
      "text/plain": [
       "[('wodarg', 199.876, 29, 0),\n",
       " ('yeadon', 197.997, 30, 1),\n",
       " ('spike', 187.159, 64, 154),\n",
       " ('message', 177.045, 69, 210),\n",
       " ('syncytin', 172.307, 25, 0),\n",
       " ('mrna', 168.157, 107, 628),\n",
       " ('protein', 158.991, 96, 532),\n",
       " ('ema', 146.772, 24, 3),\n",
       " ('hesitancy', 118.497, 25, 16),\n",
       " ('placenta', 107.03, 18, 3),\n",
       " ('gate', 94.687, 32, 3758),\n",
       " ('infertility', 94.381, 28, 50),\n",
       " ('trump', 91.955, 24, 3246),\n",
       " ('petition', 83.976, 25, 45),\n",
       " ('dr', 75.112, 77, 692),\n",
       " ('formation', 66.286, 14, 9),\n",
       " ('bot', 66.132, 42, 246),\n",
       " ('162b', 62.03, 9, 0),\n",
       " ('wolfgang', 62.03, 9, 0),\n",
       " ('eudract', 62.03, 9, 0),\n",
       " ('bill', 60.461, 25, 2648),\n",
       " ('flint', 60.181, 12, 6),\n",
       " ('pfizer', 58.768, 56, 476),\n",
       " ('polio', 56.193, 20, 2286),\n",
       " ('effect', 55.987, 145, 2167),\n",
       " ('duration', 54.446, 17, 34),\n",
       " ('biontech', 52.735, 14, 19),\n",
       " ('bnt', 51.729, 9, 2),\n",
       " ('worker', 51.11, 43, 330),\n",
       " ('dna', 50.801, 85, 1039),\n",
       " ('covid', 49.968, 283, 5421),\n",
       " ('unspecified', 48.729, 9, 3),\n",
       " ('manual', 47.724, 12, 14),\n",
       " ('eu', 46.722, 19, 62),\n",
       " ('lockdown', 44.015, 60, 653),\n",
       " ('approval', 43.082, 26, 144),\n",
       " ('profusa', 42.282, 7, 1),\n",
       " ('long', 39.652, 126, 2033),\n",
       " ('suspension', 39.384, 10, 12),\n",
       " ('freedom', 38.81, 54, 595),\n",
       " ('specialist', 37.818, 14, 39),\n",
       " ('signing', 35.992, 11, 21),\n",
       " ('inalienable', 35.677, 6, 1),\n",
       " ('schafner', 35.677, 6, 1),\n",
       " ('hipa', 35.014, 12, 29),\n",
       " ('sign', 34.47, 36, 328),\n",
       " ('term', 33.111, 84, 1245),\n",
       " ('uk', 32.164, 41, 428),\n",
       " ('cell', 32.01, 83, 1241),\n",
       " ('rushed', 31.033, 46, 526),\n",
       " ('michael', 30.598, 10, 22),\n",
       " ('agency', 30.11, 26, 204),\n",
       " ('npafp', 29.667, 0, 458),\n",
       " ('survival', 29.071, 28, 240),\n",
       " ('instruction', 28.359, 16, 82),\n",
       " ('stunt', 28.07, 8, 13),\n",
       " ('contains', 27.952, 18, 107),\n",
       " ('regroup', 27.569, 4, 0),\n",
       " ('phycology', 27.569, 4, 0),\n",
       " ('hesistancy', 27.569, 4, 0),\n",
       " ('reorganize', 27.569, 4, 0),\n",
       " ('ex', 27.221, 14, 64),\n",
       " ('take', 27.095, 235, 4946),\n",
       " ('nurse', 26.956, 25, 208),\n",
       " ('co', 26.542, 23, 181),\n",
       " ('lead', 26.341, 37, 410),\n",
       " ('trna', 26.215, 5, 2),\n",
       " ('upwards', 25.107, 6, 6),\n",
       " ('rna', 24.998, 48, 629),\n",
       " ('refusal', 24.418, 10, 33),\n",
       " ('reset', 24.09, 15, 86),\n",
       " ('vaccination', 23.75, 118, 2185),\n",
       " ('immediate', 23.285, 12, 55),\n",
       " ('woman', 22.824, 39, 482),\n",
       " ('country', 22.779, 33, 2098),\n",
       " ('hesitate', 22.75, 6, 8),\n",
       " ('mewe', 22.63, 4, 1),\n",
       " ('reluctance', 22.355, 5, 4),\n",
       " ('vaccine', 22.091, 1063, 27786),\n",
       " ('case', 21.904, 51, 2818),\n",
       " ('formaldehyde', 21.86, 10, 39),\n",
       " ('rn', 21.838, 9, 30),\n",
       " ('body', 21.652, 116, 2191),\n",
       " ('injury', 21.396, 4, 659),\n",
       " ('aru', 20.677, 3, 0),\n",
       " ('rebalance', 20.677, 3, 0),\n",
       " ('ohna', 20.677, 3, 0),\n",
       " ('ps4', 20.677, 3, 0),\n",
       " ('correlation', 20.469, 0, 316),\n",
       " ('reverse', 20.256, 13, 77),\n",
       " ('russian', 20.08, 0, 310),\n",
       " ('jama', 20.06, 4, 2),\n",
       " ('vote', 19.895, 1, 418),\n",
       " ('head', 19.786, 38, 498),\n",
       " ('admire', 19.692, 5, 6),\n",
       " ('vital', 19.35, 10, 46),\n",
       " ('angel', 19.259, 8, 27),\n",
       " ('transcriptase', 19.259, 8, 27),\n",
       " ('lessen', 19.216, 6, 12),\n",
       " ('lamb', 19.216, 6, 12),\n",
       " ('sketch', 19.216, 6, 12),\n",
       " ('healthcare', 19.207, 35, 447),\n",
       " ('tribulation', 19.187, 7, 19),\n",
       " ('tell', 18.85, 80, 1417),\n",
       " ('tested', 18.824, 57, 904),\n",
       " ('logic', 18.706, 31, 377),\n",
       " ('former', 18.624, 16, 125),\n",
       " ('code', 17.909, 25, 276),\n",
       " ('revelation', 17.85, 15, 115),\n",
       " ('foundation', 17.74, 7, 759),\n",
       " ('passport', 17.654, 14, 102),\n",
       " ('european', 17.654, 14, 102),\n",
       " ('india', 17.54, 2, 455),\n",
       " ('trend', 17.528, 12, 76),\n",
       " ('wide', 17.451, 17, 147),\n",
       " ('personal', 17.377, 29, 354),\n",
       " ('mad', 17.318, 15, 118),\n",
       " ('carcinogen', 17.198, 6, 15),\n",
       " ('throne', 17.198, 6, 15),\n",
       " ('election', 17.195, 4, 578),\n",
       " ('rapture', 17.139, 7, 23),\n",
       " ('antichrist', 17.126, 13, 91),\n",
       " ('free', 17.068, 60, 1002),\n",
       " ('filed', 16.925, 13, 92),\n",
       " ('female', 16.9, 9, 43),\n",
       " ('cdc', 16.803, 11, 942),\n",
       " ('respondent', 16.738, 4, 4),\n",
       " ('query', 16.738, 4, 4),\n",
       " ('exploited', 16.683, 7, 24),\n",
       " ('milenials', 16.608, 6, 16),\n",
       " ('obtained', 16.588, 9, 44),\n",
       " ('nucleus', 16.407, 10, 56),\n",
       " ('analysis', 16.388, 0, 253),\n",
       " ('mercola', 16.243, 3, 1),\n",
       " ('promiscuous', 16.243, 3, 1),\n",
       " ('surfactant', 16.243, 3, 1),\n",
       " ('patronizing', 16.243, 3, 1),\n",
       " ('dev', 16.243, 3, 1),\n",
       " ('pro', 16.231, 4, 559),\n",
       " ('public', 16.161, 78, 1433),\n",
       " ('hpv', 16.035, 2, 428),\n",
       " ('hydrogel', 16.014, 5, 10),\n",
       " ('battling', 16.014, 5, 10),\n",
       " ('satan', 16.013, 14, 111),\n",
       " ('coronavirus', 15.975, 22, 1422),\n",
       " ('require', 15.658, 25, 298),\n",
       " ('tortured', 15.528, 4, 5),\n",
       " ('commonplace', 15.528, 4, 5),\n",
       " ('homologous', 15.528, 4, 5),\n",
       " ('qantas', 15.528, 4, 5),\n",
       " ('cage', 15.527, 6, 18),\n",
       " ('get', 15.25, 365, 8939),\n",
       " ('he', 15.226, 7, 704),\n",
       " ('coercion', 15.03, 6, 19),\n",
       " ('treatment', 14.941, 8, 749),\n",
       " ('party', 14.902, 1, 334),\n",
       " ('immunity', 14.825, 18, 1214),\n",
       " ('messenger', 14.779, 8, 39),\n",
       " ('seal', 14.657, 7, 29),\n",
       " ('outbreak', 14.578, 4, 526),\n",
       " ('side', 14.499, 91, 1787),\n",
       " ('ranged', 14.497, 4, 6),\n",
       " ('employment', 14.351, 9, 52),\n",
       " ('autism', 14.312, 10, 833),\n",
       " ('floor', 14.296, 7, 30),\n",
       " ('fauci', 14.155, 7, 680),\n",
       " ('rewritten', 14.076, 3, 2),\n",
       " ('neatly', 14.076, 3, 2),\n",
       " ('avatar', 14.076, 3, 2),\n",
       " ('skit', 14.076, 3, 2),\n",
       " ('publicity', 14.033, 5, 13),\n",
       " ('evidence', 13.987, 24, 1447),\n",
       " ('first', 13.984, 116, 2420),\n",
       " ('funding', 13.963, 1, 318),\n",
       " ('word', 13.911, 17, 1144),\n",
       " ('cobalt', 13.785, 2, 0),\n",
       " ('citiations', 13.785, 2, 0),\n",
       " ('arv', 13.785, 2, 0),\n",
       " ('wilhemshire', 13.785, 2, 0),\n",
       " ('toynbee', 13.785, 2, 0),\n",
       " ('lokie', 13.785, 2, 0),\n",
       " ('speck', 13.785, 2, 0),\n",
       " ('0usd', 13.785, 2, 0),\n",
       " ('erna', 13.785, 2, 0),\n",
       " ('biohacker', 13.785, 2, 0),\n",
       " ('zamfir', 13.785, 2, 0),\n",
       " ('imunesystem', 13.785, 2, 0),\n",
       " ('captioning', 13.785, 2, 0),\n",
       " ('hepburn', 13.785, 2, 0),\n",
       " ('hickenloper', 13.785, 2, 0),\n",
       " ('flute', 13.785, 2, 0),\n",
       " ('nahed', 13.785, 2, 0),\n",
       " ('sermon', 13.785, 2, 0),\n",
       " ('aminoacids', 13.785, 2, 0),\n",
       " ('poresumed', 13.785, 2, 0),\n",
       " ('mckinsey', 13.785, 2, 0),\n",
       " ('mcafe', 13.785, 2, 0),\n",
       " ('prehistoric', 13.785, 2, 0),\n",
       " ('change', 13.769, 59, 1048),\n",
       " ('aluminium', 13.611, 7, 32),\n",
       " ('cia', 13.473, 0, 208),\n",
       " ('infection', 13.379, 12, 904),\n",
       " ('desire', 13.377, 9, 56),\n",
       " ('nanotech', 13.285, 7, 33),\n",
       " ('stimulus', 13.146, 9, 57),\n",
       " ('military', 12.975, 9, 752),\n",
       " ('cience', 12.94, 5, 15),\n",
       " ('kid', 12.899, 28, 1577),\n",
       " ('limiting', 12.884, 6, 24),\n",
       " ('gradual', 12.811, 4, 8),\n",
       " ('account', 12.79, 24, 311),\n",
       " ('herd', 12.714, 4, 488),\n",
       " ('chance', 12.707, 49, 843),\n",
       " ('c19', 12.666, 7, 35),\n",
       " ('christ', 12.649, 18, 201),\n",
       " ('per', 12.619, 5, 541),\n",
       " ('willed', 12.553, 3, 3),\n",
       " ('torah', 12.553, 3, 3),\n",
       " ('faraday', 12.553, 3, 3),\n",
       " ('acceptance', 12.511, 6, 25),\n",
       " ('bacteria', 12.502, 0, 193),\n",
       " ('caused', 12.445, 9, 739),\n",
       " ('evil', 12.434, 5, 537),\n",
       " ('roll', 12.362, 17, 186),\n",
       " ('fox', 12.307, 0, 190),\n",
       " ('immunization', 12.307, 0, 190),\n",
       " ('administered', 12.307, 0, 190),\n",
       " ('concern', 12.201, 30, 439),\n",
       " ('department', 12.198, 15, 153),\n",
       " ('blueprint', 12.153, 6, 26),\n",
       " ('bravery', 12.104, 4, 9),\n",
       " ('december', 12.086, 13, 121),\n",
       " ('habit', 12.085, 7, 37),\n",
       " ('particular', 12.043, 19, 225),\n",
       " ('baseline', 11.98, 5, 17),\n",
       " ('taking', 11.938, 61, 1138),\n",
       " ('injectable', 11.809, 6, 27),\n",
       " ('childhood', 11.66, 0, 180),\n",
       " ('source', 11.545, 35, 1808),\n",
       " ('appealing', 11.542, 5, 18),\n",
       " ('sceptical', 11.542, 5, 18),\n",
       " ('provider', 11.538, 7, 39),\n",
       " ('cfr', 11.538, 7, 39),\n",
       " ('fever', 11.523, 18, 212),\n",
       " ('die', 11.422, 24, 1364),\n",
       " ('injured', 11.4, 0, 176),\n",
       " ('dosnt', 11.375, 3, 4),\n",
       " ('aah', 11.375, 3, 4),\n",
       " ('stalker', 11.375, 3, 4),\n",
       " ('seventh', 11.375, 3, 4),\n",
       " ('hutchison', 11.375, 3, 4),\n",
       " ('redits', 11.375, 3, 4),\n",
       " ('bilskin', 11.375, 3, 4),\n",
       " ('frowned', 11.375, 3, 4),\n",
       " ('disease', 11.354, 54, 2526),\n",
       " ('paralysis', 11.353, 1, 273),\n",
       " ('application', 11.31, 11, 95),\n",
       " ('pulse', 11.206, 0, 173),\n",
       " ('row', 11.162, 6, 29),\n",
       " ('comment', 11.105, 70, 1376),\n",
       " ('contact', 11.013, 20, 255),\n",
       " ('western', 11.012, 0, 170),\n",
       " ('training', 10.976, 12, 113),\n",
       " ('corporation', 10.919, 25, 355),\n",
       " ('rigorously', 10.884, 4, 11),\n",
       " ('outlined', 10.884, 4, 11),\n",
       " ('sweden', 10.882, 0, 168),\n",
       " ('employee', 10.882, 14, 147),\n",
       " ('robert', 10.817, 0, 167),\n",
       " ('package', 10.775, 7, 42),\n",
       " ('melinda', 10.753, 0, 166),\n",
       " ('immune', 10.731, 83, 1707),\n",
       " ('video', 10.674, 18, 1091),\n",
       " ('health', 10.672, 100, 2136),\n",
       " ('story', 10.654, 9, 694),\n",
       " ('team', 10.551, 1, 259),\n",
       " ('threat', 10.505, 20, 261),\n",
       " ('excellent', 10.494, 10, 85),\n",
       " ('preference', 10.416, 3, 5),\n",
       " ('klaus', 10.416, 3, 5),\n",
       " ('saint', 10.365, 5, 21),\n",
       " ('unfold', 10.352, 4, 12),\n",
       " ('winter', 10.338, 10, 86),\n",
       " ('request', 10.338, 10, 86),\n",
       " ('hiv', 10.337, 4, 438),\n",
       " ('trust', 10.282, 71, 1425),\n",
       " ('collection', 10.278, 6, 32),\n",
       " ('oral', 10.234, 0, 158),\n",
       " ('hcq', 10.147, 2, 319),\n",
       " ('antibiotic', 10.105, 0, 156),\n",
       " ('superspreaders', 10.03, 2, 1),\n",
       " ('connectivity', 10.03, 2, 1),\n",
       " ('pandemonium', 10.03, 2, 1),\n",
       " ('humanist', 10.03, 2, 1),\n",
       " ('oversaw', 10.03, 2, 1),\n",
       " ('cowering', 10.03, 2, 1),\n",
       " ('damp', 10.03, 2, 1),\n",
       " ('moonshine', 10.03, 2, 1),\n",
       " ('milgram', 10.03, 2, 1),\n",
       " ('jeopardizing', 10.03, 2, 1),\n",
       " ('bonding', 10.03, 2, 1),\n",
       " ('ang', 10.03, 2, 1),\n",
       " ('bolsanaro', 10.03, 2, 1),\n",
       " ('antiquity', 10.03, 2, 1),\n",
       " ('bluffing', 10.03, 2, 1),\n",
       " ('acidently', 10.03, 2, 1),\n",
       " ('darkened', 10.03, 2, 1),\n",
       " ('lpn', 10.03, 2, 1),\n",
       " ('interprets', 10.03, 2, 1),\n",
       " ('yahweh', 10.03, 2, 1),\n",
       " ('internalize', 10.03, 2, 1),\n",
       " ('seething', 10.03, 2, 1),\n",
       " ('wah', 10.03, 2, 1),\n",
       " ('opv', 9.975, 0, 154),\n",
       " ('feel', 9.889, 61, 1193),\n",
       " ('measure', 9.876, 3, 373),\n",
       " ('mhra', 9.861, 4, 13),\n",
       " ('obedience', 9.861, 4, 13),\n",
       " ('paradise', 9.861, 4, 13),\n",
       " ('exhausted', 9.861, 4, 13),\n",
       " ('inert', 9.846, 0, 152),\n",
       " ('epidemic', 9.812, 1, 246),\n",
       " ('propaganda', 9.769, 7, 577),\n",
       " ('recovery', 9.764, 8, 60),\n",
       " ('slippery', 9.739, 6, 34),\n",
       " ('maximum', 9.739, 6, 34),\n",
       " ('south', 9.651, 0, 149),\n",
       " ('bsl', 9.637, 7, 47),\n",
       " ('billion', 9.633, 18, 1058),\n",
       " ('chinese', 9.626, 2, 309),\n",
       " ('trumpet', 9.608, 3, 6),\n",
       " ('sixth', 9.608, 3, 6),\n",
       " ('contingent', 9.608, 3, 6),\n",
       " ('schwab', 9.608, 3, 6),\n",
       " ('rendering', 9.608, 3, 6),\n",
       " ('price', 9.586, 1, 242),\n",
       " ('world', 9.478, 82, 3452),\n",
       " ('study', 9.441, 119, 2675),\n",
       " ('hyped', 9.406, 4, 14),\n",
       " ('antivax', 9.392, 0, 145),\n",
       " ('film', 9.222, 7, 49),\n",
       " ('vitamin', 9.11, 2, 299),\n",
       " ('dark', 9.093, 11, 111),\n",
       " ('utopia', 9.022, 7, 50),\n",
       " ('pneumonia', 9.022, 1, 232),\n",
       " ('blind', 9.007, 2, 297),\n",
       " ('germany', 9.004, 0, 139),\n",
       " ('slope', 8.996, 6, 37),\n",
       " ('judgment', 8.996, 6, 37),\n",
       " ('audience', 8.996, 6, 37),\n",
       " ('misery', 8.984, 4, 15),\n",
       " ('rush', 8.982, 12, 129),\n",
       " ('corporatism', 8.913, 3, 7),\n",
       " ('trinity', 8.913, 3, 7),\n",
       " ('contract', 8.905, 15, 184),\n",
       " ('voluntary', 8.899, 10, 96),\n",
       " ('defend', 8.874, 0, 137),\n",
       " ('sentence', 8.874, 0, 137),\n",
       " ('spy', 8.764, 6, 38),\n",
       " ('heaven', 8.762, 9, 81),\n",
       " ('genetic', 8.756, 25, 388),\n",
       " ('urge', 8.754, 5, 26),\n",
       " ('owned', 8.745, 0, 135),\n",
       " ('infant', 8.742, 1, 227),\n",
       " ('ribosome', 8.637, 7, 52),\n",
       " ('contagious', 8.632, 13, 150),\n",
       " ('deleted', 8.618, 9, 82),\n",
       " ('access', 8.598, 2, 289),\n",
       " ('availability', 8.589, 4, 16),\n",
       " ('embarrassment', 8.589, 4, 16),\n",
       " ('manageable', 8.589, 4, 16),\n",
       " ('mommy', 8.589, 4, 16),\n",
       " ('toss', 8.589, 4, 16),\n",
       " ('vaccinate', 8.569, 7, 547),\n",
       " ('hospital', 8.513, 45, 847),\n",
       " ('white', 8.508, 4, 398),\n",
       " ('condescending', 8.473, 5, 27),\n",
       " ('waste', 8.433, 12, 134),\n",
       " ('racist', 8.421, 0, 130),\n",
       " ('barfturd', 8.369, 2, 2),\n",
       " ('indulge', 8.369, 2, 2),\n",
       " ('daisy', 8.369, 2, 2),\n",
       " ('welsh', 8.369, 2, 2),\n",
       " ('petitioner', 8.369, 2, 2),\n",
       " ('gown', 8.369, 2, 2),\n",
       " ('whiny', 8.369, 2, 2),\n",
       " ('xrxf', 8.369, 2, 2),\n",
       " ('unrecognizable', 8.369, 2, 2),\n",
       " ('uracil', 8.369, 2, 2),\n",
       " ('entice', 8.369, 2, 2),\n",
       " ('bursting', 8.369, 2, 2),\n",
       " ('vigilante', 8.369, 2, 2),\n",
       " ('morgelons', 8.369, 2, 2),\n",
       " ('lvl', 8.369, 2, 2),\n",
       " ('octopus', 8.369, 2, 2),\n",
       " ('lego', 8.369, 2, 2),\n",
       " ('yellow', 8.321, 6, 40),\n",
       " ('act', 8.312, 27, 439),\n",
       " ('merchandise', 8.304, 3, 8),\n",
       " ('jerking', 8.304, 3, 8),\n",
       " ('taker', 8.304, 3, 8),\n",
       " ('singled', 8.304, 3, 8),\n",
       " ('indefinite', 8.304, 3, 8),\n",
       " ('treated', 8.291, 0, 128),\n",
       " ('economic', 8.284, 19, 270),\n",
       " ('projection', 8.27, 7, 54),\n",
       " ('corrupt', 8.242, 2, 282),\n",
       " ('compromised', 8.235, 13, 154),\n",
       " ('resurgence', 8.22, 4, 17),\n",
       " ('shout', 8.22, 4, 17),\n",
       " ('employ', 8.22, 4, 17),\n",
       " ('prisoner', 8.203, 5, 28),\n",
       " ('big', 8.139, 36, 1709),\n",
       " ('context', 8.128, 1, 216),\n",
       " ('swine', 8.12, 17, 232),\n",
       " ('competitor', 8.11, 6, 41),\n",
       " ('eliminate', 8.062, 9, 86),\n",
       " ('definitely', 8.056, 9, 625),\n",
       " ('responsible', 8.049, 18, 253),\n",
       " ('bacterial', 8.032, 0, 124),\n",
       " ('human', 8.021, 98, 2192),\n",
       " ('religion', 7.989, 2, 277),\n",
       " ('spain', 7.945, 5, 29),\n",
       " ('strand', 7.936, 8, 71),\n",
       " ('agent', 7.907, 1, 212),\n",
       " ('widely', 7.903, 0, 122),\n",
       " ('situation', 7.88, 5, 434),\n",
       " ('authorization', 7.873, 4, 18),\n",
       " ('ache', 7.873, 4, 18),\n",
       " ('ive', 7.864, 37, 675),\n",
       " ('relevant', 7.851, 1, 211),\n",
       " ('controlled', 7.842, 4, 383),\n",
       " ('obama', 7.814, 12, 140),\n",
       " ('imagine', 7.786, 30, 516),\n",
       " ('johnson', 7.776, 3, 329),\n",
       " ('widespread', 7.773, 0, 120),\n",
       " ('met', 7.773, 0, 120),\n",
       " ('reacting', 7.764, 3, 9),\n",
       " ('merch', 7.764, 3, 9),\n",
       " ('godie', 7.764, 3, 9),\n",
       " ('trial', 7.749, 33, 1579),\n",
       " ('presented', 7.708, 0, 119),\n",
       " ('hydroxychloroquine', 7.686, 1, 208),\n",
       " ('hard', 7.581, 45, 872),\n",
       " ('racket', 7.579, 0, 117),\n",
       " ('acute', 7.579, 0, 117),\n",
       " ('reduced', 7.579, 0, 117),\n",
       " ('stay', 7.554, 9, 611),\n",
       " ('ade', 7.546, 4, 19),\n",
       " ('technique', 7.542, 9, 90),\n",
       " ('meet', 7.514, 0, 116),\n",
       " ('away', 7.466, 17, 945),\n",
       " ('licensed', 7.465, 1, 204),\n",
       " ('tracked', 7.449, 0, 115),\n",
       " ('removed', 7.437, 17, 944),\n",
       " ('speculation', 7.425, 7, 59),\n",
       " ('getting', 7.417, 96, 2167),\n",
       " ('rfk', 7.41, 1, 203),\n",
       " ('epstein', 7.339, 2, 264),\n",
       " ('similar', 7.335, 7, 515),\n",
       " ('chloroquine', 7.32, 0, 113),\n",
       " ('region', 7.32, 0, 113),\n",
       " ('mucus', 7.279, 3, 10),\n",
       " ('harvesting', 7.279, 3, 10),\n",
       " ('bodily', 7.268, 7, 60),\n",
       " ('cushion', 7.249, 2, 3),\n",
       " ('impatient', 7.249, 2, 3),\n",
       " ('gerald', 7.249, 2, 3),\n",
       " ('intensively', 7.249, 2, 3),\n",
       " ('exe', 7.249, 2, 3),\n",
       " ('jiz', 7.249, 2, 3),\n",
       " ('proton', 7.249, 2, 3),\n",
       " ('sympathetic', 7.249, 2, 3),\n",
       " ('wax', 7.249, 2, 3),\n",
       " ('belonging', 7.249, 2, 3),\n",
       " ('moderation', 7.249, 2, 3),\n",
       " ('generalizing', 7.249, 2, 3),\n",
       " ('dedication', 7.249, 2, 3),\n",
       " ('understaffed', 7.249, 2, 3),\n",
       " ('neutron', 7.249, 2, 3),\n",
       " ('slated', 7.249, 2, 3),\n",
       " ('unintentionally', 7.249, 2, 3),\n",
       " ('bruce', 7.249, 2, 3),\n",
       " ('transcript', 7.238, 4, 20),\n",
       " ('variable', 7.228, 5, 32),\n",
       " ('k', 7.217, 5, 418),\n",
       " ('felt', 7.207, 10, 110),\n",
       " ('participant', 7.19, 0, 111),\n",
       " ('italy', 7.19, 0, 111),\n",
       " ('divide', 7.19, 0, 111),\n",
       " ('couple', 7.189, 4, 368),\n",
       " ('schedule', 7.141, 2, 260),\n",
       " ('wear', 7.133, 32, 576),\n",
       " ('unique', 7.125, 0, 110),\n",
       " ('essential', 7.099, 10, 111),\n",
       " ('according', 7.095, 5, 415),\n",
       " ('movement', 7.091, 2, 259),\n",
       " ('jew', 7.06, 0, 109),\n",
       " ('stopping', 7.055, 9, 94),\n",
       " ('marketing', 6.998, 11, 130),\n",
       " ('terrorist', 6.996, 0, 108),\n",
       " ('mainstream', 6.992, 2, 257),\n",
       " ('microchip', 6.974, 4, 363),\n",
       " ('feeling', 6.951, 18, 269),\n",
       " ('tent', 6.946, 4, 21),\n",
       " ('sake', 6.931, 0, 107),\n",
       " ('cv', 6.931, 0, 107),\n",
       " ('ainas', 6.892, 1, 0),\n",
       " ('honoured', 6.892, 1, 0),\n",
       " ('exebulshitcoment', 6.892, 1, 0),\n",
       " ('7th', 6.892, 1, 0),\n",
       " ('flask', 6.892, 1, 0),\n",
       " ('azazel', 6.892, 1, 0),\n",
       " ('tora', 6.892, 1, 0),\n",
       " ('r3tard', 6.892, 1, 0),\n",
       " ('pizahut', 6.892, 1, 0),\n",
       " ('uncouth', 6.892, 1, 0),\n",
       " ('foolhardy', 6.892, 1, 0),\n",
       " ('yesturday', 6.892, 1, 0),\n",
       " ('sunbathing', 6.892, 1, 0),\n",
       " ('vacinesmart', 6.892, 1, 0),\n",
       " ('objectionable', 6.892, 1, 0),\n",
       " ('septuagint', 6.892, 1, 0),\n",
       " ('vasoconstriction', 6.892, 1, 0),\n",
       " ('rapport', 6.892, 1, 0),\n",
       " ('flatulent', 6.892, 1, 0),\n",
       " ('murket', 6.892, 1, 0),\n",
       " ('towatfs', 6.892, 1, 0),\n",
       " ('populatin', 6.892, 1, 0),\n",
       " ('iarc', 6.892, 1, 0),\n",
       " ('pursuasion', 6.892, 1, 0),\n",
       " ('excellently', 6.892, 1, 0),\n",
       " ('uncompromised', 6.892, 1, 0),\n",
       " ('notse', 6.892, 1, 0),\n",
       " ('conviently', 6.892, 1, 0),\n",
       " ('clive', 6.892, 1, 0),\n",
       " ('inorder', 6.892, 1, 0),\n",
       " ('galapagos', 6.892, 1, 0),\n",
       " ('figity', 6.892, 1, 0),\n",
       " ('suspicuous', 6.892, 1, 0),\n",
       " ('nomorefakenews', 6.892, 1, 0),\n",
       " ('gojng', 6.892, 1, 0),\n",
       " ('lenient', 6.892, 1, 0),\n",
       " ('gangsta', 6.892, 1, 0),\n",
       " ('valuing', 6.892, 1, 0),\n",
       " ('obligate', 6.892, 1, 0),\n",
       " ('amuck', 6.892, 1, 0),\n",
       " ('inlude', 6.892, 1, 0),\n",
       " ('tightens', 6.892, 1, 0),\n",
       " ('zenith', 6.892, 1, 0),\n",
       " ('nauseam', 6.892, 1, 0),\n",
       " ('reditsecrets', 6.892, 1, 0),\n",
       " ('timestamps', 6.892, 1, 0),\n",
       " ('thn', 6.892, 1, 0),\n",
       " ('tontine', 6.892, 1, 0),\n",
       " ('flopped', 6.892, 1, 0),\n",
       " ('unionized', 6.892, 1, 0),\n",
       " ('preasure', 6.892, 1, 0),\n",
       " ('whiney', 6.892, 1, 0),\n",
       " ('dayz', 6.892, 1, 0),\n",
       " ('termside', 6.892, 1, 0),\n",
       " ('gestrating', 6.892, 1, 0),\n",
       " ('purposeswhat', 6.892, 1, 0),\n",
       " ('tanakah', 6.892, 1, 0),\n",
       " ('sceptism', 6.892, 1, 0),\n",
       " ('governmwnt', 6.892, 1, 0),\n",
       " ('creamed', 6.892, 1, 0),\n",
       " ('bacj', 6.892, 1, 0),\n",
       " ('overthinking', 6.892, 1, 0),\n",
       " ('whythey', 6.892, 1, 0),\n",
       " ('myst', 6.892, 1, 0),\n",
       " ('hqbing', 6.892, 1, 0),\n",
       " ('yipe', 6.892, 1, 0),\n",
       " ('aiusher', 6.892, 1, 0),\n",
       " ('multigenerational', 6.892, 1, 0),\n",
       " ('bajilion', 6.892, 1, 0),\n",
       " ('inn', 6.892, 1, 0),\n",
       " ('acetaldehyde', 6.892, 1, 0),\n",
       " ('shitscape', 6.892, 1, 0),\n",
       " ('unprecidented', 6.892, 1, 0),\n",
       " ('hickeloper', 6.892, 1, 0),\n",
       " ('blorp', 6.892, 1, 0),\n",
       " ('truthie', 6.892, 1, 0),\n",
       " ('csas', 6.892, 1, 0),\n",
       " ('upen', 6.892, 1, 0),\n",
       " ('bedwetter', 6.892, 1, 0),\n",
       " ('exisit', 6.892, 1, 0),\n",
       " ('utopiah', 6.892, 1, 0),\n",
       " ('uncaring', 6.892, 1, 0),\n",
       " ('affiliate', 6.892, 1, 0),\n",
       " ('substituted', 6.892, 1, 0),\n",
       " ('citiescaning', 6.892, 1, 0),\n",
       " ('harley', 6.892, 1, 0),\n",
       " ('schmoe', 6.892, 1, 0),\n",
       " ('figtjt', 6.892, 1, 0),\n",
       " ('scrabble', 6.892, 1, 0),\n",
       " ('traught', 6.892, 1, 0),\n",
       " ('fineable', 6.892, 1, 0),\n",
       " ('saturdsy', 6.892, 1, 0),\n",
       " ('elli', 6.892, 1, 0),\n",
       " ('boting', 6.892, 1, 0),\n",
       " ('dismisivenes', 6.892, 1, 0),\n",
       " ('tryjng', 6.892, 1, 0),\n",
       " ('ferent', 6.892, 1, 0),\n",
       " ('stale', 6.892, 1, 0),\n",
       " ('cyberatack', 6.892, 1, 0),\n",
       " ('adter', 6.892, 1, 0),\n",
       " ('awesme', 6.892, 1, 0),\n",
       " ('thjnk', 6.892, 1, 0),\n",
       " ('trashcan', 6.892, 1, 0),\n",
       " ('metabolite', 6.892, 1, 0),\n",
       " ('modelo', 6.892, 1, 0),\n",
       " ('inplan', 6.892, 1, 0),\n",
       " ('floodgate', 6.892, 1, 0),\n",
       " ('snowdon', 6.892, 1, 0),\n",
       " ('tititi', 6.892, 1, 0),\n",
       " ('goldberg', 6.892, 1, 0),\n",
       " ('tanakh', 6.892, 1, 0),\n",
       " ('syndrom', 6.892, 1, 0),\n",
       " ('toasted', 6.892, 1, 0),\n",
       " ('antihumanist', 6.892, 1, 0),\n",
       " ('righteously', 6.892, 1, 0),\n",
       " ('belfast', 6.892, 1, 0),\n",
       " ('grub', 6.892, 1, 0),\n",
       " ('livenation', 6.892, 1, 0),\n",
       " ('vowel', 6.892, 1, 0),\n",
       " ('horseing', 6.892, 1, 0),\n",
       " ('esotericaly', 6.892, 1, 0),\n",
       " ('nosy', 6.892, 1, 0),\n",
       " ('phizers', 6.892, 1, 0),\n",
       " ('masturbatin', 6.892, 1, 0),\n",
       " ('dcxvi', 6.892, 1, 0),\n",
       " ('thermostat', 6.892, 1, 0),\n",
       " ('blurts', 6.892, 1, 0),\n",
       " ('formeldahyde', 6.892, 1, 0),\n",
       " ('roams', 6.892, 1, 0),\n",
       " ('rheusus', 6.892, 1, 0),\n",
       " ('ceulular', 6.892, 1, 0),\n",
       " ('fa', 6.892, 1, 0),\n",
       " ('desiring', 6.892, 1, 0),\n",
       " ('catestrophic', 6.892, 1, 0),\n",
       " ('webbed', 6.892, 1, 0),\n",
       " ('tuskege', 6.892, 1, 0),\n",
       " ('vocation', 6.892, 1, 0),\n",
       " ('emboldened', 6.892, 1, 0),\n",
       " ('strated', 6.892, 1, 0),\n",
       " ('deformation', 6.892, 1, 0),\n",
       " ('crumpled', 6.892, 1, 0),\n",
       " ('dino', 6.892, 1, 0),\n",
       " ('playstation', 6.892, 1, 0),\n",
       " ('nortons', 6.892, 1, 0),\n",
       " ('unironic', 6.892, 1, 0),\n",
       " ('xz', 6.892, 1, 0),\n",
       " ('viwus', 6.892, 1, 0),\n",
       " ('madison', 6.892, 1, 0),\n",
       " ('tfo', 6.892, 1, 0),\n",
       " ('ph4rma', 6.892, 1, 0),\n",
       " ('whopi', 6.892, 1, 0),\n",
       " ('definetely', 6.892, 1, 0),\n",
       " ('againthis', 6.892, 1, 0),\n",
       " ('feeder', 6.892, 1, 0),\n",
       " ('optometrist', 6.892, 1, 0),\n",
       " ('watery', 6.892, 1, 0),\n",
       " ('eminent', 6.892, 1, 0),\n",
       " ('outward', 6.892, 1, 0),\n",
       " ('vail', 6.892, 1, 0),\n",
       " ('sidescrolers', 6.892, 1, 0),\n",
       " ('celerion', 6.892, 1, 0),\n",
       " ('xeno', 6.892, 1, 0),\n",
       " ('andalusia', 6.892, 1, 0),\n",
       " ('01s', 6.892, 1, 0),\n",
       " ('mulvey', 6.892, 1, 0),\n",
       " ('integrable', 6.892, 1, 0),\n",
       " ('parasympathetic', 6.892, 1, 0),\n",
       " ('hyonitism', 6.892, 1, 0),\n",
       " ('criglernajar', 6.892, 1, 0),\n",
       " ('concussion', 6.892, 1, 0),\n",
       " ('notbing', 6.892, 1, 0),\n",
       " ('decodes', 6.892, 1, 0),\n",
       " ('doeth', 6.892, 1, 0),\n",
       " ('torturous', 6.892, 1, 0),\n",
       " ('realest', 6.892, 1, 0),\n",
       " ('mimick', 6.892, 1, 0),\n",
       " ('foulplay', 6.892, 1, 0),\n",
       " ('fakenes', 6.892, 1, 0),\n",
       " ('edm', 6.892, 1, 0),\n",
       " ('clancys', 6.892, 1, 0),\n",
       " ('leek', 6.892, 1, 0),\n",
       " ('somthin', 6.892, 1, 0),\n",
       " ('shredder', 6.892, 1, 0),\n",
       " ('0flage', 6.892, 1, 0),\n",
       " ('ovum', 6.892, 1, 0),\n",
       " ('suckn', 6.892, 1, 0),\n",
       " ('complimenting', 6.892, 1, 0),\n",
       " ('pixture', 6.892, 1, 0),\n",
       " ('renounce', 6.892, 1, 0),\n",
       " ('untied', 6.892, 1, 0),\n",
       " ('bushcrafting', 6.892, 1, 0),\n",
       " ('gosipiest', 6.892, 1, 0),\n",
       " ('neb', 6.892, 1, 0),\n",
       " ('tribune', 6.892, 1, 0),\n",
       " ('unsighted', 6.892, 1, 0),\n",
       " ('wrest', 6.892, 1, 0),\n",
       " ('micheal', 6.892, 1, 0),\n",
       " ('clouding', 6.892, 1, 0),\n",
       " ('inclues', 6.892, 1, 0),\n",
       " ('beset', 6.892, 1, 0),\n",
       " ('screed', 6.892, 1, 0),\n",
       " ('nanopartical', 6.892, 1, 0),\n",
       " ('chds', 6.892, 1, 0),\n",
       " ('turndown', 6.892, 1, 0),\n",
       " ('aldosterone', 6.892, 1, 0),\n",
       " ('specifities', 6.892, 1, 0),\n",
       " ('preloaded', 6.892, 1, 0),\n",
       " ('longoria', 6.892, 1, 0),\n",
       " ('retitled', 6.892, 1, 0),\n",
       " ('virologly', 6.892, 1, 0),\n",
       " ('bootstrap', 6.892, 1, 0),\n",
       " ('incomparable', 6.892, 1, 0),\n",
       " ('lalalalala', 6.892, 1, 0),\n",
       " ('cd', 6.892, 1, 0),\n",
       " ('goign', 6.892, 1, 0),\n",
       " ('theraputics', 6.892, 1, 0),\n",
       " ('stagnating', 6.892, 1, 0),\n",
       " ('pollster', 6.892, 1, 0),\n",
       " ('hungrier', 6.892, 1, 0),\n",
       " ('outperforming', 6.892, 1, 0),\n",
       " ('backwater', 6.892, 1, 0),\n",
       " ('womem', 6.892, 1, 0),\n",
       " ('pfiser', 6.892, 1, 0),\n",
       " ('bililons', 6.892, 1, 0),\n",
       " ('devoting', 6.892, 1, 0),\n",
       " ('verizon', 6.892, 1, 0),\n",
       " ('imuneresponse', 6.892, 1, 0),\n",
       " ('greener', 6.892, 1, 0),\n",
       " ('belched', 6.892, 1, 0),\n",
       " ('wha', 6.892, 1, 0),\n",
       " ('e3', 6.892, 1, 0),\n",
       " ('cda', 6.892, 1, 0),\n",
       " ('whimp', 6.892, 1, 0),\n",
       " ('numerizing', 6.892, 1, 0),\n",
       " ('noisiest', 6.892, 1, 0),\n",
       " ('clipper', 6.892, 1, 0),\n",
       " ('ahahahavavav', 6.892, 1, 0),\n",
       " ('wheezing', 6.892, 1, 0),\n",
       " ('wormwood', 6.892, 1, 0),\n",
       " ('liquifies', 6.892, 1, 0),\n",
       " ('skulduggery', 6.892, 1, 0),\n",
       " ('ftg', 6.892, 1, 0),\n",
       " ('nec', 6.892, 1, 0),\n",
       " ('2020comentcomit', 6.892, 1, 0),\n",
       " ('easies', 6.892, 1, 0),\n",
       " ('fuckd', 6.892, 1, 0),\n",
       " ('verecundiam', 6.892, 1, 0),\n",
       " ('ven', 6.892, 1, 0),\n",
       " ('generality', 6.892, 1, 0),\n",
       " ('haivng', 6.892, 1, 0),\n",
       " ('horsedick', 6.892, 1, 0),\n",
       " ('undone', 6.892, 1, 0),\n",
       " ('kcda', 6.892, 1, 0),\n",
       " ('theragriper', 6.892, 1, 0),\n",
       " ('saame', 6.892, 1, 0),\n",
       " ('samy', 6.892, 1, 0),\n",
       " ('thirsty', 6.892, 1, 0),\n",
       " ('soyboys', 6.892, 1, 0),\n",
       " ('invokes', 6.892, 1, 0),\n",
       " ('gameplay', 6.892, 1, 0),\n",
       " ('eyerol', 6.892, 1, 0),\n",
       " ('southampton', 6.892, 1, 0),\n",
       " ('siriusxms', 6.892, 1, 0),\n",
       " ('rese', 6.892, 1, 0),\n",
       " ('cornwall', 6.892, 1, 0),\n",
       " ('flannel', 6.892, 1, 0),\n",
       " ('srart', 6.892, 1, 0),\n",
       " ('cyberdyne', 6.892, 1, 0),\n",
       " ('hards', 6.892, 1, 0),\n",
       " ('sidetrack', 6.892, 1, 0),\n",
       " ('sadiq', 6.892, 1, 0),\n",
       " ('mjnded', 6.892, 1, 0),\n",
       " ('esqe', 6.892, 1, 0),\n",
       " ('kamkar', 6.892, 1, 0),\n",
       " ('canuck', 6.892, 1, 0),\n",
       " ('ariz', 6.892, 1, 0),\n",
       " ('minster', 6.892, 1, 0),\n",
       " ('procuring', 6.892, 1, 0),\n",
       " ('receded', 6.892, 1, 0),\n",
       " ('biosynthesis', 6.892, 1, 0),\n",
       " ('jos', 6.892, 1, 0),\n",
       " ('meming', 6.892, 1, 0),\n",
       " ('melina', 6.892, 1, 0),\n",
       " ('forceshield', 6.892, 1, 0),\n",
       " ('zayner', 6.892, 1, 0),\n",
       " ('nahedwilhemshire', 6.892, 1, 0),\n",
       " ('indifference', 6.892, 1, 0),\n",
       " ('comprimosed', 6.892, 1, 0),\n",
       " ('paraffin', 6.892, 1, 0),\n",
       " ('trumpians', 6.892, 1, 0),\n",
       " ('designator', 6.892, 1, 0),\n",
       " ('sackcloth', 6.892, 1, 0),\n",
       " ('renegotiate', 6.892, 1, 0),\n",
       " ('supernova', 6.892, 1, 0),\n",
       " ('inspect', 6.892, 1, 0),\n",
       " ('conveyer', 6.892, 1, 0),\n",
       " ('gory', 6.892, 1, 0),\n",
       " ('imran', 6.892, 1, 0),\n",
       " ('usin', 6.892, 1, 0),\n",
       " ('clogged', 6.892, 1, 0),\n",
       " ('combust', 6.892, 1, 0),\n",
       " ('reversetranscrpitase', 6.892, 1, 0),\n",
       " ('nazish', 6.892, 1, 0),\n",
       " ('anywho', 6.892, 1, 0),\n",
       " ('undeterred', 6.892, 1, 0),\n",
       " ('superstar', 6.892, 1, 0),\n",
       " ('glowies', 6.892, 1, 0),\n",
       " ('falute', 6.892, 1, 0),\n",
       " ('pentateuch', 6.892, 1, 0),\n",
       " ('kindve', 6.892, 1, 0),\n",
       " ('beyong', 6.892, 1, 0),\n",
       " ('godnews', 6.892, 1, 0),\n",
       " ('theragripers', 6.892, 1, 0),\n",
       " ('memorizing', 6.892, 1, 0),\n",
       " ('novid', 6.892, 1, 0),\n",
       " ('dispenza', 6.892, 1, 0),\n",
       " ('josiah', 6.892, 1, 0),\n",
       " ('preceds', 6.892, 1, 0),\n",
       " ('obamy', 6.892, 1, 0),\n",
       " ('scienticism', 6.892, 1, 0),\n",
       " ('empeth', 6.892, 1, 0),\n",
       " ('covidpositive', 6.892, 1, 0),\n",
       " ('hundreads', 6.892, 1, 0),\n",
       " ('riht', 6.892, 1, 0),\n",
       " ('ungrown', 6.892, 1, 0),\n",
       " ('haphazard', 6.892, 1, 0),\n",
       " ('mistranslation', 6.892, 1, 0),\n",
       " ('confetti', 6.892, 1, 0),\n",
       " ('sciencemag', 6.892, 1, 0),\n",
       " ('betted', 6.892, 1, 0),\n",
       " ('usb', 6.892, 1, 0),\n",
       " ('stokes', 6.892, 1, 0),\n",
       " ('etl', 6.892, 1, 0),\n",
       " ('nanomicro', 6.892, 1, 0),\n",
       " ('thereupon', 6.892, 1, 0),\n",
       " ('bodychemicals', 6.892, 1, 0),\n",
       " ('bedeviled', 6.892, 1, 0),\n",
       " ('arma', 6.892, 1, 0),\n",
       " ('acountmay', 6.892, 1, 0),\n",
       " ('redponding', 6.892, 1, 0),\n",
       " ('ucon', 6.892, 1, 0),\n",
       " ('12th', 6.892, 1, 0),\n",
       " ('evolutionarily', 6.892, 1, 0),\n",
       " ('grumbling', 6.892, 1, 0),\n",
       " ('apaled', 6.892, 1, 0),\n",
       " ('tentatively', 6.892, 1, 0),\n",
       " ('refeding', 6.892, 1, 0),\n",
       " ('reaps', 6.892, 1, 0),\n",
       " ('criterias', 6.892, 1, 0),\n",
       " ('scientifical', 6.892, 1, 0),\n",
       " ('electrolyte', 6.892, 1, 0),\n",
       " ('projectile', 6.892, 1, 0),\n",
       " ('costelo', 6.892, 1, 0),\n",
       " ('neediest', 6.892, 1, 0),\n",
       " ('transhumance', 6.892, 1, 0),\n",
       " ('crest', 6.892, 1, 0),\n",
       " ('advacate', 6.892, 1, 0),\n",
       " ('rpnc', 6.892, 1, 0),\n",
       " ('thrift', 6.892, 1, 0),\n",
       " ('saddling', 6.892, 1, 0),\n",
       " ('pezy', 6.892, 1, 0),\n",
       " ('fireable', 6.892, 1, 0),\n",
       " ('alligator', 6.892, 1, 0),\n",
       " ('razerer', 6.892, 1, 0),\n",
       " ('rewiring', 6.892, 1, 0),\n",
       " ('unforgiving', 6.892, 1, 0),\n",
       " ('reckoned', 6.892, 1, 0),\n",
       " ('substanceles', 6.892, 1, 0),\n",
       " ('luminary', 6.892, 1, 0),\n",
       " ('destabilization', 6.892, 1, 0),\n",
       " ('oakvile', 6.892, 1, 0),\n",
       " ('nothins', 6.892, 1, 0),\n",
       " ('classifies', 6.892, 1, 0),\n",
       " ('vane', 6.892, 1, 0),\n",
       " ('duct', 6.892, 1, 0),\n",
       " ('volition', 6.892, 1, 0),\n",
       " ('concordia', 6.892, 1, 0),\n",
       " ('spinkled', 6.892, 1, 0),\n",
       " ('excruciatingly', 6.892, 1, 0),\n",
       " ('176 201', 6.892, 1, 0),\n",
       " ('upping', 6.892, 1, 0),\n",
       " ('universcale', 6.892, 1, 0),\n",
       " ('commonsense', 6.892, 1, 0),\n",
       " ('protec', 6.892, 1, 0),\n",
       " ('resistent', 6.892, 1, 0),\n",
       " ('msny', 6.892, 1, 0),\n",
       " ('brucina', 6.892, 1, 0),\n",
       " ('steeping', 6.892, 1, 0),\n",
       " ('permaculture', 6.892, 1, 0),\n",
       " ('havrix', 6.892, 1, 0),\n",
       " ('twinrix', 6.892, 1, 0),\n",
       " ('ead', 6.892, 1, 0),\n",
       " ('pushin', 6.892, 1, 0),\n",
       " ('misrecorded', 6.892, 1, 0),\n",
       " ('unbreakable', 6.892, 1, 0),\n",
       " ('rigurous', 6.892, 1, 0),\n",
       " ('exogenous', 6.892, 1, 0),\n",
       " ('englishman', 6.892, 1, 0),\n",
       " ('witherspoon', 6.892, 1, 0),\n",
       " ('interagency', 6.892, 1, 0),\n",
       " ('fcuking', 6.892, 1, 0),\n",
       " ('shshshbsbdbf', 6.892, 1, 0),\n",
       " ('doudna', 6.892, 1, 0),\n",
       " ('lity', 6.892, 1, 0),\n",
       " ('jcvi', 6.892, 1, 0),\n",
       " ('teasing', 6.892, 1, 0),\n",
       " ('synth', 6.892, 1, 0),\n",
       " ('vacinesfour', 6.892, 1, 0),\n",
       " ('shonda', 6.892, 1, 0),\n",
       " ('haven', 6.892, 1, 0),\n",
       " ('unicode', 6.892, 1, 0),\n",
       " ('microdevices', 6.892, 1, 0),\n",
       " ('overhauling', 6.892, 1, 0),\n",
       " ('dumba', 6.892, 1, 0),\n",
       " ('diz', 6.892, 1, 0),\n",
       " ('differed', 6.892, 1, 0),\n",
       " ('rhimes', 6.892, 1, 0),\n",
       " ('negates', 6.892, 1, 0),\n",
       " ('waze', 6.892, 1, 0),\n",
       " ('aba', 6.892, 1, 0),\n",
       " ('indenting', 6.892, 1, 0),\n",
       " ('tamblyn', 6.892, 1, 0),\n",
       " ('cyberwarfare', 6.892, 1, 0),\n",
       " ('rdj', 6.892, 1, 0),\n",
       " ('thelema', 6.892, 1, 0),\n",
       " ('blablablablablablablah', 6.892, 1, 0),\n",
       " ('totem', 6.892, 1, 0),\n",
       " ('d8', 6.892, 1, 0),\n",
       " ('gmcs', 6.892, 1, 0),\n",
       " ('sov', 6.892, 1, 0),\n",
       " ('saf', 6.892, 1, 0),\n",
       " ('outdo', 6.892, 1, 0),\n",
       " ('misfire', 6.892, 1, 0),\n",
       " ('grocer', 6.892, 1, 0),\n",
       " ('cvic', 6.892, 1, 0),\n",
       " ('skedybop', 6.892, 1, 0),\n",
       " ('grifty', 6.892, 1, 0),\n",
       " ('bead', 6.892, 1, 0),\n",
       " ('sugar', 6.866, 0, 106),\n",
       " ('indian', 6.866, 0, 106),\n",
       " ('authoritarian', 6.866, 0, 106),\n",
       " ('larger', 6.866, 0, 106),\n",
       " ('round', 6.855, 3, 309),\n",
       " ('campaign', 6.845, 2, 254),\n",
       " ('stab', 6.841, 3, 11),\n",
       " ('meningococal', 6.841, 3, 11),\n",
       " ('compass', 6.841, 3, 11),\n",
       " ('chose', 6.831, 8, 79),\n",
       " ('british', 6.822, 9, 96),\n",
       " ('terrified', 6.815, 7, 63),\n",
       " ('shocked', 6.815, 7, 63),\n",
       " ('walmart', 6.815, 7, 63),\n",
       " ('alter', 6.805, 11, 132),\n",
       " ('flow', 6.801, 0, 105),\n",
       " ('stance', 6.801, 0, 105),\n",
       " ('cervical', 6.801, 0, 105),\n",
       " ('ethic', 6.789, 6, 48),\n",
       " ('common', 6.763, 14, 799),\n",
       " ('derived', 6.755, 1, 191),\n",
       " ('oxford', 6.737, 0, 104),\n",
       " ('aid', 6.73, 5, 406),\n",
       " ('nih', 6.708, 9, 97),\n",
       " ('accept', 6.704, 23, 381),\n",
       " ('apple', 6.672, 0, 103),\n",
       " ('jail', 6.672, 0, 103),\n",
       " ('filter', 6.671, 7, 64),\n",
       " ('proceed', 6.669, 4, 22),\n",
       " ('offspring', 6.669, 4, 22),\n",
       " ('overly', 6.669, 4, 22),\n",
       " ('brigade', 6.669, 4, 22),\n",
       " ('aw', 6.669, 4, 22),\n",
       " ('drank', 6.669, 4, 22),\n",
       " ('performing', 6.669, 4, 22),\n",
       " ('politically', 6.62, 6, 49),\n",
       " ('also', 6.616, 183, 4552),\n",
       " ('gardasil', 6.607, 0, 102),\n",
       " ('china', 6.594, 20, 1033),\n",
       " ('flu', 6.59, 157, 3843),\n",
       " ('control', 6.583, 78, 1736),\n",
       " ('produce', 6.555, 27, 474),\n",
       " ('guideline', 6.542, 0, 101),\n",
       " ('powerful', 6.538, 1, 187),\n",
       " ('nature', 6.508, 18, 276),\n",
       " ('kennedy', 6.503, 2, 247),\n",
       " ('elon', 6.484, 1, 186),\n",
       " ('spin', 6.478, 0, 100),\n",
       " ('number', 6.475, 47, 2035),\n",
       " ('sense', 6.474, 50, 1028),\n",
       " ('unknown', 6.465, 14, 194),\n",
       " ('wave', 6.464, 4, 351),\n",
       " ('champ', 6.442, 3, 12),\n",
       " ('subsidiary', 6.442, 3, 12),\n",
       " ('rockefeller', 6.424, 18, 948),\n",
       " ...]"
      ]
     },
     "execution_count": 57,
     "metadata": {},
     "output_type": "execute_result"
    }
   ],
   "source": [
    "print(\"Cutoff date is \", cutoff_date)\n",
    "log_likelihood(corpus, reference_corpus)"
   ]
  },
  {
   "cell_type": "code",
   "execution_count": 58,
   "metadata": {
    "hideCode": false,
    "hidePrompt": false,
    "slideshow": {
     "slide_type": "skip"
    }
   },
   "outputs": [],
   "source": [
    "# from corpus_toolkit import corpus_tools as ct\n",
    "\n",
    "# #First, generate frequency lists for each corpus\n",
    "# corp1freq = ct.frequency(reference_corpus)\n",
    "# corp2freq = ct.frequency(corpus)\n",
    "\n",
    "# #then calculate Keyness\n",
    "# corp_key = ct.keyness(corp1freq, corp2freq, effect = \"log-ratio\")\n",
    "# ct.head(corp_key, hits = 10) #to display top hits"
   ]
  },
  {
   "cell_type": "code",
   "execution_count": 59,
   "metadata": {
    "hideCode": false,
    "hidePrompt": false,
    "slideshow": {
     "slide_type": "skip"
    }
   },
   "outputs": [],
   "source": [
    "# corp1freq['bihar']"
   ]
  },
  {
   "cell_type": "code",
   "execution_count": 60,
   "metadata": {
    "hideCode": false,
    "hidePrompt": false,
    "slideshow": {
     "slide_type": "skip"
    }
   },
   "outputs": [],
   "source": [
    "# df_temp = df_com >> filter_by(X.date > cutoff_date)\n",
    "# df_temp['text'] = df_temp['text'].str.lower()\n",
    "# KEYWORDS = ['bihar']\n",
    "# for i in range(0,df_temp.shape[0]):\n",
    "#     TEXT = df_temp[i,2]\n",
    "#     keywords_in_context(TEXT, KEYWORDS)"
   ]
  },
  {
   "cell_type": "markdown",
   "metadata": {},
   "source": [
    "---\n",
    "## New stuff"
   ]
  },
  {
   "cell_type": "code",
   "execution_count": 61,
   "metadata": {},
   "outputs": [
    {
     "data": {
      "text/plain": [
       "<nltk.collocations.BigramCollocationFinder at 0x26f8e9f7048>"
      ]
     },
     "execution_count": 61,
     "metadata": {},
     "output_type": "execute_result"
    }
   ],
   "source": [
    "from nltk.collocations import BigramCollocationFinder\n",
    "from nltk.collocations import BigramAssocMeasures\n",
    "\n",
    "finder = BigramCollocationFinder.from_documents(df_com_pp['text'].tolist())\n",
    "finder"
   ]
  },
  {
   "cell_type": "markdown",
   "metadata": {},
   "source": [
    "* Key nouns ???"
   ]
  },
  {
   "cell_type": "code",
   "execution_count": 62,
   "metadata": {},
   "outputs": [
    {
     "data": {
      "text/plain": [
       "[('bill', 'gate'),\n",
       " ('side', 'effect'),\n",
       " ('immune', 'system'),\n",
       " ('covid', 'vaccine'),\n",
       " ('flu', 'shot'),\n",
       " ('flu', 'vaccine'),\n",
       " ('long', 'term'),\n",
       " ('take', 'vaccine'),\n",
       " ('get', 'vaccine'),\n",
       " ('big', 'pharma')]"
      ]
     },
     "execution_count": 62,
     "metadata": {},
     "output_type": "execute_result"
    }
   ],
   "source": [
    "bigram_measures = BigramAssocMeasures()                                                \n",
    "finder.nbest(bigram_measures.raw_freq, 10)"
   ]
  },
  {
   "cell_type": "code",
   "execution_count": 63,
   "metadata": {},
   "outputs": [
    {
     "data": {
      "text/plain": [
       "[('2020comentcomit', 'exebulshitcoment'),\n",
       " ('45f', '8c4'),\n",
       " ('4g', 'mol'),\n",
       " ('6pm', 'uzghu'),\n",
       " ('7h15', 'v43c1n35'),\n",
       " ('a72', 'loc'),\n",
       " ('abdulah', 'petrosaudi'),\n",
       " ('abey', 'chutiye'),\n",
       " ('abode', 'dexotique'),\n",
       " ('abu', 'ghraib'),\n",
       " ('acht', 'todesfle'),\n",
       " ('ack', 'eter'),\n",
       " ('acountmay', '2020comentcomit'),\n",
       " ('adenosine', 'triphosphate'),\n",
       " ('adis', 'ababa'),\n",
       " ('admonished', 'derided'),\n",
       " ('adventist', 'unitarian'),\n",
       " ('afrocentric', 'metaphysics'),\n",
       " ('ahed', 'tyme'),\n",
       " ('alba', 'pharmacal')]"
      ]
     },
     "execution_count": 63,
     "metadata": {},
     "output_type": "execute_result"
    }
   ],
   "source": [
    "finder.nbest(bigram_measures.pmi, 20)"
   ]
  },
  {
   "cell_type": "code",
   "execution_count": 64,
   "metadata": {},
   "outputs": [],
   "source": [
    "from nltk.collocations import TrigramCollocationFinder\n",
    "from nltk.collocations import TrigramAssocMeasures\n",
    "\n",
    "finder = TrigramCollocationFinder.from_documents(df_com_pp['text'].tolist())"
   ]
  },
  {
   "cell_type": "code",
   "execution_count": 65,
   "metadata": {},
   "outputs": [
    {
     "data": {
      "text/plain": [
       "[('long', 'term', 'effect'),\n",
       " ('get', 'flu', 'shot'),\n",
       " ('bill', 'melinda', 'gate'),\n",
       " ('melinda', 'gate', 'foundation'),\n",
       " ('world', 'health', 'organization'),\n",
       " ('vaccine', 'cause', 'autism'),\n",
       " ('new', 'world', 'order'),\n",
       " ('term', 'side', 'effect'),\n",
       " ('long', 'term', 'side'),\n",
       " ('operation', 'warp', 'speed')]"
      ]
     },
     "execution_count": 65,
     "metadata": {},
     "output_type": "execute_result"
    }
   ],
   "source": [
    "trigram_measures = TrigramAssocMeasures()                                                \n",
    "finder.nbest(trigram_measures.raw_freq, 10)"
   ]
  },
  {
   "cell_type": "code",
   "execution_count": 66,
   "metadata": {},
   "outputs": [
    {
     "data": {
      "text/plain": [
       "[('7h15', 'v43c1n35', 'r3t4rd3d'),\n",
       " ('acht', 'todesfle', 'aufgrund'),\n",
       " ('acountmay', '2020comentcomit', 'exebulshitcoment'),\n",
       " ('adventist', 'unitarian', 'universalist'),\n",
       " ('alonal', 'alurate', 'antihistamine'),\n",
       " ('alors', 'pardonez', 'moi'),\n",
       " ('alurate', 'antihistamine', 'cal'),\n",
       " ('am3', '7h15', 'v43c1n35'),\n",
       " ('arinjay', 'banerje', 'postdoctoral'),\n",
       " ('astringosol', 'campho', 'phenique')]"
      ]
     },
     "execution_count": 66,
     "metadata": {},
     "output_type": "execute_result"
    }
   ],
   "source": [
    "finder.nbest(trigram_measures.pmi, 10)"
   ]
  },
  {
   "cell_type": "markdown",
   "metadata": {},
   "source": [
    "---\n",
    "## Latent Dirichlet Allocation\n",
    "([Source](https://radimrehurek.com/gensim/auto_examples/tutorials/run_lda.html#sphx-glr-auto-examples-tutorials-run-lda-py))"
   ]
  },
  {
   "cell_type": "markdown",
   "metadata": {},
   "source": [
    "We find bigrams in the documents. Bigrams are sets of two adjacent words. Using bigrams we can get phrases like “machine_learning” in our output (spaces are replaced with underscores); without bigrams we would only get “machine” and “learning”.\n",
    "\n",
    "Note that in the code below, we find bigrams and then add them to the original data, because we would like to keep the words “machine” and “learning” as well as the bigram “machine_learning”."
   ]
  },
  {
   "cell_type": "code",
   "execution_count": 70,
   "metadata": {},
   "outputs": [],
   "source": [
    "# Compute bigrams.\n",
    "from gensim.models import Phrases\n",
    "\n",
    "# Add bigrams and trigrams to docs (only ones that appear 20 times or more).\n",
    "bigram = Phrases(df_com_pp['text'].tolist(), min_count=20)\n",
    "for idx in range(len(df_com_pp['text'].tolist())):\n",
    "    for token in bigram[df_com_pp['text'].tolist()[idx]]:\n",
    "        if '_' in token:\n",
    "            # Token is a bigram, add to document.\n",
    "            #docs[idx].append(token)\n",
    "            df_com_pp.iloc[idx, df_temp.columns.get_loc('text')].append(token)"
   ]
  },
  {
   "cell_type": "markdown",
   "metadata": {},
   "source": [
    "* Remove rare words and common words based on their document frequency \n",
    "\n",
    "Remove words that appear in less than 20 documents or in more than 50% of the documents."
   ]
  },
  {
   "cell_type": "code",
   "execution_count": 71,
   "metadata": {},
   "outputs": [],
   "source": [
    "# Remove rare and common tokens.\n",
    "from gensim.corpora import Dictionary\n",
    "\n",
    "# Create a dictionary representation of the documents.\n",
    "dictionary = Dictionary(df_com_pp['text'].tolist())\n",
    "\n",
    "# Filter out words that occur less than 20 documents, or more than 50% of the documents.\n",
    "dictionary.filter_extremes(no_below=20, no_above=0.5)"
   ]
  },
  {
   "cell_type": "markdown",
   "metadata": {},
   "source": [
    "Finally, we transform the documents to a vectorized form. We simply compute the frequency of each word, including the bigrams."
   ]
  },
  {
   "cell_type": "code",
   "execution_count": 72,
   "metadata": {},
   "outputs": [],
   "source": [
    "# Bag-of-words representation of the documents.\n",
    "corpus = [dictionary.doc2bow(doc) for doc in df_com_pp['text'].tolist()]"
   ]
  },
  {
   "cell_type": "markdown",
   "metadata": {},
   "source": [
    "Let’s see how many tokens and documents we have to train on."
   ]
  },
  {
   "cell_type": "code",
   "execution_count": 73,
   "metadata": {},
   "outputs": [
    {
     "name": "stdout",
     "output_type": "stream",
     "text": [
      "Number of unique tokens: 6913\n",
      "Number of documents: 71441\n"
     ]
    }
   ],
   "source": [
    "print('Number of unique tokens: %d' % len(dictionary))\n",
    "print('Number of documents: %d' % len(corpus))"
   ]
  },
  {
   "cell_type": "markdown",
   "metadata": {},
   "source": [
    "### Training\n",
    "\n",
    "First of all, the elephant in the room: how many topics do I need? There is really no easy answer for this, it will depend on both your data and your application. I have used 10 topics here because I wanted to have a few topics that I could interpret and “label”, and because that turned out to give me reasonably good results. You might not need to interpret all your topics, so you could use a large number of topics, for example 100.\n",
    "\n",
    "chunksize controls how many documents are processed at a time in the training algorithm. Increasing chunksize will speed up training, at least as long as the chunk of documents easily fit into memory. I’ve set chunksize = 2000, which is more than the amount of documents, so I process all the data in one go. Chunksize can however influence the quality of the model, as discussed in Hoffman and co-authors [2], but the difference was not substantial in this case.\n",
    "\n",
    "passes controls how often we train the model on the entire corpus. Another word for passes might be “epochs”. iterations is somewhat technical, but essentially it controls how often we repeat a particular loop over each document. It is important to set the number of “passes” and “iterations” high enough.\n",
    "\n",
    "I suggest the following way to choose iterations and passes. First, enable logging (as described in many Gensim tutorials), and set eval_every = 1 in LdaModel. When training the model look for a line in the log that looks something like this:\n",
    "> 2016-06-21 15:40:06,753 - gensim.models.ldamodel - DEBUG - 68/1566 documents converged within 400 iterations\n",
    "\n",
    "If you set passes = 20 you will see this line 20 times. Make sure that by the final passes, most of the documents have converged. So you want to choose both passes and iterations to be high enough for this to happen.\n",
    "\n",
    "We set alpha = 'auto' and eta = 'auto'. Again this is somewhat technical, but essentially we are automatically learning two parameters in the model that we usually would have to specify explicitly."
   ]
  },
  {
   "cell_type": "code",
   "execution_count": 84,
   "metadata": {},
   "outputs": [],
   "source": [
    "import logging\n",
    "logging.basicConfig(format='%(asctime)s : %(levelname)s : %(message)s', level=logging.INFO)"
   ]
  },
  {
   "cell_type": "code",
   "execution_count": 1,
   "metadata": {},
   "outputs": [
    {
     "ename": "NameError",
     "evalue": "name 'dictionary' is not defined",
     "output_type": "error",
     "traceback": [
      "\u001b[1;31m---------------------------------------------------------------------------\u001b[0m",
      "\u001b[1;31mNameError\u001b[0m                                 Traceback (most recent call last)",
      "\u001b[1;32m<ipython-input-1-986c8b5e9fef>\u001b[0m in \u001b[0;36m<module>\u001b[1;34m\u001b[0m\n\u001b[0;32m     10\u001b[0m \u001b[1;33m\u001b[0m\u001b[0m\n\u001b[0;32m     11\u001b[0m \u001b[1;31m# Make a index to word dictionary.\u001b[0m\u001b[1;33m\u001b[0m\u001b[1;33m\u001b[0m\u001b[1;33m\u001b[0m\u001b[0m\n\u001b[1;32m---> 12\u001b[1;33m \u001b[0mtemp\u001b[0m \u001b[1;33m=\u001b[0m \u001b[0mdictionary\u001b[0m\u001b[1;33m[\u001b[0m\u001b[1;36m0\u001b[0m\u001b[1;33m]\u001b[0m  \u001b[1;31m# This is only to \"load\" the dictionary.\u001b[0m\u001b[1;33m\u001b[0m\u001b[1;33m\u001b[0m\u001b[0m\n\u001b[0m\u001b[0;32m     13\u001b[0m \u001b[0mid2word\u001b[0m \u001b[1;33m=\u001b[0m \u001b[0mdictionary\u001b[0m\u001b[1;33m.\u001b[0m\u001b[0mid2token\u001b[0m\u001b[1;33m\u001b[0m\u001b[1;33m\u001b[0m\u001b[0m\n\u001b[0;32m     14\u001b[0m \u001b[1;33m\u001b[0m\u001b[0m\n",
      "\u001b[1;31mNameError\u001b[0m: name 'dictionary' is not defined"
     ]
    }
   ],
   "source": [
    "# Train LDA model.\n",
    "from gensim.models import LdaModel\n",
    "\n",
    "# Set training parameters.\n",
    "num_topics = 10\n",
    "chunksize = 2000\n",
    "passes = 20\n",
    "iterations = 400\n",
    "eval_every = None  # Don't evaluate model perplexity, takes too much time.\n",
    "\n",
    "# Make a index to word dictionary.\n",
    "temp = dictionary[0]  # This is only to \"load\" the dictionary.\n",
    "id2word = dictionary.id2token\n",
    "\n",
    "model = LdaModel(\n",
    "    corpus=corpus,\n",
    "    id2word=id2word,\n",
    "    chunksize=chunksize,\n",
    "    alpha='auto',\n",
    "    eta='auto',\n",
    "    iterations=iterations,\n",
    "    num_topics=num_topics,\n",
    "    passes=passes,\n",
    "    eval_every=eval_every\n",
    ")"
   ]
  },
  {
   "cell_type": "code",
   "execution_count": 77,
   "metadata": {},
   "outputs": [
    {
     "name": "stdout",
     "output_type": "stream",
     "text": [
      "Average topic coherence: -4.8109.\n",
      "[([(0.030418435, 'people'),\n",
      "   (0.02693946, 'vaccine'),\n",
      "   (0.018902114, 'would'),\n",
      "   (0.01847661, 'get'),\n",
      "   (0.014696773, 'like'),\n",
      "   (0.013943623, 'one'),\n",
      "   (0.011784155, 'know'),\n",
      "   (0.011685759, 'think'),\n",
      "   (0.011190909, 'take'),\n",
      "   (0.009956165, 'u'),\n",
      "   (0.009841269, 'make'),\n",
      "   (0.008724624, 'want'),\n",
      "   (0.008577285, 'time'),\n",
      "   (0.00833719, 'even'),\n",
      "   (0.008066242, 'thing'),\n",
      "   (0.007703847, 'dont'),\n",
      "   (0.0074968003, 'go'),\n",
      "   (0.0074620554, 'need'),\n",
      "   (0.00742818, 'say'),\n",
      "   (0.007347669, 'see')],\n",
      "  -2.051992713930376),\n",
      " ([(0.045650396, 'virus'),\n",
      "   (0.04052872, 'covid'),\n",
      "   (0.018898845, 'death'),\n",
      "   (0.01825703, 'immune_system'),\n",
      "   (0.016082533, 'test'),\n",
      "   (0.014353074, 'flu'),\n",
      "   (0.01365765, 'vaccine'),\n",
      "   (0.013345047, 'immune'),\n",
      "   (0.01278575, 'mrna'),\n",
      "   (0.012499983, 'cell'),\n",
      "   (0.011824681, 'dna'),\n",
      "   (0.01069974, 'body'),\n",
      "   (0.010587206, 'system'),\n",
      "   (0.01017955, 'disease'),\n",
      "   (0.009467146, 'protein'),\n",
      "   (0.009463581, 'spike_protein'),\n",
      "   (0.00906111, 'sars_cov'),\n",
      "   (0.008605174, 'pcr_test'),\n",
      "   (0.007125564, 'rna'),\n",
      "   (0.006797931, 'coronavirus')],\n",
      "  -2.974163810620949),\n",
      " ([(0.008589514, 'conspiracy'),\n",
      "   (0.008387831, 'fact'),\n",
      "   (0.008213443, 'read'),\n",
      "   (0.007810786, 'lot'),\n",
      "   (0.0076126913, 'use'),\n",
      "   (0.0067271134, 'also'),\n",
      "   (0.006711235, 'doctor'),\n",
      "   (0.0066839675, 'like'),\n",
      "   (0.006303192, 'find'),\n",
      "   (0.0063014515, 'show'),\n",
      "   (0.0062342165, 'question'),\n",
      "   (0.0061155553, 'science'),\n",
      "   (0.0060854796, 'medical'),\n",
      "   (0.006044425, 'wrong'),\n",
      "   (0.005940309, 'article'),\n",
      "   (0.005564006, 'could'),\n",
      "   (0.0055599962, 'source'),\n",
      "   (0.0055121896, 'actually'),\n",
      "   (0.0052708867, 'sound_like'),\n",
      "   (0.005232023, 'dont_know')],\n",
      "  -3.0053035417625074),\n",
      " ([(0.032051016, 'vaccine'),\n",
      "   (0.021163061, 'study'),\n",
      "   (0.014933568, 'health'),\n",
      "   (0.013270871, 'trial'),\n",
      "   (0.012555311, 'big_pharma'),\n",
      "   (0.012280029, 'polio'),\n",
      "   (0.01134691, 'anti_vax'),\n",
      "   (0.010509248, 'vaccination'),\n",
      "   (0.010402992, 'rate'),\n",
      "   (0.009940538, 'case'),\n",
      "   (0.008614906, 'year'),\n",
      "   (0.008588298, 'vax'),\n",
      "   (0.008382417, 'group'),\n",
      "   (0.007752514, 'public_health'),\n",
      "   (0.007140105, 'fda'),\n",
      "   (0.006963396, 'anti'),\n",
      "   (0.006504624, 'clinical_trial'),\n",
      "   (0.0063404813, 'pharma'),\n",
      "   (0.0062093865, 'adverse_reaction'),\n",
      "   (0.0062009552, 'cdc')],\n",
      "  -3.0926111931611966),\n",
      " ([(0.086773485, 'vaccine'),\n",
      "   (0.03685818, 'side_effect'),\n",
      "   (0.034125376, 'long_term'),\n",
      "   (0.03029912, 'effect'),\n",
      "   (0.02550801, 'long'),\n",
      "   (0.02131903, 'side'),\n",
      "   (0.01791514, 'term'),\n",
      "   (0.016694412, 'vaccinated'),\n",
      "   (0.01515351, 'child'),\n",
      "   (0.014926986, 'safe'),\n",
      "   (0.013430122, 'risk'),\n",
      "   (0.010203501, 'cause'),\n",
      "   (0.0095095355, 'get_sick'),\n",
      "   (0.009257265, 'kid'),\n",
      "   (0.008173541, 'get_vaccinated'),\n",
      "   (0.0077335546, 'autism'),\n",
      "   (0.0075379806, 'tested'),\n",
      "   (0.00724666, 'would_rather'),\n",
      "   (0.0066485037, 'guinea_pig'),\n",
      "   (0.0057942993, 'effective')],\n",
      "  -3.30504441602836),\n",
      " ([(0.02783206, 'im'),\n",
      "   (0.022734743, 'got'),\n",
      "   (0.019915363, 'lol'),\n",
      "   (0.019333068, 'flu_shot'),\n",
      "   (0.018702647, 'make_sense'),\n",
      "   (0.018408965, 'shot'),\n",
      "   (0.015441882, 'year'),\n",
      "   (0.0145862885, 'flu'),\n",
      "   (0.01380002, 'fucking'),\n",
      "   (0.013322323, 'comment'),\n",
      "   (0.01301929, 'youre'),\n",
      "   (0.012888005, 'survival_rate'),\n",
      "   (0.010937231, 'sense'),\n",
      "   (0.01037772, 'sub'),\n",
      "   (0.009810136, 'oh'),\n",
      "   (0.009555534, 'year_ago'),\n",
      "   (0.009251967, 'thanks'),\n",
      "   (0.007967054, 'isnt'),\n",
      "   (0.007963113, 'ive'),\n",
      "   (0.0073682796, 'thinking')],\n",
      "  -3.7633922890332405),\n",
      " ([(0.019703908, 'control'),\n",
      "   (0.017542215, 'government'),\n",
      "   (0.014970985, 'state'),\n",
      "   (0.013948663, 'every_year'),\n",
      "   (0.011926751, 'power'),\n",
      "   (0.01126278, 'business'),\n",
      "   (0.011243241, 'world'),\n",
      "   (0.011241768, 'order'),\n",
      "   (0.011093684, 'plan'),\n",
      "   (0.010383574, 'fake'),\n",
      "   (0.009035039, 'uk'),\n",
      "   (0.008960467, 'population'),\n",
      "   (0.008240807, 'china'),\n",
      "   (0.008093199, 'company'),\n",
      "   (0.007969416, 'law'),\n",
      "   (0.0077529224, 'r'),\n",
      "   (0.0072338977, 'global'),\n",
      "   (0.007182344, 'message'),\n",
      "   (0.006992393, 'new'),\n",
      "   (0.006771905, 'month_ago')],\n",
      "  -3.8312960035454258),\n",
      " ([(0.026754828, 'drug'),\n",
      "   (0.022084795, 'pfizer'),\n",
      "   (0.016194984, 'herd_immunity'),\n",
      "   (0.015720733, 'billion'),\n",
      "   (0.01569437, 'company'),\n",
      "   (0.014758673, 'go_back'),\n",
      "   (0.012781024, 'industry'),\n",
      "   (0.0122219585, 'pharmaceutical_company'),\n",
      "   (0.011137656, 'million'),\n",
      "   (0.011101271, 'rockefeller'),\n",
      "   (0.010047329, 'great_reset'),\n",
      "   (0.009761793, 'pharmaceutical'),\n",
      "   (0.009605477, 'pay'),\n",
      "   (0.008998051, 'dollar'),\n",
      "   (0.008493037, 'every_day'),\n",
      "   (0.008004425, 'pharmaceutical_industry'),\n",
      "   (0.007583475, 'billion_dollar'),\n",
      "   (0.007255364, 'herd'),\n",
      "   (0.0071821986, 'merck'),\n",
      "   (0.0071782474, 'around_world')],\n",
      "  -5.710399863108258),\n",
      " ([(0.09234947, 'bill_gate'),\n",
      "   (0.05531812, 'gate'),\n",
      "   (0.04107709, 'bill'),\n",
      "   (0.031474132, 'let_u'),\n",
      "   (0.02711353, 'look_like'),\n",
      "   (0.024411367, 'year_old'),\n",
      "   (0.02049009, 'seems_like'),\n",
      "   (0.019448861, 'conspiracy_theorist'),\n",
      "   (0.01746844, 'last_year'),\n",
      "   (0.010186773, 'getting_sick'),\n",
      "   (0.009923652, 'high_risk'),\n",
      "   (0.009471304, 'old'),\n",
      "   (0.008000041, 'hundred_thousand'),\n",
      "   (0.007947795, 'front'),\n",
      "   (0.0077940943, 'mandatory_vaccination'),\n",
      "   (0.0077801915, 'stay_home'),\n",
      "   (0.0073205084, 'read_article'),\n",
      "   (0.007253837, 'worried'),\n",
      "   (0.0072340644, 'let_alone'),\n",
      "   (0.0070978804, 'hep_b')],\n",
      "  -8.169557770601717),\n",
      " ([(0.023336468, 'wearing'),\n",
      "   (0.02154196, 'normal'),\n",
      "   (0.019930657, 'good_luck'),\n",
      "   (0.019398753, 'swine_flu'),\n",
      "   (0.017657198, 'pretty_sure'),\n",
      "   (0.015506697, 'either_way'),\n",
      "   (0.015064695, 'submission_statement'),\n",
      "   (0.013702857, 'back_normal'),\n",
      "   (0.009984445, 'ah'),\n",
      "   (0.009534181, 'body'),\n",
      "   (0.00890211, 'test_subject'),\n",
      "   (0.008869835, 'success_rate'),\n",
      "   (0.008693536, 'luck'),\n",
      "   (0.008627995, 'ah_yes'),\n",
      "   (0.00859572, 'body_choice'),\n",
      "   (0.00842997, 'give_fuck'),\n",
      "   (0.007958004, 'previous'),\n",
      "   (0.007895238, 'human_body'),\n",
      "   (0.0077233324, 'swine'),\n",
      "   (0.007350613, 'return')],\n",
      "  -12.205172528468822)]\n"
     ]
    }
   ],
   "source": [
    "top_topics = model.top_topics(corpus) #, num_words=20)\n",
    "\n",
    "# Average topic coherence is the sum of topic coherences of all topics, divided by the number of topics.\n",
    "avg_topic_coherence = sum([t[1] for t in top_topics]) / num_topics\n",
    "print('Average topic coherence: %.4f.' % avg_topic_coherence)\n",
    "\n",
    "from pprint import pprint\n",
    "pprint(top_topics)"
   ]
  },
  {
   "cell_type": "code",
   "execution_count": 367,
   "metadata": {},
   "outputs": [],
   "source": [
    "logging.disable(logging.WARNING)"
   ]
  },
  {
   "cell_type": "code",
   "execution_count": 368,
   "metadata": {},
   "outputs": [
    {
     "name": "stdout",
     "output_type": "stream",
     "text": [
      "Topic #1:\n",
      "0.023*\"wearing\" + 0.022*\"normal\" + 0.020*\"good_luck\" + 0.019*\"swine_flu\" + 0.018*\"pretty_sure\" + 0.016*\"either_way\" + 0.015*\"submission_statement\" + 0.014*\"back_normal\" + 0.010*\"ah\" + 0.010*\"body\" + 0.009*\"test_subject\" + 0.009*\"success_rate\" + 0.009*\"luck\" + 0.009*\"ah_yes\" + 0.009*\"body_choice\" + 0.008*\"give_fuck\" + 0.008*\"previous\" + 0.008*\"human_body\" + 0.008*\"swine\" + 0.007*\"return\"\n",
      "\n",
      "Topic #2:\n",
      "0.027*\"drug\" + 0.022*\"pfizer\" + 0.016*\"herd_immunity\" + 0.016*\"billion\" + 0.016*\"company\" + 0.015*\"go_back\" + 0.013*\"industry\" + 0.012*\"pharmaceutical_company\" + 0.011*\"million\" + 0.011*\"rockefeller\" + 0.010*\"great_reset\" + 0.010*\"pharmaceutical\" + 0.010*\"pay\" + 0.009*\"dollar\" + 0.008*\"every_day\" + 0.008*\"pharmaceutical_industry\" + 0.008*\"billion_dollar\" + 0.007*\"herd\" + 0.007*\"merck\" + 0.007*\"around_world\"\n",
      "\n",
      "Topic #3:\n",
      "0.092*\"bill_gate\" + 0.055*\"gate\" + 0.041*\"bill\" + 0.031*\"let_u\" + 0.027*\"look_like\" + 0.024*\"year_old\" + 0.020*\"seems_like\" + 0.019*\"conspiracy_theorist\" + 0.017*\"last_year\" + 0.010*\"getting_sick\" + 0.010*\"high_risk\" + 0.009*\"old\" + 0.008*\"hundred_thousand\" + 0.008*\"front\" + 0.008*\"mandatory_vaccination\" + 0.008*\"stay_home\" + 0.007*\"read_article\" + 0.007*\"worried\" + 0.007*\"let_alone\" + 0.007*\"hep_b\"\n",
      "\n",
      "Topic #4:\n",
      "0.046*\"virus\" + 0.041*\"covid\" + 0.019*\"death\" + 0.018*\"immune_system\" + 0.016*\"test\" + 0.014*\"flu\" + 0.014*\"vaccine\" + 0.013*\"immune\" + 0.013*\"mrna\" + 0.012*\"cell\" + 0.012*\"dna\" + 0.011*\"body\" + 0.011*\"system\" + 0.010*\"disease\" + 0.009*\"protein\" + 0.009*\"spike_protein\" + 0.009*\"sars_cov\" + 0.009*\"pcr_test\" + 0.007*\"rna\" + 0.007*\"coronavirus\"\n",
      "\n",
      "Topic #5:\n",
      "0.030*\"people\" + 0.027*\"vaccine\" + 0.019*\"would\" + 0.018*\"get\" + 0.015*\"like\" + 0.014*\"one\" + 0.012*\"know\" + 0.012*\"think\" + 0.011*\"take\" + 0.010*\"u\" + 0.010*\"make\" + 0.009*\"want\" + 0.009*\"time\" + 0.008*\"even\" + 0.008*\"thing\" + 0.008*\"dont\" + 0.007*\"go\" + 0.007*\"need\" + 0.007*\"say\" + 0.007*\"see\"\n",
      "\n",
      "Topic #6:\n",
      "0.020*\"control\" + 0.018*\"government\" + 0.015*\"state\" + 0.014*\"every_year\" + 0.012*\"power\" + 0.011*\"business\" + 0.011*\"world\" + 0.011*\"order\" + 0.011*\"plan\" + 0.010*\"fake\" + 0.009*\"uk\" + 0.009*\"population\" + 0.008*\"china\" + 0.008*\"company\" + 0.008*\"law\" + 0.008*\"r\" + 0.007*\"global\" + 0.007*\"message\" + 0.007*\"new\" + 0.007*\"month_ago\"\n",
      "\n",
      "Topic #7:\n",
      "0.032*\"vaccine\" + 0.021*\"study\" + 0.015*\"health\" + 0.013*\"trial\" + 0.013*\"big_pharma\" + 0.012*\"polio\" + 0.011*\"anti_vax\" + 0.011*\"vaccination\" + 0.010*\"rate\" + 0.010*\"case\" + 0.009*\"year\" + 0.009*\"vax\" + 0.008*\"group\" + 0.008*\"public_health\" + 0.007*\"fda\" + 0.007*\"anti\" + 0.007*\"clinical_trial\" + 0.006*\"pharma\" + 0.006*\"adverse_reaction\" + 0.006*\"cdc\"\n",
      "\n",
      "Topic #8:\n",
      "0.028*\"im\" + 0.023*\"got\" + 0.020*\"lol\" + 0.019*\"flu_shot\" + 0.019*\"make_sense\" + 0.018*\"shot\" + 0.015*\"year\" + 0.015*\"flu\" + 0.014*\"fucking\" + 0.013*\"comment\" + 0.013*\"youre\" + 0.013*\"survival_rate\" + 0.011*\"sense\" + 0.010*\"sub\" + 0.010*\"oh\" + 0.010*\"year_ago\" + 0.009*\"thanks\" + 0.008*\"isnt\" + 0.008*\"ive\" + 0.007*\"thinking\"\n",
      "\n",
      "Topic #9:\n",
      "0.087*\"vaccine\" + 0.037*\"side_effect\" + 0.034*\"long_term\" + 0.030*\"effect\" + 0.026*\"long\" + 0.021*\"side\" + 0.018*\"term\" + 0.017*\"vaccinated\" + 0.015*\"child\" + 0.015*\"safe\" + 0.013*\"risk\" + 0.010*\"cause\" + 0.010*\"get_sick\" + 0.009*\"kid\" + 0.008*\"get_vaccinated\" + 0.008*\"autism\" + 0.008*\"tested\" + 0.007*\"would_rather\" + 0.007*\"guinea_pig\" + 0.006*\"effective\"\n",
      "\n",
      "Topic #10:\n",
      "0.009*\"conspiracy\" + 0.008*\"fact\" + 0.008*\"read\" + 0.008*\"lot\" + 0.008*\"use\" + 0.007*\"also\" + 0.007*\"doctor\" + 0.007*\"like\" + 0.006*\"find\" + 0.006*\"show\" + 0.006*\"question\" + 0.006*\"science\" + 0.006*\"medical\" + 0.006*\"wrong\" + 0.006*\"article\" + 0.006*\"could\" + 0.006*\"source\" + 0.006*\"actually\" + 0.005*\"sound_like\" + 0.005*\"dont_know\"\n",
      "\n"
     ]
    }
   ],
   "source": [
    "model_lda = model\n",
    "for topic_id, topic in model_lda.print_topics(num_topics=num_topics, num_words=20):\n",
    "    print('Topic #'+str(topic_id+1)+':')\n",
    "    print(topic)\n",
    "    print()"
   ]
  },
  {
   "cell_type": "code",
   "execution_count": 366,
   "metadata": {},
   "outputs": [
    {
     "name": "stdout",
     "output_type": "stream",
     "text": [
      "Avg. Coherence Score: -4.8108934130260845\n"
     ]
    }
   ],
   "source": [
    "topics_coherences = model_lda.top_topics(corpus, topn=20)\n",
    "avg_coherence_score = np.mean([item[1] for item in topics_coherences])\n",
    "print('Avg. Coherence Score:', avg_coherence_score)"
   ]
  },
  {
   "cell_type": "code",
   "execution_count": 458,
   "metadata": {},
   "outputs": [
    {
     "name": "stdout",
     "output_type": "stream",
     "text": [
      "\n",
      "Coherence Score:  0.4326611448740696\n"
     ]
    }
   ],
   "source": [
    "from gensim.models import CoherenceModel\n",
    "# Compute Coherence Score\n",
    "coherence_model_lda = CoherenceModel(model=model_lda, texts=df_com_pp['text'].tolist(), dictionary=dictionary, coherence='c_v')\n",
    "coherence_lda = coherence_model_lda.get_coherence()\n",
    "print('\\nCoherence Score: ', coherence_lda)"
   ]
  },
  {
   "cell_type": "code",
   "execution_count": 371,
   "metadata": {},
   "outputs": [
    {
     "name": "stdout",
     "output_type": "stream",
     "text": [
      "LDA Topics with Weights\n",
      "==================================================\n",
      "Topic #1:\n",
      "['people', 'vaccine', 'would', 'get', 'like', 'one', 'know', 'think', 'take', 'u', 'make', 'want', 'time', 'even', 'thing', 'dont', 'go', 'need', 'say', 'see']\n",
      "\n",
      "Topic #2:\n",
      "['virus', 'covid', 'death', 'immune_system', 'test', 'flu', 'vaccine', 'immune', 'mrna', 'cell', 'dna', 'body', 'system', 'disease', 'protein', 'spike_protein', 'sars_cov', 'pcr_test', 'rna', 'coronavirus']\n",
      "\n",
      "Topic #3:\n",
      "['conspiracy', 'fact', 'read', 'lot', 'use', 'also', 'doctor', 'like', 'find', 'show', 'question', 'science', 'medical', 'wrong', 'article', 'could', 'source', 'actually', 'sound_like', 'dont_know']\n",
      "\n",
      "Topic #4:\n",
      "['vaccine', 'study', 'health', 'trial', 'big_pharma', 'polio', 'anti_vax', 'vaccination', 'rate', 'case', 'year', 'vax', 'group', 'public_health', 'fda', 'anti', 'clinical_trial', 'pharma', 'adverse_reaction', 'cdc']\n",
      "\n",
      "Topic #5:\n",
      "['vaccine', 'side_effect', 'long_term', 'effect', 'long', 'side', 'term', 'vaccinated', 'child', 'safe', 'risk', 'cause', 'get_sick', 'kid', 'get_vaccinated', 'autism', 'tested', 'would_rather', 'guinea_pig', 'effective']\n",
      "\n",
      "Topic #6:\n",
      "['im', 'got', 'lol', 'flu_shot', 'make_sense', 'shot', 'year', 'flu', 'fucking', 'comment', 'youre', 'survival_rate', 'sense', 'sub', 'oh', 'year_ago', 'thanks', 'isnt', 'ive', 'thinking']\n",
      "\n",
      "Topic #7:\n",
      "['control', 'government', 'state', 'every_year', 'power', 'business', 'world', 'order', 'plan', 'fake', 'uk', 'population', 'china', 'company', 'law', 'r', 'global', 'message', 'new', 'month_ago']\n",
      "\n",
      "Topic #8:\n",
      "['drug', 'pfizer', 'herd_immunity', 'billion', 'company', 'go_back', 'industry', 'pharmaceutical_company', 'million', 'rockefeller', 'great_reset', 'pharmaceutical', 'pay', 'dollar', 'every_day', 'pharmaceutical_industry', 'billion_dollar', 'herd', 'merck', 'around_world']\n",
      "\n",
      "Topic #9:\n",
      "['bill_gate', 'gate', 'bill', 'let_u', 'look_like', 'year_old', 'seems_like', 'conspiracy_theorist', 'last_year', 'getting_sick', 'high_risk', 'old', 'hundred_thousand', 'front', 'mandatory_vaccination', 'stay_home', 'read_article', 'worried', 'let_alone', 'hep_b']\n",
      "\n",
      "Topic #10:\n",
      "['wearing', 'normal', 'good_luck', 'swine_flu', 'pretty_sure', 'either_way', 'submission_statement', 'back_normal', 'ah', 'body', 'test_subject', 'success_rate', 'luck', 'ah_yes', 'body_choice', 'give_fuck', 'previous', 'human_body', 'swine', 'return']\n",
      "\n"
     ]
    }
   ],
   "source": [
    "topics_with_wts = [item[0] for item in topics_coherences]\n",
    "print('LDA Topics without Weights')\n",
    "print('='*50)\n",
    "for idx, topic in enumerate(topics_with_wts):\n",
    "    print('Topic #'+str(idx+1)+':')\n",
    "    print([ (term) for wt, term in topic]) # (term, round(wt, 3))\n",
    "    print()"
   ]
  },
  {
   "cell_type": "code",
   "execution_count": 439,
   "metadata": {},
   "outputs": [
    {
     "data": {
      "text/plain": [
       "[(6, 0.2906104),\n",
       " (6, 0.3606272),\n",
       " (4, 0.39724436),\n",
       " (4, 0.42858043),\n",
       " (4, 0.295783)]"
      ]
     },
     "execution_count": 439,
     "metadata": {},
     "output_type": "execute_result"
    }
   ],
   "source": [
    "tm_results = model_lda[corpus]\n",
    "corpus_topics = [sorted(topics, key=lambda record: -record[1])[0] \n",
    "                     for topics in tm_results]\n",
    "corpus_topics[:5]"
   ]
  },
  {
   "cell_type": "code",
   "execution_count": 374,
   "metadata": {},
   "outputs": [
    {
     "data": {
      "text/html": [
       "<div>\n",
       "<style scoped>\n",
       "    .dataframe tbody tr th:only-of-type {\n",
       "        vertical-align: middle;\n",
       "    }\n",
       "\n",
       "    .dataframe tbody tr th {\n",
       "        vertical-align: top;\n",
       "    }\n",
       "\n",
       "    .dataframe thead th {\n",
       "        text-align: right;\n",
       "    }\n",
       "</style>\n",
       "<table border=\"1\" class=\"dataframe\">\n",
       "  <thead>\n",
       "    <tr style=\"text-align: right;\">\n",
       "      <th></th>\n",
       "      <th>Terms per Topic</th>\n",
       "    </tr>\n",
       "  </thead>\n",
       "  <tbody>\n",
       "    <tr>\n",
       "      <th>Topic1</th>\n",
       "      <td>wearing, normal, good_luck, swine_flu, pretty_sure, either_way, submission_statement, back_normal, ah, body, test_subject, success_rate, luck, ah_yes, body_choice, give_fuck, previous, human_body,...</td>\n",
       "    </tr>\n",
       "    <tr>\n",
       "      <th>Topic2</th>\n",
       "      <td>drug, pfizer, herd_immunity, billion, company, go_back, industry, pharmaceutical_company, million, rockefeller, great_reset, pharmaceutical, pay, dollar, every_day, pharmaceutical_industry, billio...</td>\n",
       "    </tr>\n",
       "    <tr>\n",
       "      <th>Topic3</th>\n",
       "      <td>bill_gate, gate, bill, let_u, look_like, year_old, seems_like, conspiracy_theorist, last_year, getting_sick, high_risk, old, hundred_thousand, front, mandatory_vaccination, stay_home, read_article...</td>\n",
       "    </tr>\n",
       "    <tr>\n",
       "      <th>Topic4</th>\n",
       "      <td>virus, covid, death, immune_system, test, flu, vaccine, immune, mrna, cell, dna, body, system, disease, protein, spike_protein, sars_cov, pcr_test, rna, coronavirus</td>\n",
       "    </tr>\n",
       "    <tr>\n",
       "      <th>Topic5</th>\n",
       "      <td>people, vaccine, would, get, like, one, know, think, take, u, make, want, time, even, thing, dont, go, need, say, see</td>\n",
       "    </tr>\n",
       "    <tr>\n",
       "      <th>Topic6</th>\n",
       "      <td>control, government, state, every_year, power, business, world, order, plan, fake, uk, population, china, company, law, r, global, message, new, month_ago</td>\n",
       "    </tr>\n",
       "    <tr>\n",
       "      <th>Topic7</th>\n",
       "      <td>vaccine, study, health, trial, big_pharma, polio, anti_vax, vaccination, rate, case, year, vax, group, public_health, fda, anti, clinical_trial, pharma, adverse_reaction, cdc</td>\n",
       "    </tr>\n",
       "    <tr>\n",
       "      <th>Topic8</th>\n",
       "      <td>im, got, lol, flu_shot, make_sense, shot, year, flu, fucking, comment, youre, survival_rate, sense, sub, oh, year_ago, thanks, isnt, ive, thinking</td>\n",
       "    </tr>\n",
       "    <tr>\n",
       "      <th>Topic9</th>\n",
       "      <td>vaccine, side_effect, long_term, effect, long, side, term, vaccinated, child, safe, risk, cause, get_sick, kid, get_vaccinated, autism, tested, would_rather, guinea_pig, effective</td>\n",
       "    </tr>\n",
       "    <tr>\n",
       "      <th>Topic10</th>\n",
       "      <td>conspiracy, fact, read, lot, use, also, doctor, like, find, show, question, science, medical, wrong, article, could, source, actually, sound_like, dont_know</td>\n",
       "    </tr>\n",
       "  </tbody>\n",
       "</table>\n",
       "</div>"
      ],
      "text/plain": [
       "                                                                                                                                                                                                 Terms per Topic\n",
       "Topic1   wearing, normal, good_luck, swine_flu, pretty_sure, either_way, submission_statement, back_normal, ah, body, test_subject, success_rate, luck, ah_yes, body_choice, give_fuck, previous, human_body,...\n",
       "Topic2   drug, pfizer, herd_immunity, billion, company, go_back, industry, pharmaceutical_company, million, rockefeller, great_reset, pharmaceutical, pay, dollar, every_day, pharmaceutical_industry, billio...\n",
       "Topic3   bill_gate, gate, bill, let_u, look_like, year_old, seems_like, conspiracy_theorist, last_year, getting_sick, high_risk, old, hundred_thousand, front, mandatory_vaccination, stay_home, read_article...\n",
       "Topic4                                      virus, covid, death, immune_system, test, flu, vaccine, immune, mrna, cell, dna, body, system, disease, protein, spike_protein, sars_cov, pcr_test, rna, coronavirus\n",
       "Topic5                                                                                     people, vaccine, would, get, like, one, know, think, take, u, make, want, time, even, thing, dont, go, need, say, see\n",
       "Topic6                                                control, government, state, every_year, power, business, world, order, plan, fake, uk, population, china, company, law, r, global, message, new, month_ago\n",
       "Topic7                            vaccine, study, health, trial, big_pharma, polio, anti_vax, vaccination, rate, case, year, vax, group, public_health, fda, anti, clinical_trial, pharma, adverse_reaction, cdc\n",
       "Topic8                                                        im, got, lol, flu_shot, make_sense, shot, year, flu, fucking, comment, youre, survival_rate, sense, sub, oh, year_ago, thanks, isnt, ive, thinking\n",
       "Topic9                       vaccine, side_effect, long_term, effect, long, side, term, vaccinated, child, safe, risk, cause, get_sick, kid, get_vaccinated, autism, tested, would_rather, guinea_pig, effective\n",
       "Topic10                                             conspiracy, fact, read, lot, use, also, doctor, like, find, show, question, science, medical, wrong, article, could, source, actually, sound_like, dont_know"
      ]
     },
     "execution_count": 374,
     "metadata": {},
     "output_type": "execute_result"
    }
   ],
   "source": [
    "topics = [[(term, round(wt, 3)) \n",
    "               for term, wt in model_lda.show_topic(n, topn=20)] \n",
    "                   for n in range(0, model_lda.num_topics)]\n",
    "df_topics = pd.DataFrame([', '.join([term for term, wt in topic])  \n",
    "                              for topic in topics],\n",
    "                         columns = ['Terms per Topic'],\n",
    "                         index=['Topic'+str(t) for t in range(1, model_lda.num_topics+1)]\n",
    "                         )\n",
    "df_topics"
   ]
  },
  {
   "cell_type": "code",
   "execution_count": 411,
   "metadata": {},
   "outputs": [],
   "source": [
    "df_corpus_topic = pd.DataFrame()\n",
    "df_corpus_topic['Document'] = range(1, len(df_com_pp['text'].tolist())+1)\n",
    "df_corpus_topic['Dominant Topic'] = [item[0]+1 for item in corpus_topics]\n",
    "df_corpus_topic['Contribution %'] = [round(item[1]*100, 2) for item in corpus_topics]\n",
    "df_corpus_topic['Topic Desc'] = [df_topics.iloc[t[0]]['Terms per Topic'] for t in corpus_topics]\n",
    "df_corpus_topic['Paper'] = df_com_pp['text_og'].tolist()"
   ]
  },
  {
   "cell_type": "markdown",
   "metadata": {},
   "source": [
    "* Dominant Topics Distribution across Corpus"
   ]
  },
  {
   "cell_type": "code",
   "execution_count": 414,
   "metadata": {},
   "outputs": [
    {
     "data": {
      "text/html": [
       "<div>\n",
       "<style scoped>\n",
       "    .dataframe tbody tr th:only-of-type {\n",
       "        vertical-align: middle;\n",
       "    }\n",
       "\n",
       "    .dataframe tbody tr th {\n",
       "        vertical-align: top;\n",
       "    }\n",
       "\n",
       "    .dataframe thead th {\n",
       "        text-align: right;\n",
       "    }\n",
       "</style>\n",
       "<table border=\"1\" class=\"dataframe\">\n",
       "  <thead>\n",
       "    <tr style=\"text-align: right;\">\n",
       "      <th></th>\n",
       "      <th>Document</th>\n",
       "      <th>Dominant Topic</th>\n",
       "      <th>Contribution %</th>\n",
       "      <th>Topic Desc</th>\n",
       "      <th>Paper</th>\n",
       "    </tr>\n",
       "  </thead>\n",
       "  <tbody>\n",
       "    <tr>\n",
       "      <th>0</th>\n",
       "      <td>1</td>\n",
       "      <td>7</td>\n",
       "      <td>29.06000</td>\n",
       "      <td>vaccine, study, health, trial, big_pharma, polio, anti_vax, vaccination, rate, case, year, vax, group, public_health, fda, anti, clinical_trial, pharma, adverse_reaction, cdc</td>\n",
       "      <td>Submission statement: The vaccine industry presents itself as vital and infallible, yet they have consistently covered up evidence of the phenomenon known as \"vaccine injury\". Vaccine manufacturer...</td>\n",
       "    </tr>\n",
       "    <tr>\n",
       "      <th>1</th>\n",
       "      <td>2</td>\n",
       "      <td>7</td>\n",
       "      <td>36.06000</td>\n",
       "      <td>vaccine, study, health, trial, big_pharma, polio, anti_vax, vaccination, rate, case, year, vax, group, public_health, fda, anti, clinical_trial, pharma, adverse_reaction, cdc</td>\n",
       "      <td>Vaccines are a bioweapon.  They turn kids into cash cows for big pharma, and they bear no liability for it whatsoever.  It is disgusting, our politicians, health agencies, and science are bought b...</td>\n",
       "    </tr>\n",
       "  </tbody>\n",
       "</table>\n",
       "</div>"
      ],
      "text/plain": [
       "   Document  Dominant Topic  Contribution %  \\\n",
       "0         1               7        29.06000   \n",
       "1         2               7        36.06000   \n",
       "\n",
       "                                                                                                                                                                       Topic Desc  \\\n",
       "0  vaccine, study, health, trial, big_pharma, polio, anti_vax, vaccination, rate, case, year, vax, group, public_health, fda, anti, clinical_trial, pharma, adverse_reaction, cdc   \n",
       "1  vaccine, study, health, trial, big_pharma, polio, anti_vax, vaccination, rate, case, year, vax, group, public_health, fda, anti, clinical_trial, pharma, adverse_reaction, cdc   \n",
       "\n",
       "                                                                                                                                                                                                     Paper  \n",
       "0  Submission statement: The vaccine industry presents itself as vital and infallible, yet they have consistently covered up evidence of the phenomenon known as \"vaccine injury\". Vaccine manufacturer...  \n",
       "1  Vaccines are a bioweapon.  They turn kids into cash cows for big pharma, and they bear no liability for it whatsoever.  It is disgusting, our politicians, health agencies, and science are bought b...  "
      ]
     },
     "execution_count": 414,
     "metadata": {},
     "output_type": "execute_result"
    }
   ],
   "source": [
    "df_corpus_topic.head(2)"
   ]
  },
  {
   "cell_type": "code",
   "execution_count": 435,
   "metadata": {},
   "outputs": [
    {
     "data": {
      "text/html": [
       "<div>\n",
       "<style scoped>\n",
       "    .dataframe tbody tr th:only-of-type {\n",
       "        vertical-align: middle;\n",
       "    }\n",
       "\n",
       "    .dataframe tbody tr th {\n",
       "        vertical-align: top;\n",
       "    }\n",
       "\n",
       "    .dataframe thead th {\n",
       "        text-align: right;\n",
       "    }\n",
       "</style>\n",
       "<table border=\"1\" class=\"dataframe\">\n",
       "  <thead>\n",
       "    <tr style=\"text-align: right;\">\n",
       "      <th></th>\n",
       "      <th>Dominant Topic</th>\n",
       "      <th>Doc Count</th>\n",
       "      <th>% Total Docs</th>\n",
       "      <th>Topic Desc</th>\n",
       "    </tr>\n",
       "  </thead>\n",
       "  <tbody>\n",
       "    <tr>\n",
       "      <th>0</th>\n",
       "      <td>1</td>\n",
       "      <td>90</td>\n",
       "      <td>0.13000</td>\n",
       "      <td>vaccine, child, side_effect, polio, vaccine_injury, autism, injury, get, effect, take, covid, flu, safe, covid vaccine, vaccination, risk, case, study, disease, health</td>\n",
       "    </tr>\n",
       "    <tr>\n",
       "      <th>1</th>\n",
       "      <td>2</td>\n",
       "      <td>309</td>\n",
       "      <td>0.43000</td>\n",
       "      <td>people, would, like, get, one, know, think, u, even, thing, make, want, say, time, right, take, covid, dont, go, year</td>\n",
       "    </tr>\n",
       "    <tr>\n",
       "      <th>2</th>\n",
       "      <td>3</td>\n",
       "      <td>341</td>\n",
       "      <td>0.48000</td>\n",
       "      <td>npafp_rate, npafp, rate, polio, npafp rate, year, pulse_polio, case_npafp, round, pulse polio, pulse, number, state, child, case, found, five_year, correlation, p, previous_year</td>\n",
       "    </tr>\n",
       "    <tr>\n",
       "      <th>3</th>\n",
       "      <td>4</td>\n",
       "      <td>1912</td>\n",
       "      <td>2.68000</td>\n",
       "      <td>bill_gate, gate, bill, bill_gate bill_gate, bill gate, gate_foundation, world, foundation, u, china, bill_melinda, gate foundation, health, conspiracy_theory, health_organization, epstein, bill_me...</td>\n",
       "    </tr>\n",
       "    <tr>\n",
       "      <th>4</th>\n",
       "      <td>5</td>\n",
       "      <td>61936</td>\n",
       "      <td>86.70000</td>\n",
       "      <td>rockefeller, drug, rockefeller_foundation, john_hopkins, united_state, medical, foundation, drug_trust, rockefeller foundation, medicine, trust, world, state, drug_story, call_tune, china, john, d...</td>\n",
       "    </tr>\n",
       "    <tr>\n",
       "      <th>5</th>\n",
       "      <td>6</td>\n",
       "      <td>296</td>\n",
       "      <td>0.41000</td>\n",
       "      <td>body, activity, may, sensor, user, human, wave, brain, human_body, example, quantum_dot, flow, data, blood, e_g, system, device, movement, one, task</td>\n",
       "    </tr>\n",
       "    <tr>\n",
       "      <th>6</th>\n",
       "      <td>7</td>\n",
       "      <td>1407</td>\n",
       "      <td>1.97000</td>\n",
       "      <td>vaccine, adverse_reaction, control_group, trial, clinical_trial, drug, hepatitis_b, adverse, licensed, day, one, fda, inert_placebo, control, group, safety, placebo, study, reaction, united_state</td>\n",
       "    </tr>\n",
       "    <tr>\n",
       "      <th>7</th>\n",
       "      <td>8</td>\n",
       "      <td>515</td>\n",
       "      <td>0.72000</td>\n",
       "      <td>hpv_vaccine, hpv, cervical_cancer, vaccine, hpv vaccine, cancer, long_term, clinical_trial, cervical, vaccination, cervical cancer, safety, trial, study, year_old, efficacy, hpv_vaccine hpv_vaccin...</td>\n",
       "    </tr>\n",
       "    <tr>\n",
       "      <th>8</th>\n",
       "      <td>9</td>\n",
       "      <td>808</td>\n",
       "      <td>1.13000</td>\n",
       "      <td>virus, immune_system, immune, cell, sars_cov, system, immune system, covid, disease, sars, dna, immune_system immune_system, human, coronavirus, test, new, infection, also, flu, protein</td>\n",
       "    </tr>\n",
       "    <tr>\n",
       "      <th>9</th>\n",
       "      <td>10</td>\n",
       "      <td>3827</td>\n",
       "      <td>5.36000</td>\n",
       "      <td>million, drug, pay_million, pay, merck, settle, case, flu, u, billion, flu_shot, kickback, company, pharmaceutical_company, pfizer, fraud, pay million, pay_billion, lawsuit, pharmaceutical_industry</td>\n",
       "    </tr>\n",
       "  </tbody>\n",
       "</table>\n",
       "</div>"
      ],
      "text/plain": [
       "   Dominant Topic  Doc Count  % Total Docs  \\\n",
       "0               1         90       0.13000   \n",
       "1               2        309       0.43000   \n",
       "2               3        341       0.48000   \n",
       "3               4       1912       2.68000   \n",
       "4               5      61936      86.70000   \n",
       "5               6        296       0.41000   \n",
       "6               7       1407       1.97000   \n",
       "7               8        515       0.72000   \n",
       "8               9        808       1.13000   \n",
       "9              10       3827       5.36000   \n",
       "\n",
       "                                                                                                                                                                                                Topic Desc  \n",
       "0                                  vaccine, child, side_effect, polio, vaccine_injury, autism, injury, get, effect, take, covid, flu, safe, covid vaccine, vaccination, risk, case, study, disease, health  \n",
       "1                                                                                    people, would, like, get, one, know, think, u, even, thing, make, want, say, time, right, take, covid, dont, go, year  \n",
       "2                        npafp_rate, npafp, rate, polio, npafp rate, year, pulse_polio, case_npafp, round, pulse polio, pulse, number, state, child, case, found, five_year, correlation, p, previous_year  \n",
       "3  bill_gate, gate, bill, bill_gate bill_gate, bill gate, gate_foundation, world, foundation, u, china, bill_melinda, gate foundation, health, conspiracy_theory, health_organization, epstein, bill_me...  \n",
       "4  rockefeller, drug, rockefeller_foundation, john_hopkins, united_state, medical, foundation, drug_trust, rockefeller foundation, medicine, trust, world, state, drug_story, call_tune, china, john, d...  \n",
       "5                                                     body, activity, may, sensor, user, human, wave, brain, human_body, example, quantum_dot, flow, data, blood, e_g, system, device, movement, one, task  \n",
       "6      vaccine, adverse_reaction, control_group, trial, clinical_trial, drug, hepatitis_b, adverse, licensed, day, one, fda, inert_placebo, control, group, safety, placebo, study, reaction, united_state  \n",
       "7  hpv_vaccine, hpv, cervical_cancer, vaccine, hpv vaccine, cancer, long_term, clinical_trial, cervical, vaccination, cervical cancer, safety, trial, study, year_old, efficacy, hpv_vaccine hpv_vaccin...  \n",
       "8                virus, immune_system, immune, cell, sars_cov, system, immune system, covid, disease, sars, dna, immune_system immune_system, human, coronavirus, test, new, infection, also, flu, protein  \n",
       "9    million, drug, pay_million, pay, merck, settle, case, flu, u, billion, flu_shot, kickback, company, pharmaceutical_company, pfizer, fraud, pay million, pay_billion, lawsuit, pharmaceutical_industry  "
      ]
     },
     "execution_count": 435,
     "metadata": {},
     "output_type": "execute_result"
    }
   ],
   "source": [
    "#pd.set_option('display.max_colwidth', 200)\n",
    "df_topic_stats = df_corpus_topic.groupby('Dominant Topic').agg(count=('Document','count')).reset_index()\n",
    "df_topic_stats = df_topic_stats.rename(columns={'count':'Doc Count'})\n",
    "df_topic_stats['% Total Docs'] = df_topic_stats['Doc Count'].apply(lambda row: round((row*100) / df_com_pp['text'].size, 2))\n",
    "df_topic_stats['Topic Desc'] = [topics_df.iloc[t]['Terms per Topic'] for t in range(len(df_topic_stats))]\n",
    "df_topic_stats"
   ]
  },
  {
   "cell_type": "markdown",
   "metadata": {},
   "source": [
    "* Dominant Topics in Specific Research Papers"
   ]
  },
  {
   "cell_type": "code",
   "execution_count": 443,
   "metadata": {},
   "outputs": [
    {
     "data": {
      "text/html": [
       "<div>\n",
       "<style scoped>\n",
       "    .dataframe tbody tr th:only-of-type {\n",
       "        vertical-align: middle;\n",
       "    }\n",
       "\n",
       "    .dataframe tbody tr th {\n",
       "        vertical-align: top;\n",
       "    }\n",
       "\n",
       "    .dataframe thead th {\n",
       "        text-align: right;\n",
       "    }\n",
       "</style>\n",
       "<table border=\"1\" class=\"dataframe\">\n",
       "  <thead>\n",
       "    <tr style=\"text-align: right;\">\n",
       "      <th></th>\n",
       "      <th>Document</th>\n",
       "      <th>Dominant Topic</th>\n",
       "      <th>Contribution %</th>\n",
       "      <th>Topic Desc</th>\n",
       "      <th>Paper</th>\n",
       "    </tr>\n",
       "  </thead>\n",
       "  <tbody>\n",
       "    <tr>\n",
       "      <th>8</th>\n",
       "      <td>9</td>\n",
       "      <td>5</td>\n",
       "      <td>41.09000</td>\n",
       "      <td>people, vaccine, would, get, like, one, know, think, take, u, make, want, time, even, thing, dont, go, need, say, see</td>\n",
       "      <td>Well in many ways it makes a lot of sense if you think of their likely agenda here. (we are in a conspiracy sub after all)</td>\n",
       "    </tr>\n",
       "    <tr>\n",
       "      <th>12</th>\n",
       "      <td>13</td>\n",
       "      <td>5</td>\n",
       "      <td>41.04000</td>\n",
       "      <td>people, vaccine, would, get, like, one, know, think, take, u, make, want, time, even, thing, dont, go, need, say, see</td>\n",
       "      <td>I wrote that there is no study. At all. It was never \"prooved to work so long ago\" or anytime since. Vaccination is void of science to defend it, but that's a lovely bibliography.</td>\n",
       "    </tr>\n",
       "    <tr>\n",
       "      <th>16</th>\n",
       "      <td>17</td>\n",
       "      <td>5</td>\n",
       "      <td>35.19000</td>\n",
       "      <td>people, vaccine, would, get, like, one, know, think, take, u, make, want, time, even, thing, dont, go, need, say, see</td>\n",
       "      <td>Unless you believe the anthrax scare was manufactured (because all the anthrax found &amp; tested were from labs in Iowa, not some Isis bs propaganda) and in that case they created a problem then sold...</td>\n",
       "    </tr>\n",
       "    <tr>\n",
       "      <th>391</th>\n",
       "      <td>392</td>\n",
       "      <td>5</td>\n",
       "      <td>33.90000</td>\n",
       "      <td>people, vaccine, would, get, like, one, know, think, take, u, make, want, time, even, thing, dont, go, need, say, see</td>\n",
       "      <td>I hurt the dependa’s feeling 😞</td>\n",
       "    </tr>\n",
       "    <tr>\n",
       "      <th>502</th>\n",
       "      <td>503</td>\n",
       "      <td>5</td>\n",
       "      <td>40.96000</td>\n",
       "      <td>people, vaccine, would, get, like, one, know, think, take, u, make, want, time, even, thing, dont, go, need, say, see</td>\n",
       "      <td>On the inserts of some vaccines it literally says stuff like, “can cause SIDS, autism...” and a bunch of other shit and then you have disinfo people on here acting like one doctor just made it up ...</td>\n",
       "    </tr>\n",
       "    <tr>\n",
       "      <th>680</th>\n",
       "      <td>681</td>\n",
       "      <td>5</td>\n",
       "      <td>40.31000</td>\n",
       "      <td>people, vaccine, would, get, like, one, know, think, take, u, make, want, time, even, thing, dont, go, need, say, see</td>\n",
       "      <td>To think just a couple of years ago I felt alone in my decisions and research. Felt like being attacked everywhere and now, welcome my brothers and sister ❤️ big hugs</td>\n",
       "    </tr>\n",
       "    <tr>\n",
       "      <th>732</th>\n",
       "      <td>733</td>\n",
       "      <td>5</td>\n",
       "      <td>30.34000</td>\n",
       "      <td>people, vaccine, would, get, like, one, know, think, take, u, make, want, time, even, thing, dont, go, need, say, see</td>\n",
       "      <td>&gt;last 30 years There have been 8,087 vaccine-related deaths reported to VAERS, but that number likely represents only one percent of the total number of deaths that have actually occurred and the ...</td>\n",
       "    </tr>\n",
       "    <tr>\n",
       "      <th>905</th>\n",
       "      <td>906</td>\n",
       "      <td>5</td>\n",
       "      <td>46.81000</td>\n",
       "      <td>people, vaccine, would, get, like, one, know, think, take, u, make, want, time, even, thing, dont, go, need, say, see</td>\n",
       "      <td>A simple yes or no would do.</td>\n",
       "    </tr>\n",
       "    <tr>\n",
       "      <th>995</th>\n",
       "      <td>996</td>\n",
       "      <td>5</td>\n",
       "      <td>34.59000</td>\n",
       "      <td>people, vaccine, would, get, like, one, know, think, take, u, make, want, time, even, thing, dont, go, need, say, see</td>\n",
       "      <td>To pump infants with more vaccines</td>\n",
       "    </tr>\n",
       "    <tr>\n",
       "      <th>1621</th>\n",
       "      <td>1622</td>\n",
       "      <td>5</td>\n",
       "      <td>54.50000</td>\n",
       "      <td>people, vaccine, would, get, like, one, know, think, take, u, make, want, time, even, thing, dont, go, need, say, see</td>\n",
       "      <td>The unscrupulous parasitic traitors against mankind that manage us to serve their own interests find the allowance of injectables against the will of the individual to be advantageous. They so own...</td>\n",
       "    </tr>\n",
       "  </tbody>\n",
       "</table>\n",
       "</div>"
      ],
      "text/plain": [
       "      Document  Dominant Topic  Contribution %  \\\n",
       "8            9               5        41.09000   \n",
       "12          13               5        41.04000   \n",
       "16          17               5        35.19000   \n",
       "391        392               5        33.90000   \n",
       "502        503               5        40.96000   \n",
       "680        681               5        40.31000   \n",
       "732        733               5        30.34000   \n",
       "905        906               5        46.81000   \n",
       "995        996               5        34.59000   \n",
       "1621      1622               5        54.50000   \n",
       "\n",
       "                                                                                                                 Topic Desc  \\\n",
       "8     people, vaccine, would, get, like, one, know, think, take, u, make, want, time, even, thing, dont, go, need, say, see   \n",
       "12    people, vaccine, would, get, like, one, know, think, take, u, make, want, time, even, thing, dont, go, need, say, see   \n",
       "16    people, vaccine, would, get, like, one, know, think, take, u, make, want, time, even, thing, dont, go, need, say, see   \n",
       "391   people, vaccine, would, get, like, one, know, think, take, u, make, want, time, even, thing, dont, go, need, say, see   \n",
       "502   people, vaccine, would, get, like, one, know, think, take, u, make, want, time, even, thing, dont, go, need, say, see   \n",
       "680   people, vaccine, would, get, like, one, know, think, take, u, make, want, time, even, thing, dont, go, need, say, see   \n",
       "732   people, vaccine, would, get, like, one, know, think, take, u, make, want, time, even, thing, dont, go, need, say, see   \n",
       "905   people, vaccine, would, get, like, one, know, think, take, u, make, want, time, even, thing, dont, go, need, say, see   \n",
       "995   people, vaccine, would, get, like, one, know, think, take, u, make, want, time, even, thing, dont, go, need, say, see   \n",
       "1621  people, vaccine, would, get, like, one, know, think, take, u, make, want, time, even, thing, dont, go, need, say, see   \n",
       "\n",
       "                                                                                                                                                                                                        Paper  \n",
       "8                                                                                  Well in many ways it makes a lot of sense if you think of their likely agenda here. (we are in a conspiracy sub after all)  \n",
       "12                        I wrote that there is no study. At all. It was never \"prooved to work so long ago\" or anytime since. Vaccination is void of science to defend it, but that's a lovely bibliography.  \n",
       "16    Unless you believe the anthrax scare was manufactured (because all the anthrax found & tested were from labs in Iowa, not some Isis bs propaganda) and in that case they created a problem then sold...  \n",
       "391                                                                                                                                                                            I hurt the dependa’s feeling 😞  \n",
       "502   On the inserts of some vaccines it literally says stuff like, “can cause SIDS, autism...” and a bunch of other shit and then you have disinfo people on here acting like one doctor just made it up ...  \n",
       "680                                    To think just a couple of years ago I felt alone in my decisions and research. Felt like being attacked everywhere and now, welcome my brothers and sister ❤️ big hugs  \n",
       "732   >last 30 years There have been 8,087 vaccine-related deaths reported to VAERS, but that number likely represents only one percent of the total number of deaths that have actually occurred and the ...  \n",
       "905                                                                                                                                                                              A simple yes or no would do.  \n",
       "995                                                                                                                                                                        To pump infants with more vaccines  \n",
       "1621  The unscrupulous parasitic traitors against mankind that manage us to serve their own interests find the allowance of injectables against the will of the individual to be advantageous. They so own...  "
      ]
     },
     "execution_count": 443,
     "metadata": {},
     "output_type": "execute_result"
    }
   ],
   "source": [
    "#pd.set_option('display.max_colwidth', 200)\n",
    "(df_corpus_topic[df_corpus_topic['Document']\n",
    "                 .isin([681, 9, 392, 1622, 17, \n",
    "                        906, 996, 503, 13, 733])])"
   ]
  },
  {
   "cell_type": "markdown",
   "metadata": {},
   "source": [
    "* Relevant Research Papers per Topic based on Dominance"
   ]
  },
  {
   "cell_type": "code",
   "execution_count": 444,
   "metadata": {},
   "outputs": [
    {
     "data": {
      "text/html": [
       "<div>\n",
       "<style scoped>\n",
       "    .dataframe tbody tr th:only-of-type {\n",
       "        vertical-align: middle;\n",
       "    }\n",
       "\n",
       "    .dataframe tbody tr th {\n",
       "        vertical-align: top;\n",
       "    }\n",
       "\n",
       "    .dataframe thead th {\n",
       "        text-align: right;\n",
       "    }\n",
       "</style>\n",
       "<table border=\"1\" class=\"dataframe\">\n",
       "  <thead>\n",
       "    <tr style=\"text-align: right;\">\n",
       "      <th></th>\n",
       "      <th>Document</th>\n",
       "      <th>Dominant Topic</th>\n",
       "      <th>Contribution %</th>\n",
       "      <th>Topic Desc</th>\n",
       "      <th>Paper</th>\n",
       "    </tr>\n",
       "    <tr>\n",
       "      <th>Dominant Topic</th>\n",
       "      <th></th>\n",
       "      <th></th>\n",
       "      <th></th>\n",
       "      <th></th>\n",
       "      <th></th>\n",
       "    </tr>\n",
       "  </thead>\n",
       "  <tbody>\n",
       "    <tr>\n",
       "      <th>1</th>\n",
       "      <td>4985</td>\n",
       "      <td>1</td>\n",
       "      <td>43.49000</td>\n",
       "      <td>wearing, normal, good_luck, swine_flu, pretty_sure, either_way, submission_statement, back_normal, ah, body, test_subject, success_rate, luck, ah_yes, body_choice, give_fuck, previous, human_body,...</td>\n",
       "      <td>Good luck on your journey. It’s a deep rabbit hole.</td>\n",
       "    </tr>\n",
       "    <tr>\n",
       "      <th>2</th>\n",
       "      <td>1530</td>\n",
       "      <td>2</td>\n",
       "      <td>93.43000</td>\n",
       "      <td>drug, pfizer, herd_immunity, billion, company, go_back, industry, pharmaceutical_company, million, rockefeller, great_reset, pharmaceutical, pay, dollar, every_day, pharmaceutical_industry, billio...</td>\n",
       "      <td>These are the companies you trust. Lol \\n\\n\\n&gt;Ah, but what they can’t dispute is the pharmaceutical industry is rife with corruption.\\n&gt;Fraudulent tests. bribery, kickbacks to doctors, blackmail, ...</td>\n",
       "    </tr>\n",
       "    <tr>\n",
       "      <th>3</th>\n",
       "      <td>8456</td>\n",
       "      <td>3</td>\n",
       "      <td>53.88000</td>\n",
       "      <td>bill_gate, gate, bill, let_u, look_like, year_old, seems_like, conspiracy_theorist, last_year, getting_sick, high_risk, old, hundred_thousand, front, mandatory_vaccination, stay_home, read_article...</td>\n",
       "      <td>&gt;Bill Gates is evil  \\n&gt;  \\n&gt;Bill Gates is sterilizing the negro hordes\\n\\nWhich is it?</td>\n",
       "    </tr>\n",
       "    <tr>\n",
       "      <th>4</th>\n",
       "      <td>57730</td>\n",
       "      <td>4</td>\n",
       "      <td>75.46000</td>\n",
       "      <td>virus, covid, death, immune_system, test, flu, vaccine, immune, mrna, cell, dna, body, system, disease, protein, spike_protein, sars_cov, pcr_test, rna, coronavirus</td>\n",
       "      <td>the MRNA vaccine is instructions to build certain proteins, spike proteins. The idea is then these spike proteins present in SARS-CoV2 would be identified more rapidly for destruction by our immun...</td>\n",
       "    </tr>\n",
       "    <tr>\n",
       "      <th>5</th>\n",
       "      <td>1946</td>\n",
       "      <td>5</td>\n",
       "      <td>82.71000</td>\n",
       "      <td>people, vaccine, would, get, like, one, know, think, take, u, make, want, time, even, thing, dont, go, need, say, see</td>\n",
       "      <td>I think It’s the Chinese people leading their society into lifestyle with world war 3 going on behind the scenes. The CCP seems to not want to let their people know that the US is pretty much cutt...</td>\n",
       "    </tr>\n",
       "    <tr>\n",
       "      <th>6</th>\n",
       "      <td>8494</td>\n",
       "      <td>6</td>\n",
       "      <td>71.76000</td>\n",
       "      <td>control, government, state, every_year, power, business, world, order, plan, fake, uk, population, china, company, law, r, global, message, new, month_ago</td>\n",
       "      <td>r/watchredditdie r/watchredditdie r/watchredditdie r/watchredditdie r/watchredditdie r/watchredditdie r/watchredditdie r/watchredditdie r/watchredditdie r/watchredditdie r/watchredditdie r/watchre...</td>\n",
       "    </tr>\n",
       "    <tr>\n",
       "      <th>7</th>\n",
       "      <td>11241</td>\n",
       "      <td>7</td>\n",
       "      <td>91.51000</td>\n",
       "      <td>vaccine, study, health, trial, big_pharma, polio, anti_vax, vaccination, rate, case, year, vax, group, public_health, fda, anti, clinical_trial, pharma, adverse_reaction, cdc</td>\n",
       "      <td>https://www.ncbi.nlm.nih.gov/pmc/articles/PMC6121585/pdf/ijerph-15-01755.pdf\\n\\n\"The last case of polio from India was reported in 2011. That year, the non-polio acute flaccid paralysis (NPAFP) ra...</td>\n",
       "    </tr>\n",
       "    <tr>\n",
       "      <th>8</th>\n",
       "      <td>21187</td>\n",
       "      <td>8</td>\n",
       "      <td>84.67000</td>\n",
       "      <td>im, got, lol, flu_shot, make_sense, shot, year, flu, fucking, comment, youre, survival_rate, sense, sub, oh, year_ago, thanks, isnt, ive, thinking</td>\n",
       "      <td>We've removed this comment per rule 2, as we ask that you address the argument rather than the user when commenting outside of the meta sticky comment. If you remove the section of your comment di...</td>\n",
       "    </tr>\n",
       "    <tr>\n",
       "      <th>9</th>\n",
       "      <td>1760</td>\n",
       "      <td>9</td>\n",
       "      <td>61.12000</td>\n",
       "      <td>vaccine, side_effect, long_term, effect, long, side, term, vaccinated, child, safe, risk, cause, get_sick, kid, get_vaccinated, autism, tested, would_rather, guinea_pig, effective</td>\n",
       "      <td>The National Childhood Vaccine Injury Act of 1986 provides immunity to vaccine manufacturers.  Vaccine injury/deaths have to go through a federal vaccine injury court and if successful, are paid o...</td>\n",
       "    </tr>\n",
       "    <tr>\n",
       "      <th>10</th>\n",
       "      <td>60184</td>\n",
       "      <td>10</td>\n",
       "      <td>69.40000</td>\n",
       "      <td>conspiracy, fact, read, lot, use, also, doctor, like, find, show, question, science, medical, wrong, article, could, source, actually, sound_like, dont_know</td>\n",
       "      <td>Do you even understand what “appeal to authority” means?\\n\\n“An appeal to authority is an argument from the fact that a person judged to be an authority affirms a proposition to the claim that the...</td>\n",
       "    </tr>\n",
       "  </tbody>\n",
       "</table>\n",
       "</div>"
      ],
      "text/plain": [
       "                Document  Dominant Topic  Contribution %  \\\n",
       "Dominant Topic                                             \n",
       "1                   4985               1        43.49000   \n",
       "2                   1530               2        93.43000   \n",
       "3                   8456               3        53.88000   \n",
       "4                  57730               4        75.46000   \n",
       "5                   1946               5        82.71000   \n",
       "6                   8494               6        71.76000   \n",
       "7                  11241               7        91.51000   \n",
       "8                  21187               8        84.67000   \n",
       "9                   1760               9        61.12000   \n",
       "10                 60184              10        69.40000   \n",
       "\n",
       "                                                                                                                                                                                                             Topic Desc  \\\n",
       "Dominant Topic                                                                                                                                                                                                            \n",
       "1               wearing, normal, good_luck, swine_flu, pretty_sure, either_way, submission_statement, back_normal, ah, body, test_subject, success_rate, luck, ah_yes, body_choice, give_fuck, previous, human_body,...   \n",
       "2               drug, pfizer, herd_immunity, billion, company, go_back, industry, pharmaceutical_company, million, rockefeller, great_reset, pharmaceutical, pay, dollar, every_day, pharmaceutical_industry, billio...   \n",
       "3               bill_gate, gate, bill, let_u, look_like, year_old, seems_like, conspiracy_theorist, last_year, getting_sick, high_risk, old, hundred_thousand, front, mandatory_vaccination, stay_home, read_article...   \n",
       "4                                                  virus, covid, death, immune_system, test, flu, vaccine, immune, mrna, cell, dna, body, system, disease, protein, spike_protein, sars_cov, pcr_test, rna, coronavirus   \n",
       "5                                                                                                 people, vaccine, would, get, like, one, know, think, take, u, make, want, time, even, thing, dont, go, need, say, see   \n",
       "6                                                            control, government, state, every_year, power, business, world, order, plan, fake, uk, population, china, company, law, r, global, message, new, month_ago   \n",
       "7                                        vaccine, study, health, trial, big_pharma, polio, anti_vax, vaccination, rate, case, year, vax, group, public_health, fda, anti, clinical_trial, pharma, adverse_reaction, cdc   \n",
       "8                                                                    im, got, lol, flu_shot, make_sense, shot, year, flu, fucking, comment, youre, survival_rate, sense, sub, oh, year_ago, thanks, isnt, ive, thinking   \n",
       "9                                   vaccine, side_effect, long_term, effect, long, side, term, vaccinated, child, safe, risk, cause, get_sick, kid, get_vaccinated, autism, tested, would_rather, guinea_pig, effective   \n",
       "10                                                         conspiracy, fact, read, lot, use, also, doctor, like, find, show, question, science, medical, wrong, article, could, source, actually, sound_like, dont_know   \n",
       "\n",
       "                                                                                                                                                                                                                  Paper  \n",
       "Dominant Topic                                                                                                                                                                                                           \n",
       "1                                                                                                                                                                   Good luck on your journey. It’s a deep rabbit hole.  \n",
       "2               These are the companies you trust. Lol \\n\\n\\n>Ah, but what they can’t dispute is the pharmaceutical industry is rife with corruption.\\n>Fraudulent tests. bribery, kickbacks to doctors, blackmail, ...  \n",
       "3                                                                                                                               >Bill Gates is evil  \\n>  \\n>Bill Gates is sterilizing the negro hordes\\n\\nWhich is it?  \n",
       "4               the MRNA vaccine is instructions to build certain proteins, spike proteins. The idea is then these spike proteins present in SARS-CoV2 would be identified more rapidly for destruction by our immun...  \n",
       "5               I think It’s the Chinese people leading their society into lifestyle with world war 3 going on behind the scenes. The CCP seems to not want to let their people know that the US is pretty much cutt...  \n",
       "6               r/watchredditdie r/watchredditdie r/watchredditdie r/watchredditdie r/watchredditdie r/watchredditdie r/watchredditdie r/watchredditdie r/watchredditdie r/watchredditdie r/watchredditdie r/watchre...  \n",
       "7               https://www.ncbi.nlm.nih.gov/pmc/articles/PMC6121585/pdf/ijerph-15-01755.pdf\\n\\n\"The last case of polio from India was reported in 2011. That year, the non-polio acute flaccid paralysis (NPAFP) ra...  \n",
       "8               We've removed this comment per rule 2, as we ask that you address the argument rather than the user when commenting outside of the meta sticky comment. If you remove the section of your comment di...  \n",
       "9               The National Childhood Vaccine Injury Act of 1986 provides immunity to vaccine manufacturers.  Vaccine injury/deaths have to go through a federal vaccine injury court and if successful, are paid o...  \n",
       "10              Do you even understand what “appeal to authority” means?\\n\\n“An appeal to authority is an argument from the fact that a person judged to be an authority affirms a proposition to the claim that the...  "
      ]
     },
     "execution_count": 444,
     "metadata": {},
     "output_type": "execute_result"
    }
   ],
   "source": [
    "df_corpus_topic.groupby('Dominant Topic').apply(lambda topic_set: (topic_set.sort_values(by=['Contribution %'], \n",
    "                                                                                         ascending=False)\n",
    "                                                                             .iloc[0]))"
   ]
  },
  {
   "cell_type": "code",
   "execution_count": 80,
   "metadata": {},
   "outputs": [],
   "source": [
    "# Save model to disk.\n",
    "filename = data_dir + \"\\\\\" + \"ldamodel\"\n",
    "model.save(filename)"
   ]
  },
  {
   "cell_type": "markdown",
   "metadata": {},
   "source": [
    "* Plots"
   ]
  },
  {
   "cell_type": "code",
   "execution_count": 445,
   "metadata": {},
   "outputs": [],
   "source": [
    "df_com_pp['topic_lda'] = df_corpus_topic['Dominant Topic']"
   ]
  },
  {
   "cell_type": "code",
   "execution_count": 451,
   "metadata": {},
   "outputs": [
    {
     "data": {
      "image/png": "[encoded data removed]",
      "text/plain": [
       "<Figure size 720x720 with 1 Axes>"
      ]
     },
     "metadata": {
      "needs_background": "light"
     },
     "output_type": "display_data"
    }
   ],
   "source": [
    "df_new = df_com_pp.groupby(['topic_lda', 'week']).size().unstack('topic_lda', fill_value = 0)\n",
    "df_new.columns = ['T1', 'T2', 'T3', 'T4', 'T5', 'T6', 'T7', 'T8', 'T9', 'T10']\n",
    "\n",
    "# # normalise by dividing each row by total coms that week\n",
    "# for i in df_com_total.index:\n",
    "#     df_new.loc[i] = df_new.loc[i]/df_com_total.loc[i]\n",
    "\n",
    "# normalise by dividing each column by total coms of that topic\n",
    "df_new = df_new.divide(df_new.sum(axis=0), axis = 'columns')\n",
    "\n",
    "fig, ax = plt.subplots()\n",
    "fig.set_size_inches([10,10])\n",
    "#ax = df_new.plot.bar(y='gates')\n",
    "ax.plot(df_new.index,df_new)\n",
    "ax.set_xticks(df_new.index.tolist())\n",
    "ax.set_xlabel('Week in 2020')\n",
    "ax.set_ylabel('Count of topic-labelled comments on r/conspiracy')\n",
    "ax.set_title('LDA Topic frequency')\n",
    "ax.legend(df_new.columns, loc='upper left')\n",
    "# #plt.grid()\n",
    "plt.show()"
   ]
  },
  {
   "cell_type": "code",
   "execution_count": 454,
   "metadata": {},
   "outputs": [
    {
     "data": {
      "image/png": "[encoded data removed]",
      "text/plain": [
       "<Figure size 1440x720 with 10 Axes>"
      ]
     },
     "metadata": {
      "needs_background": "light"
     },
     "output_type": "display_data"
    }
   ],
   "source": [
    "df_new = df_com_pp.groupby(['topic_lda', 'week']).size().unstack('topic_lda', fill_value = 0)\n",
    "df_new.columns = ['T1', 'T2', 'T3', 'T4', 'T5', 'T6', 'T7', 'T8', 'T9', 'T10']\n",
    "\n",
    "# normalise by dividing each column by max/total weekly count of comments with that topic\n",
    "df_new = df_new.divide(df_new.max(axis=0), axis = 'columns')\n",
    "\n",
    "fig, ax = plt.subplots(2,5, sharex='col', sharey='row')\n",
    "fig.set_size_inches([20,10])\n",
    "idx = 0\n",
    "for i in range(2):\n",
    "    for j in range(5):\n",
    "        ax[i, j].plot(df_new.index,df_new.iloc[:,idx])\n",
    "        ax[i, j].set_title(df_new.columns[idx])\n",
    "        idx+=1\n",
    "fig.text(0.5, 0.95, 'LDA Topic Frequency', ha='center', fontsize=24)\n",
    "fig.text(0.5, 0.05, 'Week in 2020', ha='center', fontsize=18)\n",
    "fig.text(0.08, 0.5, 'Count of topic-labelled comments on r/conspiracy', va='center', rotation='vertical', fontsize=18)\n",
    "plt.show()"
   ]
  },
  {
   "cell_type": "markdown",
   "metadata": {},
   "source": [
    "---\n",
    "## Non-negative Matrix Factorisation"
   ]
  },
  {
   "cell_type": "markdown",
   "metadata": {},
   "source": [
    "Topic Models with Non-Negative Matrix Factorization (NMF)\n",
    "\n",
    "([Source](https://github.com/Apress/text-analytics-w-python-2e/blob/master/Ch06%20-%20Text%20Summarization%20and%20Topic%20Models/Ch06c%20-%20Topic%20Modeling%20with%20scikit-learn.ipynb)) - Sarkar, Text Analytics in Python\n",
    "\n",
    "Alternate - NMF using sklearn ([Source](https://gist.github.com/ravishchawla/3f346318b85fa07196b761443b123bba))"
   ]
  },
  {
   "cell_type": "code",
   "execution_count": 333,
   "metadata": {},
   "outputs": [
    {
     "name": "stdout",
     "output_type": "stream",
     "text": [
      "Total Vocabulary Size: 11422\n"
     ]
    }
   ],
   "source": [
    "from sklearn.feature_extraction.text import CountVectorizer\n",
    "\n",
    "cv = CountVectorizer(min_df=20, max_df=0.6, ngram_range=(1,2),\n",
    "                     token_pattern=None, tokenizer=lambda doc: doc,\n",
    "                     preprocessor=lambda doc: doc)\n",
    "cv_features = cv.fit_transform(df_com_pp['text']) #Learn the vocabulary dictionary (fit) and return document-term matrix (transform)\n",
    "cv_features.shape\n",
    "vocabulary = np.array(cv.get_feature_names())\n",
    "print('Total Vocabulary Size:', len(vocabulary))"
   ]
  },
  {
   "cell_type": "markdown",
   "metadata": {},
   "source": [
    "* tf-Idf transformation"
   ]
  },
  {
   "cell_type": "code",
   "execution_count": 334,
   "metadata": {},
   "outputs": [],
   "source": [
    "# transformer = TfidfTransformer(smooth_idf=False);\n",
    "# cv_features = transformer.fit_transform(cv_features);\n",
    "\n",
    "# from sklearn.preprocessing import normalize;\n",
    "# cv_features = normalize(cv_features, norm='l1', axis=1)"
   ]
  },
  {
   "cell_type": "code",
   "execution_count": 567,
   "metadata": {},
   "outputs": [
    {
     "name": "stderr",
     "output_type": "stream",
     "text": [
      "C:\\Users\\Maheep\\Anaconda3\\lib\\site-packages\\sklearn\\decomposition\\_nmf.py:315: FutureWarning: The 'init' value, when 'init=None' and n_components is less than n_samples and n_features, will be changed from 'nndsvd' to 'nndsvda' in 1.1 (renaming of 0.26).\n",
      "  \"'nndsvda' in 1.1 (renaming of 0.26).\"), FutureWarning)\n"
     ]
    },
    {
     "name": "stdout",
     "output_type": "stream",
     "text": [
      "Wall time: 1min 42s\n"
     ]
    }
   ],
   "source": [
    "%%time\n",
    "from sklearn.decomposition import NMF\n",
    "\n",
    "nmf_model = NMF(n_components=num_topics, solver='cd', max_iter=2000,\n",
    "                random_state=42, alpha=.1, l1_ratio=.85)\n",
    "document_topics = nmf_model.fit_transform(cv_features)"
   ]
  },
  {
   "cell_type": "code",
   "execution_count": 574,
   "metadata": {},
   "outputs": [
    {
     "data": {
      "text/html": [
       "<div>\n",
       "<style scoped>\n",
       "    .dataframe tbody tr th:only-of-type {\n",
       "        vertical-align: middle;\n",
       "    }\n",
       "\n",
       "    .dataframe tbody tr th {\n",
       "        vertical-align: top;\n",
       "    }\n",
       "\n",
       "    .dataframe thead th {\n",
       "        text-align: right;\n",
       "    }\n",
       "</style>\n",
       "<table border=\"1\" class=\"dataframe\">\n",
       "  <thead>\n",
       "    <tr style=\"text-align: right;\">\n",
       "      <th></th>\n",
       "      <th>Terms per Topic</th>\n",
       "    </tr>\n",
       "  </thead>\n",
       "  <tbody>\n",
       "    <tr>\n",
       "      <th>Topic1</th>\n",
       "      <td>vaccine, child, side_effect, polio, vaccine_injury, autism, injury, get, effect, take, flu, covid, safe, covid vaccine, vaccination, risk, case, study, disease, health</td>\n",
       "    </tr>\n",
       "    <tr>\n",
       "      <th>Topic2</th>\n",
       "      <td>people, would, like, get, one, know, think, u, even, make, thing, want, say, time, right, take, covid, dont, go, year</td>\n",
       "    </tr>\n",
       "    <tr>\n",
       "      <th>Topic3</th>\n",
       "      <td>npafp_rate, npafp, rate, polio, npafp rate, year, pulse_polio, case_npafp, round, pulse polio, pulse, number, state, child, case, found, five_year, correlation, p, previous_year</td>\n",
       "    </tr>\n",
       "    <tr>\n",
       "      <th>Topic4</th>\n",
       "      <td>bill_gate, gate, bill, bill_gate bill_gate, bill gate, gate_foundation, world, foundation, u, china, bill_melinda, gate foundation, health, conspiracy_theory, health_organization, epstein, bill_me...</td>\n",
       "    </tr>\n",
       "    <tr>\n",
       "      <th>Topic5</th>\n",
       "      <td>rockefeller, drug, rockefeller_foundation, john_hopkins, united_state, medical, foundation, drug_trust, rockefeller foundation, medicine, trust, world, state, drug_story, call_tune, china, john, d...</td>\n",
       "    </tr>\n",
       "    <tr>\n",
       "      <th>Topic6</th>\n",
       "      <td>body, activity, may, sensor, user, human, wave, brain, human_body, example, quantum_dot, flow, data, blood, e_g, system, device, movement, one, task</td>\n",
       "    </tr>\n",
       "    <tr>\n",
       "      <th>Topic7</th>\n",
       "      <td>vaccine, adverse_reaction, control_group, trial, clinical_trial, drug, hepatitis_b, adverse, licensed, day, one, fda, inert_placebo, control, group, safety, placebo, study, reaction, united_state</td>\n",
       "    </tr>\n",
       "    <tr>\n",
       "      <th>Topic8</th>\n",
       "      <td>hpv_vaccine, hpv, cervical_cancer, vaccine, hpv vaccine, cancer, long_term, clinical_trial, cervical, vaccination, cervical cancer, safety, trial, study, year_old, efficacy, hpv_vaccine hpv_vaccin...</td>\n",
       "    </tr>\n",
       "    <tr>\n",
       "      <th>Topic9</th>\n",
       "      <td>virus, immune_system, immune, cell, sars_cov, system, immune system, covid, disease, sars, dna, immune_system immune_system, human, coronavirus, test, new, infection, also, flu, protein</td>\n",
       "    </tr>\n",
       "    <tr>\n",
       "      <th>Topic10</th>\n",
       "      <td>million, drug, pay_million, pay, merck, settle, case, flu, u, billion, flu_shot, kickback, company, pharmaceutical_company, pfizer, fraud, pay million, pay_billion, lawsuit, pharmaceutical_industry</td>\n",
       "    </tr>\n",
       "  </tbody>\n",
       "</table>\n",
       "</div>"
      ],
      "text/plain": [
       "                                                                                                                                                                                                 Terms per Topic\n",
       "Topic1                                   vaccine, child, side_effect, polio, vaccine_injury, autism, injury, get, effect, take, flu, covid, safe, covid vaccine, vaccination, risk, case, study, disease, health\n",
       "Topic2                                                                                     people, would, like, get, one, know, think, u, even, make, thing, want, say, time, right, take, covid, dont, go, year\n",
       "Topic3                         npafp_rate, npafp, rate, polio, npafp rate, year, pulse_polio, case_npafp, round, pulse polio, pulse, number, state, child, case, found, five_year, correlation, p, previous_year\n",
       "Topic4   bill_gate, gate, bill, bill_gate bill_gate, bill gate, gate_foundation, world, foundation, u, china, bill_melinda, gate foundation, health, conspiracy_theory, health_organization, epstein, bill_me...\n",
       "Topic5   rockefeller, drug, rockefeller_foundation, john_hopkins, united_state, medical, foundation, drug_trust, rockefeller foundation, medicine, trust, world, state, drug_story, call_tune, china, john, d...\n",
       "Topic6                                                      body, activity, may, sensor, user, human, wave, brain, human_body, example, quantum_dot, flow, data, blood, e_g, system, device, movement, one, task\n",
       "Topic7       vaccine, adverse_reaction, control_group, trial, clinical_trial, drug, hepatitis_b, adverse, licensed, day, one, fda, inert_placebo, control, group, safety, placebo, study, reaction, united_state\n",
       "Topic8   hpv_vaccine, hpv, cervical_cancer, vaccine, hpv vaccine, cancer, long_term, clinical_trial, cervical, vaccination, cervical cancer, safety, trial, study, year_old, efficacy, hpv_vaccine hpv_vaccin...\n",
       "Topic9                 virus, immune_system, immune, cell, sars_cov, system, immune system, covid, disease, sars, dna, immune_system immune_system, human, coronavirus, test, new, infection, also, flu, protein\n",
       "Topic10    million, drug, pay_million, pay, merck, settle, case, flu, u, billion, flu_shot, kickback, company, pharmaceutical_company, pfizer, fraud, pay million, pay_billion, lawsuit, pharmaceutical_industry"
      ]
     },
     "execution_count": 574,
     "metadata": {},
     "output_type": "execute_result"
    }
   ],
   "source": [
    "top_terms=20\n",
    "topic_terms = nmf_model.components_\n",
    "topic_key_term_idxs = np.argsort(-np.absolute(topic_terms), axis=1)[:, :top_terms]\n",
    "topic_keyterms = vocabulary[topic_key_term_idxs]\n",
    "topics = [', '.join(topic) for topic in topic_keyterms]\n",
    "#pd.set_option('display.max_colwidth', None)\n",
    "topics_df = pd.DataFrame(topics,\n",
    "                         columns = ['Terms per Topic'],\n",
    "                         index=['Topic'+str(t) for t in range(1, num_topics+1)])\n",
    "topics_df"
   ]
  },
  {
   "cell_type": "markdown",
   "metadata": {},
   "source": [
    "* Viewing topic dominance per document using the document-topic matrix"
   ]
  },
  {
   "cell_type": "code",
   "execution_count": 569,
   "metadata": {},
   "outputs": [
    {
     "data": {
      "text/html": [
       "<div>\n",
       "<style scoped>\n",
       "    .dataframe tbody tr th:only-of-type {\n",
       "        vertical-align: middle;\n",
       "    }\n",
       "\n",
       "    .dataframe tbody tr th {\n",
       "        vertical-align: top;\n",
       "    }\n",
       "\n",
       "    .dataframe thead th {\n",
       "        text-align: right;\n",
       "    }\n",
       "</style>\n",
       "<table border=\"1\" class=\"dataframe\">\n",
       "  <thead>\n",
       "    <tr style=\"text-align: right;\">\n",
       "      <th></th>\n",
       "      <th>T1</th>\n",
       "      <th>T2</th>\n",
       "      <th>T3</th>\n",
       "      <th>T4</th>\n",
       "      <th>T5</th>\n",
       "      <th>T6</th>\n",
       "      <th>T7</th>\n",
       "      <th>T8</th>\n",
       "      <th>T9</th>\n",
       "      <th>T10</th>\n",
       "    </tr>\n",
       "  </thead>\n",
       "  <tbody>\n",
       "    <tr>\n",
       "      <th>0</th>\n",
       "      <td>0.112</td>\n",
       "      <td>0.000</td>\n",
       "      <td>0.000</td>\n",
       "      <td>0.000</td>\n",
       "      <td>0.005</td>\n",
       "      <td>0.014</td>\n",
       "      <td>0.000</td>\n",
       "      <td>0.000</td>\n",
       "      <td>0.000</td>\n",
       "      <td>0.028</td>\n",
       "    </tr>\n",
       "    <tr>\n",
       "      <th>1</th>\n",
       "      <td>0.030</td>\n",
       "      <td>0.016</td>\n",
       "      <td>0.000</td>\n",
       "      <td>0.002</td>\n",
       "      <td>0.024</td>\n",
       "      <td>0.004</td>\n",
       "      <td>0.000</td>\n",
       "      <td>0.000</td>\n",
       "      <td>0.000</td>\n",
       "      <td>0.028</td>\n",
       "    </tr>\n",
       "    <tr>\n",
       "      <th>2</th>\n",
       "      <td>0.000</td>\n",
       "      <td>0.009</td>\n",
       "      <td>0.000</td>\n",
       "      <td>0.000</td>\n",
       "      <td>0.000</td>\n",
       "      <td>0.000</td>\n",
       "      <td>0.000</td>\n",
       "      <td>0.000</td>\n",
       "      <td>0.000</td>\n",
       "      <td>0.000</td>\n",
       "    </tr>\n",
       "    <tr>\n",
       "      <th>3</th>\n",
       "      <td>0.000</td>\n",
       "      <td>0.003</td>\n",
       "      <td>0.000</td>\n",
       "      <td>0.000</td>\n",
       "      <td>0.000</td>\n",
       "      <td>0.000</td>\n",
       "      <td>0.000</td>\n",
       "      <td>0.002</td>\n",
       "      <td>0.000</td>\n",
       "      <td>0.000</td>\n",
       "    </tr>\n",
       "    <tr>\n",
       "      <th>4</th>\n",
       "      <td>0.027</td>\n",
       "      <td>0.000</td>\n",
       "      <td>0.000</td>\n",
       "      <td>0.000</td>\n",
       "      <td>0.000</td>\n",
       "      <td>0.018</td>\n",
       "      <td>0.000</td>\n",
       "      <td>0.000</td>\n",
       "      <td>0.011</td>\n",
       "      <td>0.000</td>\n",
       "    </tr>\n",
       "  </tbody>\n",
       "</table>\n",
       "</div>"
      ],
      "text/plain": [
       "     T1    T2    T3    T4    T5    T6    T7    T8    T9   T10\n",
       "0 0.112 0.000 0.000 0.000 0.005 0.014 0.000 0.000 0.000 0.028\n",
       "1 0.030 0.016 0.000 0.002 0.024 0.004 0.000 0.000 0.000 0.028\n",
       "2 0.000 0.009 0.000 0.000 0.000 0.000 0.000 0.000 0.000 0.000\n",
       "3 0.000 0.003 0.000 0.000 0.000 0.000 0.000 0.002 0.000 0.000\n",
       "4 0.027 0.000 0.000 0.000 0.000 0.018 0.000 0.000 0.011 0.000"
      ]
     },
     "execution_count": 569,
     "metadata": {},
     "output_type": "execute_result"
    }
   ],
   "source": [
    "pd.options.display.float_format = '{:,.3f}'.format\n",
    "dt_df = pd.DataFrame(document_topics, \n",
    "                     columns=['T'+str(i) for i in range(1, num_topics+1)])\n",
    "dt_df.head(5)"
   ]
  },
  {
   "cell_type": "markdown",
   "metadata": {},
   "source": [
    "* determine the most relevant comment for each topic based on the topic dominance scores "
   ]
  },
  {
   "cell_type": "code",
   "execution_count": 570,
   "metadata": {
    "scrolled": true
   },
   "outputs": [
    {
     "data": {
      "text/html": [
       "<div>\n",
       "<style scoped>\n",
       "    .dataframe tbody tr th:only-of-type {\n",
       "        vertical-align: middle;\n",
       "    }\n",
       "\n",
       "    .dataframe tbody tr th {\n",
       "        vertical-align: top;\n",
       "    }\n",
       "\n",
       "    .dataframe thead th {\n",
       "        text-align: right;\n",
       "    }\n",
       "</style>\n",
       "<table border=\"1\" class=\"dataframe\">\n",
       "  <thead>\n",
       "    <tr style=\"text-align: right;\">\n",
       "      <th></th>\n",
       "      <th>Dominant Topic</th>\n",
       "      <th>Max Score</th>\n",
       "      <th>Paper Num</th>\n",
       "      <th>Topic</th>\n",
       "      <th>Paper Name</th>\n",
       "    </tr>\n",
       "  </thead>\n",
       "  <tbody>\n",
       "    <tr>\n",
       "      <th>Topic1</th>\n",
       "      <td>T1</td>\n",
       "      <td>1.10608</td>\n",
       "      <td>5061</td>\n",
       "      <td>vaccine, child, side_effect, polio, vaccine_injury, autism, injury, get, effect, take, flu, covid, safe, covid vaccine, vaccination, risk, case, study, disease, health</td>\n",
       "      <td>What I think is:\\n(Regarding initial discussion with other user)\\nIf you are just trying to bring a potential danger to light, I agree with you. If you are trying to say all vaccines will do this,...</td>\n",
       "    </tr>\n",
       "    <tr>\n",
       "      <th>Topic2</th>\n",
       "      <td>T2</td>\n",
       "      <td>0.60757</td>\n",
       "      <td>6092</td>\n",
       "      <td>people, would, like, get, one, know, think, u, even, make, thing, want, say, time, right, take, covid, dont, go, year</td>\n",
       "      <td>Don’t get the vaccine.</td>\n",
       "    </tr>\n",
       "    <tr>\n",
       "      <th>Topic3</th>\n",
       "      <td>T3</td>\n",
       "      <td>3.49776</td>\n",
       "      <td>12032</td>\n",
       "      <td>npafp_rate, npafp, rate, polio, npafp rate, year, pulse_polio, case_npafp, round, pulse polio, pulse, number, state, child, case, found, five_year, correlation, p, previous_year</td>\n",
       "      <td>Weird analogy since the majority of people will need to call a plumber more than once in their life. If you want to use that analogy though, consider that there are instead 131 identified pipes, a...</td>\n",
       "    </tr>\n",
       "    <tr>\n",
       "      <th>Topic4</th>\n",
       "      <td>T4</td>\n",
       "      <td>1.19678</td>\n",
       "      <td>3840</td>\n",
       "      <td>bill_gate, gate, bill, bill_gate bill_gate, bill gate, gate_foundation, world, foundation, u, china, bill_melinda, gate foundation, health, conspiracy_theory, health_organization, epstein, bill_me...</td>\n",
       "      <td>That's something to think about. It's far enough in the future that I'm sure there might be ways to get out of it but idk. I feel like people who don't get this vaccine will have a huge target ove...</td>\n",
       "    </tr>\n",
       "    <tr>\n",
       "      <th>Topic5</th>\n",
       "      <td>T5</td>\n",
       "      <td>3.61466</td>\n",
       "      <td>26596</td>\n",
       "      <td>rockefeller, drug, rockefeller_foundation, john_hopkins, united_state, medical, foundation, drug_trust, rockefeller foundation, medicine, trust, world, state, drug_story, call_tune, china, john, d...</td>\n",
       "      <td>Mercury in any form I don't want in my body</td>\n",
       "    </tr>\n",
       "    <tr>\n",
       "      <th>Topic6</th>\n",
       "      <td>T6</td>\n",
       "      <td>4.00991</td>\n",
       "      <td>18227</td>\n",
       "      <td>body, activity, may, sensor, user, human, wave, brain, human_body, example, quantum_dot, flow, data, blood, e_g, system, device, movement, one, task</td>\n",
       "      <td>Do you have proof its safe. I like to see an opposite opinion with as many references.</td>\n",
       "    </tr>\n",
       "    <tr>\n",
       "      <th>Topic7</th>\n",
       "      <td>T7</td>\n",
       "      <td>3.36726</td>\n",
       "      <td>35069</td>\n",
       "      <td>vaccine, adverse_reaction, control_group, trial, clinical_trial, drug, hepatitis_b, adverse, licensed, day, one, fda, inert_placebo, control, group, safety, placebo, study, reaction, united_state</td>\n",
       "      <td>I'm not going to quote the press releases for you. If you don't believe me, read them yourself.</td>\n",
       "    </tr>\n",
       "    <tr>\n",
       "      <th>Topic8</th>\n",
       "      <td>T8</td>\n",
       "      <td>6.00537</td>\n",
       "      <td>1793</td>\n",
       "      <td>hpv_vaccine, hpv, cervical_cancer, vaccine, hpv vaccine, cancer, long_term, clinical_trial, cervical, vaccination, cervical cancer, safety, trial, study, year_old, efficacy, hpv_vaccine hpv_vaccin...</td>\n",
       "      <td>Good thing this attitude isn't widespread or we'd be fucked as a society.</td>\n",
       "    </tr>\n",
       "    <tr>\n",
       "      <th>Topic9</th>\n",
       "      <td>T9</td>\n",
       "      <td>1.91031</td>\n",
       "      <td>51784</td>\n",
       "      <td>virus, immune_system, immune, cell, sars_cov, system, immune system, covid, disease, sars, dna, immune_system immune_system, human, coronavirus, test, new, infection, also, flu, protein</td>\n",
       "      <td>SS:\\n\\nThe United Nations has been forced to admit that a major international vaccine initiative is actually causing the outbreak of the very disease it was supposed to wipe-out.\\n\\nWhile internat...</td>\n",
       "    </tr>\n",
       "    <tr>\n",
       "      <th>Topic10</th>\n",
       "      <td>T10</td>\n",
       "      <td>3.94644</td>\n",
       "      <td>30052</td>\n",
       "      <td>million, drug, pay_million, pay, merck, settle, case, flu, u, billion, flu_shot, kickback, company, pharmaceutical_company, pfizer, fraud, pay million, pay_billion, lawsuit, pharmaceutical_industry</td>\n",
       "      <td>He claims it’s the Mark of Beast, like the gates conspiracy. However I wonder if he with his stature and money, if he knows something..</td>\n",
       "    </tr>\n",
       "  </tbody>\n",
       "</table>\n",
       "</div>"
      ],
      "text/plain": [
       "        Dominant Topic  Max Score  Paper Num  \\\n",
       "Topic1              T1    1.10608       5061   \n",
       "Topic2              T2    0.60757       6092   \n",
       "Topic3              T3    3.49776      12032   \n",
       "Topic4              T4    1.19678       3840   \n",
       "Topic5              T5    3.61466      26596   \n",
       "Topic6              T6    4.00991      18227   \n",
       "Topic7              T7    3.36726      35069   \n",
       "Topic8              T8    6.00537       1793   \n",
       "Topic9              T9    1.91031      51784   \n",
       "Topic10            T10    3.94644      30052   \n",
       "\n",
       "                                                                                                                                                                                                           Topic  \\\n",
       "Topic1                                   vaccine, child, side_effect, polio, vaccine_injury, autism, injury, get, effect, take, flu, covid, safe, covid vaccine, vaccination, risk, case, study, disease, health   \n",
       "Topic2                                                                                     people, would, like, get, one, know, think, u, even, make, thing, want, say, time, right, take, covid, dont, go, year   \n",
       "Topic3                         npafp_rate, npafp, rate, polio, npafp rate, year, pulse_polio, case_npafp, round, pulse polio, pulse, number, state, child, case, found, five_year, correlation, p, previous_year   \n",
       "Topic4   bill_gate, gate, bill, bill_gate bill_gate, bill gate, gate_foundation, world, foundation, u, china, bill_melinda, gate foundation, health, conspiracy_theory, health_organization, epstein, bill_me...   \n",
       "Topic5   rockefeller, drug, rockefeller_foundation, john_hopkins, united_state, medical, foundation, drug_trust, rockefeller foundation, medicine, trust, world, state, drug_story, call_tune, china, john, d...   \n",
       "Topic6                                                      body, activity, may, sensor, user, human, wave, brain, human_body, example, quantum_dot, flow, data, blood, e_g, system, device, movement, one, task   \n",
       "Topic7       vaccine, adverse_reaction, control_group, trial, clinical_trial, drug, hepatitis_b, adverse, licensed, day, one, fda, inert_placebo, control, group, safety, placebo, study, reaction, united_state   \n",
       "Topic8   hpv_vaccine, hpv, cervical_cancer, vaccine, hpv vaccine, cancer, long_term, clinical_trial, cervical, vaccination, cervical cancer, safety, trial, study, year_old, efficacy, hpv_vaccine hpv_vaccin...   \n",
       "Topic9                 virus, immune_system, immune, cell, sars_cov, system, immune system, covid, disease, sars, dna, immune_system immune_system, human, coronavirus, test, new, infection, also, flu, protein   \n",
       "Topic10    million, drug, pay_million, pay, merck, settle, case, flu, u, billion, flu_shot, kickback, company, pharmaceutical_company, pfizer, fraud, pay million, pay_billion, lawsuit, pharmaceutical_industry   \n",
       "\n",
       "                                                                                                                                                                                                      Paper Name  \n",
       "Topic1   What I think is:\\n(Regarding initial discussion with other user)\\nIf you are just trying to bring a potential danger to light, I agree with you. If you are trying to say all vaccines will do this,...  \n",
       "Topic2                                                                                                                                                                                    Don’t get the vaccine.  \n",
       "Topic3   Weird analogy since the majority of people will need to call a plumber more than once in their life. If you want to use that analogy though, consider that there are instead 131 identified pipes, a...  \n",
       "Topic4   That's something to think about. It's far enough in the future that I'm sure there might be ways to get out of it but idk. I feel like people who don't get this vaccine will have a huge target ove...  \n",
       "Topic5                                                                                                                                                               Mercury in any form I don't want in my body  \n",
       "Topic6                                                                                                                    Do you have proof its safe. I like to see an opposite opinion with as many references.  \n",
       "Topic7                                                                                                           I'm not going to quote the press releases for you. If you don't believe me, read them yourself.  \n",
       "Topic8                                                                                                                                 Good thing this attitude isn't widespread or we'd be fucked as a society.  \n",
       "Topic9   SS:\\n\\nThe United Nations has been forced to admit that a major international vaccine initiative is actually causing the outbreak of the very disease it was supposed to wipe-out.\\n\\nWhile internat...  \n",
       "Topic10                                                                  He claims it’s the Mark of Beast, like the gates conspiracy. However I wonder if he with his stature and money, if he knows something..  "
      ]
     },
     "execution_count": 570,
     "metadata": {},
     "output_type": "execute_result"
    }
   ],
   "source": [
    "pd.options.display.float_format = '{:,.5f}'.format\n",
    "pd.set_option('display.max_colwidth', 200)\n",
    "\n",
    "max_score_topics = dt_df.max(axis=0)\n",
    "dominant_topics = max_score_topics.index\n",
    "term_score = max_score_topics.values\n",
    "document_numbers = [dt_df[dt_df[t] == max_score_topics.loc[t]].index[0]\n",
    "                       for t in dominant_topics]\n",
    "documents = [df_com.iloc[i, df_com.columns.get_loc('text')] for i in document_numbers]\n",
    "\n",
    "results_df = pd.DataFrame({'Dominant Topic': dominant_topics, 'Max Score': term_score,\n",
    "                          'Paper Num': document_numbers, 'Topic': topics_df['Terms per Topic'], \n",
    "                          'Paper Name': documents})\n",
    "results_df"
   ]
  },
  {
   "cell_type": "code",
   "execution_count": 571,
   "metadata": {},
   "outputs": [],
   "source": [
    "df_com_pp['topic'] = dt_df.idxmax(axis=1)"
   ]
  },
  {
   "cell_type": "code",
   "execution_count": 572,
   "metadata": {},
   "outputs": [
    {
     "data": {
      "image/png": "[encoded data removed]",
      "text/plain": [
       "<Figure size 720x720 with 1 Axes>"
      ]
     },
     "metadata": {
      "needs_background": "light"
     },
     "output_type": "display_data"
    }
   ],
   "source": [
    "df_new = df_com_pp.groupby(['topic', 'week']).size().unstack('topic', fill_value = 0)\n",
    "df_new = df_new[['T1', 'T2', 'T3', 'T4', 'T5', 'T6', 'T7', 'T8', 'T9', 'T10']]\n",
    "\n",
    "# # normalise by dividing each row by total coms that week\n",
    "# for i in df_com_total.index:\n",
    "#     df_new.loc[i] = df_new.loc[i]/df_com_total.loc[i]\n",
    "\n",
    "# normalise by dividing each column by total coms of that topic\n",
    "df_new = df_new.divide(df_new.sum(axis=0), axis = 'columns')\n",
    "\n",
    "fig, ax = plt.subplots()\n",
    "fig.set_size_inches([10,10])\n",
    "#ax = df_new.plot.bar(y='gates')\n",
    "ax.plot(df_new.index,df_new)\n",
    "ax.set_xticks(df_new.index.tolist())\n",
    "ax.set_xlabel('Week in 2020')\n",
    "ax.set_ylabel('Count of topic-labelled comments on r/conspiracy')\n",
    "ax.set_title('Topic frequency')\n",
    "ax.legend(df_new.columns, loc='upper left')\n",
    "# #plt.grid()\n",
    "plt.show()\n"
   ]
  },
  {
   "cell_type": "code",
   "execution_count": 573,
   "metadata": {},
   "outputs": [
    {
     "data": {
      "image/png": "[encoded data removed]",
      "text/plain": [
       "<Figure size 1440x720 with 10 Axes>"
      ]
     },
     "metadata": {
      "needs_background": "light"
     },
     "output_type": "display_data"
    }
   ],
   "source": [
    "df_new = df_com_pp.groupby(['topic', 'week']).size().unstack('topic', fill_value = 0)\n",
    "df_new = df_new[['T1', 'T2', 'T3', 'T4', 'T5', 'T6', 'T7', 'T8', 'T9', 'T10']]\n",
    "\n",
    "# normalise by dividing each column by max/total weekly count of comments with that topic\n",
    "df_new = df_new.divide(df_new.max(axis=0), axis = 'columns')\n",
    "\n",
    "fig, ax = plt.subplots(2,5, sharex='col', sharey='row')\n",
    "fig.set_size_inches([20,10])\n",
    "idx = 0\n",
    "for i in range(2):\n",
    "    for j in range(5):\n",
    "        ax[i, j].plot(df_new.index,df_new.iloc[:,idx])\n",
    "        ax[i, j].set_title(df_new.columns[idx])\n",
    "        idx+=1\n",
    "fig.text(0.5, 0.95, 'Topic Frequency', ha='center', fontsize=24)\n",
    "fig.text(0.5, 0.05, 'Week in 2020', ha='center', fontsize=18)\n",
    "fig.text(0.08, 0.5, 'Count of topic-labelled comments on r/conspiracy', va='center', rotation='vertical', fontsize=18)\n",
    "plt.show()\n"
   ]
  },
  {
   "cell_type": "markdown",
   "metadata": {},
   "source": [
    "---\n",
    "## num_topics ( Non-negative Matrix Factorisation )"
   ]
  },
  {
   "cell_type": "code",
   "execution_count": 590,
   "metadata": {},
   "outputs": [],
   "source": [
    "# Fucntion to find the best number of topics using coherence score. \n",
    "def test_NMFs(lower_topics = 4, upper_topics = 16, step_size = 2):\n",
    "    num_models = (upper_topics - lower_topics) / step_size\n",
    "    # Iterate through topic numbers to find an optimal number of topics\n",
    "    mean_sim_scores = []\n",
    "    models = {}\n",
    "    count = 1\n",
    "    for i in range(lower_topics, upper_topics, step_size): \n",
    "        print('Testing model', count, 'of', num_models)\n",
    "        count += 1\n",
    "#         nmf_model = NMF(n_components=i, solver='cd', max_iter=500,\n",
    "#                         random_state=42, alpha=.1, l1_ratio=.85)\n",
    "        nmf_model = NMF(n_components=i, init='nndsvd', max_iter=2000)\n",
    "        nmf_model.fit_transform(cv_features)\n",
    "        topic_terms_matrix = nmf_model.components_\n",
    "        sim_matrix = cosine_similarity(topic_terms_matrix)\n",
    "        mean_sim_scores.append(np.mean(sim_matrix))\n",
    "        models[str(i)] = nmf_model\n",
    "\n",
    "    # Plot the relationship between number of topics and the coherence score\n",
    "    x = [i for i in range(lower_topics, upper_topics, step_size)]\n",
    "    plt.figure(figsize=(16,9))\n",
    "    plt.scatter(x, mean_sim_scores, marker='^', color='blue', label='Mean cosine similarity')\n",
    "    plt.plot(x, [1/i for i in x], 'g',label=(r'$1/x$'))\n",
    "    plt.scatter(x, [sim - 1/i for (sim,i) in zip(mean_sim_scores,x)], marker='o', color='red', label='Mean cs - 1/x')\n",
    "    plt.xlabel('Number of Topics')\n",
    "    plt.ylabel('Mean Pairwise Cosine Similarity Score')\n",
    "    plt.axvline(x=30, c='black', ls='--')\n",
    "    plt.legend()\n",
    "    plt.show()\n",
    "    \n",
    "    return models, mean_sim_scores"
   ]
  },
  {
   "cell_type": "code",
   "execution_count": 592,
   "metadata": {
    "scrolled": true
   },
   "outputs": [
    {
     "name": "stdout",
     "output_type": "stream",
     "text": [
      "Testing model 1 of 26.0\n",
      "Testing model 2 of 26.0\n",
      "Testing model 3 of 26.0\n",
      "Testing model 4 of 26.0\n",
      "Testing model 5 of 26.0\n",
      "Testing model 6 of 26.0\n",
      "Testing model 7 of 26.0\n",
      "Testing model 8 of 26.0\n",
      "Testing model 9 of 26.0\n",
      "Testing model 10 of 26.0\n",
      "Testing model 11 of 26.0\n",
      "Testing model 12 of 26.0\n",
      "Testing model 13 of 26.0\n",
      "Testing model 14 of 26.0\n",
      "Testing model 15 of 26.0\n",
      "Testing model 16 of 26.0\n",
      "Testing model 17 of 26.0\n",
      "Testing model 18 of 26.0\n",
      "Testing model 19 of 26.0\n",
      "Testing model 20 of 26.0\n",
      "Testing model 21 of 26.0\n",
      "Testing model 22 of 26.0\n",
      "Testing model 23 of 26.0\n",
      "Testing model 24 of 26.0\n",
      "Testing model 25 of 26.0\n",
      "Testing model 26 of 26.0\n"
     ]
    },
    {
     "data": {
      "image/png": "[encoded data removed]",
      "text/plain": [
       "<Figure size 1152x648 with 1 Axes>"
      ]
     },
     "metadata": {
      "needs_background": "light"
     },
     "output_type": "display_data"
    }
   ],
   "source": [
    "model_objs_NMF, sim_scores = test_NMFs(lower_topics = 12, upper_topics = 90, step_size = 3)"
   ]
  },
  {
   "cell_type": "code",
   "execution_count": 686,
   "metadata": {},
   "outputs": [],
   "source": [
    "# choose 42, 45 or 48\n",
    "model_nmf = model_objs_NMF['42']"
   ]
  },
  {
   "cell_type": "markdown",
   "metadata": {},
   "source": [
    "* k-means clustering ([Source](https://github.com/rahulpawar0712/K-means-clustering-with-the-iris-data-example-/blob/master/A%20K-means%20clustering%20with%20the%20iris%20data%20example%20.ipynb))"
   ]
  },
  {
   "cell_type": "code",
   "execution_count": 593,
   "metadata": {},
   "outputs": [],
   "source": [
    "import numpy as np \n",
    "import pandas as pd \n",
    "import matplotlib.pyplot as plt \n",
    "from scipy.spatial.distance import cdist, pdist\n",
    "from sklearn.cluster import KMeans \n",
    "from sklearn.metrics import silhouette_score\n",
    "import seaborn as sns"
   ]
  },
  {
   "cell_type": "code",
   "execution_count": 594,
   "metadata": {},
   "outputs": [
    {
     "data": {
      "text/plain": [
       "KMeans(n_clusters=3)"
      ]
     },
     "execution_count": 594,
     "metadata": {},
     "output_type": "execute_result"
    }
   ],
   "source": [
    "document_topics = model_nmf.fit_transform(cv_features)\n",
    "\n",
    "k_means_fit = KMeans(n_clusters=3,max_iter=300) \n",
    "k_means_fit.fit(document_topics)"
   ]
  },
  {
   "cell_type": "code",
   "execution_count": null,
   "metadata": {},
   "outputs": [],
   "source": []
  },
  {
   "cell_type": "code",
   "execution_count": 596,
   "metadata": {},
   "outputs": [
    {
     "name": "stdout",
     "output_type": "stream",
     "text": [
      "\n",
      "Silhouette-score: 0.973\n"
     ]
    }
   ],
   "source": [
    "print (\"\\nSilhouette-score: %0.3f\" % silhouette_score(document_topics, k_means_fit.labels_, metric='euclidean'))"
   ]
  },
  {
   "cell_type": "code",
   "execution_count": 598,
   "metadata": {},
   "outputs": [
    {
     "name": "stdout",
     "output_type": "stream",
     "text": [
      "For K value 2 ,Silhouette-score: 0.977\n",
      "For K value 4 ,Silhouette-score: 0.811\n",
      "For K value 6 ,Silhouette-score: 0.728\n",
      "For K value 8 ,Silhouette-score: 0.749\n",
      "For K value 10 ,Silhouette-score: 0.649\n",
      "For K value 12 ,Silhouette-score: 0.601\n",
      "For K value 14 ,Silhouette-score: 0.500\n",
      "For K value 16 ,Silhouette-score: 0.500\n",
      "For K value 18 ,Silhouette-score: 0.508\n",
      "For K value 20 ,Silhouette-score: 0.454\n",
      "For K value 22 ,Silhouette-score: 0.513\n",
      "For K value 24 ,Silhouette-score: 0.471\n",
      "For K value 26 ,Silhouette-score: 0.464\n",
      "For K value 28 ,Silhouette-score: 0.480\n"
     ]
    }
   ],
   "source": [
    "silh_scores = []\n",
    "k_range = range(2,30,2)\n",
    "for k in k_range: \n",
    "    k_means_fitk = KMeans(n_clusters=k,max_iter=300) \n",
    "    k_means_fitk.fit(document_topics)\n",
    "    ss = silhouette_score(document_topics, k_means_fitk.labels_, metric='euclidean')\n",
    "    silh_scores.append(ss)\n",
    "    print (\"For K value\",k,\",Silhouette-score: %0.3f\" % ss)"
   ]
  },
  {
   "cell_type": "markdown",
   "metadata": {},
   "source": [
    "The silhouette coefficient values in the preceding results shows that K value 2 and K value 3 have better scores than all the other values. As a thumb rule, we need to take the next K value of the highest silhouette coefficient. Here, we can say that K value 3 is better. In addition, we also need to see the average within cluster variation value and elbow plot before concluding the optimal K value."
   ]
  },
  {
   "cell_type": "code",
   "execution_count": 674,
   "metadata": {},
   "outputs": [
    {
     "data": {
      "text/plain": [
       "Text(0,0.5,'Silhouette Score')"
      ]
     },
     "execution_count": 674,
     "metadata": {},
     "output_type": "execute_result"
    },
    {
     "data": {
      "image/png": "[encoded data removed]",
      "text/plain": [
       "<Figure size 720x576 with 1 Axes>"
      ]
     },
     "metadata": {
      "needs_background": "light"
     },
     "output_type": "display_data"
    }
   ],
   "source": [
    "# silhouette scores\n",
    "fig = plt.figure(figsize=[10,8])\n",
    "ax = fig.add_subplot(111)\n",
    "ax.scatter(k_range, silh_scores, c='blue', marker='.')\n",
    "ax.set_xticks(k_range)\n",
    "plt.grid(True) \n",
    "plt.xlabel('Number of clusters') \n",
    "plt.ylabel('Silhouette Score')"
   ]
  },
  {
   "cell_type": "code",
   "execution_count": 610,
   "metadata": {},
   "outputs": [],
   "source": [
    "# Avg. within-cluster sum of squares \n",
    "KM = [KMeans(n_clusters=k).fit(document_topics) for k in k_range] \n",
    "centroids = [k.cluster_centers_ for k in KM]\n",
    "D_k = [cdist(document_topics, centrds, 'euclidean') for centrds in centroids]\n",
    "cIdx = [np.argmin(D,axis=1) for D in D_k] \n",
    "dist = [np.min(D,axis=1) for D in D_k] \n",
    "avgWithinSS = [d.sum()/document_topics.shape[0] for d in dist]"
   ]
  },
  {
   "cell_type": "code",
   "execution_count": 635,
   "metadata": {},
   "outputs": [
    {
     "data": {
      "text/plain": [
       "71441"
      ]
     },
     "execution_count": 635,
     "metadata": {},
     "output_type": "execute_result"
    }
   ],
   "source": [
    "len(dist[0])"
   ]
  },
  {
   "cell_type": "code",
   "execution_count": 677,
   "metadata": {},
   "outputs": [
    {
     "ename": "MemoryError",
     "evalue": "Unable to allocate 19.0 GiB for an array with shape (2551872520,) and data type float64",
     "output_type": "error",
     "traceback": [
      "\u001b[1;31m---------------------------------------------------------------------------\u001b[0m",
      "\u001b[1;31mMemoryError\u001b[0m                               Traceback (most recent call last)",
      "\u001b[1;32m<ipython-input-677-cbf1ec1688bb>\u001b[0m in \u001b[0;36m<module>\u001b[1;34m\u001b[0m\n\u001b[1;32m----> 1\u001b[1;33m \u001b[0mpdist\u001b[0m\u001b[1;33m(\u001b[0m\u001b[0mdocument_topics\u001b[0m\u001b[1;33m)\u001b[0m\u001b[1;33m\u001b[0m\u001b[1;33m\u001b[0m\u001b[0m\n\u001b[0m",
      "\u001b[1;32m~\\Anaconda3\\lib\\site-packages\\scipy\\spatial\\distance.py\u001b[0m in \u001b[0;36mpdist\u001b[1;34m(X, metric, *args, **kwargs)\u001b[0m\n\u001b[0;32m   1993\u001b[0m     \u001b[0mout\u001b[0m \u001b[1;33m=\u001b[0m \u001b[0mkwargs\u001b[0m\u001b[1;33m.\u001b[0m\u001b[0mpop\u001b[0m\u001b[1;33m(\u001b[0m\u001b[1;34m\"out\"\u001b[0m\u001b[1;33m,\u001b[0m \u001b[1;32mNone\u001b[0m\u001b[1;33m)\u001b[0m\u001b[1;33m\u001b[0m\u001b[1;33m\u001b[0m\u001b[0m\n\u001b[0;32m   1994\u001b[0m     \u001b[1;32mif\u001b[0m \u001b[0mout\u001b[0m \u001b[1;32mis\u001b[0m \u001b[1;32mNone\u001b[0m\u001b[1;33m:\u001b[0m\u001b[1;33m\u001b[0m\u001b[1;33m\u001b[0m\u001b[0m\n\u001b[1;32m-> 1995\u001b[1;33m         \u001b[0mdm\u001b[0m \u001b[1;33m=\u001b[0m \u001b[0mnp\u001b[0m\u001b[1;33m.\u001b[0m\u001b[0mempty\u001b[0m\u001b[1;33m(\u001b[0m\u001b[1;33m(\u001b[0m\u001b[0mm\u001b[0m \u001b[1;33m*\u001b[0m \u001b[1;33m(\u001b[0m\u001b[0mm\u001b[0m \u001b[1;33m-\u001b[0m \u001b[1;36m1\u001b[0m\u001b[1;33m)\u001b[0m\u001b[1;33m)\u001b[0m \u001b[1;33m//\u001b[0m \u001b[1;36m2\u001b[0m\u001b[1;33m,\u001b[0m \u001b[0mdtype\u001b[0m\u001b[1;33m=\u001b[0m\u001b[0mnp\u001b[0m\u001b[1;33m.\u001b[0m\u001b[0mdouble\u001b[0m\u001b[1;33m)\u001b[0m\u001b[1;33m\u001b[0m\u001b[1;33m\u001b[0m\u001b[0m\n\u001b[0m\u001b[0;32m   1996\u001b[0m     \u001b[1;32melse\u001b[0m\u001b[1;33m:\u001b[0m\u001b[1;33m\u001b[0m\u001b[1;33m\u001b[0m\u001b[0m\n\u001b[0;32m   1997\u001b[0m         \u001b[1;32mif\u001b[0m \u001b[0mout\u001b[0m\u001b[1;33m.\u001b[0m\u001b[0mshape\u001b[0m \u001b[1;33m!=\u001b[0m \u001b[1;33m(\u001b[0m\u001b[0mm\u001b[0m \u001b[1;33m*\u001b[0m \u001b[1;33m(\u001b[0m\u001b[0mm\u001b[0m \u001b[1;33m-\u001b[0m \u001b[1;36m1\u001b[0m\u001b[1;33m)\u001b[0m \u001b[1;33m//\u001b[0m \u001b[1;36m2\u001b[0m\u001b[1;33m,\u001b[0m\u001b[1;33m)\u001b[0m\u001b[1;33m:\u001b[0m\u001b[1;33m\u001b[0m\u001b[1;33m\u001b[0m\u001b[0m\n",
      "\u001b[1;31mMemoryError\u001b[0m: Unable to allocate 19.0 GiB for an array with shape (2551872520,) and data type float64"
     ]
    }
   ],
   "source": [
    "pdist(document_topics)"
   ]
  },
  {
   "cell_type": "code",
   "execution_count": 684,
   "metadata": {},
   "outputs": [],
   "source": [
    "filename = data_dir + \"\\\\\" + 'document_topics.npy'\n",
    "np.save(filename, document_topics)"
   ]
  },
  {
   "cell_type": "code",
   "execution_count": 683,
   "metadata": {},
   "outputs": [],
   "source": [
    "# from fastdist import fastdist\n",
    "\n",
    "# fastdist.matrix_pairwise_distance(document_topics, fastdist.euclidean, \"euclidean\", return_matrix=False)\n",
    "# # returns an array of shape (10 choose 2, 1)\n",
    "# # to return a matrix with entry (i, j) as the distance between row i and j\n",
    "# # set return_matrix=True, in which case this will return a (10, 10) array"
   ]
  },
  {
   "cell_type": "code",
   "execution_count": 636,
   "metadata": {},
   "outputs": [
    {
     "ename": "MemoryError",
     "evalue": "Unable to allocate 19.0 GiB for an array with shape (2551872520,) and data type float64",
     "output_type": "error",
     "traceback": [
      "\u001b[1;31m---------------------------------------------------------------------------\u001b[0m",
      "\u001b[1;31mMemoryError\u001b[0m                               Traceback (most recent call last)",
      "\u001b[1;32m<ipython-input-636-57cbc358d6db>\u001b[0m in \u001b[0;36m<module>\u001b[1;34m\u001b[0m\n\u001b[0;32m      1\u001b[0m \u001b[1;31m# Total with-in sum of square\u001b[0m\u001b[1;33m\u001b[0m\u001b[1;33m\u001b[0m\u001b[1;33m\u001b[0m\u001b[0m\n\u001b[0;32m      2\u001b[0m \u001b[0mwcss\u001b[0m \u001b[1;33m=\u001b[0m \u001b[1;33m[\u001b[0m\u001b[0mnp\u001b[0m\u001b[1;33m.\u001b[0m\u001b[0msum\u001b[0m\u001b[1;33m(\u001b[0m\u001b[0md\u001b[0m\u001b[1;33m**\u001b[0m\u001b[1;36m2\u001b[0m\u001b[1;33m)\u001b[0m \u001b[1;32mfor\u001b[0m \u001b[0md\u001b[0m \u001b[1;32min\u001b[0m \u001b[0mdist\u001b[0m\u001b[1;33m]\u001b[0m\u001b[1;33m\u001b[0m\u001b[1;33m\u001b[0m\u001b[0m\n\u001b[1;32m----> 3\u001b[1;33m \u001b[0mtss\u001b[0m \u001b[1;33m=\u001b[0m \u001b[0mnp\u001b[0m\u001b[1;33m.\u001b[0m\u001b[0msum\u001b[0m\u001b[1;33m(\u001b[0m\u001b[0mpdist\u001b[0m\u001b[1;33m(\u001b[0m\u001b[0mdocument_topics\u001b[0m\u001b[1;33m)\u001b[0m\u001b[1;33m**\u001b[0m\u001b[1;36m2\u001b[0m\u001b[1;33m)\u001b[0m\u001b[1;33m/\u001b[0m\u001b[0mdocument_topics\u001b[0m\u001b[1;33m.\u001b[0m\u001b[0mshape\u001b[0m\u001b[1;33m[\u001b[0m\u001b[1;36m0\u001b[0m\u001b[1;33m]\u001b[0m\u001b[1;33m\u001b[0m\u001b[1;33m\u001b[0m\u001b[0m\n\u001b[0m\u001b[0;32m      4\u001b[0m \u001b[0mbss\u001b[0m \u001b[1;33m=\u001b[0m \u001b[0mtss\u001b[0m\u001b[1;33m-\u001b[0m\u001b[0mwcss\u001b[0m\u001b[1;33m\u001b[0m\u001b[1;33m\u001b[0m\u001b[0m\n",
      "\u001b[1;32m~\\Anaconda3\\lib\\site-packages\\scipy\\spatial\\distance.py\u001b[0m in \u001b[0;36mpdist\u001b[1;34m(X, metric, *args, **kwargs)\u001b[0m\n\u001b[0;32m   1993\u001b[0m     \u001b[0mout\u001b[0m \u001b[1;33m=\u001b[0m \u001b[0mkwargs\u001b[0m\u001b[1;33m.\u001b[0m\u001b[0mpop\u001b[0m\u001b[1;33m(\u001b[0m\u001b[1;34m\"out\"\u001b[0m\u001b[1;33m,\u001b[0m \u001b[1;32mNone\u001b[0m\u001b[1;33m)\u001b[0m\u001b[1;33m\u001b[0m\u001b[1;33m\u001b[0m\u001b[0m\n\u001b[0;32m   1994\u001b[0m     \u001b[1;32mif\u001b[0m \u001b[0mout\u001b[0m \u001b[1;32mis\u001b[0m \u001b[1;32mNone\u001b[0m\u001b[1;33m:\u001b[0m\u001b[1;33m\u001b[0m\u001b[1;33m\u001b[0m\u001b[0m\n\u001b[1;32m-> 1995\u001b[1;33m         \u001b[0mdm\u001b[0m \u001b[1;33m=\u001b[0m \u001b[0mnp\u001b[0m\u001b[1;33m.\u001b[0m\u001b[0mempty\u001b[0m\u001b[1;33m(\u001b[0m\u001b[1;33m(\u001b[0m\u001b[0mm\u001b[0m \u001b[1;33m*\u001b[0m \u001b[1;33m(\u001b[0m\u001b[0mm\u001b[0m \u001b[1;33m-\u001b[0m \u001b[1;36m1\u001b[0m\u001b[1;33m)\u001b[0m\u001b[1;33m)\u001b[0m \u001b[1;33m//\u001b[0m \u001b[1;36m2\u001b[0m\u001b[1;33m,\u001b[0m \u001b[0mdtype\u001b[0m\u001b[1;33m=\u001b[0m\u001b[0mnp\u001b[0m\u001b[1;33m.\u001b[0m\u001b[0mdouble\u001b[0m\u001b[1;33m)\u001b[0m\u001b[1;33m\u001b[0m\u001b[1;33m\u001b[0m\u001b[0m\n\u001b[0m\u001b[0;32m   1996\u001b[0m     \u001b[1;32melse\u001b[0m\u001b[1;33m:\u001b[0m\u001b[1;33m\u001b[0m\u001b[1;33m\u001b[0m\u001b[0m\n\u001b[0;32m   1997\u001b[0m         \u001b[1;32mif\u001b[0m \u001b[0mout\u001b[0m\u001b[1;33m.\u001b[0m\u001b[0mshape\u001b[0m \u001b[1;33m!=\u001b[0m \u001b[1;33m(\u001b[0m\u001b[0mm\u001b[0m \u001b[1;33m*\u001b[0m \u001b[1;33m(\u001b[0m\u001b[0mm\u001b[0m \u001b[1;33m-\u001b[0m \u001b[1;36m1\u001b[0m\u001b[1;33m)\u001b[0m \u001b[1;33m//\u001b[0m \u001b[1;36m2\u001b[0m\u001b[1;33m,\u001b[0m\u001b[1;33m)\u001b[0m\u001b[1;33m:\u001b[0m\u001b[1;33m\u001b[0m\u001b[1;33m\u001b[0m\u001b[0m\n",
      "\u001b[1;31mMemoryError\u001b[0m: Unable to allocate 19.0 GiB for an array with shape (2551872520,) and data type float64"
     ]
    }
   ],
   "source": [
    "# Total with-in sum of square\n",
    "wcss = [np.sum(d**2) for d in dist] \n",
    "tss = np.sum(pdist(document_topics)**2)/document_topics.shape[0] \n",
    "bss = tss-wcss"
   ]
  },
  {
   "cell_type": "code",
   "execution_count": null,
   "metadata": {},
   "outputs": [],
   "source": [
    "# elbow curve - Avg. within-cluster sum of squares \n",
    "fig = plt.figure() \n",
    "ax = fig.add_subplot(111)\n",
    "ax.plot(k_range, avgWithinSS, 'b*-') \n",
    "plt.grid(True) \n",
    "plt.xlabel('Number of clusters') \n",
    "plt.ylabel('Average within-cluster sum of squares')"
   ]
  },
  {
   "cell_type": "code",
   "execution_count": null,
   "metadata": {},
   "outputs": [],
   "source": [
    "# elbow curve - percentage of variance explained \n",
    "fig = plt.figure() \n",
    "ax = fig.add_subplot(111) \n",
    "ax.plot(k_range, bss/tss*100, 'b*-') \n",
    "plt.grid(True) \n",
    "plt.xlabel('Number of clusters') \n",
    "plt.ylabel('Percentage of variance explained') \n",
    "plt.show()"
   ]
  },
  {
   "cell_type": "code",
   "execution_count": 619,
   "metadata": {},
   "outputs": [
    {
     "name": "stdout",
     "output_type": "stream",
     "text": [
      "Gap value at  0 clusters:  0.0\n",
      "Need to beat  391.0253736184467\n",
      "Gap value at  1 clusters:  391.0253736184467\n",
      "Need to beat  381.78723134976497\n",
      "Gap value at  2 clusters:  381.7884671486339\n",
      "Need to beat  382.7665581241016\n",
      "Gap value at  3 clusters:  382.76756910791846\n",
      "Need to beat  388.3363788225686\n",
      "Gap value at  4 clusters:  388.33801913397053\n",
      "Need to beat  396.858090045706\n",
      "Gap value at  5 clusters:  396.85865519900346\n",
      "Need to beat  405.49124888918914\n",
      "Gap value at  6 clusters:  405.4919121828984\n",
      "Need to beat  419.39732171846873\n",
      "Gap value at  7 clusters:  419.3982304499835\n",
      "Need to beat  435.70127750243284\n",
      "Gap value at  8 clusters:  435.70188699081564\n",
      "Need to beat  453.47096477231105\n",
      "Gap value at  9 clusters:  453.47223078827255\n",
      "Need to beat  466.9268028262149\n"
     ]
    },
    {
     "ename": "KeyboardInterrupt",
     "evalue": "",
     "output_type": "error",
     "traceback": [
      "\u001b[1;31m---------------------------------------------------------------------------\u001b[0m",
      "\u001b[1;31mKeyboardInterrupt\u001b[0m                         Traceback (most recent call last)",
      "\u001b[1;32m<ipython-input-619-5825083cd28f>\u001b[0m in \u001b[0;36m<module>\u001b[1;34m\u001b[0m\n\u001b[0;32m      1\u001b[0m \u001b[1;32mfrom\u001b[0m \u001b[0mkmeans_gap\u001b[0m \u001b[1;32mimport\u001b[0m \u001b[0mgapKMeans\u001b[0m\u001b[1;33m\u001b[0m\u001b[1;33m\u001b[0m\u001b[0m\n\u001b[1;32m----> 2\u001b[1;33m \u001b[0ml\u001b[0m \u001b[1;33m=\u001b[0m \u001b[0mgapKMeans\u001b[0m\u001b[1;33m(\u001b[0m\u001b[0mdocument_topics\u001b[0m\u001b[1;33m)\u001b[0m\u001b[1;33m\u001b[0m\u001b[1;33m\u001b[0m\u001b[0m\n\u001b[0m",
      "\u001b[1;32m~\\Documents\\TUM\\WiSe2020\\CSS\\code\\reddit-anti-vax\\NBs\\kmeans_gap.py\u001b[0m in \u001b[0;36mgapKMeans\u001b[1;34m(data, kRange, sampleTrials, printResults)\u001b[0m\n\u001b[0;32m     50\u001b[0m                                      extrema[dim][1]) for dim in range(numFeatures)]\n\u001b[0;32m     51\u001b[0m             \u001b[1;31m# Get the clusters\u001b[0m\u001b[1;33m\u001b[0m\u001b[1;33m\u001b[0m\u001b[1;33m\u001b[0m\u001b[0m\n\u001b[1;32m---> 52\u001b[1;33m             \u001b[0msampleLabels\u001b[0m \u001b[1;33m=\u001b[0m \u001b[0mkclusters\u001b[0m\u001b[1;33m.\u001b[0m\u001b[0mfit_predict\u001b[0m\u001b[1;33m(\u001b[0m\u001b[0msamples\u001b[0m\u001b[1;33m)\u001b[0m\u001b[1;33m\u001b[0m\u001b[1;33m\u001b[0m\u001b[0m\n\u001b[0m\u001b[0;32m     53\u001b[0m             \u001b[0mtrialCompactness\u001b[0m\u001b[1;33m[\u001b[0m\u001b[0mtrial\u001b[0m\u001b[1;33m]\u001b[0m \u001b[1;33m=\u001b[0m\u001b[0;31m \u001b[0m\u001b[0;31m\\\u001b[0m\u001b[1;33m\u001b[0m\u001b[1;33m\u001b[0m\u001b[0m\n\u001b[0;32m     54\u001b[0m                 np.log(compactness(samples, kclusters.cluster_centers_, \\\n",
      "\u001b[1;32m~\\Anaconda3\\lib\\site-packages\\sklearn\\cluster\\_kmeans.py\u001b[0m in \u001b[0;36mfit_predict\u001b[1;34m(self, X, y, sample_weight)\u001b[0m\n\u001b[0;32m   1075\u001b[0m             \u001b[0mIndex\u001b[0m \u001b[0mof\u001b[0m \u001b[0mthe\u001b[0m \u001b[0mcluster\u001b[0m \u001b[0meach\u001b[0m \u001b[0msample\u001b[0m \u001b[0mbelongs\u001b[0m \u001b[0mto\u001b[0m\u001b[1;33m.\u001b[0m\u001b[1;33m\u001b[0m\u001b[1;33m\u001b[0m\u001b[0m\n\u001b[0;32m   1076\u001b[0m         \"\"\"\n\u001b[1;32m-> 1077\u001b[1;33m         \u001b[1;32mreturn\u001b[0m \u001b[0mself\u001b[0m\u001b[1;33m.\u001b[0m\u001b[0mfit\u001b[0m\u001b[1;33m(\u001b[0m\u001b[0mX\u001b[0m\u001b[1;33m,\u001b[0m \u001b[0msample_weight\u001b[0m\u001b[1;33m=\u001b[0m\u001b[0msample_weight\u001b[0m\u001b[1;33m)\u001b[0m\u001b[1;33m.\u001b[0m\u001b[0mlabels_\u001b[0m\u001b[1;33m\u001b[0m\u001b[1;33m\u001b[0m\u001b[0m\n\u001b[0m\u001b[0;32m   1078\u001b[0m \u001b[1;33m\u001b[0m\u001b[0m\n\u001b[0;32m   1079\u001b[0m     \u001b[1;32mdef\u001b[0m \u001b[0mfit_transform\u001b[0m\u001b[1;33m(\u001b[0m\u001b[0mself\u001b[0m\u001b[1;33m,\u001b[0m \u001b[0mX\u001b[0m\u001b[1;33m,\u001b[0m \u001b[0my\u001b[0m\u001b[1;33m=\u001b[0m\u001b[1;32mNone\u001b[0m\u001b[1;33m,\u001b[0m \u001b[0msample_weight\u001b[0m\u001b[1;33m=\u001b[0m\u001b[1;32mNone\u001b[0m\u001b[1;33m)\u001b[0m\u001b[1;33m:\u001b[0m\u001b[1;33m\u001b[0m\u001b[1;33m\u001b[0m\u001b[0m\n",
      "\u001b[1;32m~\\Anaconda3\\lib\\site-packages\\sklearn\\cluster\\_kmeans.py\u001b[0m in \u001b[0;36mfit\u001b[1;34m(self, X, y, sample_weight)\u001b[0m\n\u001b[0;32m   1024\u001b[0m                 \u001b[0mX\u001b[0m\u001b[1;33m,\u001b[0m \u001b[0msample_weight\u001b[0m\u001b[1;33m,\u001b[0m \u001b[0mcenters_init\u001b[0m\u001b[1;33m,\u001b[0m \u001b[0mmax_iter\u001b[0m\u001b[1;33m=\u001b[0m\u001b[0mself\u001b[0m\u001b[1;33m.\u001b[0m\u001b[0mmax_iter\u001b[0m\u001b[1;33m,\u001b[0m\u001b[1;33m\u001b[0m\u001b[1;33m\u001b[0m\u001b[0m\n\u001b[0;32m   1025\u001b[0m                 \u001b[0mverbose\u001b[0m\u001b[1;33m=\u001b[0m\u001b[0mself\u001b[0m\u001b[1;33m.\u001b[0m\u001b[0mverbose\u001b[0m\u001b[1;33m,\u001b[0m \u001b[0mtol\u001b[0m\u001b[1;33m=\u001b[0m\u001b[0mself\u001b[0m\u001b[1;33m.\u001b[0m\u001b[0m_tol\u001b[0m\u001b[1;33m,\u001b[0m\u001b[1;33m\u001b[0m\u001b[1;33m\u001b[0m\u001b[0m\n\u001b[1;32m-> 1026\u001b[1;33m                 x_squared_norms=x_squared_norms, n_threads=self._n_threads)\n\u001b[0m\u001b[0;32m   1027\u001b[0m \u001b[1;33m\u001b[0m\u001b[0m\n\u001b[0;32m   1028\u001b[0m             \u001b[1;31m# determine if these results are the best so far\u001b[0m\u001b[1;33m\u001b[0m\u001b[1;33m\u001b[0m\u001b[1;33m\u001b[0m\u001b[0m\n",
      "\u001b[1;32m~\\Anaconda3\\lib\\site-packages\\sklearn\\cluster\\_kmeans.py\u001b[0m in \u001b[0;36m_kmeans_single_elkan\u001b[1;34m(X, sample_weight, centers_init, max_iter, verbose, x_squared_norms, tol, n_threads)\u001b[0m\n\u001b[0;32m    392\u001b[0m         \u001b[0mcenter_half_distances\u001b[0m \u001b[1;33m=\u001b[0m \u001b[0meuclidean_distances\u001b[0m\u001b[1;33m(\u001b[0m\u001b[0mcenters_new\u001b[0m\u001b[1;33m)\u001b[0m \u001b[1;33m/\u001b[0m \u001b[1;36m2\u001b[0m\u001b[1;33m\u001b[0m\u001b[1;33m\u001b[0m\u001b[0m\n\u001b[0;32m    393\u001b[0m         distance_next_center = np.partition(\n\u001b[1;32m--> 394\u001b[1;33m             np.asarray(center_half_distances), kth=1, axis=0)[1]\n\u001b[0m\u001b[0;32m    395\u001b[0m \u001b[1;33m\u001b[0m\u001b[0m\n\u001b[0;32m    396\u001b[0m         \u001b[1;32mif\u001b[0m \u001b[0mverbose\u001b[0m\u001b[1;33m:\u001b[0m\u001b[1;33m\u001b[0m\u001b[1;33m\u001b[0m\u001b[0m\n",
      "\u001b[1;32m<__array_function__ internals>\u001b[0m in \u001b[0;36mpartition\u001b[1;34m(*args, **kwargs)\u001b[0m\n",
      "\u001b[1;32m~\\Anaconda3\\lib\\site-packages\\numpy\\core\\fromnumeric.py\u001b[0m in \u001b[0;36mpartition\u001b[1;34m(a, kth, axis, kind, order)\u001b[0m\n\u001b[0;32m    746\u001b[0m     \u001b[1;32melse\u001b[0m\u001b[1;33m:\u001b[0m\u001b[1;33m\u001b[0m\u001b[1;33m\u001b[0m\u001b[0m\n\u001b[0;32m    747\u001b[0m         \u001b[0ma\u001b[0m \u001b[1;33m=\u001b[0m \u001b[0masanyarray\u001b[0m\u001b[1;33m(\u001b[0m\u001b[0ma\u001b[0m\u001b[1;33m)\u001b[0m\u001b[1;33m.\u001b[0m\u001b[0mcopy\u001b[0m\u001b[1;33m(\u001b[0m\u001b[0morder\u001b[0m\u001b[1;33m=\u001b[0m\u001b[1;34m\"K\"\u001b[0m\u001b[1;33m)\u001b[0m\u001b[1;33m\u001b[0m\u001b[1;33m\u001b[0m\u001b[0m\n\u001b[1;32m--> 748\u001b[1;33m     \u001b[0ma\u001b[0m\u001b[1;33m.\u001b[0m\u001b[0mpartition\u001b[0m\u001b[1;33m(\u001b[0m\u001b[0mkth\u001b[0m\u001b[1;33m,\u001b[0m \u001b[0maxis\u001b[0m\u001b[1;33m=\u001b[0m\u001b[0maxis\u001b[0m\u001b[1;33m,\u001b[0m \u001b[0mkind\u001b[0m\u001b[1;33m=\u001b[0m\u001b[0mkind\u001b[0m\u001b[1;33m,\u001b[0m \u001b[0morder\u001b[0m\u001b[1;33m=\u001b[0m\u001b[0morder\u001b[0m\u001b[1;33m)\u001b[0m\u001b[1;33m\u001b[0m\u001b[1;33m\u001b[0m\u001b[0m\n\u001b[0m\u001b[0;32m    749\u001b[0m     \u001b[1;32mreturn\u001b[0m \u001b[0ma\u001b[0m\u001b[1;33m\u001b[0m\u001b[1;33m\u001b[0m\u001b[0m\n\u001b[0;32m    750\u001b[0m \u001b[1;33m\u001b[0m\u001b[0m\n",
      "\u001b[1;31mKeyboardInterrupt\u001b[0m: "
     ]
    }
   ],
   "source": [
    "from kmeans_gap import gapKMeans\n",
    "l = gapKMeans(document_topics)"
   ]
  },
  {
   "cell_type": "markdown",
   "metadata": {},
   "source": [
    "* Gap statistic\n",
    "    * The gap statistic was developed by Stanford researchers Tibshirani, Walther and Hastie in their 2001 paper. The idea behind their approach was to find a way to standardize the comparison of \\log W_k with a null reference distribution of the data, i.e. a distribution with no obvious clustering. Their estimate for the optimal number of clusters K is the value for which \\log W_k falls the farthest below this reference curve. This information is contained in the following formula for the gap statistic:\n",
    "\n",
    "     [Code](https://github.com/teruo41/calc_k_with_gap) \n",
    "\n",
    "    [Source](https://datasciencelab.wordpress.com/tag/gap-statistic/)\n",
    "    \n",
    "    alternate implementation ipynb ([Source](https://github.com/Mavengence/Pattern_Analysis_SS20_FAU/blob/master/Exercise_6.ipynb))"
   ]
  },
  {
   "cell_type": "code",
   "execution_count": 652,
   "metadata": {},
   "outputs": [
    {
     "name": "stdout",
     "output_type": "stream",
     "text": [
      "calc_k_with_gap() preparing...\n",
      "calc_k_with_gap() preparing...   Done.\n",
      "calc_k_with_gap() iteration for i =  0\n",
      "calc_k_with_gap() iteration for i =  1\n",
      "calc_k_with_gap() iteration for i =  2\n",
      "calc_k_with_gap() iteration for i =  3\n",
      "calc_k_with_gap() iteration for i =  4\n",
      "calc_k_with_gap() iteration for i =  5\n",
      "calc_k_with_gap() iteration for i =  6\n",
      "calc_k_with_gap() iteration for i =  7\n",
      "calc_k_with_gap() iteration for i =  8\n",
      "calc_k_with_gap() iteration for i =  9\n",
      "calc_k_with_gap() iteration for i =  10\n",
      "calc_k_with_gap() iteration for i =  11\n",
      "calc_k_with_gap() iteration for i =  12\n",
      "calc_k_with_gap() iteration for i =  13\n",
      "calc_k_with_gap() iteration for i =  14\n",
      "calc_k_with_gap() iteration for i =  15\n",
      "calc_k_with_gap() iteration for i =  16\n",
      "calc_k_with_gap() iteration for i =  17\n",
      "calc_k_with_gap() iteration for i =  18\n",
      "calc_k_with_gap() iteration for i =  19\n",
      "calc_k_with_gap() iteration for i =  20\n",
      "calc_k_with_gap() iteration for i =  21\n",
      "calc_k_with_gap() iteration for i =  22\n",
      "calc_k_with_gap() iteration for i =  23\n",
      "calc_k_with_gap() iteration for i =  24\n",
      "calc_k_with_gap() iteration for i =  25\n",
      "calc_k_with_gap() iteration for i =  26\n",
      "calc_k_with_gap() iteration for i =  27\n",
      "calc_k_with_gap() iteration for i =  28\n"
     ]
    }
   ],
   "source": [
    "import importlib\n",
    "import calc_k_with_gap\n",
    "importlib.reload(calc_k_with_gap)\n",
    "from calc_k_with_gap import calc_k_with_gap\n",
    "\n",
    "k, gaps, sks = calc_k_with_gap(document_topics, max_k=30)"
   ]
  },
  {
   "cell_type": "code",
   "execution_count": 659,
   "metadata": {},
   "outputs": [
    {
     "data": {
      "text/plain": [
       "30"
      ]
     },
     "execution_count": 659,
     "metadata": {},
     "output_type": "execute_result"
    }
   ],
   "source": [
    "len(sks)"
   ]
  },
  {
   "cell_type": "code",
   "execution_count": 673,
   "metadata": {},
   "outputs": [
    {
     "data": {
      "text/plain": [
       "Text(0,0.5,'Gap stat')"
      ]
     },
     "execution_count": 673,
     "metadata": {},
     "output_type": "execute_result"
    },
    {
     "data": {
      "image/png": "[encoded data removed]",
      "text/plain": [
       "<Figure size 720x576 with 1 Axes>"
      ]
     },
     "metadata": {
      "needs_background": "light"
     },
     "output_type": "display_data"
    }
   ],
   "source": [
    "# gap stat\n",
    "fig = plt.figure(figsize=[10,8])\n",
    "ax = fig.add_subplot(111)\n",
    "#ax.scatter(range(1,k+1), gaps[:-1], c='blue', marker='.')\n",
    "ax.errorbar(range(1,k+1), gaps[:-1],yerr=6*sks[:-1], capsize=4, marker='.')\n",
    "ax.set_xticks(range(1,k+1))\n",
    "plt.grid(True) \n",
    "plt.xlabel('Number of clusters') \n",
    "plt.ylabel('Gap stat')"
   ]
  },
  {
   "cell_type": "markdown",
   "metadata": {
    "hideCode": false,
    "hidePrompt": false,
    "slideshow": {
     "slide_type": "slide"
    }
   },
   "source": [
    "---\n",
    "---\n",
    "---\n",
    "## Parking lot\n",
    "  * text analysis with python vid [link](https://www.youtube.com/watch?v=ALGd_frv4rc&feature=youtu.be&ab_channel=J%C3%BCrgenPfeffer)\n",
    "  * SNA in python vids [link](https://www.youtube.com/playlist?list=PLW5N2mhH4QJqRKrHLWs052mhXyFAsQn-v) "
   ]
  },
  {
   "cell_type": "markdown",
   "metadata": {},
   "source": [
    "* pandas find word in str :"
   ]
  },
  {
   "cell_type": "code",
   "execution_count": 342,
   "metadata": {
    "scrolled": true
   },
   "outputs": [],
   "source": [
    "# find_word = 'aascsadv'\n",
    "# df_com[df_com['text'].str.contains(find_word, case=False)]['text'].tolist()"
   ]
  },
  {
   "cell_type": "markdown",
   "metadata": {},
   "source": [
    "* pandas find token in list :"
   ]
  },
  {
   "cell_type": "code",
   "execution_count": 343,
   "metadata": {},
   "outputs": [],
   "source": [
    "# find_tkn = '2020comentcomit'  \n",
    "# df_temp = df_com_pp[df_com_pp.apply(lambda x: find_tkn in x['text'], axis=1)][['text','text_og','link']]\n",
    "\n",
    "# find_tkn_ind = df_temp.iloc[0, df_temp.columns.get_loc('text')].index(find_tkn)\n",
    "# print(find_tkn_ind)\n",
    "# df_temp.iloc[0, df_temp.columns.get_loc('text')][find_tkn_ind-5:find_tkn_ind+5]\n",
    "\n",
    "# df_temp.iloc[0,df_temp.columns.get_loc('text_og')]"
   ]
  },
  {
   "cell_type": "markdown",
   "metadata": {},
   "source": [
    "* Pandas positional and label-based indexing :"
   ]
  },
  {
   "cell_type": "code",
   "execution_count": 344,
   "metadata": {},
   "outputs": [],
   "source": [
    "# df_temp.iloc[0, df_temp.columns.get_loc('text')][40:50]\n",
    "# dfd.iloc[[0, 2], dfd.columns.get_indexer(['A', 'B'])]\n",
    "# dfd.loc[dfd.index[[0, 2]], 'A']"
   ]
  },
  {
   "cell_type": "markdown",
   "metadata": {},
   "source": [
    "* Display df unlimited"
   ]
  },
  {
   "cell_type": "code",
   "execution_count": 345,
   "metadata": {},
   "outputs": [],
   "source": [
    "# with pd.option_context('display.max_colwidth', None):\n",
    "#     #pd.set_option('display.max_columns', None)\n",
    "#     display(df_temp)"
   ]
  },
  {
   "cell_type": "markdown",
   "metadata": {},
   "source": [
    "We would clearly expect that the words that appear most frequently in one topic would appear less frequently in the other - otherwise that word wouldn't make a good choice to separate out the two topics. Therefore, we expect the topics to be **orthogonal**.\n",
    "\n",
    "The SVD algorithm factorizes a matrix into one matrix with **orthogonal columns** and one with **orthogonal rows** (along with a diagonal matrix, which contains the **relative importance** of each factor).\n",
    "\n",
    "<img src=\"images/svd_fb.png\" alt=\"\" style=\"width: 80%\"/>\n",
    "(source: [Facebook Research: Fast Randomized SVD](https://research.fb.com/fast-randomized-svd/))\n",
    "\n",
    "SVD is an **exact decomposition**, since the matrices it creates are big enough to fully cover the original matrix. SVD is extremely widely used in linear algebra, and specifically in data science, including:\n",
    "\n",
    "- semantic analysis\n",
    "- collaborative filtering/recommendations ([winning entry for Netflix Prize](https://datajobs.com/data-science-repo/Recommender-Systems-%5BNetflix%5D.pdf))\n",
    "- calculate Moore-Penrose pseudoinverse\n",
    "- data compression\n",
    "- principal component analysis"
   ]
  },
  {
   "cell_type": "markdown",
   "metadata": {},
   "source": [
    "SVD -> NMF\n",
    "\n",
    "Rather than constraining our factors to be *orthogonal*, another idea would to constrain them to be *non-negative*. NMF is a factorization of a non-negative data set $V$: $$ V = W H$$ into non-negative matrices $W,\\; H$. Often positive factors will be **more easily interpretable** (and this is the reason behind NMF's popularity). \n",
    "\n",
    "<img src=\"images/face_nmf.png\" alt=\"NMF on faces\" style=\"width: 80%\"/>\n",
    "\n",
    "(source: [NMF Tutorial](http://perso.telecom-paristech.fr/~essid/teach/NMF_tutorial_ICME-2014.pdf))\n",
    "\n",
    "Construct a face with linear combinations of features\n",
    "Nonnegative matrix factorization (NMF) is a non-exact factorization that factors into one skinny positive matrix and one short positive matrix.  NMF is NP-hard and non-unique.  There are a number of variations on it, created by adding different constraints. "
   ]
  },
  {
   "cell_type": "markdown",
   "metadata": {},
   "source": [
    "- Topic Modeling (our problem!)\n",
    "\n",
    "<img src=\"images/nmf_doc.png\" alt=\"NMF on documents\" style=\"width: 80%\"/>\n",
    "\n",
    "(source: [NMF Tutorial](http://perso.telecom-paristech.fr/~essid/teach/NMF_tutorial_ICME-2014.pdf))"
   ]
  },
  {
   "cell_type": "code",
   "execution_count": 589,
   "metadata": {},
   "outputs": [],
   "source": [
    "# from sklearn.metrics.pairwise import cosine_similarity\n",
    "# import math\n",
    "\n",
    "# def nCr(n,r):\n",
    "#     f = math.factorial\n",
    "#     return f(n) // f(r) // f(n-r)\n",
    "\n",
    "# def mean_pairwise_cosine_sim(topic_terms, num_topics):\n",
    "#     sim_matrix = cosine_similarity(topic_terms) # Construct a topic similarity matrix\n",
    "#     return np.mean(sim_matrix) # Get Mean pairwise cosine similarity for each vector in the topic-word mapping \n",
    "#     #return np.tril(sim_matrix, -1).sum()/nCr(num_topics, 2) # Get Mean pairwise cosine similarity for each vector in the topic-word mapping "
   ]
  },
  {
   "cell_type": "code",
   "execution_count": null,
   "metadata": {},
   "outputs": [],
   "source": [
    "# import dill\n",
    "# filename = data_dir + \"\\\\\" + 'notebook_session_02_02_1251.db'\n",
    "# dill.dump_session(filename)\n",
    "# #dill.load_session('notebook_session.db')"
   ]
  }
 ],
 "metadata": {
  "celltoolbar": "Hide code",
  "hide_code_all_hidden": false,
  "kernelspec": {
   "display_name": "Python 3",
   "language": "python",
   "name": "python3"
  },
  "language_info": {
   "codemirror_mode": {
    "name": "ipython",
    "version": 3
   },
   "file_extension": ".py",
   "mimetype": "text/x-python",
   "name": "python",
   "nbconvert_exporter": "python",
   "pygments_lexer": "ipython3",
   "version": "3.7.9"
  }
 },
 "nbformat": 4,
 "nbformat_minor": 4
}
