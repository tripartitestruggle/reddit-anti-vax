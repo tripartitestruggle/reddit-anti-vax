{
 "cells": [
  {
   "cell_type": "markdown",
   "metadata": {
    "hideCode": false,
    "hidePrompt": false,
    "slideshow": {
     "slide_type": "slide"
    }
   },
   "source": [
    "# Text analysis\n",
    "## r/conspiracy comments containing \"vaccine\"\n",
    "**Group members**\n",
    "* Maheep T\n",
    "* Sanchi S\n",
    "***"
   ]
  },
  {
   "cell_type": "markdown",
   "metadata": {
    "hideCode": false,
    "hidePrompt": false,
    "slideshow": {
     "slide_type": "skip"
    }
   },
   "source": [
    "## Import modules"
   ]
  },
  {
   "cell_type": "code",
   "execution_count": 29,
   "metadata": {
    "hideCode": false,
    "hidePrompt": false,
    "slideshow": {
     "slide_type": "skip"
    }
   },
   "outputs": [],
   "source": [
    "import pandas as pd\n",
    "import nltk\n",
    "import matplotlib.pyplot as plt\n",
    "import re\n",
    "import string\n",
    "from dfply import *\n",
    "import preprocessor as p\n",
    "from nltk import word_tokenize\n",
    "from nltk.tokenize import TweetTokenizer\n",
    "from nltk.corpus import stopwords, wordnet\n",
    "from nltk.stem import PorterStemmer\n",
    "from collections import Counter\n",
    "from kwic import keywords_in_context\n",
    "from operator import itemgetter\n",
    "from datetime import datetime as dt\n",
    "from keyness import log_likelihood\n",
    "\n",
    "# download\n",
    "# nltk.download\n",
    "# nltk.download('wordnet')\n",
    "# nltk.download('stopwords')\n",
    "# nltk.download('punkt')"
   ]
  },
  {
   "cell_type": "markdown",
   "metadata": {
    "hideCode": false,
    "hidePrompt": false,
    "slideshow": {
     "slide_type": "skip"
    }
   },
   "source": [
    "## Read files"
   ]
  },
  {
   "cell_type": "code",
   "execution_count": 2,
   "metadata": {
    "hideCode": false,
    "hidePrompt": false,
    "slideshow": {
     "slide_type": "skip"
    }
   },
   "outputs": [],
   "source": [
    "base_dir = 'C:\\\\Users\\\\Maheep\\\\Documents\\\\TUM\\\\WiSe2020\\\\CSS\\\\code' #import os; os.getcwd()\n",
    "\n",
    "filename = base_dir + \"\\\\\" + \"comments_vaccine_praw.csv\" # comments_vaccine/_praw.csv\n",
    "df_com = pd.read_csv(filename)\n",
    "df_com = df_com.rename({'Submission ID': 's_id', 'Comment ID': 'c_id', 'Body': 'text', 'Publish Date': 'date', 'Author': 'user', 'Score': 'score', 'Permalink': 'link'}, axis=1)\n",
    "\n",
    "filename = base_dir + \"\\\\\" + \"submissions_vaccine.csv\"\n",
    "df_sub = pd.read_csv(filename)\n",
    "df_sub = df_sub.rename({'Post ID': 's_id', 'Title': 'text', 'Publish Date': 'date', 'Score': 'score', 'Permalink': 'link'}, axis=1)\n",
    "\n",
    "filename = base_dir + \"\\\\\" + \"reddit_bots.csv\"\n",
    "df_bots = pd.read_csv(filename)\n",
    "list_bots = df_bots['Name'].tolist() ;"
   ]
  },
  {
   "cell_type": "code",
   "execution_count": 3,
   "metadata": {
    "hideCode": false,
    "hidePrompt": false,
    "slideshow": {
     "slide_type": "skip"
    }
   },
   "outputs": [],
   "source": [
    "# out_file for temp output\n",
    "out_file = base_dir + \"\\\\\" + \"out_file.csv\""
   ]
  },
  {
   "cell_type": "markdown",
   "metadata": {
    "hideCode": false,
    "hidePrompt": false,
    "slideshow": {
     "slide_type": "slide"
    }
   },
   "source": [
    "## Collect Data"
   ]
  },
  {
   "cell_type": "markdown",
   "metadata": {
    "hideCode": false,
    "hidePrompt": false,
    "slideshow": {
     "slide_type": "fragment"
    }
   },
   "source": [
    "* Use pushshift to query \"vaccine\" submissions (reddit posts)"
   ]
  },
  {
   "cell_type": "code",
   "execution_count": 4,
   "metadata": {
    "hideCode": false,
    "hidePrompt": false,
    "slideshow": {
     "slide_type": "-"
    }
   },
   "outputs": [
    {
     "name": "stdout",
     "output_type": "stream",
     "text": [
      "2905  rows in submission data\n"
     ]
    }
   ],
   "source": [
    "print(df_sub.shape[0], \" rows in submission data\")"
   ]
  },
  {
   "cell_type": "markdown",
   "metadata": {
    "hideCode": false,
    "hidePrompt": false,
    "slideshow": {
     "slide_type": "fragment"
    }
   },
   "source": [
    "* Use PRAW to collect comments by iterating over all \"vaccine\" submissions\n",
    "([praw docs](https://praw.readthedocs.io/en/latest/tutorials/comments.html))\n",
    "    * pushshift comment data has a lot of missing values ([Gaffney, Matias 2018](https://journals.plos.org/plosone/article?id=10.1371/journal.pone.0200162) )"
   ]
  },
  {
   "cell_type": "code",
   "execution_count": 5,
   "metadata": {
    "hideCode": false,
    "hidePrompt": false,
    "slideshow": {
     "slide_type": "-"
    }
   },
   "outputs": [
    {
     "name": "stdout",
     "output_type": "stream",
     "text": [
      "77366 rows in comment data\n"
     ]
    }
   ],
   "source": [
    "print(df_com.shape[0], \"rows in comment data\")"
   ]
  },
  {
   "cell_type": "markdown",
   "metadata": {
    "hideCode": false,
    "hidePrompt": false,
    "slideshow": {
     "slide_type": "slide"
    }
   },
   "source": [
    "## Clean-up and pre-processing"
   ]
  },
  {
   "cell_type": "markdown",
   "metadata": {
    "hideCode": false,
    "hidePrompt": false,
    "slideshow": {
     "slide_type": "fragment"
    }
   },
   "source": [
    "* Remove comments -\n",
    "  * where user and text were [deleted]\n",
    "  * where user is a  bot (list of bots from [Klein et. al. 2019](https://journals.plos.org/plosone/article?id=10.1371%2Fjournal.pone.0225098) )"
   ]
  },
  {
   "cell_type": "code",
   "execution_count": 6,
   "metadata": {
    "hideCode": false,
    "hidePrompt": false,
    "slideshow": {
     "slide_type": "skip"
    }
   },
   "outputs": [],
   "source": [
    "df_com['date'] =  df_com['date'].apply(lambda x: dt.strptime(x,'%Y-%m-%d %H:%M:%S')) # convert str to datetime\n",
    "df_com_pp = df_com.copy() # copy to pre-process dataframe\n",
    "df_com_pp = df_com_pp >> mask(~((X.user == '[deleted]') & (X.text == '[deleted]'))) # >> summarize(count=n(X.c_id))\n",
    "df_com_pp = df_com_pp[~df_com_pp['user'].isin(list_bots)]"
   ]
  },
  {
   "cell_type": "markdown",
   "metadata": {
    "hideCode": false,
    "hidePrompt": false,
    "slideshow": {
     "slide_type": "fragment"
    }
   },
   "source": [
    "* Clean - removes URLs, Hashtags, Mentions, Reserved words (RT, FAV), Emojis, Smileys ([Source](https://pypi.org/project/tweet-preprocessor/))"
   ]
  },
  {
   "cell_type": "code",
   "execution_count": 7,
   "metadata": {
    "hideCode": false,
    "hidePrompt": false,
    "slideshow": {
     "slide_type": "skip"
    }
   },
   "outputs": [],
   "source": [
    "def func_clean(text):\n",
    "    text = re.sub(r'[\\r|\\n|\\r\\n]+', \" \",text) # remove extra newlines\n",
    "    text = p.clean(text) # from preprocessor lib\n",
    "    return text\n",
    "    \n",
    "df_com_pp['text'] = df_com_pp['text'].apply(func_clean)"
   ]
  },
  {
   "cell_type": "markdown",
   "metadata": {
    "hideCode": false,
    "hidePrompt": false,
    "slideshow": {
     "slide_type": "fragment"
    }
   },
   "source": [
    "* Expanding contractions ([Source](https://github.com/Apress/text-analytics-w-python-2e/blob/master/Ch03%20-%20Processing%20and%20Understanding%20Text/Ch03a%20-%20Text%20Wrangling.ipynb))"
   ]
  },
  {
   "cell_type": "code",
   "execution_count": 8,
   "metadata": {
    "hideCode": false,
    "hidePrompt": false,
    "slideshow": {
     "slide_type": "skip"
    }
   },
   "outputs": [],
   "source": [
    "from contractions import CONTRACTION_MAP\n",
    "import re\n",
    "\n",
    "def expand_contractions(text, contraction_mapping=CONTRACTION_MAP):\n",
    "    \n",
    "    contractions_pattern = re.compile('({})'.format('|'.join(contraction_mapping.keys())), \n",
    "                                      flags=re.IGNORECASE|re.DOTALL)\n",
    "    def expand_match(contraction):\n",
    "        match = contraction.group(0)\n",
    "        first_char = match[0]\n",
    "        expanded_contraction = contraction_mapping.get(match)\\\n",
    "                                if contraction_mapping.get(match)\\\n",
    "                                else contraction_mapping.get(match.lower())                       \n",
    "        expanded_contraction = first_char+expanded_contraction[1:]\n",
    "        return expanded_contraction\n",
    "        \n",
    "    expanded_text = contractions_pattern.sub(expand_match, text)\n",
    "    expanded_text = re.sub(\"'\", \"\", expanded_text)\n",
    "    return expanded_text\n",
    "\n",
    "df_com_pp['text'] = df_com_pp['text'].apply(expand_contractions)"
   ]
  },
  {
   "cell_type": "markdown",
   "metadata": {
    "hideCode": false,
    "hidePrompt": false,
    "slideshow": {
     "slide_type": "fragment"
    }
   },
   "source": [
    "* Tokenise <= lowercase + remove punctuation ([Source](https://towardsdatascience.com/basic-tweet-preprocessing-in-python-efd8360d529e))"
   ]
  },
  {
   "cell_type": "code",
   "execution_count": 9,
   "metadata": {
    "hideCode": false,
    "hidePrompt": false,
    "slideshow": {
     "slide_type": "skip"
    }
   },
   "outputs": [],
   "source": [
    "df_com_pp['text'] = df_com_pp['text'].apply(lambda x: x.lower()) # lowercase\n",
    "df_com_pp['text'] = df_com_pp['text'].apply(lambda x: x.translate(str.maketrans('', '', string.punctuation))) # remove punctuation\n",
    "\n",
    "tt = TweetTokenizer() # does better than default word_tokenizer\n",
    "df_com_pp['text'] = df_com_pp['text'].apply(tt.tokenize) "
   ]
  },
  {
   "cell_type": "markdown",
   "metadata": {
    "hideCode": false,
    "hidePrompt": false,
    "slideshow": {
     "slide_type": "fragment"
    }
   },
   "source": [
    "* Fix repetition in words e.g. \"Coooolll!\" => \"Cool!\" ([Source](https://github.com/Apress/text-analytics-w-python-2e/blob/master/Ch03%20-%20Processing%20and%20Understanding%20Text/Ch03a%20-%20Text%20Wrangling.ipynb))"
   ]
  },
  {
   "cell_type": "code",
   "execution_count": 10,
   "metadata": {
    "hideCode": false,
    "hidePrompt": false,
    "slideshow": {
     "slide_type": "skip"
    }
   },
   "outputs": [],
   "source": [
    "def remove_repeated_characters(tokens):\n",
    "    repeat_pattern = re.compile(r'(\\w*)(\\w)\\2(\\w*)')\n",
    "    match_substitution = r'\\1\\2\\3'\n",
    "    def replace(old_word):\n",
    "        if wordnet.synsets(old_word):\n",
    "            return old_word\n",
    "        new_word = repeat_pattern.sub(match_substitution, old_word)\n",
    "        return replace(new_word) if new_word != old_word else new_word\n",
    "            \n",
    "    correct_tokens = [replace(word) for word in tokens]\n",
    "    return correct_tokens\n",
    "\n",
    "df_com_pp['text'] = df_com_pp['text'].apply(remove_repeated_characters)"
   ]
  },
  {
   "cell_type": "markdown",
   "metadata": {
    "hideCode": false,
    "hidePrompt": false,
    "slideshow": {
     "slide_type": "fragment"
    }
   },
   "source": [
    "* Remove stopwords"
   ]
  },
  {
   "cell_type": "code",
   "execution_count": 11,
   "metadata": {
    "hideCode": false,
    "hidePrompt": false,
    "slideshow": {
     "slide_type": "skip"
    }
   },
   "outputs": [],
   "source": [
    "stop_words = stopwords.words('english')\n",
    "def func_filter_stopwords(l):\n",
    "    return list([w for w in l if not w in stop_words])\n",
    "df_com_pp['text'] = df_com_pp['text'].apply(func_filter_stopwords)"
   ]
  },
  {
   "cell_type": "markdown",
   "metadata": {
    "hideCode": false,
    "hidePrompt": false,
    "slideshow": {
     "slide_type": "fragment"
    }
   },
   "source": [
    "* Stemming (not lemmatising as it needs the whole sentence context to be effective)"
   ]
  },
  {
   "cell_type": "code",
   "execution_count": 12,
   "metadata": {
    "hideCode": false,
    "hidePrompt": false,
    "slideshow": {
     "slide_type": "skip"
    }
   },
   "outputs": [],
   "source": [
    "ps = PorterStemmer()\n",
    "df_com_pp['text'] = df_com_pp['text'].apply(lambda x: [ps.stem(word) for word in x])"
   ]
  },
  {
   "cell_type": "markdown",
   "metadata": {
    "hideCode": false,
    "hidePrompt": false,
    "slideshow": {
     "slide_type": "slide"
    }
   },
   "source": [
    "## Explore the data"
   ]
  },
  {
   "cell_type": "markdown",
   "metadata": {
    "hideCode": false,
    "hidePrompt": false,
    "slideshow": {
     "slide_type": "subslide"
    }
   },
   "source": [
    "* Weekly comment frequency on \"vaccine\" posts"
   ]
  },
  {
   "cell_type": "code",
   "execution_count": 1,
   "metadata": {
    "hideCode": false,
    "hidePrompt": false,
    "slideshow": {
     "slide_type": "-"
    }
   },
   "outputs": [
    {
     "ename": "NameError",
     "evalue": "name 'pd' is not defined",
     "output_type": "error",
     "traceback": [
      "\u001b[1;31m---------------------------------------------------------------------------\u001b[0m",
      "\u001b[1;31mNameError\u001b[0m                                 Traceback (most recent call last)",
      "\u001b[1;32m<ipython-input-1-9fc154b51c33>\u001b[0m in \u001b[0;36m<module>\u001b[1;34m\u001b[0m\n\u001b[1;32m----> 1\u001b[1;33m \u001b[0mdf_com_pp\u001b[0m\u001b[1;33m[\u001b[0m\u001b[1;34m'week'\u001b[0m\u001b[1;33m]\u001b[0m \u001b[1;33m=\u001b[0m \u001b[0mpd\u001b[0m\u001b[1;33m.\u001b[0m\u001b[0mto_datetime\u001b[0m\u001b[1;33m(\u001b[0m\u001b[0mdf_com_pp\u001b[0m\u001b[1;33m[\u001b[0m\u001b[1;34m'date'\u001b[0m\u001b[1;33m]\u001b[0m\u001b[1;33m)\u001b[0m\u001b[1;33m.\u001b[0m\u001b[0mdt\u001b[0m\u001b[1;33m.\u001b[0m\u001b[0misocalendar\u001b[0m\u001b[1;33m(\u001b[0m\u001b[1;33m)\u001b[0m\u001b[1;33m.\u001b[0m\u001b[0mweek\u001b[0m\u001b[1;33m\u001b[0m\u001b[1;33m\u001b[0m\u001b[0m\n\u001b[0m\u001b[0;32m      2\u001b[0m \u001b[0mdf_new\u001b[0m \u001b[1;33m=\u001b[0m \u001b[0mdf_com_pp\u001b[0m\u001b[1;33m.\u001b[0m\u001b[0mgroupby\u001b[0m\u001b[1;33m(\u001b[0m\u001b[1;34m'week'\u001b[0m\u001b[1;33m)\u001b[0m\u001b[1;33m.\u001b[0m\u001b[0msize\u001b[0m\u001b[1;33m(\u001b[0m\u001b[1;33m)\u001b[0m\u001b[1;33m\u001b[0m\u001b[1;33m\u001b[0m\u001b[0m\n\u001b[0;32m      3\u001b[0m \u001b[1;33m\u001b[0m\u001b[0m\n\u001b[0;32m      4\u001b[0m \u001b[0mfig\u001b[0m \u001b[1;33m=\u001b[0m \u001b[0mplt\u001b[0m\u001b[1;33m.\u001b[0m\u001b[0mfigure\u001b[0m\u001b[1;33m(\u001b[0m\u001b[0mfigsize\u001b[0m\u001b[1;33m=\u001b[0m\u001b[1;33m[\u001b[0m\u001b[1;36m10\u001b[0m\u001b[1;33m,\u001b[0m\u001b[1;36m8\u001b[0m\u001b[1;33m]\u001b[0m\u001b[1;33m)\u001b[0m\u001b[1;33m\u001b[0m\u001b[1;33m\u001b[0m\u001b[0m\n\u001b[0;32m      5\u001b[0m \u001b[0max\u001b[0m \u001b[1;33m=\u001b[0m \u001b[0mplt\u001b[0m\u001b[1;33m.\u001b[0m\u001b[0msubplot\u001b[0m\u001b[1;33m(\u001b[0m\u001b[1;33m)\u001b[0m\u001b[1;33m\u001b[0m\u001b[1;33m\u001b[0m\u001b[0m\n",
      "\u001b[1;31mNameError\u001b[0m: name 'pd' is not defined"
     ]
    }
   ],
   "source": [
    "df_com_pp['week'] = pd.to_datetime(df_com_pp['date']).dt.isocalendar().week\n",
    "df_new = df_com_pp.groupby('week').size()\n",
    "\n",
    "fig = plt.figure(figsize=[10,8])\n",
    "ax = plt.subplot()\n",
    "ax = df_new.plot.barh()\n",
    "ax.set_xlabel('Week in 2020')\n",
    "ax.set_ylabel('Count of comments on \"vaccine\" posts on r/conspiracy')\n",
    "ax.set_title('Weekly comment frequency')\n",
    "# #plt.grid()\n",
    "plt.show()\n",
    "# plt.cla()\n",
    "# plt.clf()\n",
    "# plt.close()"
   ]
  },
  {
   "cell_type": "markdown",
   "metadata": {
    "hideCode": false,
    "hidePrompt": false,
    "slideshow": {
     "slide_type": "subslide"
    }
   },
   "source": [
    "* Weekly comment frequency of comments mentioning \"bill gate\""
   ]
  },
  {
   "cell_type": "code",
   "execution_count": 15,
   "metadata": {
    "hideCode": false,
    "hidePrompt": false
   },
   "outputs": [
    {
     "data": {
      "image/png": "[encoded data removed]",
      "text/plain": [
       "<Figure size 720x720 with 1 Axes>"
      ]
     },
     "metadata": {
      "needs_background": "light"
     },
     "output_type": "display_data"
    }
   ],
   "source": [
    "def func_gates(x):\n",
    "    return True if (('bill' in x) & ('gate' in x)) else False\n",
    "df_com_pp['gates'] = df_com_pp['text'].apply(lambda x: func_gates(x))\n",
    "df_com_pp >> filter_by(X.gates == True)\n",
    "df_new = df_com_pp.groupby('week').agg({'gates' : \"sum\"})\n",
    "\n",
    "\n",
    "fig, ax = plt.subplots()\n",
    "fig.set_size_inches([10,10])\n",
    "#ax = df_new.plot.bar(y='gates')\n",
    "ax.bar(df_new.index,df_new['gates'].tolist())\n",
    "ax.set_xticks(df_new.index.tolist())\n",
    "ax.set_xlabel('Week in 2020')\n",
    "ax.set_ylabel('Count of \\'bill gate\\' mentions in comments on r/conspiracy')\n",
    "ax.set_title('\\'bill gate\\' frequency')\n",
    "# #plt.grid()\n",
    "plt.show()"
   ]
  },
  {
   "cell_type": "markdown",
   "metadata": {
    "hideCode": false,
    "hidePrompt": false,
    "slideshow": {
     "slide_type": "subslide"
    }
   },
   "source": [
    "* Weekly comment frequency of comments mentioning \"side effect\""
   ]
  },
  {
   "cell_type": "code",
   "execution_count": 27,
   "metadata": {
    "hideCode": false,
    "hidePrompt": false,
    "slideshow": {
     "slide_type": "-"
    }
   },
   "outputs": [
    {
     "data": {
      "image/png": "[encoded data removed]",
      "text/plain": [
       "<Figure size 720x720 with 1 Axes>"
      ]
     },
     "metadata": {
      "needs_background": "light"
     },
     "output_type": "display_data"
    }
   ],
   "source": [
    "def func_effect(x):\n",
    "    return True if (('side' in x) & ('effect' in x)) else False\n",
    "df_com_pp['effect'] = df_com_pp['text'].apply(lambda x: func_effect(x))\n",
    "df_new = df_com_pp.groupby('week').agg({'effect' : \"sum\"})\n",
    "\n",
    "\n",
    "fig, ax = plt.subplots()\n",
    "fig.set_size_inches([10,10])\n",
    "#ax = df_new.plot.bar(y='gates')\n",
    "ax.bar(df_new.index,df_new['effect'].tolist())\n",
    "ax.set_xticks(df_new.index.tolist())\n",
    "ax.set_xlabel('Week in 2020')\n",
    "ax.set_ylabel('Count of \\'side effect\\' mentions in comments on r/conspiracy')\n",
    "ax.set_title('\\'side effect\\' frequency')\n",
    "# #plt.grid()\n",
    "plt.show()"
   ]
  },
  {
   "cell_type": "markdown",
   "metadata": {
    "hideCode": false,
    "hidePrompt": false,
    "slideshow": {
     "slide_type": "subslide"
    }
   },
   "source": [
    "* Most important words/phrases ([Source](https://github.com/Apress/text-analytics-w-python-2e/blob/master/Ch06%20-%20Text%20Summarization%20and%20Topic%20Models/Ch06a%20-%20Text%20Keyphrase%20Extraction.ipynb))"
   ]
  },
  {
   "cell_type": "code",
   "execution_count": 17,
   "metadata": {
    "hideCode": false,
    "hidePrompt": false,
    "slideshow": {
     "slide_type": "skip"
    }
   },
   "outputs": [],
   "source": [
    "def compute_ngrams(sequence, n):\n",
    "    return list(\n",
    "            zip(*(sequence[index:] \n",
    "                     for index in range(n)))\n",
    "    )\n",
    "\n",
    "def get_top_ngrams(tokens, ngram_val=1, limit=5):\n",
    "\n",
    "    ngrams = compute_ngrams(tokens, ngram_val)\n",
    "    ngrams_freq_dist = nltk.FreqDist(ngrams)\n",
    "    sorted_ngrams_fd = sorted(ngrams_freq_dist.items(), \n",
    "                              key=itemgetter(1), reverse=True)\n",
    "    sorted_ngrams = sorted_ngrams_fd[0:limit]\n",
    "    sorted_ngrams = [(' '.join(text), freq) \n",
    "                     for text, freq in sorted_ngrams]\n",
    "\n",
    "    return sorted_ngrams\n",
    "list_tokens_flattened = [token for text in df_com_pp['text'].tolist() for token in text]\n",
    "#get_top_ngrams(list_tokens_flattened,2,10)"
   ]
  },
  {
   "cell_type": "code",
   "execution_count": 18,
   "metadata": {
    "hideCode": false,
    "hidePrompt": false,
    "scrolled": false,
    "slideshow": {
     "slide_type": "-"
    }
   },
   "outputs": [
    {
     "data": {
      "text/plain": [
       "[('bill gate', 1941),\n",
       " ('covid 19', 1618),\n",
       " ('get vaccin', 1341),\n",
       " ('side effect', 1043),\n",
       " ('immun system', 989),\n",
       " ('take vaccin', 957),\n",
       " ('flu vaccin', 822),\n",
       " ('flu shot', 810),\n",
       " ('wear mask', 656),\n",
       " ('big pharma', 598)]"
      ]
     },
     "execution_count": 18,
     "metadata": {},
     "output_type": "execute_result"
    }
   ],
   "source": [
    "get_top_ngrams(list_tokens_flattened,2,10)"
   ]
  },
  {
   "cell_type": "code",
   "execution_count": 19,
   "metadata": {
    "hideCode": false,
    "hidePrompt": false,
    "slideshow": {
     "slide_type": "subslide"
    }
   },
   "outputs": [
    {
     "data": {
      "text/plain": [
       "[('vaccin', 33026),\n",
       " ('peopl', 16235),\n",
       " ('get', 11552),\n",
       " ('like', 11039),\n",
       " ('would', 10285),\n",
       " ('one', 8650),\n",
       " ('know', 7424),\n",
       " ('think', 7250),\n",
       " ('go', 7217),\n",
       " ('say', 7143),\n",
       " ('make', 7010),\n",
       " ('take', 6370),\n",
       " ('even', 5818),\n",
       " ('covid', 5648),\n",
       " ('viru', 5602),\n",
       " ('use', 5431),\n",
       " ('year', 5412),\n",
       " ('us', 5404),\n",
       " ('want', 5279),\n",
       " ('work', 5079),\n",
       " ('time', 5075),\n",
       " ('also', 4716),\n",
       " ('thing', 4655),\n",
       " ('need', 4345),\n",
       " ('see', 4281),\n",
       " ('test', 4265),\n",
       " ('right', 4263),\n",
       " ('dont', 4039),\n",
       " ('effect', 3995),\n",
       " ('flu', 3948)]"
      ]
     },
     "execution_count": 19,
     "metadata": {},
     "output_type": "execute_result"
    }
   ],
   "source": [
    "get_top_ngrams(list_tokens_flattened,1,30)"
   ]
  },
  {
   "cell_type": "markdown",
   "metadata": {
    "hideCode": false,
    "hidePrompt": false,
    "slideshow": {
     "slide_type": "skip"
    }
   },
   "source": [
    "* DFM ([Source](https://blog.koheiw.net/?p=468))"
   ]
  },
  {
   "cell_type": "code",
   "execution_count": 20,
   "metadata": {
    "hideCode": false,
    "hidePrompt": false,
    "slideshow": {
     "slide_type": "skip"
    }
   },
   "outputs": [
    {
     "name": "stdout",
     "output_type": "stream",
     "text": [
      "Serialize tokens\n",
      "Construct a document-feature matrix\n",
      "Dictionary(34727 unique tokens: ['admit', 'antivax', 'big', 'billion', 'campaign']...)\n"
     ]
    }
   ],
   "source": [
    "from gensim import corpora, models\n",
    "\n",
    "print(\"Serialize tokens\")\n",
    "dic = corpora.Dictionary(df_com_pp['text'].tolist())\n",
    "\n",
    "print(\"Construct a document-feature matrix\")\n",
    "mx = [dic.doc2bow(tok) for tok in df_com_pp['text'].tolist()]\n",
    "\n",
    "print(dic)"
   ]
  },
  {
   "cell_type": "markdown",
   "metadata": {
    "hideCode": false,
    "hidePrompt": false,
    "slideshow": {
     "slide_type": "subslide"
    }
   },
   "source": [
    "* Keyness (Sources [1](http://www.thegrammarlab.com/?p=193) [2](http://ucrel.lancs.ac.uk/llwizard.html))\n",
    "  * The log_likelihood() function will return a rank ordered list with the following data in each item: - the item - its log likelihood value - its frequency in the corpus - its frequency in the reference corpus ([Source](https://github.com/mikesuhan/keyness))\n",
    "  * ct.keyness() gives only effect sizes are reported (p values are arguably not particularly useful for keyness analyses). Keyness calculation options include \"log-ratio\", \"%diff\", and \"odds-ratio\". ([Source](https://github.com/kristopherkyle/corpus_toolkit))"
   ]
  },
  {
   "cell_type": "code",
   "execution_count": 21,
   "metadata": {
    "hideCode": false,
    "hidePrompt": false,
    "slideshow": {
     "slide_type": "skip"
    }
   },
   "outputs": [],
   "source": [
    "#cutoff_date = dt(2020,10,1,0,0,0)\n",
    "#cutoff_date = dt(2020,7,27,0,0,0) #Pfizer and BionTech start trials\n",
    "cutoff_date = dt(2020,12,2,0,0,0) #Pfizer and BionTech start trials\n",
    "\n",
    "df_temp = df_com_pp >> filter_by(X.date > cutoff_date)\n",
    "corpus = df_temp['text'].tolist()\n",
    "\n",
    "df_temp = df_com_pp >> filter_by(~(X.date > cutoff_date))\n",
    "reference_corpus = df_temp['text'].tolist()"
   ]
  },
  {
   "cell_type": "code",
   "execution_count": 32,
   "metadata": {
    "hideCode": false,
    "hidePrompt": false,
    "scrolled": true,
    "slideshow": {
     "slide_type": "-"
    }
   },
   "outputs": [
    {
     "name": "stdout",
     "output_type": "stream",
     "text": [
      "Cutoff date is  2020-12-02 00:00:00\n"
     ]
    },
    {
     "data": {
      "text/plain": [
       "[('wodarg', 199.857, 29, 0),\n",
       " ('yeadon', 197.979, 30, 1),\n",
       " ('spike', 180.387, 66, 180),\n",
       " ('protein', 161.914, 96, 521),\n",
       " ('mrna', 155.503, 102, 618),\n",
       " ('ema', 151.427, 24, 2),\n",
       " ('syncytin', 144.724, 21, 0),\n",
       " ('messag', 120.109, 57, 234),\n",
       " ('cosign', 116.279, 18, 1),\n",
       " ('placenta', 107.019, 18, 3),\n",
       " ('hesit', 102.469, 32, 64),\n",
       " ('trump', 92.559, 23, 3198),\n",
       " ('gate', 91.122, 32, 3682),\n",
       " ('biontechpf', 89.591, 13, 0),\n",
       " ('infertil', 84.88, 32, 92),\n",
       " ('petit', 82.354, 25, 47),\n",
       " ('dr', 79.338, 78, 679),\n",
       " ('expfiz', 68.916, 10, 0),\n",
       " ('162b', 62.025, 9, 0),\n",
       " ('wolfgang', 62.025, 9, 0),\n",
       " ('euwid', 62.025, 9, 0),\n",
       " ('eudract', 62.025, 9, 0),\n",
       " ('0264142', 62.025, 9, 0),\n",
       " ('flint', 60.174, 12, 6),\n",
       " ('bill', 59.719, 25, 2631),\n",
       " ('bot', 57.51, 38, 232),\n",
       " ('worker', 54.45, 43, 312),\n",
       " ('durat', 54.436, 17, 34),\n",
       " ('polio', 53.763, 19, 2179),\n",
       " ('bnt', 51.723, 9, 2),\n",
       " ('covid', 51.063, 282, 5366),\n",
       " ('manual', 48.925, 12, 13),\n",
       " ('unspecifi', 48.723, 9, 3),\n",
       " ('dna', 45.685, 80, 1001),\n",
       " ('profusa', 42.278, 7, 1),\n",
       " ('format', 41.37, 14, 33),\n",
       " ('lockdown', 40.381, 58, 651),\n",
       " ('suspens', 39.378, 10, 12),\n",
       " ('freedom', 39.227, 54, 591),\n",
       " ('take', 38.621, 296, 6074),\n",
       " ('specialist', 38.366, 14, 38),\n",
       " ('inalien', 35.673, 6, 1),\n",
       " ('schafner', 35.673, 6, 1),\n",
       " ('hipa', 35.007, 12, 29),\n",
       " ('approv', 34.97, 49, 542),\n",
       " ('long', 34.778, 112, 1815),\n",
       " ('vaccin', 34.625, 1246, 31780),\n",
       " ('cell', 33.793, 82, 1193),\n",
       " ('rush', 32.831, 58, 729),\n",
       " ('nurs', 31.392, 33, 302),\n",
       " ('michael', 31.292, 10, 21),\n",
       " ('uk', 31.027, 42, 455),\n",
       " ('women', 30.997, 35, 337),\n",
       " ('agenc', 30.808, 26, 200),\n",
       " ('1', 28.904, 30, 272),\n",
       " ('npafp', 28.64, 0, 442),\n",
       " ('surviv', 28.061, 46, 556),\n",
       " ('economicperson', 27.567, 4, 0),\n",
       " ('syncytinhomolog', 27.567, 4, 0),\n",
       " ('mesageconom', 27.567, 4, 0),\n",
       " ('mesagecomun', 27.567, 4, 0),\n",
       " ('mesageselfinterest', 27.567, 4, 0),\n",
       " ('phycolog', 27.567, 4, 0),\n",
       " ('stunt', 27.199, 8, 14),\n",
       " ('cov', 25.015, 12, 50),\n",
       " ('reluct', 23.859, 6, 7),\n",
       " ('bodi', 23.116, 116, 2153),\n",
       " ('term', 23.017, 67, 1047),\n",
       " ('employ', 22.639, 25, 237),\n",
       " ('mew', 22.627, 4, 1),\n",
       " ('regroup', 22.627, 4, 1),\n",
       " ('rna', 22.424, 45, 602),\n",
       " ('get', 22.379, 461, 11091),\n",
       " ('case', 22.148, 50, 2785),\n",
       " ('countri', 21.967, 33, 2073),\n",
       " ('formaldehyd', 21.855, 10, 39),\n",
       " ('rn', 21.833, 9, 30),\n",
       " ('warpsp', 21.743, 6, 9),\n",
       " ('instruct', 21.687, 16, 109),\n",
       " ('reset', 21.543, 14, 84),\n",
       " ('injuri', 20.776, 4, 647),\n",
       " ('rebal', 20.675, 3, 0),\n",
       " ('ps4', 20.675, 3, 0),\n",
       " ('multigener', 20.675, 3, 0),\n",
       " ('ohna', 20.675, 3, 0),\n",
       " ('hesist', 20.058, 4, 2),\n",
       " ('jama', 20.058, 4, 2),\n",
       " ('contain', 19.723, 36, 460),\n",
       " ('russian', 19.633, 0, 303),\n",
       " ('public', 19.629, 85, 1514),\n",
       " ('healthcar', 19.629, 35, 442),\n",
       " ('angel', 19.321, 9, 36),\n",
       " ('lamb', 19.213, 6, 12),\n",
       " ('upward', 19.213, 6, 12),\n",
       " ('tribul', 19.183, 7, 19),\n",
       " ('passport', 19.055, 14, 95),\n",
       " ('former', 18.794, 16, 124),\n",
       " ('raptur', 18.378, 8, 29),\n",
       " ('effect', 17.876, 177, 3818),\n",
       " ('free', 17.683, 57, 924),\n",
       " ('foundat', 17.613, 7, 756),\n",
       " ('india', 17.436, 2, 453),\n",
       " ('head', 17.344, 41, 590),\n",
       " ('sketch', 17.194, 6, 15),\n",
       " ('throne', 17.194, 6, 15),\n",
       " ('revel', 17.137, 15, 119),\n",
       " ('vital', 16.94, 10, 54),\n",
       " ('seal', 16.895, 9, 43),\n",
       " ('femal', 16.895, 9, 43),\n",
       " ('mileni', 16.605, 6, 16),\n",
       " ('fund', 16.442, 11, 933),\n",
       " ('lead', 16.259, 41, 606),\n",
       " ('surfact', 16.241, 3, 1),\n",
       " ('promiscu', 16.241, 3, 1),\n",
       " ('obtain', 16.141, 13, 96),\n",
       " ('reorgan', 16.049, 6, 17),\n",
       " ('cdc', 16.03, 11, 923),\n",
       " ('hydrogel', 16.011, 5, 10),\n",
       " ('feel', 15.996, 79, 1460),\n",
       " ('antichrist', 15.953, 13, 97),\n",
       " ('hpv', 15.932, 2, 426),\n",
       " ('satan', 15.83, 17, 158),\n",
       " ('european', 15.585, 13, 99),\n",
       " ('queri', 15.525, 4, 5),\n",
       " ('commonplac', 15.525, 4, 5),\n",
       " ('qanta', 15.525, 4, 5),\n",
       " ('cage', 15.524, 6, 18),\n",
       " ('eu', 15.388, 10, 60),\n",
       " ('pfizer', 15.204, 35, 498),\n",
       " ('he', 15.191, 7, 703),\n",
       " ('tell', 15.134, 95, 1865),\n",
       " ('word', 15.067, 17, 1176),\n",
       " ('coercion', 15.027, 6, 19),\n",
       " ('coronaviru', 14.811, 22, 1387),\n",
       " ('messeng', 14.775, 8, 39),\n",
       " ('treatment', 14.647, 8, 742),\n",
       " ('parti', 14.614, 1, 329),\n",
       " ('first', 14.546, 116, 2400),\n",
       " ('trend', 14.456, 12, 91),\n",
       " ('mad', 14.366, 17, 169),\n",
       " ('aluminium', 14.292, 7, 30),\n",
       " ('injur', 14.255, 0, 220),\n",
       " ('outbreak', 14.24, 4, 519),\n",
       " ('stimulu', 14.095, 9, 53),\n",
       " ('skit', 14.074, 3, 2),\n",
       " ('seventh', 14.074, 3, 2),\n",
       " ('trna', 14.074, 3, 2),\n",
       " ('avatar', 14.074, 3, 2),\n",
       " ('neatli', 14.074, 3, 2),\n",
       " ('trust', 14.051, 84, 1630),\n",
       " ('analysi', 13.931, 0, 215),\n",
       " ('code', 13.908, 25, 317),\n",
       " ('christ', 13.867, 18, 190),\n",
       " ('nucleu', 13.849, 9, 54),\n",
       " ('theragrip', 13.783, 2, 0),\n",
       " ('speck', 13.783, 2, 0),\n",
       " ('noneutr', 13.783, 2, 0),\n",
       " ('cobalt', 13.783, 2, 0),\n",
       " ('312', 13.783, 2, 0),\n",
       " ('hickenlop', 13.783, 2, 0),\n",
       " ('mrnatrna', 13.783, 2, 0),\n",
       " ('mcafe', 13.783, 2, 0),\n",
       " ('nolockdown', 13.783, 2, 0),\n",
       " ('anywho', 13.783, 2, 0),\n",
       " ('wilhemshir', 13.783, 2, 0),\n",
       " ('nonemerg', 13.783, 2, 0),\n",
       " ('socialwelfar', 13.783, 2, 0),\n",
       " ('poresum', 13.783, 2, 0),\n",
       " ('citiat', 13.783, 2, 0),\n",
       " ('zamfir', 13.783, 2, 0),\n",
       " ('octopuss', 13.783, 2, 0),\n",
       " ('sermon', 13.783, 2, 0),\n",
       " ('prehistor', 13.783, 2, 0),\n",
       " ('nahe', 13.783, 2, 0),\n",
       " ('exemploy', 13.783, 2, 0),\n",
       " ('toynbe', 13.783, 2, 0),\n",
       " ('hepburn', 13.783, 2, 0),\n",
       " ('mckinsey', 13.783, 2, 0),\n",
       " ('aru', 13.783, 2, 0),\n",
       " ('sitewid', 13.783, 2, 0),\n",
       " ('flute', 13.783, 2, 0),\n",
       " ('erna', 13.783, 2, 0),\n",
       " ('lessen', 13.679, 6, 22),\n",
       " ('chang', 13.623, 75, 1426),\n",
       " ('floor', 13.607, 7, 32),\n",
       " ('autism', 13.429, 10, 811),\n",
       " ('applic', 13.402, 13, 112),\n",
       " ('sign', 13.075, 29, 406),\n",
       " ('vote', 13.066, 7, 655),\n",
       " ('corrupt', 12.965, 4, 493),\n",
       " ('cienc', 12.937, 5, 15),\n",
       " ('transcriptas', 12.881, 6, 24),\n",
       " ('render', 12.881, 6, 24),\n",
       " ('herd', 12.722, 4, 488),\n",
       " ('kid', 12.72, 29, 1611),\n",
       " ('fauci', 12.685, 8, 696),\n",
       " ('nanotech', 12.662, 7, 35),\n",
       " ('decemb', 12.651, 13, 117),\n",
       " ('chanc', 12.646, 49, 844),\n",
       " ('torah', 12.552, 3, 3),\n",
       " ('rewritten', 12.552, 3, 3),\n",
       " ('faraday', 12.552, 3, 3),\n",
       " ('stalker', 12.552, 3, 3),\n",
       " ('cia', 12.506, 0, 193),\n",
       " ('excel', 12.441, 11, 88),\n",
       " ('militari', 12.414, 9, 738),\n",
       " ('per', 12.395, 5, 536),\n",
       " ('fox', 12.246, 0, 189),\n",
       " ('logic', 12.178, 38, 609),\n",
       " ('blueprint', 12.15, 6, 26),\n",
       " ('braveri', 12.101, 4, 9),\n",
       " ('infect', 12.081, 31, 1669),\n",
       " ('evil', 12.072, 5, 529),\n",
       " ('bacteria', 12.052, 0, 186),\n",
       " ('particular', 12.036, 19, 225),\n",
       " ('evid', 12.011, 26, 1465),\n",
       " ('baselin', 11.977, 5, 17),\n",
       " ('roll', 11.886, 24, 322),\n",
       " ('microchip', 11.814, 3, 412),\n",
       " ('admir', 11.806, 6, 27),\n",
       " ('habit', 11.803, 7, 38),\n",
       " ('fever', 11.713, 18, 210),\n",
       " ('childhood', 11.598, 0, 179),\n",
       " ('progress', 11.534, 0, 178),\n",
       " ('cfr', 11.534, 7, 39),\n",
       " ('contact', 11.533, 20, 249),\n",
       " ('propaganda', 11.486, 6, 568),\n",
       " ('gradual', 11.476, 6, 28),\n",
       " ('western', 11.469, 0, 177),\n",
       " ('accept', 11.464, 39, 644),\n",
       " ('video', 11.452, 17, 1072),\n",
       " ('big', 11.427, 32, 1685),\n",
       " ('bilskin', 11.373, 3, 4),\n",
       " ('onlinebig', 11.373, 3, 4),\n",
       " ('hutchison', 11.373, 3, 4),\n",
       " ('dosnt', 11.373, 3, 4),\n",
       " ('frown', 11.373, 3, 4),\n",
       " ('entic', 11.373, 3, 4),\n",
       " ('puls', 11.274, 0, 174),\n",
       " ('depart', 11.25, 15, 161),\n",
       " ('sourc', 11.219, 36, 1834),\n",
       " ('side', 11.165, 84, 1717),\n",
       " ('sceptic', 11.159, 6, 29),\n",
       " ('row', 11.159, 6, 29),\n",
       " ('licens', 11.153, 2, 338),\n",
       " ('winter', 11.141, 10, 81),\n",
       " ('paralysi', 11.129, 1, 269),\n",
       " ('author', 11.034, 37, 608),\n",
       " ('price', 11.014, 1, 267),\n",
       " ('packag', 10.949, 8, 54),\n",
       " ('sweden', 10.886, 0, 168),\n",
       " ('eras', 10.882, 4, 11),\n",
       " ('robert', 10.821, 0, 167),\n",
       " ('team', 10.785, 1, 263),\n",
       " ('ach', 10.734, 5, 20),\n",
       " ('melinda', 10.691, 0, 165),\n",
       " ('p', 10.626, 0, 164),\n",
       " ('declar', 10.626, 0, 164),\n",
       " ('carcinogen', 10.559, 6, 31),\n",
       " ('film', 10.535, 8, 56),\n",
       " ('stori', 10.506, 9, 690),\n",
       " ('obama', 10.417, 14, 151),\n",
       " ('threat', 10.415, 20, 262),\n",
       " ('klau', 10.414, 3, 5),\n",
       " ('cower', 10.414, 3, 5),\n",
       " ('sixth', 10.414, 3, 5),\n",
       " ('access', 10.414, 2, 324),\n",
       " ('definit', 10.303, 13, 865),\n",
       " ('antibiot', 10.303, 0, 159),\n",
       " ('maximum', 10.275, 6, 32),\n",
       " ('diseas', 10.16, 55, 2508),\n",
       " ('appeal', 10.137, 11, 103),\n",
       " ('oral', 10.108, 0, 156),\n",
       " ('c19', 10.07, 7, 45),\n",
       " ('post', 10.037, 51, 2354),\n",
       " ('bolsanaro', 10.029, 2, 1),\n",
       " ('aminoacid', 10.029, 2, 1),\n",
       " ('wah', 10.029, 2, 1),\n",
       " ('yahweh', 10.029, 2, 1),\n",
       " ('moonshin', 10.029, 2, 1),\n",
       " ('oversaw', 10.029, 2, 1),\n",
       " ('lpn', 10.029, 2, 1),\n",
       " ('imunesystem', 10.029, 2, 1),\n",
       " ('milgram', 10.029, 2, 1),\n",
       " ('damp', 10.029, 2, 1),\n",
       " ('reversetranscriptas', 10.029, 2, 1),\n",
       " ('mercolacom', 10.029, 2, 1),\n",
       " ('ang', 10.029, 2, 1),\n",
       " ('pandemonium', 10.029, 2, 1),\n",
       " ('bluf', 10.029, 2, 1),\n",
       " ('immedi', 10.01, 20, 267),\n",
       " ('saint', 10.009, 5, 22),\n",
       " ('tent', 10.009, 5, 22),\n",
       " ('democrat', 9.996, 2, 316),\n",
       " ('comment', 9.978, 74, 1508),\n",
       " ('recoveri', 9.948, 8, 59),\n",
       " ('stay', 9.898, 10, 720),\n",
       " ('paradis', 9.859, 4, 13),\n",
       " ('bsl', 9.849, 7, 46),\n",
       " ('opv', 9.784, 0, 151),\n",
       " ('epidem', 9.703, 1, 244),\n",
       " ('hcq', 9.683, 2, 310),\n",
       " ('unfold', 9.672, 5, 23),\n",
       " ('studi', 9.634, 127, 2874),\n",
       " ('patron', 9.606, 3, 6),\n",
       " ('south', 9.525, 0, 147),\n",
       " ('slipperi', 9.48, 6, 35),\n",
       " ('request', 9.34, 11, 109),\n",
       " ('chines', 9.269, 2, 302),\n",
       " ('billion', 9.212, 18, 1044),\n",
       " ('heaven', 9.207, 9, 78),\n",
       " ('desir', 9.165, 10, 94),\n",
       " ('elect', 9.161, 10, 700),\n",
       " ('sentenc', 9.071, 0, 140),\n",
       " ('file', 9.066, 16, 201),\n",
       " ('blind', 9.063, 2, 298),\n",
       " ('employe', 9.042, 13, 146),\n",
       " ('voluntari', 9.029, 10, 95),\n",
       " ('utopia', 9.018, 7, 50),\n",
       " ('judgment', 8.993, 6, 37),\n",
       " ('audienc', 8.993, 6, 37),\n",
       " ('miseri', 8.982, 4, 15),\n",
       " ('germani', 8.942, 0, 138),\n",
       " ('trial', 8.925, 32, 1589),\n",
       " ('pneumonia', 8.914, 1, 230),\n",
       " ('relev', 8.914, 1, 230),\n",
       " ('corporat', 8.911, 3, 7),\n",
       " ('aah', 8.911, 3, 7),\n",
       " ('triniti', 8.911, 3, 7),\n",
       " ('legisl', 8.877, 0, 137),\n",
       " ('inert', 8.877, 0, 137),\n",
       " ('vitamin', 8.858, 2, 294),\n",
       " ('contagi', 8.832, 13, 148),\n",
       " ('health', 8.763, 96, 2108),\n",
       " ('screen', 8.683, 0, 134),\n",
       " ('hiv', 8.649, 4, 401),\n",
       " ('test', 8.638, 171, 4094),\n",
       " ('ribosom', 8.634, 7, 52),\n",
       " ('revers', 8.631, 10, 98),\n",
       " ('world', 8.623, 82, 3402),\n",
       " ('refus', 8.619, 41, 750),\n",
       " ('mommi', 8.587, 4, 16),\n",
       " ('mhra', 8.587, 4, 16),\n",
       " ('exploit', 8.551, 8, 67),\n",
       " ('slope', 8.536, 6, 39),\n",
       " ('yellow', 8.536, 6, 39),\n",
       " ('battl', 8.471, 9, 83),\n",
       " ('shine', 8.47, 5, 27),\n",
       " ('longterm', 8.465, 16, 208),\n",
       " ('measur', 8.435, 5, 447),\n",
       " ('caus', 8.38, 75, 3140),\n",
       " ('uracil', 8.368, 2, 2),\n",
       " ('lego', 8.368, 2, 2),\n",
       " ('superspread', 8.368, 2, 2),\n",
       " ('daisi', 8.368, 2, 2),\n",
       " ('dev', 8.368, 2, 2),\n",
       " ('vigilant', 8.368, 2, 2),\n",
       " ('petition', 8.368, 2, 2),\n",
       " ('lvl', 8.368, 2, 2),\n",
       " ('gown', 8.368, 2, 2),\n",
       " ('unrecogniz', 8.368, 2, 2),\n",
       " ('loki', 8.368, 2, 2),\n",
       " ('whini', 8.368, 2, 2),\n",
       " ('seeth', 8.368, 2, 2),\n",
       " ('welsh', 8.368, 2, 2),\n",
       " ('darken', 8.368, 2, 2),\n",
       " ('racist', 8.359, 0, 129),\n",
       " ('coupl', 8.335, 4, 394),\n",
       " ('urg', 8.318, 6, 40),\n",
       " ('essenti', 8.309, 20, 290),\n",
       " ('merchandis', 8.302, 3, 8),\n",
       " ('taker', 8.302, 3, 8),\n",
       " ('virus', 8.262, 19, 1053),\n",
       " ('desper', 8.251, 10, 101),\n",
       " ('correl', 8.246, 4, 392),\n",
       " ('infant', 8.244, 1, 218),\n",
       " ('authoritarian', 8.229, 0, 127),\n",
       " ('compens', 8.188, 1, 217),\n",
       " ('accord', 8.181, 5, 441),\n",
       " ('alter', 8.156, 21, 313),\n",
       " ('dark', 8.113, 12, 137),\n",
       " ('intent', 8.109, 3, 336),\n",
       " ('acut', 8.099, 0, 125),\n",
       " ('context', 8.077, 1, 215),\n",
       " ('review', 8.068, 4, 388),\n",
       " ('hard', 8.046, 45, 859),\n",
       " ('stop', 8.043, 75, 1600),\n",
       " ('condescend', 7.942, 5, 29),\n",
       " ('spain', 7.942, 5, 29),\n",
       " ('ive', 7.939, 37, 673),\n",
       " ('techniqu', 7.925, 9, 87),\n",
       " ('see', 7.907, 170, 4111),\n",
       " ('bacteri', 7.905, 0, 122),\n",
       " ('widespread', 7.905, 0, 122),\n",
       " ('religion', 7.893, 2, 275),\n",
       " ('white', 7.892, 4, 384),\n",
       " ('situat', 7.886, 5, 434),\n",
       " ('hydroxychloroquin', 7.855, 1, 211),\n",
       " ('agent', 7.855, 1, 211),\n",
       " ('immunocompromis', 7.815, 11, 122),\n",
       " ('requir', 7.788, 58, 1183),\n",
       " ('region', 7.775, 0, 120),\n",
       " ('met', 7.775, 0, 120),\n",
       " ('work', 7.77, 198, 4881),\n",
       " ('zoom', 7.762, 3, 9),\n",
       " ('merch', 7.762, 3, 9),\n",
       " ('rfk', 7.744, 1, 209),\n",
       " ('johnson', 7.688, 3, 327),\n",
       " ('uniqu', 7.646, 0, 118),\n",
       " ('campaign', 7.592, 2, 269),\n",
       " ('ade', 7.544, 4, 19),\n",
       " ('investig', 7.542, 2, 268),\n",
       " ('spin', 7.516, 0, 116),\n",
       " ('round', 7.456, 3, 322),\n",
       " ('100000', 7.452, 0, 115),\n",
       " ('flow', 7.452, 0, 115),\n",
       " ('corpor', 7.436, 31, 546),\n",
       " ('felt', 7.425, 10, 108),\n",
       " ('scan', 7.387, 0, 114),\n",
       " ('prescrib', 7.387, 0, 114),\n",
       " ('chloroquin', 7.387, 0, 114),\n",
       " ('reduc', 7.384, 9, 606),\n",
       " ('away', 7.358, 17, 941),\n",
       " ('imagin', 7.344, 32, 571),\n",
       " ('defend', 7.343, 2, 264),\n",
       " ('w', 7.322, 0, 113),\n",
       " ('spi', 7.32, 6, 45),\n",
       " ('godi', 7.278, 3, 10),\n",
       " ('bodili', 7.264, 7, 60),\n",
       " ('acknowledg', 7.257, 0, 112),\n",
       " ('antibodydepend', 7.248, 2, 3),\n",
       " ('sympathet', 7.248, 2, 3),\n",
       " ('wax', 7.248, 2, 3),\n",
       " ('morgelon', 7.248, 2, 3),\n",
       " ('gerald', 7.248, 2, 3),\n",
       " ('jiz', 7.248, 2, 3),\n",
       " ('understaf', 7.248, 2, 3),\n",
       " ('neutron', 7.248, 2, 3),\n",
       " ('proton', 7.248, 2, 3),\n",
       " ('bruce', 7.248, 2, 3),\n",
       " ('tortur', 7.225, 5, 32),\n",
       " ('itali', 7.192, 0, 111),\n",
       " ('end', 7.166, 63, 1329),\n",
       " ('pure', 7.14, 1, 198),\n",
       " ('interfer', 7.128, 0, 110),\n",
       " ('elon', 7.085, 1, 197),\n",
       " ('genet', 7.078, 30, 531),\n",
       " ('op', 7.075, 8, 553),\n",
       " ('similar', 7.075, 8, 553),\n",
       " ('overwhelm', 7.063, 0, 109),\n",
       " ('empir', 6.998, 0, 108),\n",
       " ('degrad', 6.959, 6, 47),\n",
       " ('socal', 6.957, 8, 78),\n",
       " ('movement', 6.947, 2, 256),\n",
       " ('resurg', 6.944, 4, 21),\n",
       " ('overli', 6.944, 4, 21),\n",
       " ('shill', 6.939, 34, 627),\n",
       " ('cover', 6.937, 5, 411),\n",
       " ('british', 6.934, 9, 95),\n",
       " ('celebr', 6.933, 0, 107),\n",
       " ('tptb', 6.933, 0, 107),\n",
       " ('act', 6.923, 33, 604),\n",
       " ('saf', 6.892, 1, 0),\n",
       " ('thirsti', 6.892, 1, 0),\n",
       " ('nec', 6.892, 1, 0),\n",
       " ('eficacyefectiven', 6.892, 1, 0),\n",
       " ('transhum', 6.892, 1, 0),\n",
       " ('ucon', 6.892, 1, 0),\n",
       " ('multivari', 6.892, 1, 0),\n",
       " ('depopulationmanipul', 6.892, 1, 0),\n",
       " ('advac', 6.892, 1, 0),\n",
       " ('2931', 6.892, 1, 0),\n",
       " ('preparecondit', 6.892, 1, 0),\n",
       " ('shapechang', 6.892, 1, 0),\n",
       " ('bililon', 6.892, 1, 0),\n",
       " ('shshshbsbdbf', 6.892, 1, 0),\n",
       " ('vasoconstrict', 6.892, 1, 0),\n",
       " ('greener', 6.892, 1, 0),\n",
       " ('madetempl', 6.892, 1, 0),\n",
       " ('sarsov', 6.892, 1, 0),\n",
       " ('exisit', 6.892, 1, 0),\n",
       " ('imran', 6.892, 1, 0),\n",
       " ('realizedo', 6.892, 1, 0),\n",
       " ('belfast', 6.892, 1, 0),\n",
       " ('superstar', 6.892, 1, 0),\n",
       " ('scriporg', 6.892, 1, 0),\n",
       " ('wrest', 6.892, 1, 0),\n",
       " ('safetylif', 6.892, 1, 0),\n",
       " ('trashcan', 6.892, 1, 0),\n",
       " ('micheal', 6.892, 1, 0),\n",
       " ('novid', 6.892, 1, 0),\n",
       " ('cnbcom', 6.892, 1, 0),\n",
       " ('schwabiden', 6.892, 1, 0),\n",
       " ('shonda', 6.892, 1, 0),\n",
       " ('clive', 6.892, 1, 0),\n",
       " ('spitsaliva', 6.892, 1, 0),\n",
       " ('tontin', 6.892, 1, 0),\n",
       " ('yesturday', 6.892, 1, 0),\n",
       " ('whiney', 6.892, 1, 0),\n",
       " ('pandemrex', 6.892, 1, 0),\n",
       " ('biosynthesi', 6.892, 1, 0),\n",
       " ('turndown', 6.892, 1, 0),\n",
       " ('noncomprimos', 6.892, 1, 0),\n",
       " ('quid', 6.892, 1, 0),\n",
       " ('iraqbas', 6.892, 1, 0),\n",
       " ('reversetranscrpitas', 6.892, 1, 0),\n",
       " ('whythey', 6.892, 1, 0),\n",
       " ('saturdsi', 6.892, 1, 0),\n",
       " ('biocel', 6.892, 1, 0),\n",
       " ('witherspoon', 6.892, 1, 0),\n",
       " ('tfo', 6.892, 1, 0),\n",
       " ('fuckd', 6.892, 1, 0),\n",
       " ('fireabl', 6.892, 1, 0),\n",
       " ('optometrist', 6.892, 1, 0),\n",
       " ('redpond', 6.892, 1, 0),\n",
       " ('brucina', 6.892, 1, 0),\n",
       " ('sidescrol', 6.892, 1, 0),\n",
       " ('libertarianesqu', 6.892, 1, 0),\n",
       " ('haphazard', 6.892, 1, 0),\n",
       " ('melina', 6.892, 1, 0),\n",
       " ('devdat', 6.892, 1, 0),\n",
       " ('indoeuropean', 6.892, 1, 0),\n",
       " ('humanright', 6.892, 1, 0),\n",
       " ('lalalalala', 6.892, 1, 0),\n",
       " ('haivng', 6.892, 1, 0),\n",
       " ('virologli', 6.892, 1, 0),\n",
       " ('microdevic', 6.892, 1, 0),\n",
       " ('doudna', 6.892, 1, 0),\n",
       " ('atagl', 6.892, 1, 0),\n",
       " ('distancingmasksa', 6.892, 1, 0),\n",
       " ('19or', 6.892, 1, 0),\n",
       " ('furtherit', 6.892, 1, 0),\n",
       " ('saam', 6.892, 1, 0),\n",
       " ('evolutionarili', 6.892, 1, 0),\n",
       " ('kindv', 6.892, 1, 0),\n",
       " ('nanoneurotheraput', 6.892, 1, 0),\n",
       " ('expresid', 6.892, 1, 0),\n",
       " ('prece', 6.892, 1, 0),\n",
       " ('figtjt', 6.892, 1, 0),\n",
       " ('havrix', 6.892, 1, 0),\n",
       " ('3019', 6.892, 1, 0),\n",
       " ('tanakh', 6.892, 1, 0),\n",
       " ('airobot', 6.892, 1, 0),\n",
       " ('catestroph', 6.892, 1, 0),\n",
       " ('thelema', 6.892, 1, 0),\n",
       " ('vacinewher', 6.892, 1, 0),\n",
       " ('surfacebut', 6.892, 1, 0),\n",
       " ('90usd', 6.892, 1, 0),\n",
       " ('awesm', 6.892, 1, 0),\n",
       " ('formeldahyd', 6.892, 1, 0),\n",
       " ('genderinsensit', 6.892, 1, 0),\n",
       " ('leadersavior', 6.892, 1, 0),\n",
       " ('reditsecret', 6.892, 1, 0),\n",
       " ('handour', 6.892, 1, 0),\n",
       " ('nots', 6.892, 1, 0),\n",
       " ('shilbot', 6.892, 1, 0),\n",
       " ('organictm', 6.892, 1, 0),\n",
       " ('internetsupli', 6.892, 1, 0),\n",
       " ('pfiser', 6.892, 1, 0),\n",
       " ('utopiah', 6.892, 1, 0),\n",
       " ('vacinesfour', 6.892, 1, 0),\n",
       " ('whopi', 6.892, 1, 0),\n",
       " ('thinkbesid', 6.892, 1, 0),\n",
       " ('rigur', 6.892, 1, 0),\n",
       " ('heatsensit', 6.892, 1, 0),\n",
       " ('gowond', 6.892, 1, 0),\n",
       " ('rpnc', 6.892, 1, 0),\n",
       " ('termscondit', 6.892, 1, 0),\n",
       " ('beastbut', 6.892, 1, 0),\n",
       " ('wheez', 6.892, 1, 0),\n",
       " ('traumabond', 6.892, 1, 0),\n",
       " ('yipe', 6.892, 1, 0),\n",
       " ('inyourfac', 6.892, 1, 0),\n",
       " ('luminari', 6.892, 1, 0),\n",
       " ('usforc', 6.892, 1, 0),\n",
       " ('nerveback', 6.892, 1, 0),\n",
       " ('harley', 6.892, 1, 0),\n",
       " ('dayz', 6.892, 1, 0),\n",
       " ('adter', 6.892, 1, 0),\n",
       " ('supernova', 6.892, 1, 0),\n",
       " ('uncouth', 6.892, 1, 0),\n",
       " ('objection', 6.892, 1, 0),\n",
       " ('19godnewsex', 6.892, 1, 0),\n",
       " ('iarc', 6.892, 1, 0),\n",
       " ('unicod', 6.892, 1, 0),\n",
       " ('aditivefr', 6.892, 1, 0),\n",
       " ('volit', 6.892, 1, 0),\n",
       " ('ovum', 6.892, 1, 0),\n",
       " ('aprovingiv', 6.892, 1, 0),\n",
       " ('belch', 6.892, 1, 0),\n",
       " ('inclu', 6.892, 1, 0),\n",
       " ('waze', 6.892, 1, 0),\n",
       " ('azazel', 6.892, 1, 0),\n",
       " ('thanksi', 6.892, 1, 0),\n",
       " ('exposurealthough', 6.892, 1, 0),\n",
       " ('overthink', 6.892, 1, 0),\n",
       " ('againthi', 6.892, 1, 0),\n",
       " ('vocat', 6.892, 1, 0),\n",
       " ('whatw', 6.892, 1, 0),\n",
       " ('concuss', 6.892, 1, 0),\n",
       " ('crest', 6.892, 1, 0),\n",
       " ('sciencemag', 6.892, 1, 0),\n",
       " ('gosipiest', 6.892, 1, 0),\n",
       " ('litleuhsugest', 6.892, 1, 0),\n",
       " ('30303', 6.892, 1, 0),\n",
       " ('glowi', 6.892, 1, 0),\n",
       " ('precrim', 6.892, 1, 0),\n",
       " ('agehealthwhatev', 6.892, 1, 0),\n",
       " ('josiah', 6.892, 1, 0),\n",
       " ('outdo', 6.892, 1, 0),\n",
       " ('premad', 6.892, 1, 0),\n",
       " ('governmwnt', 6.892, 1, 0),\n",
       " ('faken', 6.892, 1, 0),\n",
       " ('wormwood', 6.892, 1, 0),\n",
       " ('yeahil', 6.892, 1, 0),\n",
       " ('2020comentcomitexebulshitcomentexecutecomplet', 6.892, 1, 0),\n",
       " ('sunbath', 6.892, 1, 0),\n",
       " ('rockefelerothschildvatican', 6.892, 1, 0),\n",
       " ('vacinatemed', 6.892, 1, 0),\n",
       " ('40usd', 6.892, 1, 0),\n",
       " ('springearli', 6.892, 1, 0),\n",
       " ('elderlythos', 6.892, 1, 0),\n",
       " ('srart', 6.892, 1, 0),\n",
       " ('shredder', 6.892, 1, 0),\n",
       " ('skulduggeri', 6.892, 1, 0),\n",
       " ('riht', 6.892, 1, 0),\n",
       " ('duct', 6.892, 1, 0),\n",
       " ('gangsta', 6.892, 1, 0),\n",
       " ('e3', 6.892, 1, 0),\n",
       " ('dumba', 6.892, 1, 0),\n",
       " ('sackcloth', 6.892, 1, 0),\n",
       " ('ofholeswhich', 6.892, 1, 0),\n",
       " ('bedevil', 6.892, 1, 0),\n",
       " ('nauseam', 6.892, 1, 0),\n",
       " ('governmentback', 6.892, 1, 0),\n",
       " ('fa', 6.892, 1, 0),\n",
       " ('hyonitisml', 6.892, 1, 0),\n",
       " ('cvic', 6.892, 1, 0),\n",
       " ('universcal', 6.892, 1, 0),\n",
       " ('sceptism', 6.892, 1, 0),\n",
       " ('inord', 6.892, 1, 0),\n",
       " ('microchipswristband', 6.892, 1, 0),\n",
       " ('noisiest', 6.892, 1, 0),\n",
       " ('israeliranrusia', 6.892, 1, 0),\n",
       " ('liti', 6.892, 1, 0),\n",
       " ('neediest', 6.892, 1, 0),\n",
       " ('blorp', 6.892, 1, 0),\n",
       " ('r3tard', 6.892, 1, 0),\n",
       " ('rushedno', 6.892, 1, 0),\n",
       " ('uncar', 6.892, 1, 0),\n",
       " ('bedwett', 6.892, 1, 0),\n",
       " ('projectil', 6.892, 1, 0),\n",
       " ('emthey', 6.892, 1, 0),\n",
       " ('foulplay', 6.892, 1, 0),\n",
       " ('thereupon', 6.892, 1, 0),\n",
       " ('fluh', 6.892, 1, 0),\n",
       " ('backwat', 6.892, 1, 0),\n",
       " ('nanopart', 6.892, 1, 0),\n",
       " ('masturbatin', 6.892, 1, 0),\n",
       " ('sadiq', 6.892, 1, 0),\n",
       " ('finecas', 6.892, 1, 0),\n",
       " ('unintel', 6.892, 1, 0),\n",
       " ('murket', 6.892, 1, 0),\n",
       " ('rapport', 6.892, 1, 0),\n",
       " ('hundread', 6.892, 1, 0),\n",
       " ('empeth', 6.892, 1, 0),\n",
       " ('jcvi', 6.892, 1, 0),\n",
       " ('excruciatingli', 6.892, 1, 0),\n",
       " ('bridgefriend', 6.892, 1, 0),\n",
       " ('inn', 6.892, 1, 0),\n",
       " ('rnasingl', 6.892, 1, 0),\n",
       " ('citiescan', 6.892, 1, 0),\n",
       " ('falut', 6.892, 1, 0),\n",
       " ('galapago', 6.892, 1, 0),\n",
       " ('1n1', 6.892, 1, 0),\n",
       " ('presureand', 6.892, 1, 0),\n",
       " ('canuck', 6.892, 1, 0),\n",
       " ('neb', 6.892, 1, 0),\n",
       " ('sami', 6.892, 1, 0),\n",
       " ('ungrown', 6.892, 1, 0),\n",
       " ('forshown', 6.892, 1, 0),\n",
       " ('fineabl', 6.892, 1, 0),\n",
       " ('rulingblodlin', 6.892, 1, 0),\n",
       " ('totem', 6.892, 1, 0),\n",
       " ('playstat', 6.892, 1, 0),\n",
       " ('bootstrap', 6.892, 1, 0),\n",
       " ('workscholtravel', 6.892, 1, 0),\n",
       " ('incompar', 6.892, 1, 0),\n",
       " ('rdj', 6.892, 1, 0),\n",
       " ('andalusia', 6.892, 1, 0),\n",
       " ('onif', 6.892, 1, 0),\n",
       " ('blockchainesq', 6.892, 1, 0),\n",
       " ('forceshield', 6.892, 1, 0),\n",
       " ('gogmagog', 6.892, 1, 0),\n",
       " ('diz', 6.892, 1, 0),\n",
       " ('buyseltrad', 6.892, 1, 0),\n",
       " ('dipst', 6.892, 1, 0),\n",
       " ('embolden', 6.892, 1, 0),\n",
       " ('minster', 6.892, 1, 0),\n",
       " ('cyberwarfar', 6.892, 1, 0),\n",
       " ('flannel', 6.892, 1, 0),\n",
       " ('cornwal', 6.892, 1, 0),\n",
       " ('lifehav', 6.892, 1, 0),\n",
       " ('zayner', 6.892, 1, 0),\n",
       " ('himlolcut', 6.892, 1, 0),\n",
       " ('viwu', 6.892, 1, 0),\n",
       " ('topropaganda', 6.892, 1, 0),\n",
       " ('pushin', 6.892, 1, 0),\n",
       " ('ead', 6.892, 1, 0),\n",
       " ('vaxwaletid', 6.892, 1, 0),\n",
       " ('asymptomaticthen', 6.892, 1, 0),\n",
       " ('selfdriv', 6.892, 1, 0),\n",
       " ('beyong', 6.892, 1, 0),\n",
       " ('rcovidposit', 6.892, 1, 0),\n",
       " ('antihumanist', 6.892, 1, 0),\n",
       " ('uniron', 6.892, 1, 0),\n",
       " ('dismisiven', 6.892, 1, 0),\n",
       " ('thrift', 6.892, 1, 0),\n",
       " ('vail', 6.892, 1, 0),\n",
       " ('176201', 6.892, 1, 0),\n",
       " ('amuck', 6.892, 1, 0),\n",
       " ('lenient', 6.892, 1, 0),\n",
       " ('convient', 6.892, 1, 0),\n",
       " ('pursuas', 6.892, 1, 0),\n",
       " ('allig', 6.892, 1, 0),\n",
       " ('sumerf', 6.892, 1, 0),\n",
       " ('energyvibeagenda', 6.892, 1, 0),\n",
       " ('gojng', 6.892, 1, 0),\n",
       " ('sourcehigh', 6.892, 1, 0),\n",
       " ('iranrusia', 6.892, 1, 0),\n",
       " ('tora', 6.892, 1, 0),\n",
       " ('arvaru', 6.892, 1, 0),\n",
       " ('leadersexpert', 6.892, 1, 0),\n",
       " ('ahahahavavav', 6.892, 1, 0),\n",
       " ('norton', 6.892, 1, 0),\n",
       " ('interag', 6.892, 1, 0),\n",
       " ('liven', 6.892, 1, 0),\n",
       " ('spinkl', 6.892, 1, 0),\n",
       " ('slavespeak', 6.892, 1, 0),\n",
       " ('modelo', 6.892, 1, 0),\n",
       " ('bdmusk', 6.892, 1, 0),\n",
       " ('cyberatack', 6.892, 1, 0),\n",
       " ('kamkar', 6.892, 1, 0),\n",
       " ('bodychem', 6.892, 1, 0),\n",
       " ('oksaf', 6.892, 1, 0),\n",
       " ('monklik', 6.892, 1, 0),\n",
       " ('dnamrnawhatev', 6.892, 1, 0),\n",
       " ('permacultur', 6.892, 1, 0),\n",
       " ('gameplay', 6.892, 1, 0),\n",
       " ('parasympathet', 6.892, 1, 0),\n",
       " ('mulvey', 6.892, 1, 0),\n",
       " ('bushcraft', 6.892, 1, 0),\n",
       " ('thn', 6.892, 1, 0),\n",
       " ('suckn', 6.892, 1, 0),\n",
       " ('tamblyn', 6.892, 1, 0),\n",
       " ('1417', 6.892, 1, 0),\n",
       " ('celerion', 6.892, 1, 0),\n",
       " ('ariz', 6.892, 1, 0),\n",
       " ('strate', 6.892, 1, 0),\n",
       " ('vacinesmart', 6.892, 1, 0),\n",
       " ('botexedeploy', 6.892, 1, 0),\n",
       " ('aba', 6.892, 1, 0),\n",
       " ('popup', 6.892, 1, 0),\n",
       " ('aldosteron', 6.892, 1, 0),\n",
       " ('thjnk', 6.892, 1, 0),\n",
       " ('realest', 6.892, 1, 0),\n",
       " ('usb', 6.892, 1, 0),\n",
       " ('hamhandedli', 6.892, 1, 0),\n",
       " ('racemix', 6.892, 1, 0),\n",
       " ('lazyhomel', 6.892, 1, 0),\n",
       " ('strongwil', 6.892, 1, 0),\n",
       " ('tuskeg', 6.892, 1, 0),\n",
       " ('suspicu', 6.892, 1, 0),\n",
       " ('concordia', 6.892, 1, 0),\n",
       " ('xz47', 6.892, 1, 0),\n",
       " ('busineses', 6.892, 1, 0),\n",
       " ('10f', 6.892, 1, 0),\n",
       " ('traught', 6.892, 1, 0),\n",
       " ('inlud', 6.892, 1, 0),\n",
       " ('aina', 6.892, 1, 0),\n",
       " ('pointit', 6.892, 1, 0),\n",
       " ('semidec', 6.892, 1, 0),\n",
       " ('democratcraz', 6.892, 1, 0),\n",
       " ('definet', 6.892, 1, 0),\n",
       " ('lolscienc', 6.892, 1, 0),\n",
       " ('undet', 6.892, 1, 0),\n",
       " ('longoria', 6.892, 1, 0),\n",
       " ('ven', 6.892, 1, 0),\n",
       " ('gestrat', 6.892, 1, 0),\n",
       " ('anecdotesactu', 6.892, 1, 0),\n",
       " ('csa', 6.892, 1, 0),\n",
       " ('dino', 6.892, 1, 0),\n",
       " ('nahedwilhemshir', 6.892, 1, 0),\n",
       " ('costelo', 6.892, 1, 0),\n",
       " ('soyboy', 6.892, 1, 0),\n",
       " ('fliphon', 6.892, 1, 0),\n",
       " ('soldtrad', 6.892, 1, 0),\n",
       " ('liabilitylolthey', 6.892, 1, 0),\n",
       " ('screed', 6.892, 1, 0),\n",
       " ('headshak', 6.892, 1, 0),\n",
       " ('siriusxm', 6.892, 1, 0),\n",
       " ('noncab', 6.892, 1, 0),\n",
       " ('haven', 6.892, 1, 0),\n",
       " ('mucuscough', 6.892, 1, 0),\n",
       " ('competitorstarget', 6.892, 1, 0),\n",
       " ('tryhard', 6.892, 1, 0),\n",
       " ('vane', 6.892, 1, 0),\n",
       " ('0flage', 6.892, 1, 0),\n",
       " ('againif', 6.892, 1, 0),\n",
       " ('pixtur', 6.892, 1, 0),\n",
       " ('twinrix', 6.892, 1, 0),\n",
       " ('retitl', 6.892, 1, 0),\n",
       " ('inplan', 6.892, 1, 0),\n",
       " ('d8', 6.892, 1, 0),\n",
       " ('wateri', 6.892, 1, 0),\n",
       " ('septuagint', 6.892, 1, 0),\n",
       " ('hungrier', 6.892, 1, 0),\n",
       " ('termsid', 6.892, 1, 0),\n",
       " ('balsout', 6.892, 1, 0),\n",
       " ('censoredsupres', 6.892, 1, 0),\n",
       " ('ceulular', 6.892, 1, 0),\n",
       " ('healthabl', 6.892, 1, 0),\n",
       " ('oakvil', 6.892, 1, 0),\n",
       " ('figiti', 6.892, 1, 0),\n",
       " ('hqbing', 6.892, 1, 0),\n",
       " ('acetaldehyd', 6.892, 1, 0),\n",
       " ('uncompromis', 6.892, 1, 0),\n",
       " ('verecundiam', 6.892, 1, 0),\n",
       " ('bead', 6.892, 1, 0),\n",
       " ('postcoment', 6.892, 1, 0),\n",
       " ('pollster', 6.892, 1, 0),\n",
       " ('synth', 6.892, 1, 0),\n",
       " ('trialimit', 6.892, 1, 0),\n",
       " ('pizahut', 6.892, 1, 0),\n",
       " ('acountmay', 6.892, 1, 0),\n",
       " ('whimp', 6.892, 1, 0),\n",
       " ('dolarseuro', 6.892, 1, 0),\n",
       " ('unprecid', 6.892, 1, 0),\n",
       " ('uinefect', 6.892, 1, 0),\n",
       " ('rhime', 6.892, 1, 0),\n",
       " ('verizon', 6.892, 1, 0),\n",
       " ('2107', 6.892, 1, 0),\n",
       " ('iluminatiland', 6.892, 1, 0),\n",
       " ('againstbafl', 6.892, 1, 0),\n",
       " ('feeder', 6.892, 1, 0),\n",
       " ('buthow', 6.892, 1, 0),\n",
       " ('wouldbut', 6.892, 1, 0),\n",
       " ('319', 6.892, 1, 0),\n",
       " ('esotericali', 6.892, 1, 0),\n",
       " ('listal', 6.892, 1, 0),\n",
       " ('grifti', 6.892, 1, 0),\n",
       " ('bacj', 6.892, 1, 0),\n",
       " ('womem', 6.892, 1, 0),\n",
       " ('flask', 6.892, 1, 0),\n",
       " ('obami', 6.892, 1, 0),\n",
       " ('himherself', 6.892, 1, 0),\n",
       " ('wordsfuck', 6.892, 1, 0),\n",
       " ('ftg', 6.892, 1, 0),\n",
       " ('scrabbl', 6.892, 1, 0),\n",
       " ('thermostat', 6.892, 1, 0),\n",
       " ('edm', 6.892, 1, 0),\n",
       " ('articlefrom', 6.892, 1, 0),\n",
       " ('refed', 6.892, 1, 0),\n",
       " ('vacinationcovid', 6.892, 1, 0),\n",
       " ('wthe', 6.892, 1, 0),\n",
       " ('razer', 6.892, 1, 0),\n",
       " ('injectionyep', 6.892, 1, 0),\n",
       " ('paraffin', 6.892, 1, 0),\n",
       " ('tryjng', 6.892, 1, 0),\n",
       " ('saddl', 6.892, 1, 0),\n",
       " ('trumpian', 6.892, 1, 0),\n",
       " ('zenith', 6.892, 1, 0),\n",
       " ('stale', 6.892, 1, 0),\n",
       " ('unsight', 6.892, 1, 0),\n",
       " ('msni', 6.892, 1, 0),\n",
       " ('unfortunatelyjudg', 6.892, 1, 0),\n",
       " ('healthsoci', 6.892, 1, 0),\n",
       " ('forcevacin', 6.892, 1, 0),\n",
       " ('madison', 6.892, 1, 0),\n",
       " ('desperateyet', 6.892, 1, 0),\n",
       " ('foolhardi', 6.892, 1, 0),\n",
       " ('stagnat', 6.892, 1, 0),\n",
       " ('infiltratorshilstrol', 6.892, 1, 0),\n",
       " ('ferent', 6.892, 1, 0),\n",
       " ('arv', 6.892, 1, 0),\n",
       " ('somthin', 6.892, 1, 0),\n",
       " ('clipper', 6.892, 1, 0),\n",
       " ('metabolit', 6.892, 1, 0),\n",
       " ('kcda', 6.892, 1, 0),\n",
       " ('befor', 6.892, 1, 0),\n",
       " ('hickelop', 6.892, 1, 0),\n",
       " ('pentateuch', 6.892, 1, 0),\n",
       " ('wha', 6.892, 1, 0),\n",
       " ('southampton', 6.892, 1, 0),\n",
       " ('deathsilnes', 6.892, 1, 0),\n",
       " ('nazish', 6.892, 1, 0),\n",
       " ('goign', 6.892, 1, 0),\n",
       " ('2324', 6.892, 1, 0),\n",
       " ('beset', 6.892, 1, 0),\n",
       " ('doeth', 6.892, 1, 0),\n",
       " ('butisnt', 6.892, 1, 0),\n",
       " ('electrolyt', 6.892, 1, 0),\n",
       " ('gori', 6.892, 1, 0),\n",
       " ('reversetranscrib', 6.892, 1, 0),\n",
       " ('dcxvi', 6.892, 1, 0),\n",
       " ('consciousnesgodjesu', 6.892, 1, 0),\n",
       " ('futuremayb', 6.892, 1, 0),\n",
       " ('elli', 6.892, 1, 0),\n",
       " ('ph4rma', 6.892, 1, 0),\n",
       " ('mideast', 6.892, 1, 0),\n",
       " ('oneandon', 6.892, 1, 0),\n",
       " ('starshap', 6.892, 1, 0),\n",
       " ('thinkhav', 6.892, 1, 0),\n",
       " ('unti', 6.892, 1, 0),\n",
       " ('sayus', 6.892, 1, 0),\n",
       " ('cyberdyn', 6.892, 1, 0),\n",
       " ('usin', 6.892, 1, 0),\n",
       " ('trumpbiden', 6.892, 1, 0),\n",
       " ('shitscap', 6.892, 1, 0),\n",
       " ('tetanusdiphtheria', 6.892, 1, 0),\n",
       " ('masklockdown', 6.892, 1, 0),\n",
       " ('confetti', 6.892, 1, 0),\n",
       " ('grumbl', 6.892, 1, 0),\n",
       " ('noncp', 6.892, 1, 0),\n",
       " ('uschmickschmut', 6.892, 1, 0),\n",
       " ('cda', 6.892, 1, 0),\n",
       " ('ujackoneil', 6.892, 1, 0),\n",
       " ('preasur', 6.892, 1, 0),\n",
       " ('manpeopl', 6.892, 1, 0),\n",
       " ('humansour', 6.892, 1, 0),\n",
       " ('leek', 6.892, 1, 0),\n",
       " ('naturalcrazi', 6.892, 1, 0),\n",
       " ('govxrxf', 6.892, 1, 0),\n",
       " ('mjnded', 6.892, 1, 0),\n",
       " ('xenodna', 6.892, 1, 0),\n",
       " ('usethat', 6.892, 1, 0),\n",
       " ('upen', 6.892, 1, 0),\n",
       " ('unbreak', 6.892, 1, 0),\n",
       " ('misrecord', 6.892, 1, 0),\n",
       " ('cognat', 6.892, 1, 0),\n",
       " ('myst', 6.892, 1, 0),\n",
       " ('protec', 6.892, 1, 0),\n",
       " ('2029', 6.892, 1, 0),\n",
       " ('ahep', 6.892, 1, 0),\n",
       " ('alpeoplek', 6.892, 1, 0),\n",
       " ('substancel', 6.892, 1, 0),\n",
       " ('basisand', 6.892, 1, 0),\n",
       " ('vowel', 6.892, 1, 0),\n",
       " ('buthaha', 6.892, 1, 0),\n",
       " ('videosthank', 6.892, 1, 0),\n",
       " ('antistupidshit', 6.892, 1, 0),\n",
       " ('englishmen', 6.892, 1, 0),\n",
       " ('aiusher', 6.892, 1, 0),\n",
       " ('blognomorefakenewscom', 6.892, 1, 0),\n",
       " ('titititim', 6.892, 1, 0),\n",
       " ('horsedick', 6.892, 1, 0),\n",
       " ('rheusu', 6.892, 1, 0),\n",
       " ('undon', 6.892, 1, 0),\n",
       " ('ilintend', 6.892, 1, 0),\n",
       " ('apal', 6.892, 1, 0),\n",
       " ('tanakah', 6.892, 1, 0),\n",
       " ('bajilion', 6.892, 1, 0),\n",
       " ('12th', 6.892, 1, 0),\n",
       " ('skedybop', 6.892, 1, 0),\n",
       " ('breakdownwar', 6.892, 1, 0),\n",
       " ('truthi', 6.892, 1, 0),\n",
       " ('monitorinflu', 6.892, 1, 0),\n",
       " ('floodgat', 6.892, 1, 0),\n",
       " ('populatin', 6.892, 1, 0),\n",
       " ('nosi', 6.892, 1, 0),\n",
       " ('govtptb', 6.892, 1, 0),\n",
       " ('towatf', 6.892, 1, 0),\n",
       " ('themgu', 6.892, 1, 0),\n",
       " ('longdebunk', 6.892, 1, 0),\n",
       " ('schmoe', 6.892, 1, 0),\n",
       " ('objectivelydoesnt', 6.892, 1, 0),\n",
       " ('badcrazi', 6.892, 1, 0),\n",
       " ('etl', 6.892, 1, 0),\n",
       " ('pezi', 6.892, 1, 0),\n",
       " ('grocer', 6.892, 1, 0),\n",
       " ('boogeymen', 6.892, 1, 0),\n",
       " ('snowdon', 6.892, 1, 0),\n",
       " ('purposeswhat', 6.892, 1, 0),\n",
       " ('jew', 6.868, 0, 106),\n",
       " ('larger', 6.868, 0, 106),\n",
       " ('also', 6.865, 183, 4533),\n",
       " ('epstein', 6.849, 2, 254),\n",
       " ('trumpet', 6.839, 3, 11),\n",
       " ('meningococ', 6.839, 3, 11),\n",
       " ('champ', 6.839, 3, 11),\n",
       " ('vi', 6.839, 3, 11),\n",
       " ('chose', 6.828, 8, 79),\n",
       " ('invent', 6.812, 1, 192),\n",
       " ('sake', 6.804, 0, 105),\n",
       " ('stanc', 6.804, 0, 105),\n",
       " ('doubl', 6.8, 2, 253),\n",
       " ('mainstream', 6.8, 2, 253),\n",
       " ('occasion', 6.786, 6, 48),\n",
       " ('present', 6.78, 7, 500),\n",
       " ('common', 6.77, 14, 799),\n",
       " ...]"
      ]
     },
     "execution_count": 32,
     "metadata": {},
     "output_type": "execute_result"
    }
   ],
   "source": [
    "print(\"Cutoff date is \", cutoff_date)\n",
    "log_likelihood(corpus, reference_corpus)"
   ]
  },
  {
   "cell_type": "code",
   "execution_count": 31,
   "metadata": {
    "hideCode": false,
    "hidePrompt": false,
    "slideshow": {
     "slide_type": "skip"
    }
   },
   "outputs": [
    {
     "name": "stderr",
     "output_type": "stream",
     "text": [
      "C:\\Users\\Maheep\\Anaconda3\\lib\\site-packages\\spacy\\util.py:275: UserWarning: [W031] Model 'en_core_web_sm' (2.0.0) requires spaCy v2.0 and is incompatible with the current spaCy version (2.3.5). This may lead to unexpected results or runtime errors. To resolve this, download a newer compatible model or retrain your custom model with the current spaCy version. For more details and available updates, run: python -m spacy validate\n",
      "  warnings.warn(warn_msg)\n"
     ]
    },
    {
     "ename": "error",
     "evalue": "bad escape \\p at position 257",
     "output_type": "error",
     "traceback": [
      "\u001b[1;31m---------------------------------------------------------------------------\u001b[0m",
      "\u001b[1;31merror\u001b[0m                                     Traceback (most recent call last)",
      "\u001b[1;32m<ipython-input-31-1660beccffa2>\u001b[0m in \u001b[0;36m<module>\u001b[1;34m\u001b[0m\n\u001b[1;32m----> 1\u001b[1;33m \u001b[1;32mfrom\u001b[0m \u001b[0mcorpus_toolkit\u001b[0m \u001b[1;32mimport\u001b[0m \u001b[0mcorpus_tools\u001b[0m \u001b[1;32mas\u001b[0m \u001b[0mct\u001b[0m\u001b[1;33m\u001b[0m\u001b[1;33m\u001b[0m\u001b[0m\n\u001b[0m\u001b[0;32m      2\u001b[0m \u001b[1;33m\u001b[0m\u001b[0m\n\u001b[0;32m      3\u001b[0m \u001b[1;31m#First, generate frequency lists for each corpus\u001b[0m\u001b[1;33m\u001b[0m\u001b[1;33m\u001b[0m\u001b[1;33m\u001b[0m\u001b[0m\n\u001b[0;32m      4\u001b[0m \u001b[0mcorp1freq\u001b[0m \u001b[1;33m=\u001b[0m \u001b[0mct\u001b[0m\u001b[1;33m.\u001b[0m\u001b[0mfrequency\u001b[0m\u001b[1;33m(\u001b[0m\u001b[0mreference_corpus\u001b[0m\u001b[1;33m)\u001b[0m\u001b[1;33m\u001b[0m\u001b[1;33m\u001b[0m\u001b[0m\n\u001b[0;32m      5\u001b[0m \u001b[0mcorp2freq\u001b[0m \u001b[1;33m=\u001b[0m \u001b[0mct\u001b[0m\u001b[1;33m.\u001b[0m\u001b[0mfrequency\u001b[0m\u001b[1;33m(\u001b[0m\u001b[0mcorpus\u001b[0m\u001b[1;33m)\u001b[0m\u001b[1;33m\u001b[0m\u001b[1;33m\u001b[0m\u001b[0m\n",
      "\u001b[1;32m~\\Anaconda3\\lib\\site-packages\\corpus_toolkit\\corpus_tools.py\u001b[0m in \u001b[0;36m<module>\u001b[1;34m\u001b[0m\n\u001b[0;32m     23\u001b[0m         \u001b[0mprint\u001b[0m\u001b[1;33m(\u001b[0m\u001b[1;34m\"It appears that you do not have spacy installed on your computer. Without installing Spacy, the tag(), and tag_corpus() functions won't work properly.\"\u001b[0m\u001b[1;33m)\u001b[0m\u001b[1;33m\u001b[0m\u001b[1;33m\u001b[0m\u001b[0m\n\u001b[0;32m     24\u001b[0m \u001b[1;32mtry\u001b[0m\u001b[1;33m:\u001b[0m\u001b[1;33m\u001b[0m\u001b[1;33m\u001b[0m\u001b[0m\n\u001b[1;32m---> 25\u001b[1;33m         \u001b[0mnlp\u001b[0m \u001b[1;33m=\u001b[0m \u001b[0mspacy\u001b[0m\u001b[1;33m.\u001b[0m\u001b[0mload\u001b[0m\u001b[1;33m(\u001b[0m\u001b[1;34m\"en_core_web_sm\"\u001b[0m\u001b[1;33m)\u001b[0m \u001b[1;31m#load the English model. This can be changed - just make sure that you download the appropriate model first\u001b[0m\u001b[1;33m\u001b[0m\u001b[1;33m\u001b[0m\u001b[0m\n\u001b[0m\u001b[0;32m     26\u001b[0m \u001b[1;32mexcept\u001b[0m \u001b[0mImportError\u001b[0m\u001b[1;33m:\u001b[0m\u001b[1;33m\u001b[0m\u001b[1;33m\u001b[0m\u001b[0m\n\u001b[0;32m     27\u001b[0m         \u001b[0mprint\u001b[0m\u001b[1;33m(\u001b[0m\u001b[1;34m\"It appears that you haven't downloaded the default language model for Spacy 'en_core_web_sm'. Please make sure you have a model downloaded. If you wish to use a model other than the default one, then load it before proceeding: 'nlp = spacy.load('model_name')'\"\u001b[0m\u001b[1;33m)\u001b[0m\u001b[1;33m\u001b[0m\u001b[1;33m\u001b[0m\u001b[0m\n",
      "\u001b[1;32m~\\Anaconda3\\lib\\site-packages\\spacy\\__init__.py\u001b[0m in \u001b[0;36mload\u001b[1;34m(name, **overrides)\u001b[0m\n\u001b[0;32m     28\u001b[0m     \u001b[1;32mif\u001b[0m \u001b[0mdepr_path\u001b[0m \u001b[1;32mnot\u001b[0m \u001b[1;32min\u001b[0m \u001b[1;33m(\u001b[0m\u001b[1;32mTrue\u001b[0m\u001b[1;33m,\u001b[0m \u001b[1;32mFalse\u001b[0m\u001b[1;33m,\u001b[0m \u001b[1;32mNone\u001b[0m\u001b[1;33m)\u001b[0m\u001b[1;33m:\u001b[0m\u001b[1;33m\u001b[0m\u001b[1;33m\u001b[0m\u001b[0m\n\u001b[0;32m     29\u001b[0m         \u001b[0mwarnings\u001b[0m\u001b[1;33m.\u001b[0m\u001b[0mwarn\u001b[0m\u001b[1;33m(\u001b[0m\u001b[0mWarnings\u001b[0m\u001b[1;33m.\u001b[0m\u001b[0mW001\u001b[0m\u001b[1;33m.\u001b[0m\u001b[0mformat\u001b[0m\u001b[1;33m(\u001b[0m\u001b[0mpath\u001b[0m\u001b[1;33m=\u001b[0m\u001b[0mdepr_path\u001b[0m\u001b[1;33m)\u001b[0m\u001b[1;33m,\u001b[0m \u001b[0mDeprecationWarning\u001b[0m\u001b[1;33m)\u001b[0m\u001b[1;33m\u001b[0m\u001b[1;33m\u001b[0m\u001b[0m\n\u001b[1;32m---> 30\u001b[1;33m     \u001b[1;32mreturn\u001b[0m \u001b[0mutil\u001b[0m\u001b[1;33m.\u001b[0m\u001b[0mload_model\u001b[0m\u001b[1;33m(\u001b[0m\u001b[0mname\u001b[0m\u001b[1;33m,\u001b[0m \u001b[1;33m**\u001b[0m\u001b[0moverrides\u001b[0m\u001b[1;33m)\u001b[0m\u001b[1;33m\u001b[0m\u001b[1;33m\u001b[0m\u001b[0m\n\u001b[0m\u001b[0;32m     31\u001b[0m \u001b[1;33m\u001b[0m\u001b[0m\n\u001b[0;32m     32\u001b[0m \u001b[1;33m\u001b[0m\u001b[0m\n",
      "\u001b[1;32m~\\Anaconda3\\lib\\site-packages\\spacy\\util.py\u001b[0m in \u001b[0;36mload_model\u001b[1;34m(name, **overrides)\u001b[0m\n\u001b[0;32m    166\u001b[0m             \u001b[1;32mreturn\u001b[0m \u001b[0mget_lang_class\u001b[0m\u001b[1;33m(\u001b[0m\u001b[0mname\u001b[0m\u001b[1;33m.\u001b[0m\u001b[0mreplace\u001b[0m\u001b[1;33m(\u001b[0m\u001b[1;34m\"blank:\"\u001b[0m\u001b[1;33m,\u001b[0m \u001b[1;34m\"\"\u001b[0m\u001b[1;33m)\u001b[0m\u001b[1;33m)\u001b[0m\u001b[1;33m(\u001b[0m\u001b[1;33m)\u001b[0m\u001b[1;33m\u001b[0m\u001b[1;33m\u001b[0m\u001b[0m\n\u001b[0;32m    167\u001b[0m         \u001b[1;32mif\u001b[0m \u001b[0mname\u001b[0m \u001b[1;32min\u001b[0m \u001b[0mset\u001b[0m\u001b[1;33m(\u001b[0m\u001b[1;33m[\u001b[0m\u001b[0md\u001b[0m\u001b[1;33m.\u001b[0m\u001b[0mname\u001b[0m \u001b[1;32mfor\u001b[0m \u001b[0md\u001b[0m \u001b[1;32min\u001b[0m \u001b[0mdata_path\u001b[0m\u001b[1;33m.\u001b[0m\u001b[0miterdir\u001b[0m\u001b[1;33m(\u001b[0m\u001b[1;33m)\u001b[0m\u001b[1;33m]\u001b[0m\u001b[1;33m)\u001b[0m\u001b[1;33m:\u001b[0m\u001b[1;33m\u001b[0m\u001b[1;33m\u001b[0m\u001b[0m\n\u001b[1;32m--> 168\u001b[1;33m             \u001b[1;32mreturn\u001b[0m \u001b[0mload_model_from_link\u001b[0m\u001b[1;33m(\u001b[0m\u001b[0mname\u001b[0m\u001b[1;33m,\u001b[0m \u001b[1;33m**\u001b[0m\u001b[0moverrides\u001b[0m\u001b[1;33m)\u001b[0m\u001b[1;33m\u001b[0m\u001b[1;33m\u001b[0m\u001b[0m\n\u001b[0m\u001b[0;32m    169\u001b[0m         \u001b[1;32mif\u001b[0m \u001b[0mis_package\u001b[0m\u001b[1;33m(\u001b[0m\u001b[0mname\u001b[0m\u001b[1;33m)\u001b[0m\u001b[1;33m:\u001b[0m  \u001b[1;31m# installed as package\u001b[0m\u001b[1;33m\u001b[0m\u001b[1;33m\u001b[0m\u001b[0m\n\u001b[0;32m    170\u001b[0m             \u001b[1;32mreturn\u001b[0m \u001b[0mload_model_from_package\u001b[0m\u001b[1;33m(\u001b[0m\u001b[0mname\u001b[0m\u001b[1;33m,\u001b[0m \u001b[1;33m**\u001b[0m\u001b[0moverrides\u001b[0m\u001b[1;33m)\u001b[0m\u001b[1;33m\u001b[0m\u001b[1;33m\u001b[0m\u001b[0m\n",
      "\u001b[1;32m~\\Anaconda3\\lib\\site-packages\\spacy\\util.py\u001b[0m in \u001b[0;36mload_model_from_link\u001b[1;34m(name, **overrides)\u001b[0m\n\u001b[0;32m    183\u001b[0m     \u001b[1;32mexcept\u001b[0m \u001b[0mAttributeError\u001b[0m\u001b[1;33m:\u001b[0m\u001b[1;33m\u001b[0m\u001b[1;33m\u001b[0m\u001b[0m\n\u001b[0;32m    184\u001b[0m         \u001b[1;32mraise\u001b[0m \u001b[0mIOError\u001b[0m\u001b[1;33m(\u001b[0m\u001b[0mErrors\u001b[0m\u001b[1;33m.\u001b[0m\u001b[0mE051\u001b[0m\u001b[1;33m.\u001b[0m\u001b[0mformat\u001b[0m\u001b[1;33m(\u001b[0m\u001b[0mname\u001b[0m\u001b[1;33m=\u001b[0m\u001b[0mname\u001b[0m\u001b[1;33m)\u001b[0m\u001b[1;33m)\u001b[0m\u001b[1;33m\u001b[0m\u001b[1;33m\u001b[0m\u001b[0m\n\u001b[1;32m--> 185\u001b[1;33m     \u001b[1;32mreturn\u001b[0m \u001b[0mcls\u001b[0m\u001b[1;33m.\u001b[0m\u001b[0mload\u001b[0m\u001b[1;33m(\u001b[0m\u001b[1;33m**\u001b[0m\u001b[0moverrides\u001b[0m\u001b[1;33m)\u001b[0m\u001b[1;33m\u001b[0m\u001b[1;33m\u001b[0m\u001b[0m\n\u001b[0m\u001b[0;32m    186\u001b[0m \u001b[1;33m\u001b[0m\u001b[0m\n\u001b[0;32m    187\u001b[0m \u001b[1;33m\u001b[0m\u001b[0m\n",
      "\u001b[1;32m~\\Anaconda3\\lib\\site-packages\\spacy\\data\\en_core_web_sm\\__init__.py\u001b[0m in \u001b[0;36mload\u001b[1;34m(**overrides)\u001b[0m\n\u001b[0;32m     10\u001b[0m \u001b[1;33m\u001b[0m\u001b[0m\n\u001b[0;32m     11\u001b[0m \u001b[1;32mdef\u001b[0m \u001b[0mload\u001b[0m\u001b[1;33m(\u001b[0m\u001b[1;33m**\u001b[0m\u001b[0moverrides\u001b[0m\u001b[1;33m)\u001b[0m\u001b[1;33m:\u001b[0m\u001b[1;33m\u001b[0m\u001b[1;33m\u001b[0m\u001b[0m\n\u001b[1;32m---> 12\u001b[1;33m     \u001b[1;32mreturn\u001b[0m \u001b[0mload_model_from_init_py\u001b[0m\u001b[1;33m(\u001b[0m\u001b[0m__file__\u001b[0m\u001b[1;33m,\u001b[0m \u001b[1;33m**\u001b[0m\u001b[0moverrides\u001b[0m\u001b[1;33m)\u001b[0m\u001b[1;33m\u001b[0m\u001b[1;33m\u001b[0m\u001b[0m\n\u001b[0m",
      "\u001b[1;32m~\\Anaconda3\\lib\\site-packages\\spacy\\util.py\u001b[0m in \u001b[0;36mload_model_from_init_py\u001b[1;34m(init_file, **overrides)\u001b[0m\n\u001b[0;32m    237\u001b[0m     \u001b[1;32mif\u001b[0m \u001b[1;32mnot\u001b[0m \u001b[0mmodel_path\u001b[0m\u001b[1;33m.\u001b[0m\u001b[0mexists\u001b[0m\u001b[1;33m(\u001b[0m\u001b[1;33m)\u001b[0m\u001b[1;33m:\u001b[0m\u001b[1;33m\u001b[0m\u001b[1;33m\u001b[0m\u001b[0m\n\u001b[0;32m    238\u001b[0m         \u001b[1;32mraise\u001b[0m \u001b[0mIOError\u001b[0m\u001b[1;33m(\u001b[0m\u001b[0mErrors\u001b[0m\u001b[1;33m.\u001b[0m\u001b[0mE052\u001b[0m\u001b[1;33m.\u001b[0m\u001b[0mformat\u001b[0m\u001b[1;33m(\u001b[0m\u001b[0mpath\u001b[0m\u001b[1;33m=\u001b[0m\u001b[0mpath2str\u001b[0m\u001b[1;33m(\u001b[0m\u001b[0mdata_path\u001b[0m\u001b[1;33m)\u001b[0m\u001b[1;33m)\u001b[0m\u001b[1;33m)\u001b[0m\u001b[1;33m\u001b[0m\u001b[1;33m\u001b[0m\u001b[0m\n\u001b[1;32m--> 239\u001b[1;33m     \u001b[1;32mreturn\u001b[0m \u001b[0mload_model_from_path\u001b[0m\u001b[1;33m(\u001b[0m\u001b[0mdata_path\u001b[0m\u001b[1;33m,\u001b[0m \u001b[0mmeta\u001b[0m\u001b[1;33m,\u001b[0m \u001b[1;33m**\u001b[0m\u001b[0moverrides\u001b[0m\u001b[1;33m)\u001b[0m\u001b[1;33m\u001b[0m\u001b[1;33m\u001b[0m\u001b[0m\n\u001b[0m\u001b[0;32m    240\u001b[0m \u001b[1;33m\u001b[0m\u001b[0m\n\u001b[0;32m    241\u001b[0m \u001b[1;33m\u001b[0m\u001b[0m\n",
      "\u001b[1;32m~\\Anaconda3\\lib\\site-packages\\spacy\\util.py\u001b[0m in \u001b[0;36mload_model_from_path\u001b[1;34m(model_path, meta, **overrides)\u001b[0m\n\u001b[0;32m    220\u001b[0m             \u001b[0mcomponent\u001b[0m \u001b[1;33m=\u001b[0m \u001b[0mnlp\u001b[0m\u001b[1;33m.\u001b[0m\u001b[0mcreate_pipe\u001b[0m\u001b[1;33m(\u001b[0m\u001b[0mfactory\u001b[0m\u001b[1;33m,\u001b[0m \u001b[0mconfig\u001b[0m\u001b[1;33m=\u001b[0m\u001b[0mconfig\u001b[0m\u001b[1;33m)\u001b[0m\u001b[1;33m\u001b[0m\u001b[1;33m\u001b[0m\u001b[0m\n\u001b[0;32m    221\u001b[0m             \u001b[0mnlp\u001b[0m\u001b[1;33m.\u001b[0m\u001b[0madd_pipe\u001b[0m\u001b[1;33m(\u001b[0m\u001b[0mcomponent\u001b[0m\u001b[1;33m,\u001b[0m \u001b[0mname\u001b[0m\u001b[1;33m=\u001b[0m\u001b[0mname\u001b[0m\u001b[1;33m)\u001b[0m\u001b[1;33m\u001b[0m\u001b[1;33m\u001b[0m\u001b[0m\n\u001b[1;32m--> 222\u001b[1;33m     \u001b[1;32mreturn\u001b[0m \u001b[0mnlp\u001b[0m\u001b[1;33m.\u001b[0m\u001b[0mfrom_disk\u001b[0m\u001b[1;33m(\u001b[0m\u001b[0mmodel_path\u001b[0m\u001b[1;33m,\u001b[0m \u001b[0mexclude\u001b[0m\u001b[1;33m=\u001b[0m\u001b[0mdisable\u001b[0m\u001b[1;33m)\u001b[0m\u001b[1;33m\u001b[0m\u001b[1;33m\u001b[0m\u001b[0m\n\u001b[0m\u001b[0;32m    223\u001b[0m \u001b[1;33m\u001b[0m\u001b[0m\n\u001b[0;32m    224\u001b[0m \u001b[1;33m\u001b[0m\u001b[0m\n",
      "\u001b[1;32m~\\Anaconda3\\lib\\site-packages\\spacy\\language.py\u001b[0m in \u001b[0;36mfrom_disk\u001b[1;34m(self, path, exclude, disable)\u001b[0m\n\u001b[0;32m    972\u001b[0m             \u001b[1;31m# Convert to list here in case exclude is (default) tuple\u001b[0m\u001b[1;33m\u001b[0m\u001b[1;33m\u001b[0m\u001b[1;33m\u001b[0m\u001b[0m\n\u001b[0;32m    973\u001b[0m             \u001b[0mexclude\u001b[0m \u001b[1;33m=\u001b[0m \u001b[0mlist\u001b[0m\u001b[1;33m(\u001b[0m\u001b[0mexclude\u001b[0m\u001b[1;33m)\u001b[0m \u001b[1;33m+\u001b[0m \u001b[1;33m[\u001b[0m\u001b[1;34m\"vocab\"\u001b[0m\u001b[1;33m]\u001b[0m\u001b[1;33m\u001b[0m\u001b[1;33m\u001b[0m\u001b[0m\n\u001b[1;32m--> 974\u001b[1;33m         \u001b[0mutil\u001b[0m\u001b[1;33m.\u001b[0m\u001b[0mfrom_disk\u001b[0m\u001b[1;33m(\u001b[0m\u001b[0mpath\u001b[0m\u001b[1;33m,\u001b[0m \u001b[0mdeserializers\u001b[0m\u001b[1;33m,\u001b[0m \u001b[0mexclude\u001b[0m\u001b[1;33m)\u001b[0m\u001b[1;33m\u001b[0m\u001b[1;33m\u001b[0m\u001b[0m\n\u001b[0m\u001b[0;32m    975\u001b[0m         \u001b[0mself\u001b[0m\u001b[1;33m.\u001b[0m\u001b[0m_path\u001b[0m \u001b[1;33m=\u001b[0m \u001b[0mpath\u001b[0m\u001b[1;33m\u001b[0m\u001b[1;33m\u001b[0m\u001b[0m\n\u001b[0;32m    976\u001b[0m         \u001b[1;32mreturn\u001b[0m \u001b[0mself\u001b[0m\u001b[1;33m\u001b[0m\u001b[1;33m\u001b[0m\u001b[0m\n",
      "\u001b[1;32m~\\Anaconda3\\lib\\site-packages\\spacy\\util.py\u001b[0m in \u001b[0;36mfrom_disk\u001b[1;34m(path, readers, exclude)\u001b[0m\n\u001b[0;32m    688\u001b[0m         \u001b[1;31m# Split to support file names like meta.json\u001b[0m\u001b[1;33m\u001b[0m\u001b[1;33m\u001b[0m\u001b[1;33m\u001b[0m\u001b[0m\n\u001b[0;32m    689\u001b[0m         \u001b[1;32mif\u001b[0m \u001b[0mkey\u001b[0m\u001b[1;33m.\u001b[0m\u001b[0msplit\u001b[0m\u001b[1;33m(\u001b[0m\u001b[1;34m\".\"\u001b[0m\u001b[1;33m)\u001b[0m\u001b[1;33m[\u001b[0m\u001b[1;36m0\u001b[0m\u001b[1;33m]\u001b[0m \u001b[1;32mnot\u001b[0m \u001b[1;32min\u001b[0m \u001b[0mexclude\u001b[0m\u001b[1;33m:\u001b[0m\u001b[1;33m\u001b[0m\u001b[1;33m\u001b[0m\u001b[0m\n\u001b[1;32m--> 690\u001b[1;33m             \u001b[0mreader\u001b[0m\u001b[1;33m(\u001b[0m\u001b[0mpath\u001b[0m \u001b[1;33m/\u001b[0m \u001b[0mkey\u001b[0m\u001b[1;33m)\u001b[0m\u001b[1;33m\u001b[0m\u001b[1;33m\u001b[0m\u001b[0m\n\u001b[0m\u001b[0;32m    691\u001b[0m     \u001b[1;32mreturn\u001b[0m \u001b[0mpath\u001b[0m\u001b[1;33m\u001b[0m\u001b[1;33m\u001b[0m\u001b[0m\n\u001b[0;32m    692\u001b[0m \u001b[1;33m\u001b[0m\u001b[0m\n",
      "\u001b[1;32m~\\Anaconda3\\lib\\site-packages\\spacy\\language.py\u001b[0m in \u001b[0;36m<lambda>\u001b[1;34m(p)\u001b[0m\n\u001b[0;32m    959\u001b[0m         \u001b[0mdeserializers\u001b[0m\u001b[1;33m[\u001b[0m\u001b[1;34m\"vocab\"\u001b[0m\u001b[1;33m]\u001b[0m \u001b[1;33m=\u001b[0m \u001b[0mdeserialize_vocab\u001b[0m\u001b[1;33m\u001b[0m\u001b[1;33m\u001b[0m\u001b[0m\n\u001b[0;32m    960\u001b[0m         deserializers[\"tokenizer\"] = lambda p: self.tokenizer.from_disk(\n\u001b[1;32m--> 961\u001b[1;33m             \u001b[0mp\u001b[0m\u001b[1;33m,\u001b[0m \u001b[0mexclude\u001b[0m\u001b[1;33m=\u001b[0m\u001b[1;33m[\u001b[0m\u001b[1;34m\"vocab\"\u001b[0m\u001b[1;33m]\u001b[0m\u001b[1;33m\u001b[0m\u001b[1;33m\u001b[0m\u001b[0m\n\u001b[0m\u001b[0;32m    962\u001b[0m         )\n\u001b[0;32m    963\u001b[0m         \u001b[1;32mfor\u001b[0m \u001b[0mname\u001b[0m\u001b[1;33m,\u001b[0m \u001b[0mproc\u001b[0m \u001b[1;32min\u001b[0m \u001b[0mself\u001b[0m\u001b[1;33m.\u001b[0m\u001b[0mpipeline\u001b[0m\u001b[1;33m:\u001b[0m\u001b[1;33m\u001b[0m\u001b[1;33m\u001b[0m\u001b[0m\n",
      "\u001b[1;32mtokenizer.pyx\u001b[0m in \u001b[0;36mspacy.tokenizer.Tokenizer.from_disk\u001b[1;34m()\u001b[0m\n",
      "\u001b[1;32mtokenizer.pyx\u001b[0m in \u001b[0;36mspacy.tokenizer.Tokenizer.from_bytes\u001b[1;34m()\u001b[0m\n",
      "\u001b[1;32m~\\Anaconda3\\lib\\re.py\u001b[0m in \u001b[0;36mcompile\u001b[1;34m(pattern, flags)\u001b[0m\n\u001b[0;32m    234\u001b[0m \u001b[1;32mdef\u001b[0m \u001b[0mcompile\u001b[0m\u001b[1;33m(\u001b[0m\u001b[0mpattern\u001b[0m\u001b[1;33m,\u001b[0m \u001b[0mflags\u001b[0m\u001b[1;33m=\u001b[0m\u001b[1;36m0\u001b[0m\u001b[1;33m)\u001b[0m\u001b[1;33m:\u001b[0m\u001b[1;33m\u001b[0m\u001b[1;33m\u001b[0m\u001b[0m\n\u001b[0;32m    235\u001b[0m     \u001b[1;34m\"Compile a regular expression pattern, returning a Pattern object.\"\u001b[0m\u001b[1;33m\u001b[0m\u001b[1;33m\u001b[0m\u001b[0m\n\u001b[1;32m--> 236\u001b[1;33m     \u001b[1;32mreturn\u001b[0m \u001b[0m_compile\u001b[0m\u001b[1;33m(\u001b[0m\u001b[0mpattern\u001b[0m\u001b[1;33m,\u001b[0m \u001b[0mflags\u001b[0m\u001b[1;33m)\u001b[0m\u001b[1;33m\u001b[0m\u001b[1;33m\u001b[0m\u001b[0m\n\u001b[0m\u001b[0;32m    237\u001b[0m \u001b[1;33m\u001b[0m\u001b[0m\n\u001b[0;32m    238\u001b[0m \u001b[1;32mdef\u001b[0m \u001b[0mpurge\u001b[0m\u001b[1;33m(\u001b[0m\u001b[1;33m)\u001b[0m\u001b[1;33m:\u001b[0m\u001b[1;33m\u001b[0m\u001b[1;33m\u001b[0m\u001b[0m\n",
      "\u001b[1;32m~\\Anaconda3\\lib\\re.py\u001b[0m in \u001b[0;36m_compile\u001b[1;34m(pattern, flags)\u001b[0m\n\u001b[0;32m    286\u001b[0m     \u001b[1;32mif\u001b[0m \u001b[1;32mnot\u001b[0m \u001b[0msre_compile\u001b[0m\u001b[1;33m.\u001b[0m\u001b[0misstring\u001b[0m\u001b[1;33m(\u001b[0m\u001b[0mpattern\u001b[0m\u001b[1;33m)\u001b[0m\u001b[1;33m:\u001b[0m\u001b[1;33m\u001b[0m\u001b[1;33m\u001b[0m\u001b[0m\n\u001b[0;32m    287\u001b[0m         \u001b[1;32mraise\u001b[0m \u001b[0mTypeError\u001b[0m\u001b[1;33m(\u001b[0m\u001b[1;34m\"first argument must be string or compiled pattern\"\u001b[0m\u001b[1;33m)\u001b[0m\u001b[1;33m\u001b[0m\u001b[1;33m\u001b[0m\u001b[0m\n\u001b[1;32m--> 288\u001b[1;33m     \u001b[0mp\u001b[0m \u001b[1;33m=\u001b[0m \u001b[0msre_compile\u001b[0m\u001b[1;33m.\u001b[0m\u001b[0mcompile\u001b[0m\u001b[1;33m(\u001b[0m\u001b[0mpattern\u001b[0m\u001b[1;33m,\u001b[0m \u001b[0mflags\u001b[0m\u001b[1;33m)\u001b[0m\u001b[1;33m\u001b[0m\u001b[1;33m\u001b[0m\u001b[0m\n\u001b[0m\u001b[0;32m    289\u001b[0m     \u001b[1;32mif\u001b[0m \u001b[1;32mnot\u001b[0m \u001b[1;33m(\u001b[0m\u001b[0mflags\u001b[0m \u001b[1;33m&\u001b[0m \u001b[0mDEBUG\u001b[0m\u001b[1;33m)\u001b[0m\u001b[1;33m:\u001b[0m\u001b[1;33m\u001b[0m\u001b[1;33m\u001b[0m\u001b[0m\n\u001b[0;32m    290\u001b[0m         \u001b[1;32mif\u001b[0m \u001b[0mlen\u001b[0m\u001b[1;33m(\u001b[0m\u001b[0m_cache\u001b[0m\u001b[1;33m)\u001b[0m \u001b[1;33m>=\u001b[0m \u001b[0m_MAXCACHE\u001b[0m\u001b[1;33m:\u001b[0m\u001b[1;33m\u001b[0m\u001b[1;33m\u001b[0m\u001b[0m\n",
      "\u001b[1;32m~\\Anaconda3\\lib\\sre_compile.py\u001b[0m in \u001b[0;36mcompile\u001b[1;34m(p, flags)\u001b[0m\n\u001b[0;32m    762\u001b[0m     \u001b[1;32mif\u001b[0m \u001b[0misstring\u001b[0m\u001b[1;33m(\u001b[0m\u001b[0mp\u001b[0m\u001b[1;33m)\u001b[0m\u001b[1;33m:\u001b[0m\u001b[1;33m\u001b[0m\u001b[1;33m\u001b[0m\u001b[0m\n\u001b[0;32m    763\u001b[0m         \u001b[0mpattern\u001b[0m \u001b[1;33m=\u001b[0m \u001b[0mp\u001b[0m\u001b[1;33m\u001b[0m\u001b[1;33m\u001b[0m\u001b[0m\n\u001b[1;32m--> 764\u001b[1;33m         \u001b[0mp\u001b[0m \u001b[1;33m=\u001b[0m \u001b[0msre_parse\u001b[0m\u001b[1;33m.\u001b[0m\u001b[0mparse\u001b[0m\u001b[1;33m(\u001b[0m\u001b[0mp\u001b[0m\u001b[1;33m,\u001b[0m \u001b[0mflags\u001b[0m\u001b[1;33m)\u001b[0m\u001b[1;33m\u001b[0m\u001b[1;33m\u001b[0m\u001b[0m\n\u001b[0m\u001b[0;32m    765\u001b[0m     \u001b[1;32melse\u001b[0m\u001b[1;33m:\u001b[0m\u001b[1;33m\u001b[0m\u001b[1;33m\u001b[0m\u001b[0m\n\u001b[0;32m    766\u001b[0m         \u001b[0mpattern\u001b[0m \u001b[1;33m=\u001b[0m \u001b[1;32mNone\u001b[0m\u001b[1;33m\u001b[0m\u001b[1;33m\u001b[0m\u001b[0m\n",
      "\u001b[1;32m~\\Anaconda3\\lib\\sre_parse.py\u001b[0m in \u001b[0;36mparse\u001b[1;34m(str, flags, pattern)\u001b[0m\n\u001b[0;32m    922\u001b[0m \u001b[1;33m\u001b[0m\u001b[0m\n\u001b[0;32m    923\u001b[0m     \u001b[1;32mtry\u001b[0m\u001b[1;33m:\u001b[0m\u001b[1;33m\u001b[0m\u001b[1;33m\u001b[0m\u001b[0m\n\u001b[1;32m--> 924\u001b[1;33m         \u001b[0mp\u001b[0m \u001b[1;33m=\u001b[0m \u001b[0m_parse_sub\u001b[0m\u001b[1;33m(\u001b[0m\u001b[0msource\u001b[0m\u001b[1;33m,\u001b[0m \u001b[0mpattern\u001b[0m\u001b[1;33m,\u001b[0m \u001b[0mflags\u001b[0m \u001b[1;33m&\u001b[0m \u001b[0mSRE_FLAG_VERBOSE\u001b[0m\u001b[1;33m,\u001b[0m \u001b[1;36m0\u001b[0m\u001b[1;33m)\u001b[0m\u001b[1;33m\u001b[0m\u001b[1;33m\u001b[0m\u001b[0m\n\u001b[0m\u001b[0;32m    925\u001b[0m     \u001b[1;32mexcept\u001b[0m \u001b[0mVerbose\u001b[0m\u001b[1;33m:\u001b[0m\u001b[1;33m\u001b[0m\u001b[1;33m\u001b[0m\u001b[0m\n\u001b[0;32m    926\u001b[0m         \u001b[1;31m# the VERBOSE flag was switched on inside the pattern.  to be\u001b[0m\u001b[1;33m\u001b[0m\u001b[1;33m\u001b[0m\u001b[1;33m\u001b[0m\u001b[0m\n",
      "\u001b[1;32m~\\Anaconda3\\lib\\sre_parse.py\u001b[0m in \u001b[0;36m_parse_sub\u001b[1;34m(source, state, verbose, nested)\u001b[0m\n\u001b[0;32m    418\u001b[0m     \u001b[1;32mwhile\u001b[0m \u001b[1;32mTrue\u001b[0m\u001b[1;33m:\u001b[0m\u001b[1;33m\u001b[0m\u001b[1;33m\u001b[0m\u001b[0m\n\u001b[0;32m    419\u001b[0m         itemsappend(_parse(source, state, verbose, nested + 1,\n\u001b[1;32m--> 420\u001b[1;33m                            not nested and not items))\n\u001b[0m\u001b[0;32m    421\u001b[0m         \u001b[1;32mif\u001b[0m \u001b[1;32mnot\u001b[0m \u001b[0msourcematch\u001b[0m\u001b[1;33m(\u001b[0m\u001b[1;34m\"|\"\u001b[0m\u001b[1;33m)\u001b[0m\u001b[1;33m:\u001b[0m\u001b[1;33m\u001b[0m\u001b[1;33m\u001b[0m\u001b[0m\n\u001b[0;32m    422\u001b[0m             \u001b[1;32mbreak\u001b[0m\u001b[1;33m\u001b[0m\u001b[1;33m\u001b[0m\u001b[0m\n",
      "\u001b[1;32m~\\Anaconda3\\lib\\sre_parse.py\u001b[0m in \u001b[0;36m_parse\u001b[1;34m(source, state, verbose, nested, first)\u001b[0m\n\u001b[0;32m    528\u001b[0m                     \u001b[1;32mbreak\u001b[0m\u001b[1;33m\u001b[0m\u001b[1;33m\u001b[0m\u001b[0m\n\u001b[0;32m    529\u001b[0m                 \u001b[1;32melif\u001b[0m \u001b[0mthis\u001b[0m\u001b[1;33m[\u001b[0m\u001b[1;36m0\u001b[0m\u001b[1;33m]\u001b[0m \u001b[1;33m==\u001b[0m \u001b[1;34m\"\\\\\"\u001b[0m\u001b[1;33m:\u001b[0m\u001b[1;33m\u001b[0m\u001b[1;33m\u001b[0m\u001b[0m\n\u001b[1;32m--> 530\u001b[1;33m                     \u001b[0mcode1\u001b[0m \u001b[1;33m=\u001b[0m \u001b[0m_class_escape\u001b[0m\u001b[1;33m(\u001b[0m\u001b[0msource\u001b[0m\u001b[1;33m,\u001b[0m \u001b[0mthis\u001b[0m\u001b[1;33m)\u001b[0m\u001b[1;33m\u001b[0m\u001b[1;33m\u001b[0m\u001b[0m\n\u001b[0m\u001b[0;32m    531\u001b[0m                 \u001b[1;32melse\u001b[0m\u001b[1;33m:\u001b[0m\u001b[1;33m\u001b[0m\u001b[1;33m\u001b[0m\u001b[0m\n\u001b[0;32m    532\u001b[0m                     \u001b[1;32mif\u001b[0m \u001b[0mset\u001b[0m \u001b[1;32mand\u001b[0m \u001b[0mthis\u001b[0m \u001b[1;32min\u001b[0m \u001b[1;34m'-&~|'\u001b[0m \u001b[1;32mand\u001b[0m \u001b[0msource\u001b[0m\u001b[1;33m.\u001b[0m\u001b[0mnext\u001b[0m \u001b[1;33m==\u001b[0m \u001b[0mthis\u001b[0m\u001b[1;33m:\u001b[0m\u001b[1;33m\u001b[0m\u001b[1;33m\u001b[0m\u001b[0m\n",
      "\u001b[1;32m~\\Anaconda3\\lib\\sre_parse.py\u001b[0m in \u001b[0;36m_class_escape\u001b[1;34m(source, escape)\u001b[0m\n\u001b[0;32m    335\u001b[0m         \u001b[1;32mif\u001b[0m \u001b[0mlen\u001b[0m\u001b[1;33m(\u001b[0m\u001b[0mescape\u001b[0m\u001b[1;33m)\u001b[0m \u001b[1;33m==\u001b[0m \u001b[1;36m2\u001b[0m\u001b[1;33m:\u001b[0m\u001b[1;33m\u001b[0m\u001b[1;33m\u001b[0m\u001b[0m\n\u001b[0;32m    336\u001b[0m             \u001b[1;32mif\u001b[0m \u001b[0mc\u001b[0m \u001b[1;32min\u001b[0m \u001b[0mASCIILETTERS\u001b[0m\u001b[1;33m:\u001b[0m\u001b[1;33m\u001b[0m\u001b[1;33m\u001b[0m\u001b[0m\n\u001b[1;32m--> 337\u001b[1;33m                 \u001b[1;32mraise\u001b[0m \u001b[0msource\u001b[0m\u001b[1;33m.\u001b[0m\u001b[0merror\u001b[0m\u001b[1;33m(\u001b[0m\u001b[1;34m'bad escape %s'\u001b[0m \u001b[1;33m%\u001b[0m \u001b[0mescape\u001b[0m\u001b[1;33m,\u001b[0m \u001b[0mlen\u001b[0m\u001b[1;33m(\u001b[0m\u001b[0mescape\u001b[0m\u001b[1;33m)\u001b[0m\u001b[1;33m)\u001b[0m\u001b[1;33m\u001b[0m\u001b[1;33m\u001b[0m\u001b[0m\n\u001b[0m\u001b[0;32m    338\u001b[0m             \u001b[1;32mreturn\u001b[0m \u001b[0mLITERAL\u001b[0m\u001b[1;33m,\u001b[0m \u001b[0mord\u001b[0m\u001b[1;33m(\u001b[0m\u001b[0mescape\u001b[0m\u001b[1;33m[\u001b[0m\u001b[1;36m1\u001b[0m\u001b[1;33m]\u001b[0m\u001b[1;33m)\u001b[0m\u001b[1;33m\u001b[0m\u001b[1;33m\u001b[0m\u001b[0m\n\u001b[0;32m    339\u001b[0m     \u001b[1;32mexcept\u001b[0m \u001b[0mValueError\u001b[0m\u001b[1;33m:\u001b[0m\u001b[1;33m\u001b[0m\u001b[1;33m\u001b[0m\u001b[0m\n",
      "\u001b[1;31merror\u001b[0m: bad escape \\p at position 257"
     ]
    }
   ],
   "source": [
    "from corpus_toolkit import corpus_tools as ct\n",
    "\n",
    "#First, generate frequency lists for each corpus\n",
    "corp1freq = ct.frequency(reference_corpus)\n",
    "corp2freq = ct.frequency(corpus)\n",
    "\n",
    "#then calculate Keyness\n",
    "corp_key = ct.keyness(corp1freq, corp2freq, effect = \"log-ratio\")\n",
    "ct.head(corp_key, hits = 10) #to display top hits"
   ]
  },
  {
   "cell_type": "code",
   "execution_count": null,
   "metadata": {
    "hideCode": false,
    "hidePrompt": false,
    "slideshow": {
     "slide_type": "skip"
    }
   },
   "outputs": [],
   "source": [
    "corp1freq['bihar']"
   ]
  },
  {
   "cell_type": "code",
   "execution_count": null,
   "metadata": {
    "hideCode": false,
    "hidePrompt": false,
    "slideshow": {
     "slide_type": "skip"
    }
   },
   "outputs": [],
   "source": [
    "df_temp = df_com >> filter_by(X.date > cutoff_date)\n",
    "df_temp['text'] = df_temp['text'].str.lower()\n",
    "KEYWORDS = ['bihar']\n",
    "for i in range(0,df_temp.shape[0]):\n",
    "    TEXT = df_temp[i,2]\n",
    "    keywords_in_context(TEXT, KEYWORDS)"
   ]
  },
  {
   "cell_type": "markdown",
   "metadata": {
    "hideCode": false,
    "hidePrompt": false,
    "slideshow": {
     "slide_type": "slide"
    }
   },
   "source": [
    "---\n",
    "---\n",
    "---\n",
    "## Parking lot\n",
    "  * text analysis with python vid [link](https://www.youtube.com/watch?v=ALGd_frv4rc&feature=youtu.be&ab_channel=J%C3%BCrgenPfeffer)\n",
    "  * SNA in python vids [link](https://www.youtube.com/playlist?list=PLW5N2mhH4QJqRKrHLWs052mhXyFAsQn-v) "
   ]
  }
 ],
 "metadata": {
  "celltoolbar": "Slideshow",
  "hide_code_all_hidden": false,
  "kernelspec": {
   "display_name": "Python 3",
   "language": "python",
   "name": "python3"
  },
  "language_info": {
   "codemirror_mode": {
    "name": "ipython",
    "version": 3
   },
   "file_extension": ".py",
   "mimetype": "text/x-python",
   "name": "python",
   "nbconvert_exporter": "python",
   "pygments_lexer": "ipython3",
   "version": "3.7.9"
  }
 },
 "nbformat": 4,
 "nbformat_minor": 4
}
