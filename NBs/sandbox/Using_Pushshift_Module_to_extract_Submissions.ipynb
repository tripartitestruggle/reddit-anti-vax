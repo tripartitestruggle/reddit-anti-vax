{
 "cells": [
  {
   "cell_type": "markdown",
   "metadata": {
    "id": "j-QQANye3ecE"
   },
   "source": [
    "# Using Pushshift Module to extract Submissions Data from Reddit via Python\n",
    "\n",
    "PRAW is pretty good at gettin reddit data but there are some limitations with it.\n",
    "Including the removal of the [subreddit.submissions endpoint](https://www.reddit.com/r/changelog/comments/7tus5f/update_to_search_api/.). \n",
    "\n",
    "So for extracting Reddit submissions and the primarily data such as upvotes and comments count, I put together this notebook using Pushshift.\n",
    "\n",
    "If you still prefer PRAW for extract submissions, I have written a code [template here](https://github.com/SeyiAgboola/Seyi_Projects/blob/master/submission_list.py).\n",
    "\n",
    "I will also host the code on GitHub.\n",
    "\n",
    "More info on the removal of the [subreddit.submissions endpoint](https://www.reddit.com/r/redditdev/comments/8bia9n/praw_psa_the_subredditsubmissions_method_no/)."
   ]
  },
  {
   "cell_type": "markdown",
   "metadata": {
    "id": "GyarnetivJPG"
   },
   "source": [
    "# Import modules"
   ]
  },
  {
   "cell_type": "code",
   "execution_count": 1,
   "metadata": {
    "id": "VfmIce345UaB"
   },
   "outputs": [],
   "source": [
    "import pandas as pd\n",
    "import requests #Pushshift accesses Reddit via an url so this is needed\n",
    "import json #JSON manipulation\n",
    "import csv #To Convert final table into a csv file to save to your machine\n",
    "import time\n",
    "import datetime"
   ]
  },
  {
   "cell_type": "markdown",
   "metadata": {
    "id": "pj8JGor4vMwC"
   },
   "source": [
    "# Pushshift URL Examples"
   ]
  },
  {
   "cell_type": "code",
   "execution_count": 2,
   "metadata": {
    "id": "yH8nB39CzZfU"
   },
   "outputs": [],
   "source": [
    "#We can access the Pushshift API through building an URL with the relevant parameters without even needing Reddit credentials.\n",
    "#These are some examples. You can follow the links and they will generate a page with JSON data\n",
    "search_ps4_after_date = \"https://api.pushshift.io/reddit/search/submission/?q=screenshot&after=1514764800&before=1517443200&subreddit=PS4\"\n",
    "search_science = \"https://api.pushshift.io/reddit/search/submission/?q=science\""
   ]
  },
  {
   "cell_type": "markdown",
   "metadata": {
    "id": "AFPXbeD-0kGc"
   },
   "source": [
    "# Parameters for your Pushshift URL\n",
    "These are probably the most important parameters to consider when building your Pushshift URL:\n",
    "\n",
    "* size — increase limit of returned entries to 1000\n",
    "* after — where to start the search\n",
    "* before — where to end the search\n",
    "* title — to search only within the submission’s title\n",
    "* subreddit — to narrow it down to a particular subreddit"
   ]
  },
  {
   "cell_type": "code",
   "execution_count": 3,
   "metadata": {
    "id": "mDma-H_k0frf"
   },
   "outputs": [],
   "source": [
    "#Adapted from this https://gist.github.com/dylankilkenny/3dbf6123527260165f8c5c3bc3ee331b\n",
    "#This function builds an Pushshift URL, accesses the webpage and stores JSON data in a nested list\n",
    "def getPushshiftData(query, after, before, sub):\n",
    "    #Build URL\n",
    "    url_submission = 'https://api.pushshift.io/reddit/search/submission/?title='+str(query)+'&size=1000&after='+str(after)+'&before='+str(before)+'&subreddit='+str(sub)\n",
    "    url = url_submission\n",
    "#     url_comment = 'https://api.pushshift.io/reddit/search/comment/?q='+str(query)+'&size=1000&after='+str(after)+'&before='+str(before)+'&subreddit='+str(sub)\n",
    "#     url = url_comment\n",
    "    #Print URL to show user\n",
    "    print(url)\n",
    "    #Request URL\n",
    "    r = requests.get(url)\n",
    "    #Load JSON data from webpage into data variable\n",
    "    data = json.loads(r.text)\n",
    "    #return the data element which contains all the submissions data\n",
    "    return data['data']"
   ]
  },
  {
   "cell_type": "markdown",
   "metadata": {
    "id": "H524E6kkvh1O"
   },
   "source": [
    "# Extract key information from Submissions\n",
    "\n",
    "We want key data for further analysis including: \n",
    "* Submission Title\n",
    "* URL \n",
    "* Flair\n",
    "* Author\n",
    "* Submission post ID\n",
    "* Score\n",
    "* Upload Time\n",
    "* No. of Comments \n",
    "* Permalink.\n"
   ]
  },
  {
   "cell_type": "code",
   "execution_count": 4,
   "metadata": {
    "id": "N6qX7glQ1-nl"
   },
   "outputs": [],
   "source": [
    "#This function will be used to extract the key data points from each JSON result\n",
    "def collectSubData(subm):\n",
    "    #subData was created at the start to hold all the data which is then added to our global subStats dictionary.\n",
    "    subData = list() #list to store data points\n",
    "    #title = subm['title']\n",
    "    #url = subm['url']\n",
    "    #flairs are not always present so we wrap in try/except\n",
    "    try:\n",
    "        flair = subm['link_flair_text']\n",
    "    except KeyError:\n",
    "        flair = \"NaN\"    \n",
    "    author = subm['author']\n",
    "    title = subm['title']\n",
    "    url = subm['url']\n",
    "    sub_id = subm['id']\n",
    "    score = subm['score']\n",
    "    created = datetime.datetime.fromtimestamp(subm['created_utc']) #1520561700.0\n",
    "    numComms = subm['num_comments']\n",
    "    permalink = subm['permalink']\n",
    "#     body = subm['body']\n",
    "    #Put all data points into a tuple and append to subData\n",
    "    subData.append((sub_id,title,url,author,score,created,numComms,permalink,flair))\n",
    "#     subData.append((sub_id,author,body,score,created,permalink,flair)) #for comments\n",
    "\n",
    "    #Create a dictionary entry of current submission data and store all data related to it\n",
    "    subStats[sub_id] = subData"
   ]
  },
  {
   "cell_type": "markdown",
   "metadata": {
    "id": "vCDRrn9nwRsj"
   },
   "source": [
    "# Update your Search Settings here"
   ]
  },
  {
   "cell_type": "markdown",
   "metadata": {},
   "source": [
    "- Create your timestamps and queries for your search URL\n",
    "- https://www.unixtimestamp.com/index.php > Use this to create your timestamps\n",
    "- after = \"1577836800\" #Submissions after this timestamp (1577836800 = 01 Jan 20)\n",
    "- before = \"1607040000\" #Submissions before this timestamp (1607040000 = 04 Dec 20)\n",
    "- query = \"Cyberpunk 2077\" #Keyword(s) to look for in submissions\n",
    "- sub = \"Games\" #Which Subreddit to search in"
   ]
  },
  {
   "cell_type": "code",
   "execution_count": 5,
   "metadata": {
    "id": "V0fNU7eS2mwT"
   },
   "outputs": [],
   "source": [
    "# after = \"1514764800\" #01/01/2018 @ 12:00am (UTC)\n",
    "# before = \"1515542400\" #01/10/2018 @ 12:00am (UTC)\n",
    "query = \"vaccine\" \n",
    "sub = \"conspiracy\"\n",
    "\n",
    "after = \"1577836800\" #Submissions after this timestamp (1577836800 = 01 Jan 20)\n",
    "before = \"1607040000\" #Submissions before this timestamp (1607040000 = 04 Dec 20)\n",
    "#before = \"1583020800\" # 03/01/2020 @ 12:00am (UTC)\n",
    "# query = \"Cyberpunk 2077\" #Keyword(s) to look for in submissions\n",
    "# sub = \"Games\" #Which Subreddit to search in\n",
    "\n",
    "#subCount tracks the no. of total submissions we collect\n",
    "subCount = 0\n",
    "#subStats is the dictionary where we will store our data.\n",
    "subStats = {}"
   ]
  },
  {
   "cell_type": "code",
   "execution_count": 6,
   "metadata": {
    "id": "6wP_j8pp2-M8"
   },
   "outputs": [
    {
     "name": "stdout",
     "output_type": "stream",
     "text": [
      "https://api.pushshift.io/reddit/search/submission/?title=vaccine&size=1000&after=1577836800&before=1607040000&subreddit=conspiracy\n",
      "100\n",
      "2020-02-15 19:28:10\n",
      "https://api.pushshift.io/reddit/search/submission/?title=vaccine&size=1000&after=1581791290&before=1607040000&subreddit=conspiracy\n",
      "100\n",
      "2020-03-16 00:43:06\n",
      "https://api.pushshift.io/reddit/search/submission/?title=vaccine&size=1000&after=1584315786&before=1607040000&subreddit=conspiracy\n",
      "100\n",
      "2020-03-29 16:22:07\n",
      "https://api.pushshift.io/reddit/search/submission/?title=vaccine&size=1000&after=1585491727&before=1607040000&subreddit=conspiracy\n",
      "100\n",
      "2020-04-07 03:43:21\n",
      "https://api.pushshift.io/reddit/search/submission/?title=vaccine&size=1000&after=1586223801&before=1607040000&subreddit=conspiracy\n",
      "100\n",
      "2020-04-12 23:28:42\n",
      "https://api.pushshift.io/reddit/search/submission/?title=vaccine&size=1000&after=1586726922&before=1607040000&subreddit=conspiracy\n",
      "100\n",
      "2020-04-19 00:48:20\n",
      "https://api.pushshift.io/reddit/search/submission/?title=vaccine&size=1000&after=1587250100&before=1607040000&subreddit=conspiracy\n",
      "100\n",
      "2020-04-25 20:45:34\n",
      "https://api.pushshift.io/reddit/search/submission/?title=vaccine&size=1000&after=1587840334&before=1607040000&subreddit=conspiracy\n",
      "100\n",
      "2020-05-02 18:08:12\n",
      "https://api.pushshift.io/reddit/search/submission/?title=vaccine&size=1000&after=1588435692&before=1607040000&subreddit=conspiracy\n",
      "100\n",
      "2020-05-11 17:01:50\n",
      "https://api.pushshift.io/reddit/search/submission/?title=vaccine&size=1000&after=1589209310&before=1607040000&subreddit=conspiracy\n",
      "100\n",
      "2020-05-17 21:58:57\n",
      "https://api.pushshift.io/reddit/search/submission/?title=vaccine&size=1000&after=1589745537&before=1607040000&subreddit=conspiracy\n",
      "100\n",
      "2020-05-29 23:57:08\n",
      "https://api.pushshift.io/reddit/search/submission/?title=vaccine&size=1000&after=1590789428&before=1607040000&subreddit=conspiracy\n",
      "100\n",
      "2020-07-01 19:11:36\n",
      "https://api.pushshift.io/reddit/search/submission/?title=vaccine&size=1000&after=1593623496&before=1607040000&subreddit=conspiracy\n",
      "100\n",
      "2020-07-18 18:37:29\n",
      "https://api.pushshift.io/reddit/search/submission/?title=vaccine&size=1000&after=1595090249&before=1607040000&subreddit=conspiracy\n",
      "100\n",
      "2020-07-27 12:58:16\n",
      "https://api.pushshift.io/reddit/search/submission/?title=vaccine&size=1000&after=1595847496&before=1607040000&subreddit=conspiracy\n",
      "100\n",
      "2020-08-03 15:09:28\n",
      "https://api.pushshift.io/reddit/search/submission/?title=vaccine&size=1000&after=1596460168&before=1607040000&subreddit=conspiracy\n",
      "100\n",
      "2020-08-11 14:46:37\n",
      "https://api.pushshift.io/reddit/search/submission/?title=vaccine&size=1000&after=1597149997&before=1607040000&subreddit=conspiracy\n",
      "100\n",
      "2020-08-19 01:25:07\n",
      "https://api.pushshift.io/reddit/search/submission/?title=vaccine&size=1000&after=1597793107&before=1607040000&subreddit=conspiracy\n",
      "100\n",
      "2020-08-24 18:19:21\n",
      "https://api.pushshift.io/reddit/search/submission/?title=vaccine&size=1000&after=1598285961&before=1607040000&subreddit=conspiracy\n",
      "100\n",
      "2020-09-04 15:25:15\n",
      "https://api.pushshift.io/reddit/search/submission/?title=vaccine&size=1000&after=1599225915&before=1607040000&subreddit=conspiracy\n",
      "100\n",
      "2020-09-16 00:13:15\n",
      "https://api.pushshift.io/reddit/search/submission/?title=vaccine&size=1000&after=1600207995&before=1607040000&subreddit=conspiracy\n",
      "100\n",
      "2020-10-02 02:23:34\n",
      "https://api.pushshift.io/reddit/search/submission/?title=vaccine&size=1000&after=1601598214&before=1607040000&subreddit=conspiracy\n",
      "100\n",
      "2020-10-18 07:45:07\n",
      "https://api.pushshift.io/reddit/search/submission/?title=vaccine&size=1000&after=1602999907&before=1607040000&subreddit=conspiracy\n",
      "100\n",
      "2020-11-07 22:17:35\n",
      "https://api.pushshift.io/reddit/search/submission/?title=vaccine&size=1000&after=1604783855&before=1607040000&subreddit=conspiracy\n",
      "100\n",
      "2020-11-11 13:46:12\n",
      "https://api.pushshift.io/reddit/search/submission/?title=vaccine&size=1000&after=1605098772&before=1607040000&subreddit=conspiracy\n",
      "100\n",
      "2020-11-15 10:16:54\n",
      "https://api.pushshift.io/reddit/search/submission/?title=vaccine&size=1000&after=1605431814&before=1607040000&subreddit=conspiracy\n",
      "100\n",
      "2020-11-19 16:47:49\n",
      "https://api.pushshift.io/reddit/search/submission/?title=vaccine&size=1000&after=1605800869&before=1607040000&subreddit=conspiracy\n",
      "100\n",
      "2020-11-24 10:28:11\n",
      "https://api.pushshift.io/reddit/search/submission/?title=vaccine&size=1000&after=1606210091&before=1607040000&subreddit=conspiracy\n",
      "100\n",
      "2020-12-01 01:26:18\n",
      "https://api.pushshift.io/reddit/search/submission/?title=vaccine&size=1000&after=1606782378&before=1607040000&subreddit=conspiracy\n",
      "100\n",
      "2020-12-03 14:29:13\n",
      "https://api.pushshift.io/reddit/search/submission/?title=vaccine&size=1000&after=1607002153&before=1607040000&subreddit=conspiracy\n",
      "5\n",
      "2020-12-03 16:01:44\n",
      "https://api.pushshift.io/reddit/search/submission/?title=vaccine&size=1000&after=1607007704&before=1607040000&subreddit=conspiracy\n",
      "0\n"
     ]
    }
   ],
   "source": [
    "# We need to run this function outside the loop first to get the updated after variable\n",
    "data = getPushshiftData(query, after, before, sub)\n",
    "# Will run until all posts have been gathered i.e. When the length of data variable = 0\n",
    "# from the 'after' date up until before date\n",
    "while len(data) > 0: #The length of data is the number submissions (data[0], data[1] etc), once it hits zero (after and before vars are the same) end\n",
    "    for submission in data:\n",
    "        collectSubData(submission)\n",
    "        subCount+=1\n",
    "    # Calls getPushshiftData() with the created date of the last submission\n",
    "    print(len(data))\n",
    "    print(str(datetime.datetime.fromtimestamp(data[-1]['created_utc'])))\n",
    "    #update after variable to last created date of submission\n",
    "    after = data[-1]['created_utc']\n",
    "    #data has changed due to the new after variable provided by above code\n",
    "    data = getPushshiftData(query, after, before, sub)\n",
    "    \n",
    "print(len(data))"
   ]
  },
  {
   "cell_type": "markdown",
   "metadata": {
    "id": "OaeTGu7mwyoU"
   },
   "source": [
    "# Check your Submission Extraction was successful"
   ]
  },
  {
   "cell_type": "code",
   "execution_count": 7,
   "metadata": {
    "id": "uVLuSJ8e8p7i"
   },
   "outputs": [
    {
     "name": "stdout",
     "output_type": "stream",
     "text": [
      "2905 submissions have added to list\n",
      "1st entry is:\n",
      "Vaccine Injury Attorney Destroys Connecticut Lawmakers created: 2020-01-01 21:07:32\n",
      "Last entry is:\n",
      "Any thoughts on this? I understand (besides Trump) they were the last three presidents but they always seem to have a really good connection. I personally don’t think much of the vaccine in a negative way, but curious for any thoughts ... created: 2020-12-03 16:01:44\n"
     ]
    }
   ],
   "source": [
    "print(str(len(subStats)) + \" submissions have added to list\")\n",
    "print(\"1st entry is:\")\n",
    "print(list(subStats.values())[0][0][1] + \" created: \" + str(list(subStats.values())[0][0][5]))\n",
    "print(\"Last entry is:\")\n",
    "print(list(subStats.values())[-1][0][1] + \" created: \" + str(list(subStats.values())[-1][0][5]))"
   ]
  },
  {
   "cell_type": "markdown",
   "metadata": {
    "id": "BAm_zZZfw521"
   },
   "source": [
    "# Save data to CSV file"
   ]
  },
  {
   "cell_type": "code",
   "execution_count": 8,
   "metadata": {
    "id": "MBikywNJ8ufl"
   },
   "outputs": [
    {
     "name": "stdout",
     "output_type": "stream",
     "text": [
      "2905 submissions have been uploaded\n"
     ]
    }
   ],
   "source": [
    "def updateSubs_file():\n",
    "    upload_count = 0\n",
    "    #location = \"\\\\Reddit Data\\\\\" >> If you're running this outside of a notebook you'll need this to direct to a specific location\n",
    "    #print(\"input filename of submission file, please add .csv\")\n",
    "    #filename = input() #This asks the user what to name the file\n",
    "#     filename = \"comments_vaccine.csv\"\n",
    "    filename = \"submissions_vaccine.csv\"\n",
    "    file = filename\n",
    "    with open(file, 'w', newline='', encoding='utf-8') as file: \n",
    "        a = csv.writer(file, delimiter=',')\n",
    "        headers = [\"Post ID\",\"Title\",\"Url\",\"Author\",\"Score\",\"Publish Date\",\"Total No. of Comments\",\"Permalink\",\"Flair\"]\n",
    "#         headers = [\"Post ID\",\"Author\",\"Body\",\"Score\",\"Publish Date\",\"Permalink\",\"Flair\"]\n",
    "        a.writerow(headers)\n",
    "        for sub in subStats:\n",
    "            a.writerow(subStats[sub][0])\n",
    "            upload_count+=1\n",
    "            \n",
    "        print(str(upload_count) + \" submissions have been uploaded\")\n",
    "updateSubs_file()"
   ]
  }
 ],
 "metadata": {
  "colab": {
   "name": "Using Pushshift Module to extract Submissions.ipynb",
   "provenance": [],
   "toc_visible": true
  },
  "kernelspec": {
   "display_name": "Python 3",
   "language": "python",
   "name": "python3"
  },
  "language_info": {
   "codemirror_mode": {
    "name": "ipython",
    "version": 3
   },
   "file_extension": ".py",
   "mimetype": "text/x-python",
   "name": "python",
   "nbconvert_exporter": "python",
   "pygments_lexer": "ipython3",
   "version": "3.7.9"
  }
 },
 "nbformat": 4,
 "nbformat_minor": 1
}
