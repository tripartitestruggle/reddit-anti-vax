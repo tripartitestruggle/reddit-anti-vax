{
 "cells": [
  {
   "cell_type": "code",
   "execution_count": null,
   "metadata": {
    "id": "I1Y9j8FGp5_j"
   },
   "outputs": [],
   "source": [
    "# !python --version"
   ]
  },
  {
   "cell_type": "code",
   "execution_count": null,
   "metadata": {
    "id": "S0Rr-1EhXZsN"
   },
   "outputs": [],
   "source": [
    "from scipy.spatial.distance import cdist, pdist\n",
    "import pandas as pd\n",
    "import numpy as np\n",
    "from sklearn.cluster import KMeans \n",
    "import matplotlib.pyplot as plt"
   ]
  },
  {
   "cell_type": "code",
   "execution_count": null,
   "metadata": {
    "id": "Fe4rS0fmXfRU"
   },
   "outputs": [],
   "source": [
    "filename = '/document_topics.npy'\n",
    "d_t = np.load(filename)\n",
    "document_topics = d_t"
   ]
  },
  {
   "cell_type": "code",
   "execution_count": null,
   "metadata": {
    "id": "vUGB09NGe65s"
   },
   "outputs": [],
   "source": [
    "#!/usr/bin/env python3\n",
    "# -*- coding: utf-8 -*-\n",
    "#\n",
    "# (c) 2016 Teruo Tanimoto\n",
    "# MIT License\n",
    "#\n",
    "# calc_k_with_gap\n",
    "#   A python implementation of an algorithm to finding k for k-means clustering\n",
    "# \n",
    "# Gap statistic defined in\n",
    "# Tibshirani, Walther, Hastie:\n",
    "#  Estimating the number of clusters in a data set via the gap statistic\n",
    "#  J. R. Statist. Soc. B (2001) 63, Part 2, pp 411-423\n",
    "#\n",
    "# A part of this file is from gap.py of Mikael Vejdemo-Johansson\n",
    "# https://gist.github.com/michiexile/5635273\n",
    "\n",
    "# import packages\n",
    "from sklearn.cluster import KMeans\n",
    "import scipy\n",
    "import scipy.cluster.vq\n",
    "import scipy.spatial.distance\n",
    "from sklearn.metrics import silhouette_score\n",
    "\n",
    "dst = scipy.spatial.distance.euclidean\n",
    "\n",
    "def calc_k_with_gap(data, refs=None, nrefs=20, max_k=10):\n",
    "    \"\"\"\n",
    "    Compute the Gap statistic for an nxm dataset in data.\n",
    "    Find k value for K-Means clustering using gap statistic\n",
    "    Either give a precomputed set of reference distributions in refs as an (n,m,k) scipy array,\n",
    "    or state the number k of reference distributions in nrefs for automatic generation with a\n",
    "    uniformed distribution within the bounding box of data.\n",
    "\n",
    "    Input:\n",
    "        data: A (n,m) scipy array. dataset for clustering\n",
    "        refs: A precomputed set of reference distributions to calculate gap statistic (optional)\n",
    "        nrefs: The number of reference distibutions. This value is used when refs is None.\n",
    "        max_k: Maximum k to be searched\n",
    "\n",
    "    Output:\n",
    "        k: Founded k (If k == max_k, k is not a solution.)\n",
    "        gaps: A list of gap statistics. Note that gaps[0] is gap_1.\n",
    "        sks: A list of sk values. Note that sks[0] is sk_1.\n",
    "    \"\"\"\n",
    "    print(\"calc_k_with_gap() preparing...\")\n",
    "    shape = data.shape\n",
    "    if refs==None:\n",
    "        tops = data.max(axis=0)\n",
    "        bots = data.min(axis=0)\n",
    "        dists = scipy.matrix(scipy.diag(tops-bots))\n",
    "\t\n",
    "        rands = scipy.random.random_sample(size=(shape[0],shape[1],nrefs))\n",
    "        for i in range(nrefs):\n",
    "            rands[:,:,i] = rands[:,:,i]*dists+bots\n",
    "    else:\n",
    "        rands = refs\n",
    "\n",
    "    print(\"calc_k_with_gap() preparing...   Done.\")\n",
    "    \n",
    "    n_clusters = scipy.zeros(max_k)\n",
    "    gaps = scipy.zeros(max_k)\n",
    "    sks  = scipy.zeros(max_k)\n",
    "    silh_scores = scipy.zeros(max_k)\n",
    "    for (i,k) in enumerate(range(2, max_k)):\n",
    "        print(\"calc_k_with_gap() iteration for i = \", i)\n",
    "        kmeans_model = KMeans(n_clusters=k, max_iter=300).fit(data)\n",
    "        kmc = kmeans_model.cluster_centers_\n",
    "        kml = kmeans_model.labels_\n",
    "        disp = sum([dst(data[m,:],kmc[kml[m],:]) for m in range(shape[0])])\n",
    "        kml_data = kml\n",
    "        \n",
    "        refdisps = scipy.zeros((rands.shape[2],))\n",
    "        for j in range(rands.shape[2]):\n",
    "            kmeans_model = KMeans(n_clusters=k, max_iter=300).fit(rands[:,:,j])\n",
    "            kmc = kmeans_model.cluster_centers_\n",
    "            kml = kmeans_model.labels_\n",
    "            refdisps[j] = sum([dst(rands[m,:,j],kmc[kml[m],:]) for m in range(shape[0])])\n",
    "\n",
    "        w_bar = scipy.mean(scipy.log(refdisps))\n",
    "        n_clusters[i] = k\n",
    "        sks[i] = scipy.sqrt(scipy.mean((scipy.log(refdisps) - w_bar) ** 2))\n",
    "        gaps[i] = w_bar - scipy.log(disp)\n",
    "        silh_scores[i] = silhouette_score(data, kml_data, metric='euclidean')\n",
    "\n",
    "#        if i > 0:\n",
    "#            if gaps[i-1] > gaps[i] - sks[i]:\n",
    "#                break\n",
    "\n",
    "    return n_clusters, gaps, sks, silh_scores"
   ]
  },
  {
   "cell_type": "code",
   "execution_count": null,
   "metadata": {
    "colab": {
     "base_uri": "https://localhost:8080/"
    },
    "id": "Yc4POSm8eXeE",
    "outputId": "d41af7c6-1894-4b1c-924c-b8e8e897ded0"
   },
   "outputs": [
    {
     "name": "stdout",
     "output_type": "stream",
     "text": [
      "calc_k_with_gap() preparing...\n"
     ]
    },
    {
     "name": "stderr",
     "output_type": "stream",
     "text": [
      "/usr/local/lib/python3.6/dist-packages/ipykernel_launcher.py:51: DeprecationWarning: scipy.diag is deprecated and will be removed in SciPy 2.0.0, use numpy.diag instead\n"
     ]
    },
    {
     "name": "stdout",
     "output_type": "stream",
     "text": [
      "calc_k_with_gap() preparing...   Done.\n",
      "calc_k_with_gap() iteration for i =  0\n"
     ]
    },
    {
     "name": "stderr",
     "output_type": "stream",
     "text": [
      "/usr/local/lib/python3.6/dist-packages/ipykernel_launcher.py:61: DeprecationWarning: scipy.zeros is deprecated and will be removed in SciPy 2.0.0, use numpy.zeros instead\n",
      "/usr/local/lib/python3.6/dist-packages/ipykernel_launcher.py:62: DeprecationWarning: scipy.zeros is deprecated and will be removed in SciPy 2.0.0, use numpy.zeros instead\n",
      "/usr/local/lib/python3.6/dist-packages/ipykernel_launcher.py:63: DeprecationWarning: scipy.zeros is deprecated and will be removed in SciPy 2.0.0, use numpy.zeros instead\n",
      "/usr/local/lib/python3.6/dist-packages/ipykernel_launcher.py:64: DeprecationWarning: scipy.zeros is deprecated and will be removed in SciPy 2.0.0, use numpy.zeros instead\n",
      "/usr/local/lib/python3.6/dist-packages/ipykernel_launcher.py:73: DeprecationWarning: scipy.zeros is deprecated and will be removed in SciPy 2.0.0, use numpy.zeros instead\n",
      "/usr/local/lib/python3.6/dist-packages/ipykernel_launcher.py:80: DeprecationWarning: scipy.log is deprecated and will be removed in SciPy 2.0.0, use numpy.lib.scimath.log instead\n",
      "/usr/local/lib/python3.6/dist-packages/ipykernel_launcher.py:80: DeprecationWarning: scipy.mean is deprecated and will be removed in SciPy 2.0.0, use numpy.mean instead\n",
      "/usr/local/lib/python3.6/dist-packages/ipykernel_launcher.py:82: DeprecationWarning: scipy.log is deprecated and will be removed in SciPy 2.0.0, use numpy.lib.scimath.log instead\n",
      "/usr/local/lib/python3.6/dist-packages/ipykernel_launcher.py:82: DeprecationWarning: scipy.mean is deprecated and will be removed in SciPy 2.0.0, use numpy.mean instead\n",
      "/usr/local/lib/python3.6/dist-packages/ipykernel_launcher.py:82: DeprecationWarning: scipy.sqrt is deprecated and will be removed in SciPy 2.0.0, use numpy.lib.scimath.sqrt instead\n",
      "/usr/local/lib/python3.6/dist-packages/ipykernel_launcher.py:83: DeprecationWarning: scipy.log is deprecated and will be removed in SciPy 2.0.0, use numpy.lib.scimath.log instead\n"
     ]
    },
    {
     "name": "stdout",
     "output_type": "stream",
     "text": [
      "calc_k_with_gap() iteration for i =  1\n"
     ]
    },
    {
     "name": "stderr",
     "output_type": "stream",
     "text": [
      "/usr/local/lib/python3.6/dist-packages/ipykernel_launcher.py:73: DeprecationWarning: scipy.zeros is deprecated and will be removed in SciPy 2.0.0, use numpy.zeros instead\n",
      "/usr/local/lib/python3.6/dist-packages/ipykernel_launcher.py:80: DeprecationWarning: scipy.log is deprecated and will be removed in SciPy 2.0.0, use numpy.lib.scimath.log instead\n",
      "/usr/local/lib/python3.6/dist-packages/ipykernel_launcher.py:80: DeprecationWarning: scipy.mean is deprecated and will be removed in SciPy 2.0.0, use numpy.mean instead\n",
      "/usr/local/lib/python3.6/dist-packages/ipykernel_launcher.py:82: DeprecationWarning: scipy.log is deprecated and will be removed in SciPy 2.0.0, use numpy.lib.scimath.log instead\n",
      "/usr/local/lib/python3.6/dist-packages/ipykernel_launcher.py:82: DeprecationWarning: scipy.mean is deprecated and will be removed in SciPy 2.0.0, use numpy.mean instead\n",
      "/usr/local/lib/python3.6/dist-packages/ipykernel_launcher.py:82: DeprecationWarning: scipy.sqrt is deprecated and will be removed in SciPy 2.0.0, use numpy.lib.scimath.sqrt instead\n",
      "/usr/local/lib/python3.6/dist-packages/ipykernel_launcher.py:83: DeprecationWarning: scipy.log is deprecated and will be removed in SciPy 2.0.0, use numpy.lib.scimath.log instead\n"
     ]
    },
    {
     "name": "stdout",
     "output_type": "stream",
     "text": [
      "calc_k_with_gap() iteration for i =  2\n"
     ]
    },
    {
     "name": "stderr",
     "output_type": "stream",
     "text": [
      "/usr/local/lib/python3.6/dist-packages/ipykernel_launcher.py:73: DeprecationWarning: scipy.zeros is deprecated and will be removed in SciPy 2.0.0, use numpy.zeros instead\n",
      "/usr/local/lib/python3.6/dist-packages/ipykernel_launcher.py:80: DeprecationWarning: scipy.log is deprecated and will be removed in SciPy 2.0.0, use numpy.lib.scimath.log instead\n",
      "/usr/local/lib/python3.6/dist-packages/ipykernel_launcher.py:80: DeprecationWarning: scipy.mean is deprecated and will be removed in SciPy 2.0.0, use numpy.mean instead\n",
      "/usr/local/lib/python3.6/dist-packages/ipykernel_launcher.py:82: DeprecationWarning: scipy.log is deprecated and will be removed in SciPy 2.0.0, use numpy.lib.scimath.log instead\n",
      "/usr/local/lib/python3.6/dist-packages/ipykernel_launcher.py:82: DeprecationWarning: scipy.mean is deprecated and will be removed in SciPy 2.0.0, use numpy.mean instead\n",
      "/usr/local/lib/python3.6/dist-packages/ipykernel_launcher.py:82: DeprecationWarning: scipy.sqrt is deprecated and will be removed in SciPy 2.0.0, use numpy.lib.scimath.sqrt instead\n",
      "/usr/local/lib/python3.6/dist-packages/ipykernel_launcher.py:83: DeprecationWarning: scipy.log is deprecated and will be removed in SciPy 2.0.0, use numpy.lib.scimath.log instead\n"
     ]
    },
    {
     "name": "stdout",
     "output_type": "stream",
     "text": [
      "calc_k_with_gap() iteration for i =  3\n"
     ]
    },
    {
     "name": "stderr",
     "output_type": "stream",
     "text": [
      "/usr/local/lib/python3.6/dist-packages/ipykernel_launcher.py:73: DeprecationWarning: scipy.zeros is deprecated and will be removed in SciPy 2.0.0, use numpy.zeros instead\n",
      "/usr/local/lib/python3.6/dist-packages/ipykernel_launcher.py:80: DeprecationWarning: scipy.log is deprecated and will be removed in SciPy 2.0.0, use numpy.lib.scimath.log instead\n",
      "/usr/local/lib/python3.6/dist-packages/ipykernel_launcher.py:80: DeprecationWarning: scipy.mean is deprecated and will be removed in SciPy 2.0.0, use numpy.mean instead\n",
      "/usr/local/lib/python3.6/dist-packages/ipykernel_launcher.py:82: DeprecationWarning: scipy.log is deprecated and will be removed in SciPy 2.0.0, use numpy.lib.scimath.log instead\n",
      "/usr/local/lib/python3.6/dist-packages/ipykernel_launcher.py:82: DeprecationWarning: scipy.mean is deprecated and will be removed in SciPy 2.0.0, use numpy.mean instead\n",
      "/usr/local/lib/python3.6/dist-packages/ipykernel_launcher.py:82: DeprecationWarning: scipy.sqrt is deprecated and will be removed in SciPy 2.0.0, use numpy.lib.scimath.sqrt instead\n",
      "/usr/local/lib/python3.6/dist-packages/ipykernel_launcher.py:83: DeprecationWarning: scipy.log is deprecated and will be removed in SciPy 2.0.0, use numpy.lib.scimath.log instead\n"
     ]
    },
    {
     "name": "stdout",
     "output_type": "stream",
     "text": [
      "calc_k_with_gap() iteration for i =  4\n"
     ]
    },
    {
     "name": "stderr",
     "output_type": "stream",
     "text": [
      "/usr/local/lib/python3.6/dist-packages/ipykernel_launcher.py:73: DeprecationWarning: scipy.zeros is deprecated and will be removed in SciPy 2.0.0, use numpy.zeros instead\n",
      "/usr/local/lib/python3.6/dist-packages/ipykernel_launcher.py:80: DeprecationWarning: scipy.log is deprecated and will be removed in SciPy 2.0.0, use numpy.lib.scimath.log instead\n",
      "/usr/local/lib/python3.6/dist-packages/ipykernel_launcher.py:80: DeprecationWarning: scipy.mean is deprecated and will be removed in SciPy 2.0.0, use numpy.mean instead\n",
      "/usr/local/lib/python3.6/dist-packages/ipykernel_launcher.py:82: DeprecationWarning: scipy.log is deprecated and will be removed in SciPy 2.0.0, use numpy.lib.scimath.log instead\n",
      "/usr/local/lib/python3.6/dist-packages/ipykernel_launcher.py:82: DeprecationWarning: scipy.mean is deprecated and will be removed in SciPy 2.0.0, use numpy.mean instead\n",
      "/usr/local/lib/python3.6/dist-packages/ipykernel_launcher.py:82: DeprecationWarning: scipy.sqrt is deprecated and will be removed in SciPy 2.0.0, use numpy.lib.scimath.sqrt instead\n",
      "/usr/local/lib/python3.6/dist-packages/ipykernel_launcher.py:83: DeprecationWarning: scipy.log is deprecated and will be removed in SciPy 2.0.0, use numpy.lib.scimath.log instead\n"
     ]
    },
    {
     "name": "stdout",
     "output_type": "stream",
     "text": [
      "calc_k_with_gap() iteration for i =  5\n"
     ]
    },
    {
     "name": "stderr",
     "output_type": "stream",
     "text": [
      "/usr/local/lib/python3.6/dist-packages/ipykernel_launcher.py:73: DeprecationWarning: scipy.zeros is deprecated and will be removed in SciPy 2.0.0, use numpy.zeros instead\n",
      "/usr/local/lib/python3.6/dist-packages/ipykernel_launcher.py:80: DeprecationWarning: scipy.log is deprecated and will be removed in SciPy 2.0.0, use numpy.lib.scimath.log instead\n",
      "/usr/local/lib/python3.6/dist-packages/ipykernel_launcher.py:80: DeprecationWarning: scipy.mean is deprecated and will be removed in SciPy 2.0.0, use numpy.mean instead\n",
      "/usr/local/lib/python3.6/dist-packages/ipykernel_launcher.py:82: DeprecationWarning: scipy.log is deprecated and will be removed in SciPy 2.0.0, use numpy.lib.scimath.log instead\n",
      "/usr/local/lib/python3.6/dist-packages/ipykernel_launcher.py:82: DeprecationWarning: scipy.mean is deprecated and will be removed in SciPy 2.0.0, use numpy.mean instead\n",
      "/usr/local/lib/python3.6/dist-packages/ipykernel_launcher.py:82: DeprecationWarning: scipy.sqrt is deprecated and will be removed in SciPy 2.0.0, use numpy.lib.scimath.sqrt instead\n",
      "/usr/local/lib/python3.6/dist-packages/ipykernel_launcher.py:83: DeprecationWarning: scipy.log is deprecated and will be removed in SciPy 2.0.0, use numpy.lib.scimath.log instead\n"
     ]
    },
    {
     "name": "stdout",
     "output_type": "stream",
     "text": [
      "calc_k_with_gap() iteration for i =  6\n"
     ]
    },
    {
     "name": "stderr",
     "output_type": "stream",
     "text": [
      "/usr/local/lib/python3.6/dist-packages/ipykernel_launcher.py:73: DeprecationWarning: scipy.zeros is deprecated and will be removed in SciPy 2.0.0, use numpy.zeros instead\n",
      "/usr/local/lib/python3.6/dist-packages/ipykernel_launcher.py:80: DeprecationWarning: scipy.log is deprecated and will be removed in SciPy 2.0.0, use numpy.lib.scimath.log instead\n",
      "/usr/local/lib/python3.6/dist-packages/ipykernel_launcher.py:80: DeprecationWarning: scipy.mean is deprecated and will be removed in SciPy 2.0.0, use numpy.mean instead\n",
      "/usr/local/lib/python3.6/dist-packages/ipykernel_launcher.py:82: DeprecationWarning: scipy.log is deprecated and will be removed in SciPy 2.0.0, use numpy.lib.scimath.log instead\n",
      "/usr/local/lib/python3.6/dist-packages/ipykernel_launcher.py:82: DeprecationWarning: scipy.mean is deprecated and will be removed in SciPy 2.0.0, use numpy.mean instead\n",
      "/usr/local/lib/python3.6/dist-packages/ipykernel_launcher.py:82: DeprecationWarning: scipy.sqrt is deprecated and will be removed in SciPy 2.0.0, use numpy.lib.scimath.sqrt instead\n",
      "/usr/local/lib/python3.6/dist-packages/ipykernel_launcher.py:83: DeprecationWarning: scipy.log is deprecated and will be removed in SciPy 2.0.0, use numpy.lib.scimath.log instead\n"
     ]
    },
    {
     "name": "stdout",
     "output_type": "stream",
     "text": [
      "calc_k_with_gap() iteration for i =  7\n"
     ]
    },
    {
     "name": "stderr",
     "output_type": "stream",
     "text": [
      "/usr/local/lib/python3.6/dist-packages/ipykernel_launcher.py:73: DeprecationWarning: scipy.zeros is deprecated and will be removed in SciPy 2.0.0, use numpy.zeros instead\n",
      "/usr/local/lib/python3.6/dist-packages/ipykernel_launcher.py:80: DeprecationWarning: scipy.log is deprecated and will be removed in SciPy 2.0.0, use numpy.lib.scimath.log instead\n",
      "/usr/local/lib/python3.6/dist-packages/ipykernel_launcher.py:80: DeprecationWarning: scipy.mean is deprecated and will be removed in SciPy 2.0.0, use numpy.mean instead\n",
      "/usr/local/lib/python3.6/dist-packages/ipykernel_launcher.py:82: DeprecationWarning: scipy.log is deprecated and will be removed in SciPy 2.0.0, use numpy.lib.scimath.log instead\n",
      "/usr/local/lib/python3.6/dist-packages/ipykernel_launcher.py:82: DeprecationWarning: scipy.mean is deprecated and will be removed in SciPy 2.0.0, use numpy.mean instead\n",
      "/usr/local/lib/python3.6/dist-packages/ipykernel_launcher.py:82: DeprecationWarning: scipy.sqrt is deprecated and will be removed in SciPy 2.0.0, use numpy.lib.scimath.sqrt instead\n",
      "/usr/local/lib/python3.6/dist-packages/ipykernel_launcher.py:83: DeprecationWarning: scipy.log is deprecated and will be removed in SciPy 2.0.0, use numpy.lib.scimath.log instead\n"
     ]
    },
    {
     "name": "stdout",
     "output_type": "stream",
     "text": [
      "calc_k_with_gap() iteration for i =  8\n"
     ]
    },
    {
     "name": "stderr",
     "output_type": "stream",
     "text": [
      "/usr/local/lib/python3.6/dist-packages/ipykernel_launcher.py:73: DeprecationWarning: scipy.zeros is deprecated and will be removed in SciPy 2.0.0, use numpy.zeros instead\n",
      "/usr/local/lib/python3.6/dist-packages/ipykernel_launcher.py:80: DeprecationWarning: scipy.log is deprecated and will be removed in SciPy 2.0.0, use numpy.lib.scimath.log instead\n",
      "/usr/local/lib/python3.6/dist-packages/ipykernel_launcher.py:80: DeprecationWarning: scipy.mean is deprecated and will be removed in SciPy 2.0.0, use numpy.mean instead\n",
      "/usr/local/lib/python3.6/dist-packages/ipykernel_launcher.py:82: DeprecationWarning: scipy.log is deprecated and will be removed in SciPy 2.0.0, use numpy.lib.scimath.log instead\n",
      "/usr/local/lib/python3.6/dist-packages/ipykernel_launcher.py:82: DeprecationWarning: scipy.mean is deprecated and will be removed in SciPy 2.0.0, use numpy.mean instead\n",
      "/usr/local/lib/python3.6/dist-packages/ipykernel_launcher.py:82: DeprecationWarning: scipy.sqrt is deprecated and will be removed in SciPy 2.0.0, use numpy.lib.scimath.sqrt instead\n",
      "/usr/local/lib/python3.6/dist-packages/ipykernel_launcher.py:83: DeprecationWarning: scipy.log is deprecated and will be removed in SciPy 2.0.0, use numpy.lib.scimath.log instead\n"
     ]
    },
    {
     "name": "stdout",
     "output_type": "stream",
     "text": [
      "calc_k_with_gap() iteration for i =  9\n"
     ]
    },
    {
     "name": "stderr",
     "output_type": "stream",
     "text": [
      "/usr/local/lib/python3.6/dist-packages/ipykernel_launcher.py:73: DeprecationWarning: scipy.zeros is deprecated and will be removed in SciPy 2.0.0, use numpy.zeros instead\n",
      "/usr/local/lib/python3.6/dist-packages/ipykernel_launcher.py:80: DeprecationWarning: scipy.log is deprecated and will be removed in SciPy 2.0.0, use numpy.lib.scimath.log instead\n",
      "/usr/local/lib/python3.6/dist-packages/ipykernel_launcher.py:80: DeprecationWarning: scipy.mean is deprecated and will be removed in SciPy 2.0.0, use numpy.mean instead\n",
      "/usr/local/lib/python3.6/dist-packages/ipykernel_launcher.py:82: DeprecationWarning: scipy.log is deprecated and will be removed in SciPy 2.0.0, use numpy.lib.scimath.log instead\n",
      "/usr/local/lib/python3.6/dist-packages/ipykernel_launcher.py:82: DeprecationWarning: scipy.mean is deprecated and will be removed in SciPy 2.0.0, use numpy.mean instead\n",
      "/usr/local/lib/python3.6/dist-packages/ipykernel_launcher.py:82: DeprecationWarning: scipy.sqrt is deprecated and will be removed in SciPy 2.0.0, use numpy.lib.scimath.sqrt instead\n",
      "/usr/local/lib/python3.6/dist-packages/ipykernel_launcher.py:83: DeprecationWarning: scipy.log is deprecated and will be removed in SciPy 2.0.0, use numpy.lib.scimath.log instead\n"
     ]
    },
    {
     "name": "stdout",
     "output_type": "stream",
     "text": [
      "calc_k_with_gap() iteration for i =  10\n"
     ]
    },
    {
     "name": "stderr",
     "output_type": "stream",
     "text": [
      "/usr/local/lib/python3.6/dist-packages/ipykernel_launcher.py:73: DeprecationWarning: scipy.zeros is deprecated and will be removed in SciPy 2.0.0, use numpy.zeros instead\n",
      "/usr/local/lib/python3.6/dist-packages/ipykernel_launcher.py:80: DeprecationWarning: scipy.log is deprecated and will be removed in SciPy 2.0.0, use numpy.lib.scimath.log instead\n",
      "/usr/local/lib/python3.6/dist-packages/ipykernel_launcher.py:80: DeprecationWarning: scipy.mean is deprecated and will be removed in SciPy 2.0.0, use numpy.mean instead\n",
      "/usr/local/lib/python3.6/dist-packages/ipykernel_launcher.py:82: DeprecationWarning: scipy.log is deprecated and will be removed in SciPy 2.0.0, use numpy.lib.scimath.log instead\n",
      "/usr/local/lib/python3.6/dist-packages/ipykernel_launcher.py:82: DeprecationWarning: scipy.mean is deprecated and will be removed in SciPy 2.0.0, use numpy.mean instead\n",
      "/usr/local/lib/python3.6/dist-packages/ipykernel_launcher.py:82: DeprecationWarning: scipy.sqrt is deprecated and will be removed in SciPy 2.0.0, use numpy.lib.scimath.sqrt instead\n",
      "/usr/local/lib/python3.6/dist-packages/ipykernel_launcher.py:83: DeprecationWarning: scipy.log is deprecated and will be removed in SciPy 2.0.0, use numpy.lib.scimath.log instead\n"
     ]
    },
    {
     "name": "stdout",
     "output_type": "stream",
     "text": [
      "calc_k_with_gap() iteration for i =  11\n"
     ]
    },
    {
     "name": "stderr",
     "output_type": "stream",
     "text": [
      "/usr/local/lib/python3.6/dist-packages/ipykernel_launcher.py:73: DeprecationWarning: scipy.zeros is deprecated and will be removed in SciPy 2.0.0, use numpy.zeros instead\n",
      "/usr/local/lib/python3.6/dist-packages/ipykernel_launcher.py:80: DeprecationWarning: scipy.log is deprecated and will be removed in SciPy 2.0.0, use numpy.lib.scimath.log instead\n",
      "/usr/local/lib/python3.6/dist-packages/ipykernel_launcher.py:80: DeprecationWarning: scipy.mean is deprecated and will be removed in SciPy 2.0.0, use numpy.mean instead\n",
      "/usr/local/lib/python3.6/dist-packages/ipykernel_launcher.py:82: DeprecationWarning: scipy.log is deprecated and will be removed in SciPy 2.0.0, use numpy.lib.scimath.log instead\n",
      "/usr/local/lib/python3.6/dist-packages/ipykernel_launcher.py:82: DeprecationWarning: scipy.mean is deprecated and will be removed in SciPy 2.0.0, use numpy.mean instead\n",
      "/usr/local/lib/python3.6/dist-packages/ipykernel_launcher.py:82: DeprecationWarning: scipy.sqrt is deprecated and will be removed in SciPy 2.0.0, use numpy.lib.scimath.sqrt instead\n",
      "/usr/local/lib/python3.6/dist-packages/ipykernel_launcher.py:83: DeprecationWarning: scipy.log is deprecated and will be removed in SciPy 2.0.0, use numpy.lib.scimath.log instead\n"
     ]
    },
    {
     "name": "stdout",
     "output_type": "stream",
     "text": [
      "calc_k_with_gap() iteration for i =  12\n"
     ]
    },
    {
     "name": "stderr",
     "output_type": "stream",
     "text": [
      "/usr/local/lib/python3.6/dist-packages/ipykernel_launcher.py:73: DeprecationWarning: scipy.zeros is deprecated and will be removed in SciPy 2.0.0, use numpy.zeros instead\n",
      "/usr/local/lib/python3.6/dist-packages/ipykernel_launcher.py:80: DeprecationWarning: scipy.log is deprecated and will be removed in SciPy 2.0.0, use numpy.lib.scimath.log instead\n",
      "/usr/local/lib/python3.6/dist-packages/ipykernel_launcher.py:80: DeprecationWarning: scipy.mean is deprecated and will be removed in SciPy 2.0.0, use numpy.mean instead\n",
      "/usr/local/lib/python3.6/dist-packages/ipykernel_launcher.py:82: DeprecationWarning: scipy.log is deprecated and will be removed in SciPy 2.0.0, use numpy.lib.scimath.log instead\n",
      "/usr/local/lib/python3.6/dist-packages/ipykernel_launcher.py:82: DeprecationWarning: scipy.mean is deprecated and will be removed in SciPy 2.0.0, use numpy.mean instead\n",
      "/usr/local/lib/python3.6/dist-packages/ipykernel_launcher.py:82: DeprecationWarning: scipy.sqrt is deprecated and will be removed in SciPy 2.0.0, use numpy.lib.scimath.sqrt instead\n",
      "/usr/local/lib/python3.6/dist-packages/ipykernel_launcher.py:83: DeprecationWarning: scipy.log is deprecated and will be removed in SciPy 2.0.0, use numpy.lib.scimath.log instead\n"
     ]
    },
    {
     "name": "stdout",
     "output_type": "stream",
     "text": [
      "calc_k_with_gap() iteration for i =  13\n"
     ]
    },
    {
     "name": "stderr",
     "output_type": "stream",
     "text": [
      "/usr/local/lib/python3.6/dist-packages/ipykernel_launcher.py:73: DeprecationWarning: scipy.zeros is deprecated and will be removed in SciPy 2.0.0, use numpy.zeros instead\n",
      "/usr/local/lib/python3.6/dist-packages/ipykernel_launcher.py:80: DeprecationWarning: scipy.log is deprecated and will be removed in SciPy 2.0.0, use numpy.lib.scimath.log instead\n",
      "/usr/local/lib/python3.6/dist-packages/ipykernel_launcher.py:80: DeprecationWarning: scipy.mean is deprecated and will be removed in SciPy 2.0.0, use numpy.mean instead\n",
      "/usr/local/lib/python3.6/dist-packages/ipykernel_launcher.py:82: DeprecationWarning: scipy.log is deprecated and will be removed in SciPy 2.0.0, use numpy.lib.scimath.log instead\n",
      "/usr/local/lib/python3.6/dist-packages/ipykernel_launcher.py:82: DeprecationWarning: scipy.mean is deprecated and will be removed in SciPy 2.0.0, use numpy.mean instead\n",
      "/usr/local/lib/python3.6/dist-packages/ipykernel_launcher.py:82: DeprecationWarning: scipy.sqrt is deprecated and will be removed in SciPy 2.0.0, use numpy.lib.scimath.sqrt instead\n",
      "/usr/local/lib/python3.6/dist-packages/ipykernel_launcher.py:83: DeprecationWarning: scipy.log is deprecated and will be removed in SciPy 2.0.0, use numpy.lib.scimath.log instead\n"
     ]
    }
   ],
   "source": [
    "# import importlib\n",
    "# import calc_k_with_gap\n",
    "# importlib.reload(calc_k_with_gap)\n",
    "# from calc_k_with_gap import calc_k_with_gap\n",
    "\n",
    "n_clusters, gaps, sks, silh_scores = calc_k_with_gap(document_topics, max_k=16)\n",
    "#k, gaps, sks = calc_k_with_gap(document_topics, max_k=10)"
   ]
  },
  {
   "cell_type": "code",
   "execution_count": null,
   "metadata": {
    "colab": {
     "base_uri": "https://localhost:8080/"
    },
    "id": "0wb8d8Jt2xLQ",
    "outputId": "fa409f69-0a17-4f27-8ab2-abedc1eb7eb3"
   },
   "outputs": [
    {
     "data": {
      "text/plain": [
       "array([0.15128528, 0.15617726, 0.16086309, 0.16939061, 0.15503076,\n",
       "       0.16700109, 0.1894783 , 0.1958915 , 0.1563708 , 0.18090469,\n",
       "       0.17293903, 0.178846  , 0.20657709, 0.18460041, 0.        ,\n",
       "       0.        ])"
      ]
     },
     "execution_count": 7,
     "metadata": {
      "tags": []
     },
     "output_type": "execute_result"
    }
   ],
   "source": [
    "silh_scores"
   ]
  },
  {
   "cell_type": "code",
   "execution_count": null,
   "metadata": {
    "id": "z0E30mi8hPGm"
   },
   "outputs": [],
   "source": [
    "from matplotlib import rcParams\n",
    "rcParams['font.family'] = 'Verdana'\n",
    "rcParams['font.size'] = 16\n",
    "rcParams['legend.fontsize'] = 8\n",
    "rcParams['xtick.labelsize'] = 8\n",
    "#rcParams['figure.figsize'] = 16, 10 #4.6, 2.9\n",
    "rcParams['legend.frameon'] = True\n",
    "rcParams['xtick.labelsize'] = 16"
   ]
  },
  {
   "cell_type": "code",
   "execution_count": null,
   "metadata": {
    "colab": {
     "base_uri": "https://localhost:8080/",
     "height": 419
    },
    "id": "xbBNJJhYebSL",
    "outputId": "1a49087b-0588-4822-d802-a610b74d59e2"
   },
   "outputs": [
    {
     "data": {
      "image/png": "[encoded data removed]",
      "text/plain": [
       "<Figure size 432x432 with 1 Axes>"
      ]
     },
     "metadata": {
      "needs_background": "light",
      "tags": []
     },
     "output_type": "display_data"
    }
   ],
   "source": [
    "# gap stat\n",
    "fig = plt.figure(figsize=[6,6])\n",
    "ax = fig.add_subplot(111)\n",
    "#ax.scatter(range(1,k+1), gaps[:-1], c='blue', marker='.')\n",
    "ax.errorbar(n_clusters[:-3], gaps[:-3],yerr=6*sks[:-3], capsize=4, marker='.')\n",
    "ax.set_xticks(n_clusters[:-3])\n",
    "plt.grid(True) \n",
    "plt.xlabel('Number of clusters') \n",
    "plt.ylabel('Gap stat')\n",
    "plt.title('Gap statistic plot')\n",
    "plt.axvline(x=8, c='black', ls='--')\n",
    "plt.savefig('gap_stat.pdf', dpi=300, transparent=False, bbox_inches='tight')\n",
    "plt.show()"
   ]
  },
  {
   "cell_type": "code",
   "execution_count": null,
   "metadata": {
    "colab": {
     "base_uri": "https://localhost:8080/",
     "height": 419
    },
    "id": "kKCQheIRefyi",
    "outputId": "bc186f75-1ac8-4544-9f63-658b4dee9873"
   },
   "outputs": [
    {
     "data": {
      "image/png": "[encoded data removed]",
      "text/plain": [
       "<Figure size 432x432 with 1 Axes>"
      ]
     },
     "metadata": {
      "needs_background": "light",
      "tags": []
     },
     "output_type": "display_data"
    }
   ],
   "source": [
    "# silhouette scores\n",
    "fig = plt.figure(figsize=[6,6])\n",
    "ax = fig.add_subplot(111)\n",
    "ax.scatter(n_clusters[:-3], silh_scores[1:-2], c='blue', marker='o')\n",
    "ax.set_xticks(n_clusters[:-3])\n",
    "plt.grid(True) \n",
    "plt.xlabel('Number of clusters') \n",
    "plt.ylabel('Silhouette Score')\n",
    "plt.title('Silhouette scores plot')\n",
    "plt.axvline(x=8, c='black', ls='--')\n",
    "plt.savefig('silhouette_scores.pdf', dpi=300, transparent=False, bbox_inches='tight')\n",
    "plt.show()"
   ]
  },
  {
   "cell_type": "code",
   "execution_count": null,
   "metadata": {
    "id": "8qkLR3W9Xhvd"
   },
   "outputs": [],
   "source": [
    "#p_dist = pdist(d_t)"
   ]
  },
  {
   "cell_type": "code",
   "execution_count": null,
   "metadata": {
    "id": "dvlQVkh4grDP"
   },
   "outputs": [],
   "source": [
    "k_range = range(2,16,1)"
   ]
  },
  {
   "cell_type": "code",
   "execution_count": null,
   "metadata": {
    "id": "U-Fat9iEgVf6"
   },
   "outputs": [],
   "source": [
    "document_topics = d_t\n",
    "# Avg. within-cluster sum of squares \n",
    "KM = [KMeans(n_clusters=k).fit(document_topics) for k in k_range] \n",
    "centroids = [k.cluster_centers_ for k in KM]\n",
    "D_k = [cdist(document_topics, centrds, 'euclidean') for centrds in centroids]\n",
    "cIdx = [np.argmin(D,axis=1) for D in D_k] \n",
    "dist = [np.min(D,axis=1) for D in D_k] \n",
    "avgWithinSS = [d.sum()/document_topics.shape[0] for d in dist]"
   ]
  },
  {
   "cell_type": "code",
   "execution_count": null,
   "metadata": {
    "id": "SRtvJwMTgZX7"
   },
   "outputs": [],
   "source": [
    "# Total with-in sum of square\n",
    "wcss = [np.sum(d**2) for d in dist] \n",
    "tss = np.sum(pdist(document_topics)**2)/document_topics.shape[0] \n",
    "bss = tss-wcss"
   ]
  },
  {
   "cell_type": "code",
   "execution_count": null,
   "metadata": {
    "colab": {
     "base_uri": "https://localhost:8080/",
     "height": 419
    },
    "id": "RmiGTqNXgdmi",
    "outputId": "cef88227-5830-4ecd-cc5e-5a06dbe04fe6"
   },
   "outputs": [
    {
     "data": {
      "image/png": "[encoded data removed]",
      "text/plain": [
       "<Figure size 720x432 with 1 Axes>"
      ]
     },
     "metadata": {
      "needs_background": "light",
      "tags": []
     },
     "output_type": "display_data"
    }
   ],
   "source": [
    "# elbow curve - Avg. within-cluster sum of squares \n",
    "fig = plt.figure(figsize=[10,6]) \n",
    "ax = fig.add_subplot(111)\n",
    "ax.plot(k_range, avgWithinSS, 'b*-') \n",
    "plt.grid(True) \n",
    "plt.xticks(k_range)\n",
    "plt.xlabel('Number of clusters') \n",
    "plt.ylabel('Average within-cluster sum of squares')\n",
    "plt.title('Elbow plot')\n",
    "#plt.axvline(x=8, c='black', ls='--')\n",
    "plt.savefig('elbow_plot.pdf', dpi=300, transparent=False, bbox_inches='tight')\n",
    "plt.show()"
   ]
  },
  {
   "cell_type": "code",
   "execution_count": null,
   "metadata": {
    "colab": {
     "base_uri": "https://localhost:8080/",
     "height": 419
    },
    "id": "HnEglv-Ogfv0",
    "outputId": "bdf8c75b-0d54-487d-a28d-03b41e066565"
   },
   "outputs": [
    {
     "data": {
      "image/png": "[encoded data removed]",
      "text/plain": [
       "<Figure size 720x432 with 1 Axes>"
      ]
     },
     "metadata": {
      "needs_background": "light",
      "tags": []
     },
     "output_type": "display_data"
    }
   ],
   "source": [
    "# elbow curve - percentage of variance explained \n",
    "fig = plt.figure(figsize=[10,6]) \n",
    "ax = fig.add_subplot(111) \n",
    "ax.plot(k_range, bss/tss*100, 'b*-') \n",
    "plt.grid(True) \n",
    "plt.xticks(k_range)\n",
    "plt.xlabel('Number of clusters') \n",
    "plt.ylabel('Percentage of variance explained')\n",
    "plt.title('Variance explained')\n",
    "#plt.axvline(x=8, c='black', ls='--')\n",
    "plt.savefig('var_explained.pdf', dpi=300, transparent=False, bbox_inches='tight')\n",
    "plt.show()\n",
    "plt.show()"
   ]
  },
  {
   "cell_type": "code",
   "execution_count": null,
   "metadata": {
    "id": "9tS7PP5hgp3F"
   },
   "outputs": [],
   "source": []
  }
 ],
 "metadata": {
  "accelerator": "GPU",
  "colab": {
   "collapsed_sections": [],
   "machine_shape": "hm",
   "name": "opt_k_for_kmeans_for_reddit_antivax.ipynb",
   "provenance": []
  },
  "kernelspec": {
   "display_name": "Python 3",
   "language": "python",
   "name": "python3"
  },
  "language_info": {
   "codemirror_mode": {
    "name": "ipython",
    "version": 3
   },
   "file_extension": ".py",
   "mimetype": "text/x-python",
   "name": "python",
   "nbconvert_exporter": "python",
   "pygments_lexer": "ipython3",
   "version": "3.7.9"
  }
 },
 "nbformat": 4,
 "nbformat_minor": 1
}
